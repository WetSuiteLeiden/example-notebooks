{
 "cells": [
  {
   "cell_type": "markdown",
   "metadata": {},
   "source": [
    "## I've read `notebooks_intro`, that seems useful, what ways are there to run notebooks?\n",
    "\n",
    "Broadly, there are\n",
    "- programming environement that has support for them -- easy\n",
    "  - run on your own devices, with the upsides (control, persistent data) and downsides (thinking about installation environemnts) of such\n",
    "  - can be used remotely sometimes\n",
    "- open on colab -- easy, \n",
    "  - _not_ run on your own devices with the upsides (hard to break anything permanently) and downsides (more work to manage data around) of such\n",
    "- start from the terminal, point browsers at -- now often considered clunky\n",
    "- (teachers may also like things like JupyterHub, which lets you set up browser login for e.g. a classful of distinct participants)"
   ]
  },
  {
   "cell_type": "markdown",
   "metadata": {},
   "source": [
    "## On Colab\n",
    "\n",
    "[Google Colab](https://colab.research.google.com/) is a product that lets you run notebooks in a temporary sandbox.\n",
    "\n",
    "Upsides:\n",
    "- Nothing for you to install\n",
    "- you can get started quickly\n",
    "- 'temporary sandbox' means you don't have to worry about messing things up in terms of \n",
    "  - data, or notebook documents (you work on a copy), or\n",
    "  - computer-specific installs (you install whaterver, they clean up afterwards, you get a clean session next time)\n",
    "\n",
    "Limitations:\n",
    "- getting a fresh sandbox each time _also_ means\n",
    "  - you need to install any additional libraries at the start of every session.\n",
    "  - any data you are working on is gone afterwards\n",
    "  \n",
    "So it's great for quick experiments, but any continuing projects end up having to focus a lot on \n",
    "how they interact to load and save data efficiently, and may choose to move to a dedicated install of your own."
   ]
  },
  {
   "cell_type": "markdown",
   "metadata": {},
   "source": [
    "If you click the following button, you will tell colab to copy **this** particular notebook from github,\n",
    "and start a fresh session with it loaded.\n",
    "\n",
    "<a href=\"https://colab.research.google.com/github/WetSuiteLeiden/example-notebooks/blob/main/getting-started-technically/notebooks_install_run.ipynb\" target=\"_parent\"><img src=\"https://colab.research.google.com/assets/colab-badge.svg\" alt=\"Open In Colab\"/></a>\n",
    "\n",
    "What this actually does is\n",
    "- start a new colab session\n",
    "- tell colab to access github to make a copy the notebook from this repository, into that new colab session\n",
    "- give you a completely separate, temporary sandbox, in that\n",
    "  - You will **not** be able to edit our code, just your copy.   Play at will, in fact _try_ to break it just to see how it works.\n",
    "  - you will not clutter your own PC with the results\n",
    "    - both an upside, in that each such experiment won't leave behind a mess\n",
    "    - ...and a downside, in that if you _wanted_ to keep all the results, more work is required\n",
    "\n",
    "<!-- -->\n",
    "\n",
    "Colab is interesting because its _basic_ vesion is free, fully online, running it _at all_ requires no installation,\n",
    "and its python environment already contains some things we need so installing wetsuite and its dependencies isn't too much work either.\n",
    "\n",
    "Google seems to provide this so that, once you start doing more serious scales of projects,\n",
    "you can get a faster variant for money."
   ]
  },
  {
   "cell_type": "markdown",
   "metadata": {},
   "source": [
    "## Local+Browser based\n",
    "\n",
    "Upsides:\n",
    "* more control\n",
    "Limitations:\n",
    "* more up-front work\n",
    "\n",
    "The classical way was to **start a server** and separately **point a browser at it**,\n",
    "- Something like `jupyter notebook` in the command lik would do both, if working locally.\n",
    "- With some _additional_ trickery you can use this sort of thing remotely as well.\n",
    "\n",
    "Upsides:\n",
    "- This works perfectly well, and gets used a bunch, \n",
    "- gives you finer control over _how exactly_ while being more steps before you can get started.\n",
    "\n",
    "Limitations:\n",
    "- if you don't like command lines in terminals, this may not be for you\n",
    "- generally more clunky and manual than most non-nerds prefer\n",
    "\n",
    "If you still want to go this way, read something like: https://jupyter.org/install"
   ]
  },
  {
   "cell_type": "markdown",
   "metadata": {},
   "source": [
    "## Code-editor based (recommended)\n",
    "\n",
    "Upsides:\n",
    "* Should do more of the work of actually running things for you\n",
    "* some may also be made to work remotely\n",
    "Downsides:\n",
    "* You still need to choose one you like, and install it\n",
    "* it may have its own way of doing things\n",
    "\n",
    "A number of development environments will be able open a notebook, as a built-in or extended feature.\n",
    "\n",
    "For example, [Visual Studio Code](https://code.visualstudio.com/) \n",
    "requires [an extension](https://marketplace.visualstudio.com/items?itemName=ms-toolsai.jupyter),\n",
    "after which it will work with notebooks fairly transparently.\n",
    "\n",
    "The lifetime of sessions works a little differently - it is more tied to the window/tab that opened it - but it's otherwise much the same.\n",
    "\n",
    "\n",
    "### Option: Remotely\n",
    "\n",
    "In vscode, if you also install [Remote - SSH](https://marketplace.visualstudio.com/items?itemName=ms-vscode-remote.remote-ssh),\n",
    "then any server you can SSH into can then be used as a development environment.\n",
    "\n",
    "This means the notebook is stored there, the works is done there, and that the the data is stored there.\n",
    "\n",
    "Upsides:\n",
    "- less up-front work than remote notebooks the classical way \n",
    "- persists data\n",
    "- you could set this up to reach from work, home, and anywhere else\n",
    "\n",
    "Limitations:\n",
    "- more up-front work than colab\n",
    "\n",
    "\n",
    "(This was, for example, really useful while creating our readymade datasets, useful for dataset development, because there was one computer that stored three hundred gigabytes of rawer downloaded data.)"
   ]
  },
  {
   "cell_type": "markdown",
   "metadata": {},
   "source": [
    "## Any of those plus wetsuite\n",
    "\n",
    "If you've loaded this in colab, you could install wetsuite core library without worrying you're cluttering anything. \n",
    "\n",
    "Elsewhere, this is more permanent, and you may wish to read [library_install_instructions](library_install_instructions.ipynb) notebook first.\n",
    "\n",
    "Either way, it comes down to:"
   ]
  },
  {
   "cell_type": "code",
   "execution_count": null,
   "metadata": {},
   "outputs": [],
   "source": [
    "!pip3 install -U wetsuite"
   ]
  },
  {
   "cell_type": "code",
   "execution_count": 4,
   "metadata": {},
   "outputs": [
    {
     "data": {
      "text/plain": [
       "('ah-tk-20142015-1130',\n",
       " {'urls': ['https://repository.overheid.nl/frbr/officielepublicaties/ah-tk/20142015/ah-tk-20142015-1130/1/metadata/metadata.xml',\n",
       "   'https://repository.overheid.nl/frbr/officielepublicaties/ah-tk/20142015/ah-tk-20142015-1130/1/xml/ah-tk-20142015-1130.xml'],\n",
       "  'indiener': ['B. Visser'],\n",
       "  'ontvanger': ['M.H. Schultz van Haegen-Maas Geesteranus'],\n",
       "  'vergaderjaar': '2014-2015',\n",
       "  'available': '2015-01-29',\n",
       "  'issued': '2015-01-27',\n",
       "  'type': ['officiële publicatie',\n",
       "   'Antwoord',\n",
       "   'Aanhangsel van de Handelingen'],\n",
       "  'category': 'Verkeer | Weg',\n",
       "  'identifier': 'ah-tk-20142015-1130',\n",
       "  'vraagdata': {'1': {'vraag': ['Bent u bekend met het bericht «Duitse ministerraad stemt in met tolplan»?\\n\\nen het artikel «Zwart rijden op Duitse Tolwegen zwaar beboet»?',\n",
       "     '<vraag xmlns:xsi=\"http://www.w3.org/2001/XMLSchema-instance\">\\n      <nr status=\"officieel\">Vraag 1</nr>\\n      <al>Bent u bekend met het bericht «Duitse ministerraad stemt in met tolplan»?<noot id=\"ID-2014Z23778-d37e58\" type=\"voet\"><noot.nr>1</noot.nr><noot.al>Nu.nl, 17\\xa0december 2014: <extref soort=\"URL\" doc=\"http://www.nu.nl/economie/3955474/duitse-ministerraad-stemt-in-tolplan.html\" status=\"actief\">http://www.nu.nl/economie/3955474/duitse-ministerraad-stemt-in-tolplan.html</extref></noot.al></noot> en het artikel «Zwart rijden op Duitse Tolwegen zwaar beboet»?<noot id=\"ID-2014Z23778-d37e67\" type=\"voet\"><noot.nr>2</noot.nr><noot.al>FD, 17\\xa0december 2014: <extref soort=\"URL\" doc=\"http://fd.nl/economie-politiek/1085392/duitse-regering-zet-tolwet-door\" status=\"actief\">http://fd.nl/economie-politiek/1085392/duitse-regering-zet-tolwet-door</extref></noot.al></noot></al>\\n    </vraag>\\n    '],\n",
       "    'antwoord': ['Ja.',\n",
       "     '<antwoord xmlns:xsi=\"http://www.w3.org/2001/XMLSchema-instance\">\\n      <nr status=\"officieel\">Antwoord 1</nr>\\n      <al>Ja.</al>\\n    </antwoord>\\n    ']},\n",
       "   '2': {'vraag': ['Deelt u de mening dat het voorliggende tolplan nadelig is voor Nederland en het discriminatoir is gezien de compensatie voor Duitsers?',\n",
       "     '<vraag xmlns:xsi=\"http://www.w3.org/2001/XMLSchema-instance\">\\n      <nr status=\"officieel\">Vraag 2</nr>\\n      <al>Deelt u de mening dat het voorliggende tolplan nadelig is voor Nederland en het discriminatoir is gezien de compensatie voor Duitsers?</al>\\n    </vraag>\\n    '],\n",
       "    'antwoord': ['Zoals ik verschillende keren heb aangegeven, heb ik grote bezwaren tegen het voornemen van Minister Dobrindt een vignet in te stellen voor personenauto’s. Alle personenauto’s moeten straks een vignet hebben voor de snelwegen in Duitsland. Het onderliggend wegennet is nu uitgezonderd en buitenlanders zijn vrijgesteld voor de autowegen, terwijl Duitsers voor die autowegen wel een vignet moeten hebben. Ik ben tegen het Duitse plan, omdat daarmee feitelijk een nieuwe barrière wordt opgeworpen voor grensoverschrijdend verkeer. Het invoeren van een vignet betekent hoe dan ook een lastenverzwaring voor houders van een niet-Duits kenteken (buitenlanders), terwijl de Duitse burger de invoering van het vignet gecompenseerd ziet in een lagere wegenbelasting. Het is in eerste instantie aan de Europese Commissie om te bezien of de definitieve wetten om enerzijds het vignet in te voeren en anderzijds Duitse automobilisten daarbij te compenseren via de Duitse wegenbelasting (Kraftfahrzeug-Steuer), discriminerend zijn of in overeenstemming zijn met het EU-recht.',\n",
       "     '<antwoord xmlns:xsi=\"http://www.w3.org/2001/XMLSchema-instance\">\\n      <nr status=\"officieel\">Antwoord 2</nr>\\n      <al>Zoals ik verschillende keren heb aangegeven, heb ik grote bezwaren tegen het voornemen van Minister Dobrindt een vignet in te stellen voor personenauto’s. Alle personenauto’s moeten straks een vignet hebben voor de snelwegen in Duitsland. Het onderliggend wegennet is nu uitgezonderd en buitenlanders zijn vrijgesteld voor de autowegen, terwijl Duitsers voor die autowegen wel een vignet moeten hebben. Ik ben tegen het Duitse plan, omdat daarmee feitelijk een nieuwe barrière wordt opgeworpen voor grensoverschrijdend verkeer. Het invoeren van een vignet betekent hoe dan ook een lastenverzwaring voor houders van een niet-Duits kenteken (buitenlanders), terwijl de Duitse burger de invoering van het vignet gecompenseerd ziet in een lagere wegenbelasting. Het is in eerste instantie aan de Europese Commissie om te bezien of de definitieve wetten om enerzijds het vignet in te voeren en anderzijds Duitse automobilisten daarbij te compenseren via de Duitse wegenbelasting (Kraftfahrzeug-Steuer), discriminerend zijn of in overeenstemming zijn met het EU-recht.</al>\\n    </antwoord>\\n    ']},\n",
       "   '3': {'vraag': ['Bent u in overleg met uw Duitse ambtsgenoot over de gevolgen voor de Nederlandse bewoners in de grensstreek? Zo ja, hoe verlopen deze gesprekken? Hoe beoordeelt u de houding van Duitsland als het gaat om infrastructuur, gelet ook op de eerdere uitspraken van\\n\\nDuitsland dat ze voornemens zijn om ook tol te heffen op de vaarwegen en in de lucht? Bent u hierover in gesprek met Duitsland? Zo ja, wat zijn de uitkomsten?',\n",
       "     '<vraag xmlns:xsi=\"http://www.w3.org/2001/XMLSchema-instance\">\\n      <nr status=\"officieel\">Vraag 3</nr>\\n      <al>Bent u in overleg met uw Duitse ambtsgenoot over de gevolgen voor de Nederlandse bewoners in de grensstreek? Zo ja, hoe verlopen deze gesprekken? Hoe beoordeelt u de houding van Duitsland als het gaat om infrastructuur, gelet ook op de eerdere uitspraken van</al>\\n      <al>Duitsland dat ze voornemens zijn om ook tol te heffen op de vaarwegen en in de lucht? Bent u hierover in gesprek met Duitsland? Zo ja, wat zijn de uitkomsten?</al>\\n    </vraag>\\n    '],\n",
       "    'antwoord': ['',\n",
       "     '<antwoord xmlns:xsi=\"http://www.w3.org/2001/XMLSchema-instance\">\\n      <nr status=\"officieel\">Antwoord 3</nr>\\n      <al-groep>\\n        <?xpp lead;-1?>\\n        <al>Ik spreek met enige regelmaat mijn Duitse collega, Minister Dobrindt. Recent nog en marge van de Transportraad op 3\\xa0december 2014. Hoewel de gesprekken in goede sfeer verlopen, benadruk ik telkens mijn bezwaren bij het Duitse voornemen een vignet voor personenvoertuigen in te voeren. In het bijzonder heb ik aandacht gevraagd voor de gevolgen voor de bewoners van de grensregio’s.</al>\\n        <al>Minister Dobrindt heeft mij laten weten dat naar aanleiding van mijn bezwaar de plannen zijn aangepast. Volgens eerdere uitgangspunten zou het gehele Duitse wegennet onder de vignetplicht vallen. In het wetsvoorstel, waarmee de Duitse ministerraad op 17\\xa0december heeft ingestemd, is het onderliggend wegennet uitgezonderd en zijn buitenlanders vrijgesteld voor de autowegen. Daarmee wordt het lokale en regionale verkeer in de grensregio’s enigszins ontzien.</al>\\n      </al-groep>\\n      <al-groep>\\n        <al>Het is aan de Duitse regering hoe zij de Duitse infrastructuur financiert. Ik begrijp dat Minister Dobrindt vanuit het Duitse regeerakkoord de opdracht heeft om een vignet voor personenvoertuigen in te voeren.</al>\\n        <al>De voornemens van Duitsland om ook tol te heffen op de vaarwegen zijn nog in stadium van voorbereiding en laten zich derhalve nu nog niet beoordelen. De Akte van Mannheim uit 1868 sluit overigens beprijzing op de Rijn uit. Hoewel de toepassing van heffingen op andere vaarwegen dan de Rijn een verantwoordelijkheid van de Duitse overheid is, ben ik daar geen voorstander van. Dit kan mogelijk leiden tot een ongewenste verschuiving van water naar andere modaliteiten.</al>\\n        <al>Ik heb uw Kamer en mijn Duitse collega reeds mijn verontrusting laten blijken over de aanvankelijk geplande, aanzienlijke stijging van het Duitse en route tarief voor de kosten van luchtverkeersdienstverlening in het hogere luchtruim. Duitsland heeft stappen gezet om dit te verlagen. In Europees verband wordt hier in januari 2015 over gesproken.</al>\\n      </al-groep>\\n    </antwoord>\\n    ']},\n",
       "   '4': {'vraag': ['Kunt u aangeven of u bereid bent juridische stappen te zetten, zoals de gang naar het Europese hof van Justitie? Zo ja, doet u dit samen met andere landen? Zo nee, waarom niet?\\n\\nZal het nalaten van het betalen van tol voor het gebruik van Duitse snelwegen dan wel de verplichte jaarpas vallen onder de Cross Border Enforcement (CBE)-richtlijn of de Wet wederzijdse erkenning en tenuitvoering geldelijke sancties en beslissingen tot confiscatie?',\n",
       "     '<vraag xmlns:xsi=\"http://www.w3.org/2001/XMLSchema-instance\">\\n      <nr status=\"officieel\">Vraag 4</nr>\\n      <al>Kunt u aangeven of u bereid bent juridische stappen te zetten, zoals de gang naar het Europese hof van Justitie? Zo ja, doet u dit samen met andere landen? Zo nee, waarom niet?</al>\\n      <al>Zal het nalaten van het betalen van tol voor het gebruik van Duitse snelwegen dan wel de verplichte jaarpas vallen onder de Cross Border Enforcement (CBE)-richtlijn of de Wet wederzijdse erkenning en tenuitvoering geldelijke sancties en beslissingen tot confiscatie?</al>\\n    </vraag>\\n    '],\n",
       "    'antwoord': ['Op dit moment is een gang naar het Europese Hof van Justitie niet aan de orde. Het is in eerste instantie aan de Europese Commissie om te bezien of de Duitse wetsvoorstellen om het vignet in te voeren en de Duitse wegenbelasting (Kfz-Steuer) te verlagen, in overeenstemming zijn met EU recht.\\n\\nDe CBE-richtlijn verplicht lidstaten om gegevens uit het kentekenregister te verstrekken aan andere lidstaten voor acht verkeersovertredingen (dus strafbare feiten), waaronder snelheidsovertredingen en door rood licht rijden. Tol valt hier niet onder. Pas op het moment dat het Duitse wetsvoorstel tot wet zal zijn verheven, kan worden bezien of de opgelegde sancties voldoen aan de voorwaarden die in het kaderbesluit en de implementatiewet Wet wederzijdse erkenning en tenuitvoerlegging geldelijke sancties en beslissingen tot confiscatie worden gesteld aan tenuitvoerlegging in Nederland.',\n",
       "     '<antwoord xmlns:xsi=\"http://www.w3.org/2001/XMLSchema-instance\">\\n      <nr status=\"officieel\">Antwoord 4</nr>\\n      <al>Op dit moment is een gang naar het Europese Hof van Justitie niet aan de orde. Het is in eerste instantie aan de Europese Commissie om te bezien of de Duitse wetsvoorstellen om het vignet in te voeren en de Duitse wegenbelasting (Kfz-Steuer) te verlagen, in overeenstemming zijn met EU recht.</al>\\n      <al>De CBE-richtlijn verplicht lidstaten om gegevens uit het kentekenregister te verstrekken aan andere lidstaten voor acht verkeersovertredingen (dus strafbare feiten), waaronder snelheidsovertredingen en door rood licht rijden. Tol valt hier niet onder. Pas op het moment dat het Duitse wetsvoorstel tot wet zal zijn verheven, kan worden bezien of de opgelegde sancties voldoen aan de voorwaarden die in het kaderbesluit en de implementatiewet Wet wederzijdse erkenning en tenuitvoerlegging geldelijke sancties en beslissingen tot confiscatie worden gesteld aan tenuitvoerlegging in Nederland.</al>\\n    </antwoord>\\n    ']},\n",
       "   '5': {'vraag': ['Kunnen de gegevens van Nederlandse kentekenhouders die hiervoor beschikbaar gesteld zijn in het nationale kentekenregister actief door de Duitse regering worden geraadpleegd en daarmee gebruikt worden voor beboeting en inning?',\n",
       "     '<vraag xmlns:xsi=\"http://www.w3.org/2001/XMLSchema-instance\">\\n      <nr status=\"officieel\">Vraag 5</nr>\\n      <al>Kunnen de gegevens van Nederlandse kentekenhouders die hiervoor beschikbaar gesteld zijn in het nationale kentekenregister actief door de Duitse regering worden geraadpleegd en daarmee gebruikt worden voor beboeting en inning?</al>\\n    </vraag>\\n    '],\n",
       "    'antwoord': ['De Duitse regering kan niet actief het Nederlandse kentekenregister raadplegen. Wel is in het Kentekenreglement opgenomen, dat de RDW op verzoek gegevens verstrekt aan buitenlandse bevoegde autoriteiten voor doeleinden in de taakuitoefening van die overheden. Hieronder valt ook de handhaving van heffingen inzake het gebruik van de weg (artikel 8a). Die gegevens kunnen daarmee gebruikt worden voor de mogelijke toekomstige handhaving van het voorgelegde Duitse wetsvoorstel om een vignet in te voeren. Onthouding van deze gegevens zou alleen kunnen na wijziging van het Kentekenreglement.',\n",
       "     '<antwoord xmlns:xsi=\"http://www.w3.org/2001/XMLSchema-instance\">\\n      <nr status=\"officieel\">Antwoord 5</nr>\\n      <al>De Duitse regering kan niet actief het Nederlandse kentekenregister raadplegen. Wel is in het Kentekenreglement opgenomen, dat de RDW op verzoek gegevens verstrekt aan buitenlandse bevoegde autoriteiten voor doeleinden in de taakuitoefening van die overheden. Hieronder valt ook de handhaving van heffingen inzake het gebruik van de weg (artikel 8a). Die gegevens kunnen daarmee gebruikt worden voor de mogelijke toekomstige handhaving van het voorgelegde Duitse wetsvoorstel om een vignet in te voeren. Onthouding van deze gegevens zou alleen kunnen na wijziging van het Kentekenreglement.</al>\\n    </antwoord>\\n  ']}}})"
      ]
     },
     "metadata": {},
     "output_type": "display_data"
    }
   ],
   "source": [
    "# As a quick test,  now load a dataset we have prepared \n",
    "import wetsuite.datasets\n",
    "kamervragen_dataset = wetsuite.datasets.load('tweedekamer-kamervragen-struc')\n",
    "display( kamervragen_dataset.data.random_choice() ) # show an item from it"
   ]
  }
 ],
 "metadata": {
  "kernelspec": {
   "display_name": "Python 3.8.10 64-bit",
   "language": "python",
   "name": "python3"
  },
  "language_info": {
   "codemirror_mode": {
    "name": "ipython",
    "version": 3
   },
   "file_extension": ".py",
   "mimetype": "text/x-python",
   "name": "python",
   "nbconvert_exporter": "python",
   "pygments_lexer": "ipython3",
   "version": "3.8.10"
  },
  "orig_nbformat": 4,
  "vscode": {
   "interpreter": {
    "hash": "31f2aee4e71d21fbe5cf8b01ff0e069b9275f58929596ceb00d14d90e3e16cd6"
   }
  }
 },
 "nbformat": 4,
 "nbformat_minor": 2
}
