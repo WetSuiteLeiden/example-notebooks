{
 "cells": [
  {
   "attachments": {},
   "cell_type": "markdown",
   "metadata": {},
   "source": []
  },
  {
   "cell_type": "markdown",
   "metadata": {},
   "source": [
    "## Purpose of this notebook\n",
    "\n"
   ]
  },
  {
   "cell_type": "code",
   "execution_count": null,
   "metadata": {
    "vscode": {
     "languageId": "plaintext"
    }
   },
   "outputs": [],
   "source": [
    "import wetsuite.extras.akn\n",
    "\n",
    "from importlib import reload\n",
    "reload(wetsuite.extras.akn)\n",
    "\n",
    "#https://repository.officiele-overheidspublicaties.nl/cvdr/CVDR696162/1/xml/CVDR696162_1.xml\n",
    "wetsuite.extras.akn.cached_resolve('/akn/nl/act/gemeente/2024/CVDR696162')\n",
    "#wetsuite.extras.akn.resolve('/akn/nl/act/gm0014/2020/omgevingsplan')\n",
    "\n",
    "wetsuite.extras.akn.cached_resolve('/akn/nl/officialGazette/stcrt/2018/48231/nld@2018-08-28')\n",
    "wetsuite.extras.akn.cached_resolve('/akn/nl/officialGazette/stcrt/2018/48231')\n",
    "\n",
    "\n",
    "#/akn/nl/act/gemeente/2024/CVDR696162\n",
    "#/akn/nl/act/gm0014/2020/omgevingsplan\n",
    "\n"
   ]
  }
 ],
 "metadata": {
  "kernelspec": {
   "display_name": "Python 3 (ipykernel)",
   "language": "python",
   "name": "python3"
  },
  "language_info": {
   "codemirror_mode": {
    "name": "ipython",
    "version": 3
   },
   "file_extension": ".py",
   "mimetype": "text/x-python",
   "name": "python",
   "nbconvert_exporter": "python",
   "pygments_lexer": "ipython3",
   "version": "3.8.10"
  },
  "vscode": {
   "interpreter": {
    "hash": "31f2aee4e71d21fbe5cf8b01ff0e069b9275f58929596ceb00d14d90e3e16cd6"
   }
  }
 },
 "nbformat": 4,
 "nbformat_minor": 4
}
