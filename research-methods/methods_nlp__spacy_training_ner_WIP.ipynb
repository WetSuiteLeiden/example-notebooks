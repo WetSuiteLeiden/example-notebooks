{
 "cells": [
  {
   "cell_type": "markdown",
   "metadata": {},
   "source": [
    "## What does Named Entity Recognition do for you?"
   ]
  },
  {
   "cell_type": "markdown",
   "metadata": {},
   "source": [
    "Entity extraction takes text, \n",
    "and recognizes things that fall within some well-defined categories,\n",
    "and focusing specifically on any fairly consistently named things - hence _named_ entities, and Named Entity Recognition (NER)."
   ]
  },
  {
   "cell_type": "markdown",
   "metadata": {},
   "source": [
    "A classical example of NER is to take a text-only sentence and point out that:"
   ]
  },
  {
   "cell_type": "code",
   "execution_count": 13,
   "metadata": {},
   "outputs": [
    {
     "data": {
      "text/html": [
       "<span class=\"tex2jax_ignore\"><div class=\"entities\" style=\"line-height: 2.5; direction: ltr\">\n",
       "<mark class=\"entity\" style=\"background: #aa9cfc; padding: 0.45em 0.6em; margin: 0 0.25em; line-height: 1; border-radius: 0.35em;\">\n",
       "    Jim\n",
       "    <span style=\"font-size: 0.8em; font-weight: bold; line-height: 1; border-radius: 0.35em; vertical-align: middle; margin-left: 0.5rem\">PERSON</span>\n",
       "</mark>\n",
       " bought \n",
       "<mark class=\"entity\" style=\"background: #e4e7d2; padding: 0.45em 0.6em; margin: 0 0.25em; line-height: 1; border-radius: 0.35em;\">\n",
       "    300\n",
       "    <span style=\"font-size: 0.8em; font-weight: bold; line-height: 1; border-radius: 0.35em; vertical-align: middle; margin-left: 0.5rem\">CARDINAL</span>\n",
       "</mark>\n",
       " shares of \n",
       "<mark class=\"entity\" style=\"background: #7aecec; padding: 0.45em 0.6em; margin: 0 0.25em; line-height: 1; border-radius: 0.35em;\">\n",
       "    Acme\n",
       "    <span style=\"font-size: 0.8em; font-weight: bold; line-height: 1; border-radius: 0.35em; vertical-align: middle; margin-left: 0.5rem\">ORG</span>\n",
       "</mark>\n",
       " in \n",
       "<mark class=\"entity\" style=\"background: #bfe1d9; padding: 0.45em 0.6em; margin: 0 0.25em; line-height: 1; border-radius: 0.35em;\">\n",
       "    2006\n",
       "    <span style=\"font-size: 0.8em; font-weight: bold; line-height: 1; border-radius: 0.35em; vertical-align: middle; margin-left: 0.5rem\">DATE</span>\n",
       "</mark>\n",
       " in \n",
       "<mark class=\"entity\" style=\"background: #feca74; padding: 0.45em 0.6em; margin: 0 0.25em; line-height: 1; border-radius: 0.35em;\">\n",
       "    Paris\n",
       "    <span style=\"font-size: 0.8em; font-weight: bold; line-height: 1; border-radius: 0.35em; vertical-align: middle; margin-left: 0.5rem\">GPE</span>\n",
       "</mark>\n",
       " for \n",
       "<mark class=\"entity\" style=\"background: #e4e7d2; padding: 0.45em 0.6em; margin: 0 0.25em; line-height: 1; border-radius: 0.35em;\">\n",
       "    300 dollars\n",
       "    <span style=\"font-size: 0.8em; font-weight: bold; line-height: 1; border-radius: 0.35em; vertical-align: middle; margin-left: 0.5rem\">MONEY</span>\n",
       "</mark>\n",
       "</div></span>"
      ],
      "text/plain": [
       "<IPython.core.display.HTML object>"
      ]
     },
     "metadata": {},
     "output_type": "display_data"
    }
   ],
   "source": [
    "import spacy, spacy.displacy\n",
    "english = spacy.load('en_core_web_trf')\n",
    "\n",
    "doc     = english(\"Jim bought 300 shares of Acme in 2006 in Paris for 300 dollars\")\n",
    "\n",
    "spacy.displacy.render( doc, style='ent', jupyter=True)   # (side note: GPE is 'Geopolitical entity', other models might call this LOC(ATION))"
   ]
  },
  {
   "cell_type": "markdown",
   "metadata": {},
   "source": [
    "### Waxing philosophical (expectation management)"
   ]
  },
  {
   "cell_type": "markdown",
   "metadata": {},
   "source": [
    "### [What even are these \"entities\"](https://en.wikipedia.org/wiki/Named-entity_recognition)?\n",
    "\n",
    "Okay, neat example. But what does it do well, and what doesn't it do well?\n",
    "\n",
    "The above wording of \"fairly consistent naming\" tried to sidestep some messines - in language in general,\n",
    "namely that everyday speech has being being brief ''by'' leaving things to be resolved in context.\n",
    "\n",
    "Recognizing the _kind_ of thing that is named is similarly contextual.\n",
    "\n",
    "\n",
    "Computers don't have a lifetime of training in context, so it is somewhat hard to recognize\n",
    "names and references. We can even trip ourselves into philosophy:\n",
    "We like to think that a name points at the same thing, no matter what - the fancy name for that is\n",
    "[rigid designator](https://en.wikipedia.org/wiki/Rigid_designator), and even without reading up on those,\n",
    "you can probably intuit that that is only a wish, not a reality.\n",
    "\n",
    "Even in such a basic example:\n",
    "- There is more than one Jim, \n",
    "- there is more than one [Acme](https://en.wikipedia.org/wiki/Acme),\n",
    "- there is more than one Paris"
   ]
  },
  {
   "cell_type": "markdown",
   "metadata": {},
   "source": [
    "The other three aren't even names:\n",
    "- A date isn't a name. Well, you _could_ argue that it's the best reference we have to point at a specific day, or year, or such.\n",
    "- But numbers rarely if ever name things _or_ point to unique things.\n",
    "- Nor does money.\n",
    "- (some NER also adds time expressions, percentages, medical codes, and whatnot)\n",
    "\n",
    "These are basically there mostly for the category, because someone had a use them, \n",
    "because NER is often done towards the goal of information extraction,\n",
    "and because NER is often a singular use use pattern recognition - that you can extend to this if you want."
   ]
  },
  {
   "cell_type": "markdown",
   "metadata": {},
   "source": [
    "### Expectation management\n",
    "\n",
    "Before you dive into details of _how_, first some expectation management:\n",
    "\n",
    "Even though it can be (ab)used for wider patterns, NER works best on names, and sorting those into relatively few kinds.\n",
    "\n",
    "NER will **may well** find patterns similar to the ones you gave, if they are strong enough.\n",
    "\n",
    "NER will **sometimes** assist extracting very direct factoids like \"X bought NUMBER shares of Y\", but don't expect people's wording to be fixed enough to catch all.\n",
    "\n",
    "NER will **sometimes** find vaguer references.  Maybe `the neighbour's garden` is a location, but don't count on it.\n",
    "\n",
    "NER may **sometimes** be refined for some more some specific uses, finding some phrases you care about a lot, extending lists by finding differnt words in similar phrasing, and might do so better given a _load_ of text, and or a good amount of refining attention.  How good such plans work depends on both algorithms underneath, and the kind and amount of work you put in.\n",
    "\n",
    "NER will **generally not** be exhaustive in picking up everything.\n",
    "\n",
    "NER will **generally not** get all the kinds/labels correct.\n",
    "\n",
    "NER will **not** tell you that two things are pointing at the same thing.\n",
    "\n",
    "NER will **not** tell you what specific concept a name is actually pointing at.\n",
    "\n",
    "NER will **not** tell you which of the names are most interesting towards overall topic.\n",
    "\n",
    "\n",
    "**Whether that's good or bad depends on what you need.**\n",
    "\n",
    "A linguist might dream of something that does exhaustive and accurate semantic markup of all the reference-like things within all sentences.\n",
    "...and be disappointed when, half the time, it missed marking up something as a name at all, or e.g. insists a person must be a LOCation.\n",
    "\n",
    "At the same time, if it misses half of all cases, it might be good at _document_ level - someone else, given exactly the same output \n",
    "but wanting to do some document-level information extraction, might be very happy to see repeated detections of organisations. \n",
    "It might still be great to see who is involved and what the document broadly addresses.\n",
    "\n",
    "\n",
    "Generally, NER is useful when \n",
    "- these categories are actually useful to you\n",
    "- these categories are somewhat flexible and somewhat large   (if small and fixed, you could do it with some basic pattern matching)\n",
    "- we actually get consistent detection - have enough training for that\n",
    "\n",
    "NER is not _necessary_ when\n",
    "- rule based pattern matching is enough and/or\n",
    "- You have a complete, exhaustive list of things you want to extract\n",
    "\n",
    "Further points to consider:\n",
    "- If you can't think of why this is useful, of clear categories to extract, then it probably isn't.\n",
    "- The difference between 'doing a thing well' and 'doing a thing somewhat' can make or break a given purpose or project,\n",
    "- ...or at the very least introduce a lot of work training it.\n",
    "- If what you want is easily incomplete, or a moving target, that training is hard (true for _any_ machine learning)"
   ]
  },
  {
   "cell_type": "markdown",
   "metadata": {},
   "source": [
    "And what if we do:"
   ]
  },
  {
   "cell_type": "code",
   "execution_count": null,
   "metadata": {},
   "outputs": [
    {
     "data": {
      "text/html": [
       "<span class=\"tex2jax_ignore\"><div class=\"entities\" style=\"line-height: 2.5; direction: ltr\"> bla \n",
       "<mark class=\"entity\" style=\"background: #7755ff; padding: 0.45em 0.6em; margin: 0 0.25em; line-height: 1; border-radius: 0.35em;\">\n",
       "    CVDR101405/1\n",
       "    <span style=\"font-size: 0.8em; font-weight: bold; line-height: 1; border-radius: 0.35em; vertical-align: middle; margin-left: 0.5rem\">CVDR</span>\n",
       "</mark>\n",
       " bla \n",
       "<mark class=\"entity\" style=\"background: #ddd; padding: 0.45em 0.6em; margin: 0 0.25em; line-height: 1; border-radius: 0.35em;\">\n",
       "    Stb. 2011, 35\n",
       "    <span style=\"font-size: 0.8em; font-weight: bold; line-height: 1; border-radius: 0.35em; vertical-align: middle; margin-left: 0.5rem\">VINDPLAATS</span>\n",
       "</mark>\n",
       " bla \n",
       "<mark class=\"entity\" style=\"background: #ffaaff; padding: 0.45em 0.6em; margin: 0 0.25em; line-height: 1; border-radius: 0.35em;\">\n",
       "    33684R2020\n",
       "    <span style=\"font-size: 0.8em; font-weight: bold; line-height: 1; border-radius: 0.35em; vertical-align: middle; margin-left: 0.5rem\">CELEX</span>\n",
       "</mark>\n",
       " bla \n",
       "<mark class=\"entity\" style=\"background: #ffaaaa; padding: 0.45em 0.6em; margin: 0 0.25em; line-height: 1; border-radius: 0.35em;\">\n",
       "    ECLI:NL:HR:2005:AT4537\n",
       "    <span style=\"font-size: 0.8em; font-weight: bold; line-height: 1; border-radius: 0.35em; vertical-align: middle; margin-left: 0.5rem\">ECLI</span>\n",
       "</mark>\n",
       " bla \n",
       "<mark class=\"entity\" style=\"background: #ffaa77; padding: 0.45em 0.6em; margin: 0 0.25em; line-height: 1; border-radius: 0.35em;\">\n",
       "    art. 2.12, eerste lid, aanhef en onder a\n",
       "    <span style=\"font-size: 0.8em; font-weight: bold; line-height: 1; border-radius: 0.35em; vertical-align: middle; margin-left: 0.5rem\">ARTIKEL</span>\n",
       "</mark>\n",
       " bla \n",
       "<mark class=\"entity\" style=\"background: #ddd; padding: 0.45em 0.6em; margin: 0 0.25em; line-height: 1; border-radius: 0.35em;\">\n",
       "    kst-26643-144-h1\n",
       "    <span style=\"font-size: 0.8em; font-weight: bold; line-height: 1; border-radius: 0.35em; vertical-align: middle; margin-left: 0.5rem\">BEKEND</span>\n",
       "</mark>\n",
       " bla</div></span>"
      ],
      "text/plain": [
       "<IPython.core.display.HTML object>"
      ]
     },
     "metadata": {},
     "output_type": "display_data"
    }
   ],
   "source": [
    "import wetsuite.helpers.patterns,  spacy, spacy.displacy\n",
    "dutch = spacy.load('nl_core_news_lg') # the actual model doesn't matter\n",
    "doc = dutch( \" bla CVDR101405/1 bla Stb. 2011, 35 bla 33684R2020 bla ECLI:NL:HR:2005:AT4537 bla art. 2.12, eerste lid, aanhef en onder a bla kst-26643-144-h1 bla\" )\n",
    "wetsuite.helpers.patterns.mark_references_spacy( doc, \n",
    "    wetsuite.helpers.patterns.find_references( doc.text, ljn=True, bekendmaking_ids=True )\n",
    ")\n",
    "spacy.displacy.render( doc, style='ent', jupyter=True, options={\"colors\":{'ECLI':'#ffaaaa', 'CVDR':'#7755ff', 'CELEX':'#ffaaff', 'ARTIKEL':'#ffaa77'}} )"
   ]
  },
  {
   "cell_type": "markdown",
   "metadata": {},
   "source": [
    "Was that NER, because \n",
    "it picks useful entities, in distinct categories, \n",
    "based on patterns,\n",
    "and not based on an already known specific lists?\n",
    "\n",
    "Or was that **not** NER, because \n",
    "it's not using any context, or learning,\n",
    "these are arguably not names,\n",
    "and is just a some specific pattern matching that doesn't care about context,\n",
    "and will never learn a variant that we didn't code specifically?\n",
    "\n",
    "Also, do we care what we call it, when the output is what you want?\n",
    "\n",
    "To drive that point (as well as the earlier \"we have a pattern matcher\") home in a more real-world way:"
   ]
  },
  {
   "cell_type": "markdown",
   "metadata": {},
   "source": [
    "### An actually relevant example"
   ]
  },
  {
   "attachments": {
    "image.png": {
     "image/png": "[encoded data removed]"
    }
   },
   "cell_type": "markdown",
   "metadata": {},
   "source": [
    "Much more on topic, and applied, consider \"[Named Entity Recognition in Indian court judgments](https://arxiv.org/pdf/2211.03442)\"\n",
    "(and [its code](https://github.com/Legal-NLP-EkStep/legal_NER)). \n",
    "<!--\n",
    "There is an [online version of that and other analysis](https://summarizer-fer6v2lowq-uc.a.run.app/searchdetails#ANALYSIS)\n",
    "that you can inspect (should default to an example case. Note that the URLs suggests this might be a preliminary project and might move).\n",
    "-->\n",
    "\n",
    "There also used to be a live example - and poking around its results you will find both \n",
    "- that it's a **bunch** better than our out-of-the-box NER example further down in this notebook, but also\n",
    "- that not every person or organisation is marked.\n",
    "\n",
    "The things that it extracts still seem very useful, say, \n",
    "to describing the parties involved and probably the basic topics of the case.\n",
    "\n",
    "From the paper:\n",
    "\n",
    "![image.png](attachment:image.png)\n"
   ]
  },
  {
   "cell_type": "markdown",
   "metadata": {},
   "source": [
    "This project says that -- beyond the basic set of entity types -- it extracts e.g. \n",
    "LAWYER, PETITIONER, RESPONDENT, JUDGE, COURT, WITNESS, STATUTE, PROVISION, PRECEDENT.\n",
    "\n",
    "That's quite the boast, as various of those are not very rigid designators.\n",
    "\n",
    "Say, names in general aren't related to roles at all. \n",
    "How would it even do that?\n",
    "Is it understanding the text?\n",
    "\n",
    "...no, it's detecting the almost template-like sentences at the start like `Petitioner: A. Name`. \n",
    "Even if `A. Name` appears repeatedly, and all other mentions would probably be PERSON, that one initial example is an excellent, strong pattern.\n",
    "\n",
    "Fairly rigid pattern matching would get this right too. \n",
    "Doing it with NER is what we might call **excellent abuse** of NER because it recognizes that NER too is pattern matching, \n",
    "and practical in that it recognizes that one method covers now varied pattern extraction needs.\n",
    "\n",
    "<!--\n",
    "Abuse, only in that it breaks with some classical take on NER, and breaks some expectations you may have,\n",
    "and uses NER for something not all NER implementations are necessarily good at.\n",
    "\n",
    "Excellent, in that it recognizes what the _underlying model_ is, \n",
    "that it uses word context to decide the category of a thing is,\n",
    "and then uses that well _for its specific goal_.\n",
    "-->\n",
    "\n",
    "Sure, if you wanted to do full-document markup you would still have a bunch of extra work to do.\n",
    "Maybe _functionally_ it would be clearer and more tweakable if a first pass detected lots of PERSONs\n",
    "and have a second pass say \"if we determined a name to be a JUDGE, then later repeats of that name can be changed from PERSON to JUDGE', \n",
    "and also \"if it uses the word 'judge' or 'apellant' later, that is also the same reference\".\n",
    "\n",
    "But even without case-specific refinement, this is is pretty great _specifically at document-level information extraction_,\n",
    "at least to answer questions like 'who was the judge, petitioner, and respondent, and based on the laws references, what kind of case was it?'."
   ]
  },
  {
   "cell_type": "markdown",
   "metadata": {},
   "source": [
    "Other examples that may be interesting, in telling us what have others done and how they have fared:\n",
    "\n",
    "\"[Evaluation of Named Entity Recognition in Dutch online criminal complaints](https://clinjournal.org/clinj/article/view/65)\"\n",
    "sticks with the clasics like Person, Location, Product, Organisation, Event,\n",
    "and seems to conclude it's useful for basic information retrieval of topic.\n",
    "\n",
    "\"[Deep Learning for Legal Tech: exploring NER on Dutch court rulings]()\" has datesm, courts, section headers, and case identifiers.\n",
    "\n",
    "\"[Named Entity Recognition of Legislation References](http://arno.uvt.nl/show.cgi?fid=160982)\"\n",
    "mostly just for identifiers.\n",
    "\n",
    "\"[Named entity recognition and resolution in legal text](https://www.researchgate.net/publication/220745968_Named_Entity_Recognition_and_Resolution_in_Legal_Text)\"\n",
    "seems to go for Jurisdiction, Court, Title, Doctype, Judge, though seems more pattern matching than NER.\n",
    "\n",
    "TODO: find more\n",
    "\n",
    "\n",
    "<!--\n",
    "[or](https://arxiv.org/pdf/2103.06268) [other](http://nlp.cs.aueb.gr/pubs/icail2017.pdf) papers rarely give\n",
    "\n",
    "\n",
    "Unfortunately, in general there isn't a lot of data to train legal tasks like this, less so for NER, \n",
    "less so for Dutch. We will have to do some of this ourselves.\n",
    "-->"
   ]
  },
  {
   "cell_type": "markdown",
   "metadata": {},
   "source": [
    "## How to go about it in theory\n",
    "\n",
    "While `Paris` is usually a place, [it is occasionally a person, or perhaps a fictional character, a movie, a musical, or ship, or plant](https://en.wikipedia.org/wiki/Paris_(disambiguation)).\n",
    "\n",
    "While **exact string matching** would be fast, it would have to be ''Paris&rarr;PLACE''.\n",
    "It would get a bunch of cases correct just because that is the most common use,\n",
    "but would get all other uses wrong _always_, putting a real damper on overall performance.\n",
    "\n",
    "On the other side is pragmatics, modeling the world and verifying things in context,\n",
    "but this is a pain to do well, computationally or not.\n",
    "\n",
    "Yet disambiguation of text has a lot of patterns, though.  \n",
    "If we were doing this by hand, then _I went to [Noun]_ or _vacation in [Noun]_ or _flew to [Noun]_ or _Catacombs of [Noun]_,\n",
    "make it likelier that that name is being used as a place.\n",
    "But also, we see see _Catacombs of San Gennaro_, we might conclude that San Gennaro is both a name and specifically a place,\n",
    "even if we had never seen that combination of words before.\n",
    "\n",
    "Hardcoding such rules is rarely worth the effort, so we can get maching learning to approximate those rules or patterns.\n",
    "A lot of NER works like that, and needs a lot of examples to do well.\n",
    "Exactly how that pattern matches works still varies.\n",
    "\n",
    "So most NER often means using machine learning, usually something someone else has made,\n",
    "and that can often be ''trained'' by us. \n",
    "All the details of which depend a on what you specifically chose to use."
   ]
  },
  {
   "cell_type": "markdown",
   "metadata": {},
   "source": [
    "## How to go about it in spacy\n",
    "\n",
    "Say we're using spacy.\n",
    "It's not our only option, or necessarily the best, but we start somewhere.\n",
    "\n",
    "Spacy offers roughly three approaches:\n",
    "* [EntityRuler](https://spacy.io/api/entityruler) - doing it yourself.\n",
    "  - we briefly explored these in the [methods_nlp__patterns_spacy](methods_nlp__patterns_spacy.ipynb) notebook\n",
    "  - we also just mentioned this is too much work in general, but it _might_ help get out a few _specific_ terms more exhaustively.\n",
    "\n",
    "* There is the `ner` component, present in a bunch of models already. \n",
    "  - Code-wise this comes from [EntityRecognizer](https://spacy.io/api/entityrecognizer), which just wraps a few entirely distinct approaches:\n",
    "    - (on more classic models:) a transition-based approach ([some details here if you care](https://youtu.be/sqDHBH9IjRU?t=973)) and apply them. \n",
    "      The rules are part of their ability to generalize, but also means you cannot easily increment these models with just a little knowledge at a time.\n",
    "    - (on transformers-based models:) a linear classifier, or basic network, and often benefits from the more contextual word embeddings\n",
    "      _Somewhat_ less clunky to train than the first\n",
    "  - typically faster than SpanCategorizer (and EntityRuler)\n",
    "  - models tend to have this out of the box\n",
    "  - can be trained further (though this can be nontrivial)\n",
    "  - does not allow overlaps\n",
    "\n",
    "* [SpanCategorizer](https://spacy.io/api/spancategorizer)\n",
    "  - its idea here is to throw any old sequence of words into the mix, and independently see if we can catergorize each as _any_ of the previously trained examples\n",
    "    - the best-scoring one is assigned -- assuming that that scores better than 'poorly'\n",
    "    - this isn't isn't restricted to NER at all, but can be used for it\n",
    "    - `spancat` is slower than `ner`, but more flexible (e.g. allows overlap) and more trainable\n",
    "  - Has no inherent goal, so does nothing out of the box - you _have_ to train it...\n",
    "\n",
    "...so a good first question is **what does `ner` do out of the box?**.\n",
    "This is easy to test: run a model on some text, see what it puts on Doc`.ents`:"
   ]
  },
  {
   "cell_type": "code",
   "execution_count": 1,
   "metadata": {},
   "outputs": [],
   "source": [
    "import collections, textwrap\n",
    "import spacy, spacy.displacy,  wetsuite.datasets, wetsuite.helpers.net\n",
    "\n",
    "dutch    = spacy.load('nl_core_news_lg')   # a generic dutch NLP model that has the basic ner component"
   ]
  },
  {
   "cell_type": "code",
   "execution_count": 2,
   "metadata": {},
   "outputs": [],
   "source": [
    "# count entity count, and do it separately per label, e.g. # {'GPE':{'Nederland':500, ...}, ...}\n",
    "per_label = collections.defaultdict(lambda: collections.defaultdict(int))  # (the defaultdict trick is not important here)\n",
    "\n",
    "# some text to run on, from court cases, and specifically the main body text \n",
    "#   (see the dataset loading intro,  and also this dataset's description)\n",
    "for case_id, case_d in wetsuite.datasets.load('rechtspraaknl-struc').data.random_sample(1000): \n",
    "    case_text = case_d.get('bodytext') \n",
    "\n",
    "    doc = dutch( case_text )                   # parse text with spacy, \n",
    "    for ent in doc.ents:                       # pick out the entities,\n",
    "        per_label[ent.label_][ent.text] += 1   # count them as we planned"
   ]
  },
  {
   "cell_type": "code",
   "execution_count": 6,
   "metadata": {},
   "outputs": [
    {
     "name": "stdout",
     "output_type": "stream",
     "text": [
      "\n",
      "==== ORG (Companies, agencies, institutions, etc.) ====\n",
      "'Hoge Raad':741  'College':488  'Raad':396  'Raad van State':337  'Uwv':320  'Rabobank':248  'NMa':223  'Centrale Raad\n",
      "van Beroep':200  'Rechtbank':190  'EG':177  'IATA':166  'Anders':162  'ACM':126  'Svb':125  'Delta Lloyd':124  'ACC':119\n",
      "'Hoge Raad der Nederlanden':117  'betrokkene1':114  'BW':111  'K':106  'Innophos':102  'OR':98  'III':95  'Pretium':93\n",
      "'Univé':91  'WWB':90  'Chevron':90  'ILC':87  'BV':81  'Europese Commissie':81  'BinckBank':81  'Gerechtshof':80\n",
      "'Wabo':78  'RVWM':74  'Ymere':72  'Z1':70  'AFM':68  'Stork':68  'CVC':68  'Fortis':67  'SSP':67  'OBR':66  'Openbaar\n",
      "Ministerie':63  'LSA':63  'Chubb':63  'NVWA':63  'KLM':60  'X':59  'Tweede Kamer':59  'Raad van bestuur van het':59\n",
      "'JBRA':57  'PGGM':56  'NFI':56  'Ondernemingskamer':56  'Allshare':56  'IV':55  'Kwantum':55  'Vereniging':54  'RSG':54\n",
      "'Raad van State\\n\\nRecht':53  'Stiftung':52  'NN':51  'B.V.':50  'ROC TOP':50  'Holding B.V.':48  'NNHS':48  'GVB':48\n",
      "'BMA':47  'GSK':47  'Vendex':47  'Centrale Raad van Beroep\\n\\n':45  'Commissie':45  'Europese Unie':44  'FNV':44\n",
      "'FCPR':43  'Provimi':43  'E&Y':42  'Lufthansa':42  'CRvB':41  'Nationale Nederlanden':41  'Europees Parlement':41\n",
      "'II':40  'BDO':40  'Anders dan':39  '2:92a':39  'Bovemij':38  'Raad van':38  'ROC':38  'PW':37  'slachtoffer5':37\n",
      "'Suez':37  'Kepler':36  'EVRM':36  'Hof':36  'Mediawet':36  'Change':35  'MF':35  'adres1':34  'Technica':34  'Stichting\n",
      "Polderraad':33  'OLW':33  'Vodafone':33  'Kimmik':33  'OM':32  'FML':32  'Opiumwet':31  'Febo':31  'ii':31  'AIG':31\n",
      "'SPA':31  'Fortuna':31  '14a':30  'Hof van Justitie':30  'slachtoffer6':30  'AEGON':30  'Gedaagde':29  'CWI':29\n",
      "'AVT':29  'SVS Holland':29  'Vomar Voordeelmarkt':29  'Airlines':29  'BWA':29  'Stichting Portaal':29  'NWB':29  'Fortis\n",
      "Bank':28  'NPI':28  'Dutch Civil':28  'i':27  'LPH':27  'TVM':26  'Kamer van Koophandel':26  'NV':26  'Hof Amsterdam':26\n",
      "'ING Bank NV':26  'RvC':26  'PwC':25  ']':25  'Grolsch':25  'Dexia':25  'Dimence':25  'Hof van oordeel dat':24  'Raad\n",
      "acht':24  'Hof van Justitie van de Europese Unie':24  '7:669':24  'FIOD':24  'Nonaf':24  'LS':24  'Koninklijke\n",
      "Marechaussee':23  'Volksbank':23  'Stichting Woon':23  'BIT':23  'Gotcha':23  'PH':23  'TBS':22  'VOF':22  'Ymere\n",
      "Ontwikkeling BV':22  'Rights Agreement':22  'HD':21  'Lotto':21  'I':21  'GS':21  'Stichting MOOIJ Land en':21\n",
      "'Koudijs':21  'Raad van oordeel dat':20  'NBI':20  '273f':20  'benadeelde2':20  'Change=':20  'AD-M&O B.V.':20  'Wwb':20\n",
      "'HC':20  'CBR':20  'HDI':20  'Weijers':20  'VCN':19  'KPMG':19  'RO':19  'WAO':19  'slachtoffer6]':19  'Ad-Hoc':19\n",
      "'BMW':19  'RWN':19  'Rechtbank Amsterdam':19  'the Cartel':19  '7:12':18  'GEDING':18  'ITD':18  'Philips':18  'MOB':18\n",
      "'OK':18  'Sr':17  'Stichting':17  'ING':17  '4:19':17  'EHRM':17  'slachtoffer5]':17  'AccSal':17  'MAP':17  'CIM':17\n",
      "'European Union':17  'Uitkoop':17  'college':16  'Hof acht':16  'Aldus':16  'ABN AMRO':16  'Wnb':16  'LOOP':16\n",
      "'Nuffic':16  'GmbH':16  'Alfa Afbouw':16  'Heemwonen':16  'Sirius Chartering':16  'Masters':16  'AD-M&O':16  'Eneco':16\n",
      "'Holcim':16  'Second Partial':16  'vernietigingsprocedure':16  'Intragroup Assignment and Mandate Agreement':16\n",
      "'Centrale Raad van Beroep \\n\\n':15  'Raad van State van':15  'Sky-ID':15  'Samsung':15  'BVD':15  'SAS':15  'British\n",
      "Airways':15  'Uitzendbureau':15  'Ingenieursbureau A2r3 B.V.':15  'Pensioenfonds':14  'ME':14  'College van burgemeester\n",
      "en':14  'VOG':14  'Lehman':14  'Avidus':14  'appellant1':14  'Raad voor de Kinderbescherming':14  'Nokia':14  'KRK':14\n",
      "'AVA':14  'Actium':14  'MT':14  'Settlement Agreement':14  'JBPr':14  'BTMW':14  'Amoril':14  'the Rights':14  'TOFA':14\n",
      "'IND':13  'College van Beroep voor':13  'AEP':13  'JDS':13  'DMT':13  'Junge':13  'European Commission':13  'MSW':13\n",
      "'CMB':13  'Eiser':12  'Verbalisant':12  'GBR':12  'CBb':12  'Sky':12  'medeverdachte5':12  '5:2':12  'Glaxo Group':12\n",
      "'Hof van Justitie van':12  'RFR':12  '7:671b':12  'Raad van Commissarissen':12  'Hof Arnhem-Leeuwarden':12\n",
      "'VCA*-certificaat':12  'Rb.':12  'Neptunus':12  'Yasar B.V.':12  'A.I.M. van Mierlo':12  'Groen 7':12  'NNB':12  'Air\n",
      "France':12  'Martinair':12  'Qantas':12  'Volkswagen Golf':11  'CBS':11  'WW':11  'Van Lanschot':11  'PAS':11  'Wav':11\n",
      "'GEA':11  'EEG':11  'Van Mens':11  'VOVO':11  'TUL':11  'Vaststaande':11  'the Company':11  'CDW':11  'Stichting\n",
      "Advisering Bestuursrechtspraak':11  'KI Limburg':11  'Raad voor de rechtspraak':11  'C.A.S.':11  'Leeuwarder Courant':11\n",
      "'Orange':11  'Unie':11  'Accessory Rights':11  'STW':11\n",
      "\n",
      "==== GPE (Countries, cities, states) ====\n",
      "'Nederland':1012  'Amsterdam':612  'Ecuador':383  'Den Haag':271  'Rotterdam':258  'NL':233  'Utrecht':184\n",
      "'Equilib':170  'EU':153  'Duitsland':145  'Haarlem':128  'Fabiton':121  'Arnhem':116  'Leeuwarden':107  'Deventer':106\n",
      "'België':101  'Maastricht':95  's-Hertogenbosch':85  'Eindhoven':82  'Breda':81  'Sondel':75  'Groningen':62  'Noord-\n",
      "Holland':56  'Spanje':56  'Marokko':55  'Lijnden':53  'Tilburg':51  'Limburg':50  'Farmex':49  '14b':48  '14c':48\n",
      "'Curoil':47  'gemeente Sittard-Geleen':46  'Antwerpen':46  'Terneuzen':45  'Australië':45  'Scandia':44  'Dordrecht':43\n",
      "'Zwolle':42  'Brussel':42  'Aruba':41  'Nederlanden':40  'Verenigd Koninkrijk':37  'Schiphol':37  'Rv':36  'gemeente\n",
      "Amsterdam':36  'Qbex':36  'China':35  'Curaçao':34  'Suriname':34  'draagplichtig':34  'Gemeente Utrecht':34  'Topak':34\n",
      "'Zeist':33  'Famitec':33  'Mexico':33  'Frankrijk':32  'Nijmegen':32  'Turkije':32  'Miramar':32  'Thorn':32\n",
      "'Bevelen':32  'Maxunac':32  'Noord-Nederland':31  'Midden-Nederland':31  'Elburg':31  'Sint Nicolaas':30  'Miscea':30\n",
      "'Tenlastelegging':29  'Leiden':29  'Sint Maarten':28  'Enschede':28  'Staten':28  'Middelburg':27  'Finsterwolde':27\n",
      "'Ronar':26  'Almelo':26  'Noord-Brabant':26  'Apeldoorn':25  'Budel':25  'R&Z':24  'Zeeland-West-Brabant':24\n",
      "'Nazending':24  'Zutphen':23  'Polen':23  'gemeente]':23  'Oosterhout':23  'Oost-Brabant':22  'Monnickendam':22\n",
      "'Ohrid':22  'Portugal':22  'Luxemburg':22  'Schuinesloot':22  'Alkmaar':21  'Zwitserland':21  'Verenigde Staten':21\n",
      "'Engeland':21  'Rusland':21  'Nieuwenhuis':21  'Israël':21  'Arnhem-Leeuwarden':20  'Hilversum':20  'Tiel':20\n",
      "'Griekenland':20  'Geluidsverordening':20  'Roermond':19  'Lelystad':19  'Athene':19  'Singapore':18  'Hegeman':18\n",
      "'Sv':18  'Canada':18  'Dubai':18  'Rome':18  'Haïti':18  'Assen':17  'Wenen':17  'New York':17  'Asser':17  '22c':16\n",
      "'gemeente Venlo':16  'gemeente Groningen':16  'Roosendaal':16  'Verzicht':16  'Benelux':16  'Aalsmeer':16  'Desmepol':16\n",
      "'Heitma':16  'Edilock':16  'rekest-civiel':16  'AMB-221':16  'indirectly':16  'Almere':15  'Heerlen':15  'Amstelveen':15\n",
      "'Holland':15  'Heerenveen':15  'gemeente Rotterdam':14  'Gent':14  'Alertec':14  'Winterswijk':14  'gemeente\n",
      "Haarlemmermeer':14  'Japan':14  'Gouda':13  'Gelderland':13  'Mercedes':13  'Italië':13  'Megahome':13  'Oeganda':13\n",
      "'Kenia':13  'randnrs':13  'gemeente Hardenberg':13  'CoA':13  'Aden':13  'Milieuvereniging':13  'gemeente Den Haag':12\n",
      "'gemeente Westland':12  'G':12  'Ierland':12  'rade':12  'Zuid-Holland':12  'gemeente Aalsmeer':12  'Texel':12\n",
      "'Rijswijk':12  'Zwartsluis':12  'Hodeidah':12  'to find compensation':12  'Wassenaar':11  'Oost-Nederland':11\n",
      "'Peugeot':11  'Bergen':11  'Scheveningen':11  'Brazilië':11  'Jordanië':11  'gemeente Maastricht':11  'Nieuw-Vennep':11\n",
      "'Provimi':11  'this preamble':11  'Kona':11\n",
      "\n",
      "==== PERSON (People, including fictional) ====\n",
      "'mrs':169  'Kamerstukken II':79  'Fairfield Sentry':63  'Kesher Yami':61  'slachtoffer7':49  'btw':48  'mr.\n",
      "Stalenhoef':44  '[Y.]':43  'Volker Rail':42  'BTW':39  'Junge':39  'F.]':37  'Neptunus':36  'Maxunac':36  '[D.]':34\n",
      "'Alex':31  'I':30  'Sandoz':30  'Van der Valk':30  'H.J. Snijders':29  'Markerink':28  'Nonaf':27  'Famitec':26  'Dura-\n",
      "Foodpack B.V.':26  'Weijers':26  'Megahome':25  'Tuttemerul':25  '€   ':24  'Aangeefster':24  'Tui Fly':23  'TexPet':23\n",
      "'[mestbedrijf':23  'Fairfield':22  '36f':20  'Van Mens':19  '[F.]':18  '[V':18  '[vleesveehouder':17  'mr. Boumanjal':16\n",
      "'Josephus Jitta':16  'Tussenconclusie':15  '[Geïntimeerde':15  'J. Brand':15  '[X.':15  '[slachtoffer3':15  'W.A.M. van\n",
      "Schendel':14  'medeverdachte8':14  'Van der Wiel':14  'T. Salemink':14  'J. de Hullu':13  'II':13  'Albert Heijn':13\n",
      "'mr. Van Leijenhorst':12  'mw':12  '[benadeelde1':12  'Kamerstukken I':12  'Trip':12  'Van M.':12  'to this\n",
      "Agreement':12  '[broer-X':12  'mr. E. Steendijk':11  'Christus':11  'Hammerstein':11  'A.J.A. van Dorst':11  'Sr.':11\n",
      "'F.J.P. Lock':11  'Kondor Wessels':11  'G.J. Meijer':11  'Wakkerpolis':11  'Tallow':11  'to Equilib':11\n",
      "\n",
      "==== LOC (Non-GPE locations, mountain ranges, bodies of water) ====\n",
      "'Bevelen':97  'Renteswap':35  'Westerschelde':25  'Kroonrekening':17  'Lago':13  'Equilib':13  'Horecanota':12\n",
      "'Woningwet':12  'Meststoffenwet':11  'Gemeentewet':11\n",
      "\n",
      "==== LAW (Named documents made into laws.) ====\n",
      "'Wetboek van Strafrecht.':75  'Wetboek van Strafvordering':74  'Wetboek van Strafrecht,':51  'Burgerlijk Wetboek':29\n",
      "'Wet Vpb':27  'Wetboek van Strafrecht bedoelde':22  'Wetboek van Burgerlijke Rechtsvordering':21  'Wetboek van\n",
      "Strafrecht':19  'Wetboek van Strafrecht en':18  'Sv':16  'VWEU':14  'Wetboek van Strafrecht aan':11  'Wetboek van\n",
      "Strafrecht;':11  'Wet OB':11\n",
      "\n",
      "==== EVENT (Named hurricanes, battles, wars, sports events, etc.) ====\n",
      "'Austrian Airlines':32  'Renteswap':17  'Hilton':16  'Opiumwet':15  'AWR':15  'Diamond Casino':15  'Bevelen':15  '843a\n",
      "Rv':14  'Werkloosheidswet':14  'Ziektewet':13  'to the':13  'on the':13  '1019h Rv':12  '36f':12  'US dollar':12\n",
      "'Chevron II':11  'to Parent':11\n",
      "\n",
      "==== LANGUAGE (Any named language) ====\n",
      "'NL':817  'Nederlands':113  'i':73  'Engels':21  'Frans':12\n",
      "\n",
      "==== FAC (Buildings, airports, highways, bridges, etc.) ====\n",
      "'Opiumwet':81  'Recreatieschap Spaarnwoude':76  'Recreatiepark Aalsmeer':63  'A2':32  'WRO':31  'luchthaven Schiphol':24\n",
      "'Habitatrichtlijn':21  'Maashal':21  'Sionstraat':21  'AWR':19  'Jagersboschlaan':18  'Abw':17  'Geluidsverordening':17\n",
      "'Alvarezlaan':17  'Hoornse Vaart':16  'Parc Patersven':15  'Bethelstraat':15  '-terrein':13  'Msw':13  '8a':13\n",
      "'Verzamelbesluit':12  'Water 2':11\n",
      "\n",
      "==== WORK_OF_ART (Titles of books, songs, etc.) ====\n",
      "'Wetboek van Strafrecht\\n\\n':26  'the Airlines':23  'Sirius Tanker':22  'Burgerlijk Wetboek':21  'Wetboek van\n",
      "Strafrecht':21  'Kesher Yami':19  'Marskramer':18  'Geluidsverordening':15  'Award on Track II':13  'The Airlines':13\n",
      "'to as the':13  'Wet IB':12\n",
      "\n",
      "==== NORP (Nationalities or religious or political groups) ====\n",
      "'Nederlandse':349  'Europese':66  'Europees':60  'Duitse':55  'Engelse':54  'Belgische':46  'Peugeot':36  'Kwantum':25\n",
      "'Subsidiary':25  'R&Z':24  'Marokkaanse':24  'Franse':24  'Turkse':24  'Amerikaanse':22  'Luxemburgse':21\n",
      "'Nederlanderschap':18  'Nederlands':17  'Italiaanse':17  'exploitatiebeperkingen':17  'Libanese':16\n",
      "'Nederlandsrechtelijke':16  'no':15  'Nederlander':14  'Poolse':14  'Nederlandstalige':13  'Surinaamse':13\n",
      "'Belgisch':12  'Spaanse':11  'Chinese':11\n",
      "\n",
      "==== PRODUCT (Objects, vehicles, foods, etc. (not services)) ====\n",
      "\n"
     ]
    }
   ],
   "source": [
    "# filter, sort, and print what we just counted\n",
    "for label, string_count in per_label.items(): # within each label...\n",
    "    # sort by count, descending:\n",
    "    sorted_items = sorted(string_count.items(), key=lambda x:-x[1])  \n",
    "    # filter by whether we have seen it more than a few times, and format like  'string':count \n",
    "    items = '  '.join(  f'{repr(string)}:{count}'  for string, count in sorted_items  if count>10  )\n",
    "\n",
    "    if label in ('DATE','TIME', 'ORDINAL','CARDINAL','PERCENT','QUANTITY','MONEY'): # let's call these uninteresting to print\n",
    "        continue\n",
    "\n",
    "    print( f'\\n==== {label} ({spacy.explain(label)}) ====' )\n",
    "    print( '\\n'.join(textwrap.wrap(items, width=120)) ) # textwrap is just there to show the same output on fewer lines"
   ]
  },
  {
   "cell_type": "markdown",
   "metadata": {},
   "source": [
    "Not _great_, not _terrible_.\n",
    "\n",
    "Also output like this always makes it much easier to see what it did pick up picked up,\n",
    "than what it did not.  Let's scrutinize it a little more by seeing it deal with some expecific text:"
   ]
  },
  {
   "cell_type": "code",
   "execution_count": null,
   "metadata": {},
   "outputs": [],
   "source": [
    "dutch    = spacy.load('nl_core_news_lg')  # a generic dutch NLP model that has some NER\n",
    "some_ner = spacy.load('xx_ent_wiki_sm')   # a more specific cross-language NER model, for comparison"
   ]
  },
  {
   "cell_type": "code",
   "execution_count": null,
   "metadata": {},
   "outputs": [],
   "source": [
    "# get a random court case's body text\n",
    "casetext = wetsuite.datasets.load('rechtspraaknl-struc').data.random_values(1)[0].get('bodytext')  \n",
    "casetext = casetext[1000:2000] # cut off some introduction, and leave a smallish block of text to not spam ourselves here"
   ]
  },
  {
   "cell_type": "code",
   "execution_count": null,
   "metadata": {},
   "outputs": [
    {
     "data": {
      "text/html": [
       "<span class=\"tex2jax_ignore\"><div class=\"entities\" style=\"line-height: 2.5; direction: ltr\">ie van het \n",
       "<mark class=\"entity\" style=\"background: #7aecec; padding: 0.45em 0.6em; margin: 0 0.25em; line-height: 1; border-radius: 0.35em;\">\n",
       "    Openbaar Ministerie van 30\n",
       "    <span style=\"font-size: 0.8em; font-weight: bold; line-height: 1; border-radius: 0.35em; vertical-align: middle; margin-left: 0.5rem\">ORG</span>\n",
       "</mark>\n",
       " \n",
       "<mark class=\"entity\" style=\"background: #bfe1d9; padding: 0.45em 0.6em; margin: 0 0.25em; line-height: 1; border-radius: 0.35em;\">\n",
       "    januari 2023\n",
       "    <span style=\"font-size: 0.8em; font-weight: bold; line-height: 1; border-radius: 0.35em; vertical-align: middle; margin-left: 0.5rem\">DATE</span>\n",
       "</mark>\n",
       ".</br></br>\n",
       "<mark class=\"entity\" style=\"background: #e4e7d2; padding: 0.45em 0.6em; margin: 0 0.25em; line-height: 1; border-radius: 0.35em;\">\n",
       "    2\n",
       "    <span style=\"font-size: 0.8em; font-weight: bold; line-height: 1; border-radius: 0.35em; vertical-align: middle; margin-left: 0.5rem\">CARDINAL</span>\n",
       "</mark>\n",
       "</br>De standpunten van verzoeker en de raadsman en de officier van justitie</br></br>Standpunten van de verzoeker en raadsman</br></br>\n",
       "<mark class=\"entity\" style=\"background: #f0d0ff; padding: 0.45em 0.6em; margin: 0 0.25em; line-height: 1; border-radius: 0.35em;\">\n",
       "    De raadsman\n",
       "    <span style=\"font-size: 0.8em; font-weight: bold; line-height: 1; border-radius: 0.35em; vertical-align: middle; margin-left: 0.5rem\">WORK_OF_ART</span>\n",
       "</mark>\n",
       " heeft zich op het standpunt gesteld dat het in het verzoekschrift gevraagde bedrag aan kosten raadsman moet worden toegewezen. De raadsman heeft het verzoekschrift, waarvan de inhoud als ingelast dient te worden beschouwd, in raadkamer als volgt nader toegelicht. De raadsman heeft ter terechtzitting bij het verzoekschrift gepersisteerd. De raadsman stelt dat er geen enkele objectief aanwijsbare reden bestaat om de bestede tijd bovenmatig te achten. Op \n",
       "<mark class=\"entity\" style=\"background: #bfe1d9; padding: 0.45em 0.6em; margin: 0 0.25em; line-height: 1; border-radius: 0.35em;\">\n",
       "    30 mei 2022\n",
       "    <span style=\"font-size: 0.8em; font-weight: bold; line-height: 1; border-radius: 0.35em; vertical-align: middle; margin-left: 0.5rem\">DATE</span>\n",
       "</mark>\n",
       " is het bedrijfspand van verzoeker doorzocht. Op die dag is aan verzoeker medegedeeld dat hij als verdachte werd aangemerkt. Vanaf dat moment werd er rekening gehouden met strafvervolging en derhalve moest het dossier voorbereid worden. De in de conclusie aangehaalde \n",
       "<mark class=\"entity\" style=\"background: #bfe1d9; padding: 0.45em 0.6em; margin: 0 0.25em; line-height: 1; border-radius: 0.35em;\">\n",
       "    17 uren\n",
       "    <span style=\"font-size: 0.8em; font-weight: bold; line-height: 1; border-radius: 0.35em; vertical-align: middle; margin-left: 0.5rem\">DATE</span>\n",
       "</mark>\n",
       ", die voorafgaand aan de verhoorbijstand op \n",
       "<mark class=\"entity\" style=\"background: #bfe1d9; padding: 0.45em 0.6em; margin: 0 0.25em; line-height: 1; border-radius: 0.35em;\">\n",
       "    1 juli 2022\n",
       "    <span style=\"font-size: 0.8em; font-weight: bold; line-height: 1; border-radius: 0.35em; vertical-align: middle; margin-left: 0.5rem\">DATE</span>\n",
       "</mark>\n",
       " zijn besteed, zien d</div></span>"
      ],
      "text/plain": [
       "<IPython.core.display.HTML object>"
      ]
     },
     "metadata": {},
     "output_type": "display_data"
    }
   ],
   "source": [
    "# parse and display\n",
    "spacy.displacy.render(dutch(casetext), style='ent', jupyter=True)"
   ]
  },
  {
   "cell_type": "code",
   "execution_count": 31,
   "metadata": {},
   "outputs": [
    {
     "data": {
      "text/html": [
       "<span class=\"tex2jax_ignore\"><div class=\"entities\" style=\"line-height: 2.5; direction: ltr\">ie van het \n",
       "<mark class=\"entity\" style=\"background: #7aecec; padding: 0.45em 0.6em; margin: 0 0.25em; line-height: 1; border-radius: 0.35em;\">\n",
       "    Openbaar Ministerie\n",
       "    <span style=\"font-size: 0.8em; font-weight: bold; line-height: 1; border-radius: 0.35em; vertical-align: middle; margin-left: 0.5rem\">ORG</span>\n",
       "</mark>\n",
       " van 30 januari 2023.</br></br>2</br>De standpunten van verzoeker en de raadsman en de officier van justitie</br></br>\n",
       "<mark class=\"entity\" style=\"background: #ff9561; padding: 0.45em 0.6em; margin: 0 0.25em; line-height: 1; border-radius: 0.35em;\">\n",
       "    Standpunten\n",
       "    <span style=\"font-size: 0.8em; font-weight: bold; line-height: 1; border-radius: 0.35em; vertical-align: middle; margin-left: 0.5rem\">LOC</span>\n",
       "</mark>\n",
       " van de verzoeker en raadsman</br></br>\n",
       "<mark class=\"entity\" style=\"background: #ddd; padding: 0.45em 0.6em; margin: 0 0.25em; line-height: 1; border-radius: 0.35em;\">\n",
       "    De raadsman\n",
       "    <span style=\"font-size: 0.8em; font-weight: bold; line-height: 1; border-radius: 0.35em; vertical-align: middle; margin-left: 0.5rem\">MISC</span>\n",
       "</mark>\n",
       " heeft zich op het standpunt gesteld dat het in het verzoekschrift gevraagde bedrag aan kosten raadsman moet worden toegewezen. De raadsman heeft het verzoekschrift, waarvan de inhoud als ingelast dient te worden beschouwd, in raadkamer als volgt nader toegelicht. De raadsman heeft ter terechtzitting bij het verzoekschrift gepersisteerd. De raadsman stelt dat er geen enkele objectief aanwijsbare reden bestaat om de bestede tijd bovenmatig te achten. Op 30 mei 2022 is het bedrijfspand van verzoeker doorzocht. Op die dag is aan verzoeker medegedeeld dat hij als verdachte werd aangemerkt. Vanaf dat moment werd er rekening gehouden met strafvervolging en derhalve moest het dossier voorbereid worden. De in de conclusie aangehaalde 17 uren, die voorafgaand aan de \n",
       "<mark class=\"entity\" style=\"background: #ff9561; padding: 0.45em 0.6em; margin: 0 0.25em; line-height: 1; border-radius: 0.35em;\">\n",
       "    verhoorbijstand\n",
       "    <span style=\"font-size: 0.8em; font-weight: bold; line-height: 1; border-radius: 0.35em; vertical-align: middle; margin-left: 0.5rem\">LOC</span>\n",
       "</mark>\n",
       " op 1 juli 2022 zijn \n",
       "<mark class=\"entity\" style=\"background: #ff9561; padding: 0.45em 0.6em; margin: 0 0.25em; line-height: 1; border-radius: 0.35em;\">\n",
       "    besteed\n",
       "    <span style=\"font-size: 0.8em; font-weight: bold; line-height: 1; border-radius: 0.35em; vertical-align: middle; margin-left: 0.5rem\">LOC</span>\n",
       "</mark>\n",
       ", zien d</div></span>"
      ],
      "text/plain": [
       "<IPython.core.display.HTML object>"
      ]
     },
     "metadata": {},
     "output_type": "display_data"
    }
   ],
   "source": [
    "spacy.displacy.render(some_ner(casetext), style='ent', jupyter=True)"
   ]
  },
  {
   "cell_type": "markdown",
   "metadata": {},
   "source": [
    "Please re-run that a bunch of times, to note\n",
    "- difference between these two models     (the first is better at dates, which can be useful),\n",
    "- difference in focus, cleanliness        (the second seems to be a little better at getting boundaries right)\n",
    "- difference of the caterories it assigns (no, a confiscatiebevel is not a location, a raadsman is not a work of art _or_ miscellanous per se - that sort of thing).\n",
    "- what it detects and what it's missing   \n",
    "  - things like raadsman, verzoeker, verzoekschrift would be great\n",
    "  - we might prefer actors, acts, communications, etc. \n",
    "\n",
    "You'll notice that both leave something to be desired. "
   ]
  },
  {
   "cell_type": "markdown",
   "metadata": {},
   "source": [
    "## Can we refine it? Can we make it do more?\n",
    "\n",
    "Yes, we can refine it.  The Indian work above already proved how it can be worth it as well - and some limitations.\n",
    "\n",
    "It _does_ take **training**, and that takes **annotation**, and that takes **time**."
   ]
  },
  {
   "cell_type": "markdown",
   "metadata": {},
   "source": [
    "#### How to collect our training data\n",
    "\n",
    "Regardless of even the library, we will need to feed it training data. \n",
    "\n",
    "It is possible to give it just terms, like:\n",
    "\n",
    "        (\"Apple\", { 'entities': [(0, 5, 'LOC')] })\n",
    "\n",
    "Half the point is to learn from context, so give it examples in context.\n",
    "If you can, ***hand in full sentences*** rather than just a bit of context - since various underlying models train from POS, dependencies, and embeddings, and you hand in just text, spacy will be doing parsing under the covers, and that's typically more correct on complete sentences.\n",
    "\n",
    "        (\"I have not worked at Apple.\", { 'entities': [(22, 27, 'LOC')] })\n",
    "\n",
    "\n",
    "\n",
    "Note that the format of the training data isnt _exactly_ the same - `ner` takes \n",
    "\n",
    "        (\"Words words words.\", {\"entities\": [(start, end, \"LABEL\")]})\n",
    "and `spancat` takes:\n",
    "\n",
    "        (\"Words words words.\", {\"spans\": {\"sc\": [{\"start\":x, \"end\":y, \"label\":\"LABEL\"}]}})\n",
    "\n",
    "That's basically the same information, so conversion seems easy enough.\n",
    "\n",
    "\n",
    "Where you can, **mark _all_ the interesting entities in each example you give**\n",
    "- it can pay to run other NER on your test sentences. That's basically [transfer learning](https://en.wikipedia.org/wiki/Transfer_learning).\n",
    "\n",
    "\n",
    "\n",
    "While spacy 3's training takes data in its own format, it's just a dumb conversion from the structure above.\n",
    "\n",
    "You might consider [JSON](https://en.wikipedia.org/wiki/JSON_streaming#JSONL) as an intermediate,\n",
    "because you easily take that elsewhere."
   ]
  },
  {
   "cell_type": "markdown",
   "metadata": {},
   "source": [
    "<!--\n",
    "\n",
    "wetnamen = set()\n",
    "for id, (namen1, namen2) in wetsuite.datasets.load('wetnamen').data.items():\n",
    "    for name in namen1+namen2:\n",
    "        name = name.strip(' -')#.lower()\n",
    "        # turns out a 4MByte regexp isn't very fast, so we take out the very long stuff. TODO: do all this in the generation of that list.\n",
    "        if len(name)>2  and len(name) < 50:\n",
    "            wetnamen.add(name)\n",
    "\n",
    "#random.sample( wetnamen, 30 )\n",
    "\n",
    "\n",
    "import re\n",
    "count = 0\n",
    "frag_with_wetnaam = []\n",
    "\n",
    "print('PRE')\n",
    "nn = sorted( list( re.escape(naam)  for naam in wetnamen ), key=lambda s:len(s), reverse=True )\n",
    "\n",
    "_re_str = r'\\b(%s)\\b'%( '|'.join( nn ) ) # this is a monster of a regexp\n",
    "print( len(_re_str) )\n",
    "_re_namen = re.compile( _re_str)#, flags=re.I )\n",
    "\n",
    "\n",
    "import wetsuite.helpers.spacy\n",
    "# This is a rather inefficient ways to do it.\n",
    "print('PROC')\n",
    "#for id, cvdr_xmlbytes in wetsuite.helpers.notebook.ProgressBar( wetsuite.datasets.load('cvdr-mostrecent-xml').data.random_sample(1000) ):\n",
    "    #for fragment in wetsuite.helpers.split.feeling_lucky( cvdr_xmlbytes ): # we use split to place the quote within a paragraph-or-so.\n",
    "for id, cvdr_txt in wetsuite.helpers.notebook.ProgressBar( wetsuite.datasets.load('cvdr-mostrecent-text').data.random_sample(100) ):\n",
    "    for fragment in wetsuite.helpers.spacy.sentence_split(cvdr_txt, as_plain_sents=True):\n",
    "    #for fragment in re.split('\\n{2,}', cvdr_txt):\n",
    "        for m in re.finditer(_re_namen, fragment):\n",
    "            #print(id, m.groups()[0])\n",
    "            frag_with_wetnaam.append( (fragment, m.start(), m.end()) )\n",
    "            # TODO: move all matches in a fragment into one list; spacy want it that way\n",
    "\n",
    "count\n",
    "#frag_with_wetnaam\n",
    "\n",
    "\n",
    "\n",
    "for fragment, start, end in frag_with_wetnaam:#random.sample( frag_with_wetnaam, 1 ):\n",
    "    print( fragment[:start], '[' , fragment[start:end], ']', fragment[end:] )\n",
    "    print('-----')\n",
    "    \n",
    "-->"
   ]
  },
  {
   "cell_type": "markdown",
   "metadata": {},
   "source": [
    "<!--\n",
    "\n",
    "It's easy to be self congratulatory, \n",
    "we can't strongly verify, or quantify, the performance\n",
    "with the same things we fed in to train it. \n",
    "Of course it's going to find most of those.\n",
    "\n",
    "When we give it a list we don't care about that list - it better be good at that.\n",
    "\n",
    "We care about all the things you didn't tell it about, but we figure are relevant.\n",
    "Maybe it's better at those. Maybe it's worse. You wouldn't easily know.\n",
    "\n",
    "This is a classical issue in machine learning of any type.\n",
    "\n",
    "The classical solution is to split the data you fed in into a training part, and testing part.\n",
    "You only use a good portion to try to , and you use the rest to prove that's true.\n",
    "\n",
    "https://towardsdatascience.com/train-ner-with-custom-training-data-using-spacy-525ce748fab7\n",
    "\n",
    "https://spacy.io/usage/training\n",
    "\n",
    "-->"
   ]
  }
 ],
 "metadata": {
  "kernelspec": {
   "display_name": "Python 3",
   "language": "python",
   "name": "python3"
  },
  "language_info": {
   "codemirror_mode": {
    "name": "ipython",
    "version": 3
   },
   "file_extension": ".py",
   "mimetype": "text/x-python",
   "name": "python",
   "nbconvert_exporter": "python",
   "pygments_lexer": "ipython3",
   "version": "3.10.12"
  },
  "vscode": {
   "interpreter": {
    "hash": "31f2aee4e71d21fbe5cf8b01ff0e069b9275f58929596ceb00d14d90e3e16cd6"
   }
  }
 },
 "nbformat": 4,
 "nbformat_minor": 4
}
