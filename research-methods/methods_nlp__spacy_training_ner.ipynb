{
 "cells": [
  {
   "cell_type": "markdown",
   "metadata": {},
   "source": [
    "(BARELY EVEN A FIRST VERSION YET)"
   ]
  },
  {
   "cell_type": "markdown",
   "metadata": {},
   "source": [
    "## What does Named Entity Recognition do for you?"
   ]
  },
  {
   "cell_type": "markdown",
   "metadata": {},
   "source": [
    "What we call 'entity extraction' takes text and recognize things that fall within some well-defined categories.\n",
    "\n",
    "This ends up primarily focusing on fairly consistently named things - hence _named_ entities and Named Entity Recognition (NER)."
   ]
  },
  {
   "cell_type": "markdown",
   "metadata": {},
   "source": [
    "A classical examples of NER take a text-only sentence and pointing out that:"
   ]
  },
  {
   "cell_type": "code",
   "execution_count": 2,
   "metadata": {},
   "outputs": [
    {
     "data": {
      "text/html": [
       "<span class=\"tex2jax_ignore\"><div class=\"entities\" style=\"line-height: 2.5; direction: ltr\">\n",
       "<mark class=\"entity\" style=\"background: #aa9cfc; padding: 0.45em 0.6em; margin: 0 0.25em; line-height: 1; border-radius: 0.35em;\">\n",
       "    Jim\n",
       "    <span style=\"font-size: 0.8em; font-weight: bold; line-height: 1; border-radius: 0.35em; vertical-align: middle; margin-left: 0.5rem\">PERSON</span>\n",
       "</mark>\n",
       " bought \n",
       "<mark class=\"entity\" style=\"background: #e4e7d2; padding: 0.45em 0.6em; margin: 0 0.25em; line-height: 1; border-radius: 0.35em;\">\n",
       "    300\n",
       "    <span style=\"font-size: 0.8em; font-weight: bold; line-height: 1; border-radius: 0.35em; vertical-align: middle; margin-left: 0.5rem\">CARDINAL</span>\n",
       "</mark>\n",
       " shares of \n",
       "<mark class=\"entity\" style=\"background: #7aecec; padding: 0.45em 0.6em; margin: 0 0.25em; line-height: 1; border-radius: 0.35em;\">\n",
       "    Acme\n",
       "    <span style=\"font-size: 0.8em; font-weight: bold; line-height: 1; border-radius: 0.35em; vertical-align: middle; margin-left: 0.5rem\">ORG</span>\n",
       "</mark>\n",
       " in \n",
       "<mark class=\"entity\" style=\"background: #bfe1d9; padding: 0.45em 0.6em; margin: 0 0.25em; line-height: 1; border-radius: 0.35em;\">\n",
       "    2006\n",
       "    <span style=\"font-size: 0.8em; font-weight: bold; line-height: 1; border-radius: 0.35em; vertical-align: middle; margin-left: 0.5rem\">DATE</span>\n",
       "</mark>\n",
       " in \n",
       "<mark class=\"entity\" style=\"background: #feca74; padding: 0.45em 0.6em; margin: 0 0.25em; line-height: 1; border-radius: 0.35em;\">\n",
       "    Paris\n",
       "    <span style=\"font-size: 0.8em; font-weight: bold; line-height: 1; border-radius: 0.35em; vertical-align: middle; margin-left: 0.5rem\">GPE</span>\n",
       "</mark>\n",
       " for \n",
       "<mark class=\"entity\" style=\"background: #e4e7d2; padding: 0.45em 0.6em; margin: 0 0.25em; line-height: 1; border-radius: 0.35em;\">\n",
       "    300 dollars\n",
       "    <span style=\"font-size: 0.8em; font-weight: bold; line-height: 1; border-radius: 0.35em; vertical-align: middle; margin-left: 0.5rem\">MONEY</span>\n",
       "</mark>\n",
       "</div></span>"
      ],
      "text/plain": [
       "<IPython.core.display.HTML object>"
      ]
     },
     "metadata": {},
     "output_type": "display_data"
    }
   ],
   "source": [
    "import spacy, spacy.displacy\n",
    "english = spacy.load('en_core_web_lg')\n",
    "spacy.displacy.render( english(\"Jim bought 300 shares of Acme in 2006 in Paris for 300 dollars\") , style='ent', jupyter=True)\n",
    "\n",
    "# (side note: GPE is 'Geopolitical entity', other models might call this LOCATION)"
   ]
  },
  {
   "cell_type": "markdown",
   "metadata": {},
   "source": [
    "## Waxing philosophical"
   ]
  },
  {
   "cell_type": "markdown",
   "metadata": {},
   "source": [
    "### What \n",
    "\n",
    "Okay, that's pretty neat, but [what even are these \"entities\"](https://en.wikipedia.org/wiki/Named-entity_recognition)?\n",
    "\n",
    "\n",
    "The \"fairly consistent naming\" wording we used before was trying to sidestep some basic questions,\n",
    "because they trip us into some philosophical messiness.\n",
    "\n",
    "We like to think a name points at the same thing no matter what,\n",
    "and/or there is just one, \n",
    "and/or there may be multiple but we can tell from context what _type_ this one is, \n",
    "yet this often isn't true.\n",
    "See also discussions on topics such as [rigid designators](https://en.wikipedia.org/wiki/Rigid_designator).\n",
    "\n",
    "And note that even in that example, we had some things that aren't names at all,\n",
    "yet are still things identifiable within of a useful category. \n",
    "\n",
    "Say, the date.\n",
    "\n",
    "The numbers more so.\n",
    "Numbers rarely ever name things nor point to unique things,\n",
    "but they are still a useful category of _thing_ to extract,\n",
    "with even some distinction of different kinds/uses of numbers.\n",
    "- The 300 is first identified as just counting _something_ (CARDINAL),\n",
    "- the second is identified as a MONEY when it had 'dollars' after it,\n",
    "- and if you train it enough, you might find numbers as/within time expressions, percentages, medical codes.\n",
    "\n",
    "Modern NER is typically smarter than just matching known substrings or lemmas. Many will learn from the context, and look for similar context when matching.\n",
    "The machine learning that backs various might softly learn that in \"X bought 300 shares of Y in Z\", X is some sort of actor, Y is something you can buy.\n",
    "\n",
    "Even then, even with contextual awareness at work, NER tends to focus on categories that are relatively simple to learn well."
   ]
  },
  {
   "cell_type": "markdown",
   "metadata": {},
   "source": [
    "### Why / expectation management\n",
    "\n",
    "You can imagine that that first buying-shares example was cherry-picked and not representative.\n",
    "\n",
    "So before we get deeper into examples, let's not skip a more practical question:\n",
    "\n",
    "**This is a means. What is the goal?** \n",
    "\n",
    "What do we hope to extract, and for what?\n",
    "\n",
    "**Also, how good is it at any particular goal?**\n",
    "\n",
    "And if it has limitations, can we work with them,\n",
    "or do we not waste our time,\n",
    "and instead look to better methods toward our goal?\n",
    "\n",
    "\n",
    "Generally, NER is useful when \n",
    "- these categories are actually useful to you\n",
    "- these categories are somewhat flexible and somewhat large (if small and fixed, you could do it with some basic pattern matching)\n",
    "- we actually get consistent detection (TODO: for one of the varied reasons that NER works)\n",
    "\n",
    "NER is not _necessary_ when\n",
    "- basic pattern matching is enough and/or\n",
    "- You have a complete and exhaustive list of things you want to extract\n",
    "\n",
    "\n",
    "Some points to consider:\n",
    "- If you can't think of why this is useful, then it probably isn't.\n",
    "- the difference in what it ends up doing well, or doing _somewhat_, can be very real for any given purpose or project,\n",
    "- or at the very least introduce a lot of work training it to do what you want well enough.\n",
    "- In the end, it does what you make it do, or train it for. And that may be easily incomplete, or a moving target."
   ]
  },
  {
   "cell_type": "markdown",
   "metadata": {},
   "source": [
    "### What techniques does NER include?"
   ]
  },
  {
   "cell_type": "markdown",
   "metadata": {},
   "source": [
    "Perhaps anything that finds useful tings in useful categories.\n",
    "\n",
    "In the question of \"is it NER\", people also make a large point of how it's done.\n",
    "\n",
    "NLP people seem to consider in NER when it picks up things beyond the original fixed list we've given it.\n",
    "Which makes sense, because otherwise you would just match for that list and call it a day.\n",
    "\n",
    "That usually points to machine learning, picking similar things in similar contexts.\n",
    "\n",
    "Okay, so what if we do:"
   ]
  },
  {
   "cell_type": "code",
   "execution_count": 9,
   "metadata": {},
   "outputs": [
    {
     "data": {
      "text/html": [
       "<span class=\"tex2jax_ignore\"><div class=\"entities\" style=\"line-height: 2.5; direction: ltr\"> text \n",
       "<mark class=\"entity\" style=\"background: #7755ff; padding: 0.45em 0.6em; margin: 0 0.25em; line-height: 1; border-radius: 0.35em;\">\n",
       "    CVDR101405/1\n",
       "    <span style=\"font-size: 0.8em; font-weight: bold; line-height: 1; border-radius: 0.35em; vertical-align: middle; margin-left: 0.5rem\">CVDR</span>\n",
       "</mark>\n",
       " text \n",
       "<mark class=\"entity\" style=\"background: #ddd; padding: 0.45em 0.6em; margin: 0 0.25em; line-height: 1; border-radius: 0.35em;\">\n",
       "    Stb. 2011, 35\n",
       "    <span style=\"font-size: 0.8em; font-weight: bold; line-height: 1; border-radius: 0.35em; vertical-align: middle; margin-left: 0.5rem\">VINDPLAATS</span>\n",
       "</mark>\n",
       " text \n",
       "<mark class=\"entity\" style=\"background: #ffaaff; padding: 0.45em 0.6em; margin: 0 0.25em; line-height: 1; border-radius: 0.35em;\">\n",
       "    33684R2020\n",
       "    <span style=\"font-size: 0.8em; font-weight: bold; line-height: 1; border-radius: 0.35em; vertical-align: middle; margin-left: 0.5rem\">CELEX</span>\n",
       "</mark>\n",
       " text \n",
       "<mark class=\"entity\" style=\"background: #ffaaaa; padding: 0.45em 0.6em; margin: 0 0.25em; line-height: 1; border-radius: 0.35em;\">\n",
       "    ECLI:NL:HR:2005:AT4537\n",
       "    <span style=\"font-size: 0.8em; font-weight: bold; line-height: 1; border-radius: 0.35em; vertical-align: middle; margin-left: 0.5rem\">ECLI</span>\n",
       "</mark>\n",
       " text \n",
       "<mark class=\"entity\" style=\"background: #ffaa77; padding: 0.45em 0.6em; margin: 0 0.25em; line-height: 1; border-radius: 0.35em;\">\n",
       "    art. 2.12, eerste lid, aanhef en onder a\n",
       "    <span style=\"font-size: 0.8em; font-weight: bold; line-height: 1; border-radius: 0.35em; vertical-align: middle; margin-left: 0.5rem\">ARTIKEL</span>\n",
       "</mark>\n",
       " text</div></span>"
      ],
      "text/plain": [
       "<IPython.core.display.HTML object>"
      ]
     },
     "metadata": {},
     "output_type": "display_data"
    }
   ],
   "source": [
    "import wetsuite.helpers.patterns,  spacy, spacy.displacy\n",
    "dutch = spacy.load('nl_core_news_lg')\n",
    "doc = dutch( \" text CVDR101405/1 text Stb. 2011, 35 text 33684R2020 text ECLI:NL:HR:2005:AT4537 text art. 2.12, eerste lid, aanhef en onder a text\" )\n",
    "wetsuite.helpers.patterns.mark_references_spacy( doc, wetsuite.helpers.patterns.find_references( doc.text, ljn=True)  )\n",
    "spacy.displacy.render( doc, style='ent', jupyter=True, options={\"colors\":{'ECLI':'#ffaaaa', 'CVDR':'#7755ff', 'CELEX':'#ffaaff', 'ARTIKEL':'#ffaa77'}} )"
   ]
  },
  {
   "cell_type": "markdown",
   "metadata": {},
   "source": [
    "(Putting aside for a moment that we are leading an answer by making it _look_ the same as the earlier entity...)\n",
    "\n",
    "Was that not NER, because it's not done by machine learning but a bunch of specific pattern matching?\n",
    "Or because these aren't names really?\n",
    "\n",
    "Was that NER, because it picks useful entities in specific categories?"
   ]
  },
  {
   "cell_type": "markdown",
   "metadata": {},
   "source": [
    "Does it really matter what you call it?\n",
    "\n",
    "...well yes, for a common reason we use names around technical topics:\n",
    "we put a name to a technique so that we can talk about how it works, and what it does for us.\n",
    "\n",
    "As just mentioned, NER often means machine learning,\n",
    "often on a word-sequence basis, and that is actually an ill fit to do this particular pattern matching,\n",
    "as it may not understand what characters and what context to pay attention to,\n",
    "because these aren't patterns of words, they are patterns of characters,\n",
    "which is not how they are typically set up.\n",
    "\n",
    "At the same time, a natural reference like \"artikel 3, lid 5, van wet Bla\" \n",
    "turns out to have so many variations that a rigid pattern matcher may miss many of them.\n",
    "\n",
    "Iif you look at our code that does that, it's and experiment that specically avoids being a fixed pattern matcher,\n",
    "but maybe NER is brilliant at that particular one.\n",
    "That's the kind of thing you want to talk about."
   ]
  },
  {
   "cell_type": "markdown",
   "metadata": {},
   "source": [
    "## Getting more applied"
   ]
  },
  {
   "cell_type": "markdown",
   "metadata": {},
   "source": [
    "### What does it do out of the box?\n",
    "\n",
    "While a linguist might dream of more and more semantic demarking _all_ the things it talks about,\n",
    "dreaming of good results in any sentence and context, it is often incomplete enough that it won't catch everything you want,\n",
    "not because they couldn't, but because out of the box, they are not specialized to anything much.\n",
    "\n",
    "To wit:"
   ]
  },
  {
   "cell_type": "code",
   "execution_count": 43,
   "metadata": {},
   "outputs": [
    {
     "data": {
      "text/html": [
       "<span class=\"tex2jax_ignore\"><div class=\"entities\" style=\"line-height: 2.5; direction: ltr\">) nr. \n",
       "<mark class=\"entity\" style=\"background: #e4e7d2; padding: 0.45em 0.6em; margin: 0 0.25em; line-height: 1; border-radius: 0.35em;\">\n",
       "    2018/1805\n",
       "    <span style=\"font-size: 0.8em; font-weight: bold; line-height: 1; border-radius: 0.35em; vertical-align: middle; margin-left: 0.5rem\">CARDINAL</span>\n",
       "</mark>\n",
       " van het \n",
       "<mark class=\"entity\" style=\"background: #7aecec; padding: 0.45em 0.6em; margin: 0 0.25em; line-height: 1; border-radius: 0.35em;\">\n",
       "    Europees Parlement\n",
       "    <span style=\"font-size: 0.8em; font-weight: bold; line-height: 1; border-radius: 0.35em; vertical-align: middle; margin-left: 0.5rem\">ORG</span>\n",
       "</mark>\n",
       " en de Raad van \n",
       "<mark class=\"entity\" style=\"background: #bfe1d9; padding: 0.45em 0.6em; margin: 0 0.25em; line-height: 1; border-radius: 0.35em;\">\n",
       "    14 november 2018\n",
       "    <span style=\"font-size: 0.8em; font-weight: bold; line-height: 1; border-radius: 0.35em; vertical-align: middle; margin-left: 0.5rem\">DATE</span>\n",
       "</mark>\n",
       " inzake de wederzijdse erkenning van bevriezingsbevelen en \n",
       "<mark class=\"entity\" style=\"background: #ffeb80; padding: 0.45em 0.6em; margin: 0 0.25em; line-height: 1; border-radius: 0.35em;\">\n",
       "    confiscatiebevelen\n",
       "    <span style=\"font-size: 0.8em; font-weight: bold; line-height: 1; border-radius: 0.35em; vertical-align: middle; margin-left: 0.5rem\">EVENT</span>\n",
       "</mark>\n",
       " (PbEU \n",
       "<mark class=\"entity\" style=\"background: #bfe1d9; padding: 0.45em 0.6em; margin: 0 0.25em; line-height: 1; border-radius: 0.35em;\">\n",
       "    2018\n",
       "    <span style=\"font-size: 0.8em; font-weight: bold; line-height: 1; border-radius: 0.35em; vertical-align: middle; margin-left: 0.5rem\">DATE</span>\n",
       "</mark>\n",
       ", L \n",
       "<mark class=\"entity\" style=\"background: #bfe1d9; padding: 0.45em 0.6em; margin: 0 0.25em; line-height: 1; border-radius: 0.35em;\">\n",
       "    303/1\n",
       "    <span style=\"font-size: 0.8em; font-weight: bold; line-height: 1; border-radius: 0.35em; vertical-align: middle; margin-left: 0.5rem\">DATE</span>\n",
       "</mark>\n",
       "); \n",
       "<mark class=\"entity\" style=\"background: #feca74; padding: 0.45em 0.6em; margin: 0 0.25em; line-height: 1; border-radius: 0.35em;\">\n",
       "    confiscatiebevel\n",
       "    <span style=\"font-size: 0.8em; font-weight: bold; line-height: 1; border-radius: 0.35em; vertical-align: middle; margin-left: 0.5rem\">GPE</span>\n",
       "</mark>\n",
       ": bevel als bedoeld in artikel \n",
       "<mark class=\"entity\" style=\"background: #e4e7d2; padding: 0.45em 0.6em; margin: 0 0.25em; line-height: 1; border-radius: 0.35em;\">\n",
       "    2\n",
       "    <span style=\"font-size: 0.8em; font-weight: bold; line-height: 1; border-radius: 0.35em; vertical-align: middle; margin-left: 0.5rem\">CARDINAL</span>\n",
       "</mark>\n",
       ", onderdeel \n",
       "<mark class=\"entity\" style=\"background: #e4e7d2; padding: 0.45em 0.6em; margin: 0 0.25em; line-height: 1; border-radius: 0.35em;\">\n",
       "    2\n",
       "    <span style=\"font-size: 0.8em; font-weight: bold; line-height: 1; border-radius: 0.35em; vertical-align: middle; margin-left: 0.5rem\">CARDINAL</span>\n",
       "</mark>\n",
       ", van Verordening \n",
       "<mark class=\"entity\" style=\"background: #bfe1d9; padding: 0.45em 0.6em; margin: 0 0.25em; line-height: 1; border-radius: 0.35em;\">\n",
       "    2018/1805\n",
       "    <span style=\"font-size: 0.8em; font-weight: bold; line-height: 1; border-radius: 0.35em; vertical-align: middle; margin-left: 0.5rem\">DATE</span>\n",
       "</mark>\n",
       " ; uitvaardigende autoriteit: autoriteit, bedoeld in artikel \n",
       "<mark class=\"entity\" style=\"background: #e4e7d2; padding: 0.45em 0.6em; margin: 0 0.25em; line-height: 1; border-radius: 0.35em;\">\n",
       "    2\n",
       "    <span style=\"font-size: 0.8em; font-weight: bold; line-height: 1; border-radius: 0.35em; vertical-align: middle; margin-left: 0.5rem\">CARDINAL</span>\n",
       "</mark>\n",
       ", onderdeel \n",
       "<mark class=\"entity\" style=\"background: #e4e7d2; padding: 0.45em 0.6em; margin: 0 0.25em; line-height: 1; border-radius: 0.35em;\">\n",
       "    8\n",
       "    <span style=\"font-size: 0.8em; font-weight: bold; line-height: 1; border-radius: 0.35em; vertical-align: middle; margin-left: 0.5rem\">CARDINAL</span>\n",
       "</mark>\n",
       ", subonderdeel b, van Verordening \n",
       "<mark class=\"entity\" style=\"background: #bfe1d9; padding: 0.45em 0.6em; margin: 0 0.25em; line-height: 1; border-radius: 0.35em;\">\n",
       "    2018/1805\n",
       "    <span style=\"font-size: 0.8em; font-weight: bold; line-height: 1; border-radius: 0.35em; vertical-align: middle; margin-left: 0.5rem\">DATE</span>\n",
       "</mark>\n",
       " ; uitvoerende autoriteit: autoriteit, bedoeld in artikel \n",
       "<mark class=\"entity\" style=\"background: #e4e7d2; padding: 0.45em 0.6em; margin: 0 0.25em; line-height: 1; border-radius: 0.35em;\">\n",
       "    2\n",
       "    <span style=\"font-size: 0.8em; font-weight: bold; line-height: 1; border-radius: 0.35em; vertical-align: middle; margin-left: 0.5rem\">CARDINAL</span>\n",
       "</mark>\n",
       ", onderdeel \n",
       "<mark class=\"entity\" style=\"background: #e4e7d2; padding: 0.45em 0.6em; margin: 0 0.25em; line-height: 1; border-radius: 0.35em;\">\n",
       "    9\n",
       "    <span style=\"font-size: 0.8em; font-weight: bold; line-height: 1; border-radius: 0.35em; vertical-align: middle; margin-left: 0.5rem\">CARDINAL</span>\n",
       "</mark>\n",
       ", van Verordening \n",
       "<mark class=\"entity\" style=\"background: #ff8197; padding: 0.45em 0.6em; margin: 0 0.25em; line-height: 1; border-radius: 0.35em;\">\n",
       "    2018/1805\n",
       "    <span style=\"font-size: 0.8em; font-weight: bold; line-height: 1; border-radius: 0.35em; vertical-align: middle; margin-left: 0.5rem\">LANGUAGE</span>\n",
       "</mark>\n",
       " .</br></br>Rechterlijke uitspraken en beschikkingen gewezen in een andere lidstaat van de \n",
       "<mark class=\"entity\" style=\"background: #feca74; padding: 0.45em 0.6em; margin: 0 0.25em; line-height: 1; border-radius: 0.35em;\">\n",
       "    Europese Unie\n",
       "    <span style=\"font-size: 0.8em; font-weight: bold; line-height: 1; border-radius: 0.35em; vertical-align: middle; margin-left: 0.5rem\">GPE</span>\n",
       "</mark>\n",
       " en aan \n",
       "<mark class=\"entity\" style=\"background: #feca74; padding: 0.45em 0.6em; margin: 0 0.25em; line-height: 1; border-radius: 0.35em;\">\n",
       "    Nederland\n",
       "    <span style=\"font-size: 0.8em; font-weight: bold; line-height: 1; border-radius: 0.35em; vertical-align: middle; margin-left: 0.5rem\">GPE</span>\n",
       "</mark>\n",
       " </div></span>"
      ],
      "text/plain": [
       "<IPython.core.display.HTML object>"
      ]
     },
     "metadata": {},
     "output_type": "display_data"
    }
   ],
   "source": [
    "import spacy, spacy.displacy,  wetsuite.datasets, wetsuite.helpers.net\n",
    "dutch = spacy.load('nl_core_news_lg')                                                      # load model to use (which includes pretrained NER)\n",
    "cherry_picked_text = wetsuite.datasets.load('bwb-mostrecent-text').data.get('BWBR0022604') # load text to apply it to\n",
    "partial_doc = dutch(cherry_picked_text)[500:600]                                         # parse a (specifically picked) fragment of text - we get the idea.\n",
    "spacy.displacy.render(partial_doc, style='ent', jupyter=True)                              # visualize to show us the entities"
   ]
  },
  {
   "cell_type": "code",
   "execution_count": 48,
   "metadata": {},
   "outputs": [
    {
     "data": {
      "text/html": [
       "<span class=\"tex2jax_ignore\"><div class=\"entities\" style=\"line-height: 2.5; direction: ltr\">\n",
       "<mark class=\"entity\" style=\"background: #c887fb; padding: 0.45em 0.6em; margin: 0 0.25em; line-height: 1; border-radius: 0.35em;\">\n",
       "    Belgisch\n",
       "    <span style=\"font-size: 0.8em; font-weight: bold; line-height: 1; border-radius: 0.35em; vertical-align: middle; margin-left: 0.5rem\">NORP</span>\n",
       "</mark>\n",
       " recht</br>\n",
       "<mark class=\"entity\" style=\"background: #7aecec; padding: 0.45em 0.6em; margin: 0 0.25em; line-height: 1; border-radius: 0.35em;\">\n",
       "    BRESSER\n",
       "    <span style=\"font-size: 0.8em; font-weight: bold; line-height: 1; border-radius: 0.35em; vertical-align: middle; margin-left: 0.5rem\">ORG</span>\n",
       "</mark>\n",
       " MANAGEMENT N.V.,</br>gevestigd te \n",
       "<mark class=\"entity\" style=\"background: #feca74; padding: 0.45em 0.6em; margin: 0 0.25em; line-height: 1; border-radius: 0.35em;\">\n",
       "    Hasselt\n",
       "    <span style=\"font-size: 0.8em; font-weight: bold; line-height: 1; border-radius: 0.35em; vertical-align: middle; margin-left: 0.5rem\">GPE</span>\n",
       "</mark>\n",
       " (\n",
       "<mark class=\"entity\" style=\"background: #feca74; padding: 0.45em 0.6em; margin: 0 0.25em; line-height: 1; border-radius: 0.35em;\">\n",
       "    België\n",
       "    <span style=\"font-size: 0.8em; font-weight: bold; line-height: 1; border-radius: 0.35em; vertical-align: middle; margin-left: 0.5rem\">GPE</span>\n",
       "</mark>\n",
       "),</br>v e r z o e k s t e r ,</br>procureur: \n",
       "<mark class=\"entity\" style=\"background: #ff9561; padding: 0.45em 0.6em; margin: 0 0.25em; line-height: 1; border-radius: 0.35em;\">\n",
       "    mr. M.F.IJ.J. Kramer\n",
       "    <span style=\"font-size: 0.8em; font-weight: bold; line-height: 1; border-radius: 0.35em; vertical-align: middle; margin-left: 0.5rem\">LOC</span>\n",
       "</mark>\n",
       ",</br>advocaat: \n",
       "<mark class=\"entity\" style=\"background: #aa9cfc; padding: 0.45em 0.6em; margin: 0 0.25em; line-height: 1; border-radius: 0.35em;\">\n",
       "    mr. E.J. Osnabrugge\n",
       "    <span style=\"font-size: 0.8em; font-weight: bold; line-height: 1; border-radius: 0.35em; vertical-align: middle; margin-left: 0.5rem\">PERSON</span>\n",
       "</mark>\n",
       ",</br></br>t e g e n</br></br>de naamloze vennootschap</br>\n",
       "<mark class=\"entity\" style=\"background: #7aecec; padding: 0.45em 0.6em; margin: 0 0.25em; line-height: 1; border-radius: 0.35em;\">\n",
       "    KONINKLIJKE\n",
       "    <span style=\"font-size: 0.8em; font-weight: bold; line-height: 1; border-radius: 0.35em; vertical-align: middle; margin-left: 0.5rem\">ORG</span>\n",
       "</mark>\n",
       " BEGEMANN GROEP N.V.,</br>gevestigd te \n",
       "<mark class=\"entity\" style=\"background: #feca74; padding: 0.45em 0.6em; margin: 0 0.25em; line-height: 1; border-radius: 0.35em;\">\n",
       "    Breda\n",
       "    <span style=\"font-size: 0.8em; font-weight: bold; line-height: 1; border-radius: 0.35em; vertical-align: middle; margin-left: 0.5rem\">GPE</span>\n",
       "</mark>\n",
       ",</br>g e r e q u e s t r e e r d e ,</br>procureur: \n",
       "<mark class=\"entity\" style=\"background: #aa9cfc; padding: 0.45em 0.6em; margin: 0 0.25em; line-height: 1; border-radius: 0.35em;\">\n",
       "    mr. L.J.M. Luchtman\n",
       "    <span style=\"font-size: 0.8em; font-weight: bold; line-height: 1; border-radius: 0.35em; vertical-align: middle; margin-left: 0.5rem\">PERSON</span>\n",
       "</mark>\n",
       ".</br></br>\n",
       "<mark class=\"entity\" style=\"background: #e4e7d2; padding: 0.45em 0.6em; margin: 0 0.25em; line-height: 1; border-radius: 0.35em;\">\n",
       "    1\n",
       "    <span style=\"font-size: 0.8em; font-weight: bold; line-height: 1; border-radius: 0.35em; vertical-align: middle; margin-left: 0.5rem\">CARDINAL</span>\n",
       "</mark>\n",
       ". Het verloop van de zaak.</br></br>Dit blijkt uit </div></span>"
      ],
      "text/plain": [
       "<IPython.core.display.HTML object>"
      ]
     },
     "metadata": {},
     "output_type": "display_data"
    },
    {
     "name": "stdout",
     "output_type": "stream",
     "text": [
      "----------\n"
     ]
    }
   ],
   "source": [
    "# similarly, in court cases:\n",
    "\n",
    "for casedict in wetsuite.datasets.load('rechtspraaknl-struc').data.random_values(1):\n",
    "    doc = dutch( casedict.get('bodytext') )\n",
    "    spacy.displacy.render(doc[50:150], style='ent', jupyter=True) # that token slice tries to cut off some introduction, and leave a smallish block of text\n",
    "    print('----------')"
   ]
  },
  {
   "cell_type": "markdown",
   "metadata": {},
   "source": [
    "Please re-run that a bunch of times, to see what's there, and what's missing, and the amount of variation.\n",
    "You'll probably notice that this leaves something to be desired.\n",
    "\n",
    "\n",
    "There are also some things it picks out that we can be pretty sure it wasn't trained on, which is part of the point of NER.\n",
    "\n",
    "There are also a bunch of things it gets wrong, like in some tests it would call a confiscatiebevel a location - that sort of thing."
   ]
  },
  {
   "cell_type": "markdown",
   "metadata": {},
   "source": [
    "Then again, if your goal is primarily information extraction _at document level_ - what it is about,\n",
    "what organisations and people are involved, you are often still doing pretty well\n",
    "even if half of the mentions aren't detected.\n",
    "\n",
    "But in a few paragraphs, we snuck in in a new goal to justify our method,\n",
    "quietly adjusting our use to the limitations. That's not necessarily how you want to work."
   ]
  },
  {
   "cell_type": "markdown",
   "metadata": {},
   "source": [
    "### Some relevant projects\n",
    "\n",
    "Let's look at someone who has already done the work.\n",
    "Consider \"[Named Entity Recognition in Indian court judgments](https://arxiv.org/pdf/2211.03442)\"\n",
    "(and [its code](https://github.com/Legal-NLP-EkStep/legal_NER)).\n",
    "\n",
    "There is an [online version of that and other analysis](https://summarizer-fer6v2lowq-uc.a.run.app/searchdetails#ANALYSIS)\n",
    "that you can inspect (should default to an example case. Note that the URLs suggests this might be a preliminary project and might move).\n",
    "\n",
    "If you do, you can note that both that it's a bunch better than our late example, \n",
    "but also that not every person or organisation is marked.\n",
    "\n",
    "The things that it extracts still seem very useful, say, \n",
    "to describing the parties involved and probably the basic topics of the case."
   ]
  },
  {
   "cell_type": "markdown",
   "metadata": {},
   "source": [
    "Consider that this project, beyond the basic set of entity types, says it extracts e.g. \n",
    "LAWYER, PETITIONER, RESPONDENT, JUDGE, COURT, WITNESS, STATUTE, PROVISION, PRECEDENT.\n",
    "\n",
    "That's quite a boast, as various of those are not very rigid designators.\n",
    "Say, if a personal name appears, it will not be clear which role they play - unless context is very clear.\n",
    "\n",
    "Now, legal text invests time into being unambiguous, \n",
    "and court cases everywhere tend to have an introduction that is regular \n",
    "to the point it is almost a template (which might e.g. adds ` (appellant)` to a name).\n",
    "That name will likely be matched as an appelant there, and only there.\n",
    "\n",
    "So this is NER used to do something more like pattern recognition. \n",
    "Which is fine (it overlaps with what it does anyway), and useful, \n",
    "yet you want to know why the method might tell you it's APPELANT once,\n",
    "and perhaps PERSON everywhere else.\n",
    "\n",
    "\n",
    "And if never matches the same name again in the same document,\n",
    "it may be less useful for generic NLP but still absolutely great for information extraction _about the document as a whole_. \n",
    "\n",
    "\n",
    "Documents may even specifically avoid repeating the name and use the literal text `appellant`, `judge`, etc. \n",
    "for clarity, which is great for even more than basic information extraction -- but only if you know it's happening.\n",
    "\n",
    "And, as research we will mention laters, another entity that pops up is _roles_.\n",
    "Sure you have marked some named people, but it may be just as interesting, say, what they do within the organisation.\n",
    "This may however a more complex task."
   ]
  },
  {
   "cell_type": "markdown",
   "metadata": {},
   "source": [
    "Other examples that may be interesting, in telling us what have others done and how they have fared:\n",
    "\n",
    "\"[Evaluation of Named Entity Recognition in Dutch online criminal complaints](https://clinjournal.org/clinj/article/view/65)\"\n",
    "sticks with the clasics like Person, Location, Product, Organisation, Event,\n",
    "and seems to conclude it's useful for basic information retrieval of topic.\n",
    "\n",
    "\"[Deep Learning for Legal Tech: exploring NER on Dutch court rulings]()\" has datesm, courts, section headers, and case identifiers.\n",
    "\n",
    "\"[Named Entity Recognition of Legislation References](http://arno.uvt.nl/show.cgi?fid=160982)\"\n",
    "mostly just for identifiers.\n",
    "\n",
    "\"[Named entity recognition and resolution in legal text](https://www.researchgate.net/publication/220745968_Named_Entity_Recognition_and_Resolution_in_Legal_Text)\"\n",
    "seems to go for Jurisdiction, Court, Title, Doctype, Judge, though seems more pattern matching than NER.\n",
    "\n",
    "TODO: find more\n",
    "\n",
    "\n",
    "<!--\n",
    "[or](https://arxiv.org/pdf/2103.06268) [other](http://nlp.cs.aueb.gr/pubs/icail2017.pdf) papers rarely give\n",
    "\n",
    "\n",
    "Unfortunately, in general there isn't a lot of data to train legal tasks like this, less so for NER, \n",
    "less so for Dutch. We will have to do some of this ourselves.\n",
    "-->"
   ]
  },
  {
   "cell_type": "markdown",
   "metadata": {},
   "source": [
    "## Can we make it do more?\n",
    "\n",
    "Yes, but again, that takes training, and that takes annotation.\n",
    "\n",
    "And some decisions before that, to know what would be interesting, what to spend time on.\n",
    "\n",
    "So what _do_ we want?\n",
    "\n",
    "Well, roles are interesting. Above, things like staatssecretaris aren't marked.\n",
    "\n",
    "But if we start adding wishes, some of them might shift out of the scope of NER.\n",
    "Say, phrases that indicate resulting actions might be interesting.\n",
    "\n",
    "Sure, terms like \"strafbaar feit\", \"ongegrond verklaard\", \"onherroepelijke beslissing\", \"bestuurlijke autoriteit\",\n",
    "\"onherroepelijke beslissing van een bestuurlijke autoriteit\", but unless you can think of a clear, exclusive category name for them,\n",
    "maybe they're not NER in the classical sense. \n",
    "You might be able to abuse NER models for this, but it might take more wrangling.\n",
    "\n",
    "And then there are a lot of variations - do you also want \"feit dat wordt bestraft als vergrijp\"?\n",
    "If so, then you need to train for that too."
   ]
  },
  {
   "cell_type": "markdown",
   "metadata": {},
   "source": [
    "## TEST"
   ]
  },
  {
   "cell_type": "markdown",
   "metadata": {},
   "source": [
    "<!--\n",
    "\n",
    "wetnamen = set()\n",
    "for id, (namen1, namen2) in wetsuite.datasets.load('wetnamen').data.items():\n",
    "    for name in namen1+namen2:\n",
    "        name = name.strip(' -')#.lower()\n",
    "        # turns out a 4MByte regexp isn't very fast, so we take out the very long stuff. TODO: do all this in the generation of that list.\n",
    "        if len(name)>2  and len(name) < 50:\n",
    "            wetnamen.add(name)\n",
    "\n",
    "#random.sample( wetnamen, 30 )\n",
    "\n",
    "\n",
    "import re\n",
    "count = 0\n",
    "frag_with_wetnaam = []\n",
    "\n",
    "print('PRE')\n",
    "nn = sorted( list( re.escape(naam)  for naam in wetnamen ), key=lambda s:len(s), reverse=True )\n",
    "\n",
    "_re_str = r'\\b(%s)\\b'%( '|'.join( nn ) ) # this is a monster of a regexp\n",
    "print( len(_re_str) )\n",
    "_re_namen = re.compile( _re_str)#, flags=re.I )\n",
    "\n",
    "\n",
    "import wetsuite.helpers.spacy\n",
    "# This is a rather inefficient ways to do it.\n",
    "print('PROC')\n",
    "#for id, cvdr_xmlbytes in wetsuite.helpers.notebook.ProgressBar( wetsuite.datasets.load('cvdr-mostrecent-xml').data.random_sample(1000) ):\n",
    "    #for fragment in wetsuite.helpers.split.feeling_lucky( cvdr_xmlbytes ): # we use split to place the quote within a paragraph-or-so.\n",
    "for id, cvdr_txt in wetsuite.helpers.notebook.ProgressBar( wetsuite.datasets.load('cvdr-mostrecent-text').data.random_sample(100) ):\n",
    "    for fragment in wetsuite.helpers.spacy.sentence_split(cvdr_txt, as_plain_sents=True):\n",
    "    #for fragment in re.split('\\n{2,}', cvdr_txt):\n",
    "        for m in re.finditer(_re_namen, fragment):\n",
    "            #print(id, m.groups()[0])\n",
    "            frag_with_wetnaam.append( (fragment, m.start(), m.end()) )\n",
    "            # TODO: move all matches in a fragment into one list; spacy want it that way\n",
    "\n",
    "count\n",
    "#frag_with_wetnaam\n",
    "\n",
    "\n",
    "\n",
    "for fragment, start, end in frag_with_wetnaam:#random.sample( frag_with_wetnaam, 1 ):\n",
    "    print( fragment[:start], '[' , fragment[start:end], ']', fragment[end:] )\n",
    "    print('-----')\n",
    "    \n",
    "-->"
   ]
  },
  {
   "cell_type": "markdown",
   "metadata": {},
   "source": [
    "<!--\n",
    "\n",
    "It's easy to be self congratulatory, \n",
    "we can't strongly verify, or quantify, the performance\n",
    "with the same things we fed in to train it. \n",
    "Of course it's going to find most of those.\n",
    "\n",
    "When we give it a list we don't care about that list - it better be good at that.\n",
    "\n",
    "We care about all the things you didn't tell it about, but we figure are relevant.\n",
    "Maybe it's better at those. Maybe it's worse. You wouldn't easily know.\n",
    "\n",
    "This is a classical issue in machine learning of any type.\n",
    "\n",
    "The classical solution is to split the data you fed in into a training part, and testing part.\n",
    "You only use a good portion to try to , and you use the rest to prove that's true.\n",
    "\n",
    "https://towardsdatascience.com/train-ner-with-custom-training-data-using-spacy-525ce748fab7\n",
    "\n",
    "https://spacy.io/usage/training\n",
    "\n",
    "-->"
   ]
  }
 ],
 "metadata": {
  "kernelspec": {
   "display_name": "Python 3",
   "language": "python",
   "name": "python3"
  },
  "language_info": {
   "codemirror_mode": {
    "name": "ipython",
    "version": 3
   },
   "file_extension": ".py",
   "mimetype": "text/x-python",
   "name": "python",
   "nbconvert_exporter": "python",
   "pygments_lexer": "ipython3",
   "version": "3.8.10"
  },
  "vscode": {
   "interpreter": {
    "hash": "31f2aee4e71d21fbe5cf8b01ff0e069b9275f58929596ceb00d14d90e3e16cd6"
   }
  }
 },
 "nbformat": 4,
 "nbformat_minor": 4
}
