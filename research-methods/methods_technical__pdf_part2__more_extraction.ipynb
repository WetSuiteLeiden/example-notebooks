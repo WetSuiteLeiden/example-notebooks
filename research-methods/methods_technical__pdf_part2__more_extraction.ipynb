{
 "cells": [
  {
   "cell_type": "markdown",
   "metadata": {},
   "source": [
    "<a href=\"https://colab.research.google.com/github/WetsuiteLeiden/example-notebooks/blob/main/research-methods/methods_technical__pdf_part2__more_extraction.ipynb\" target=\"_parent\"><img src=\"https://colab.research.google.com/assets/colab-badge.svg\" alt=\"Open In Colab\"/></a>"
   ]
  },
  {
   "cell_type": "code",
   "execution_count": null,
   "metadata": {},
   "outputs": [],
   "source": [
    "# (only) in colab, run this first to install wetsuite from (the most recent) source.   For your own setup, see wetsuite's install guidelines.\n",
    "!pip3 install wetsuite -U"
   ]
  },
  {
   "attachments": {},
   "cell_type": "markdown",
   "metadata": {
    "id": "khZ8mI-weajL"
   },
   "source": [
    "## Purpose of this notebook\n"
   ]
  },
  {
   "cell_type": "markdown",
   "metadata": {},
   "source": [
    "## When you want to put more work into PDF\n",
    "\n",
    "### More work into checking PDFs\n",
    "\n",
    "\n"
   ]
  },
  {
   "cell_type": "code",
   "execution_count": null,
   "metadata": {},
   "outputs": [],
   "source": [
    "import html\n",
    "import pprint\n",
    "\n",
    "import fitz\n",
    "import bs4\n",
    "from IPython.display import HTML\n",
    "\n",
    "import wetsuite.helpers.net\n",
    "import wetsuite.helpers.localdata\n",
    "import wetsuite.extras.pdf"
   ]
  },
  {
   "cell_type": "code",
   "execution_count": 3,
   "metadata": {},
   "outputs": [
    {
     "name": "stdout",
     "output_type": "stream",
     "text": [
      "There IS variation in page sizes\n",
      "page 0 sized ('Letter', 'portrait') with 2294 characters\n",
      "page 1 sized ('Letter', 'portrait') with 3519 characters\n",
      "page 2 sized ('Letter', 'portrait') with 214 characters\n",
      "page 3 sized ('Letter', 'portrait') with 2158 characters\n",
      "page 4 sized ('Letter', 'portrait') with 3640 characters\n",
      "page 5 sized ('Letter', 'portrait') with 1542 characters\n",
      "page 6 sized ('A4', 'landscape') with 600 characters\n",
      "page 7 sized ('A4', 'landscape') with 1036 characters\n",
      "page 8 sized ('A4', 'landscape') with 711 characters\n",
      "page 9 sized ('A4', 'landscape') with 2087 characters\n",
      "page 10 sized ('A4', 'landscape') with 1829 characters\n",
      "page 11 sized ('A4', 'landscape') with 535 characters\n",
      "page 12 sized ('A4', 'landscape') with 969 characters\n",
      "page 13 sized ('A4', 'landscape') with 502 characters\n",
      "page 14 sized ('A4', 'landscape') with 471 characters\n",
      "page 15 sized ('A4', 'landscape') with 2119 characters\n",
      "page 16 sized ('A4', 'landscape') with 200 characters\n",
      "page 17 sized ('Letter', 'portrait') with 1587 characters\n",
      "page 18 sized ('Letter', 'portrait') with 1651 characters\n",
      "page 19 sized ('Letter', 'portrait') with 1751 characters\n",
      "page 20 sized ('Letter', 'portrait') with 3012 characters\n",
      "page 21 sized ('Letter', 'portrait') with 1032 characters\n",
      "page 22 sized ('Letter', 'portrait') with 1965 characters\n",
      "page 23 sized ('Letter', 'portrait') with 1429 characters\n",
      "page 24 sized ('Letter', 'portrait') with 1457 characters\n",
      "page 25 sized ('Letter', 'portrait') with 964 characters\n",
      "page 26 sized ('Letter', 'portrait') with 1417 characters\n",
      "page 27 sized ('Letter', 'portrait') with 1584 characters\n",
      "page 28 sized ('Letter', 'portrait') with 1068 characters\n",
      "page 29 sized ('Letter', 'portrait') with 1457 characters\n",
      "page 30 sized ('Letter', 'portrait') with 1693 characters\n",
      "page 31 sized ('Letter', 'portrait') with 1801 characters\n",
      "page 32 sized ('Letter', 'portrait') with 1289 characters\n",
      "page 33 sized ('Letter', 'portrait') with 2376 characters\n",
      "page 34 sized ('Letter', 'portrait') with 4184 characters\n",
      "page 35 sized ('Letter', 'portrait') with 1543 characters\n",
      "page 36 sized ('Letter', 'portrait') with 1280 characters\n",
      "page 37 sized ('Letter', 'portrait') with 2601 characters\n",
      "page 38 sized ('Letter', 'portrait') with 108 characters\n"
     ]
    }
   ],
   "source": [
    "# You can sometimes do a good estimation of whether a PDF is concatenated pieces from specific variation,\n",
    "# e.g. the page size and orientation: \n",
    "example_pdf_bytes = wetsuite.helpers.net.download('https://open.overheid.nl/documenten/dea3e2bb-4792-4e92-8cc3-61214e81a2fc/file')\n",
    "\n",
    "with fitz.open( stream=example_pdf_bytes, filetype=\"pdf\") as document:\n",
    "    if wetsuite.extras.pdf.do_page_sizes_vary( document)[0]:\n",
    "        print( \"There IS variation in page sizes\")\n",
    "    else:\n",
    "        print( \"NO variation in page sizes\")\n",
    "    \n",
    "    for pagenum, page in enumerate(document):\n",
    "        print( \"page %d sized %s with %d characters\"%(\n",
    "            pagenum, \n",
    "             wetsuite.extras.pdf.closest_paper_size_name(page.cropbox)[0:2],\n",
    "            len(page.get_text().strip()),\n",
    ") )"
   ]
  },
  {
   "cell_type": "markdown",
   "metadata": {},
   "source": [
    "### Putting more work into text extraction\n",
    "\n",
    "The underlying the library we're leveraging for PDFs, `pymupdf`,\n",
    "is willing to give you differently-processed views on page data.\n",
    "We can use this to our advantage.\n",
    "\n",
    "<!-- -->\n",
    "\n",
    "[As its documentation mentions](https://pymupdf.readthedocs.io/en/latest/app1.html), in the way it views extraction, it has some concepts like:\n",
    "- _page_ - largely consists of blocks (that tend to be roughly paragraphs)\n",
    "- _block_ - consists of either lines and their characters, or an image or such\n",
    "- _line_ - consists of spans.\n",
    "- _span_ - adjacent characters with identical font properties (name, size, flags, color)\n",
    "\n",
    "\n",
    "Different extraction functions/parameters give you\n",
    "- relatively raw data (down to characters),\n",
    "- said blocks,\n",
    "- or output that did a little more creative decisionmaking into a document-like structure"
   ]
  },
  {
   "cell_type": "markdown",
   "metadata": {},
   "source": [
    "If you just care about the words it contains, most of those will do,\n",
    "and 'text' (the default) is simplest because it just flattens everything into one string.\n",
    "\n",
    "If on the other hand you want \n",
    "- natural reading order\n",
    "- flowing text \n",
    "  - not broken up by \n",
    "    - headers and footers, \n",
    "    - page breaks,\n",
    "  - split into paragraphs,\n",
    "- tables and images,\n",
    "- estimating which parts are headers and which parts of the text fall under which headers\n",
    "\n",
    "...then you may need to go down to a moderately raw forms to control what it really does.\n",
    "Try uncommenting each of the get_text lines in the code block below\n",
    "to see what each gives you, [and the documentation for that functionality](https://pymupdf.readthedocs.io/en/latest/textpage.html) for a litle more explanation."
   ]
  },
  {
   "cell_type": "code",
   "execution_count": 26,
   "metadata": {},
   "outputs": [],
   "source": [
    "example_pdf_bytes = wetsuite.helpers.net.download('https://zoek.officielebekendmakingen.nl/wsb-2022-9718.pdf') # simple, ~one page"
   ]
  },
  {
   "cell_type": "code",
   "execution_count": null,
   "metadata": {},
   "outputs": [
    {
     "data": {
      "text/html": [
       "<h1>blocks</h1>"
      ],
      "text/plain": [
       "<IPython.core.display.HTML object>"
      ]
     },
     "metadata": {},
     "output_type": "display_data"
    },
    {
     "data": {
      "text/plain": [
       "(119.05500030517578,\n",
       " 109.42204284667969,\n",
       " 556.0970458984375,\n",
       " 157.27801513671875,\n",
       " 'Scheepvaartvergunning voor het overschrijden van de op de Mark en Dintel \\n(riviervakken VI en VII)) op traject vanaf de Mandersluis - Stampersgat (Suiker \\nUnie) en retour ter plaatse toegestane afmetingen van een schip. \\n',\n",
       " 0,\n",
       " 0)"
      ]
     },
     "metadata": {},
     "output_type": "display_data"
    },
    {
     "data": {
      "text/plain": [
       "(119.05500030517578,\n",
       " 166.2091827392578,\n",
       " 555.284912109375,\n",
       " 208.31101989746094,\n",
       " 'Besluitnummer 560746 ingevolge de Scheepvaartverkeerswet bekend gemaakt op 23 augustus 2022 \\nvoor het overschrijden van de op de Mark en Dintel (riviervakken VI en VII) ter plaatse toegestane afme- \\ntingen, met het motorbeunschip \"Klazina\" met scheepsnummer 02300591 tussen 1 september 2022 en \\n30 januari 2023. \\n',\n",
       " 1,\n",
       " 0)"
      ]
     },
     "metadata": {},
     "output_type": "display_data"
    },
    {
     "data": {
      "text/plain": [
       "(119.05500030517578,\n",
       " 217.8852081298828,\n",
       " 124.09235382080078,\n",
       " 228.7300262451172,\n",
       " '  \\n',\n",
       " 2,\n",
       " 0)"
      ]
     },
     "metadata": {},
     "output_type": "display_data"
    },
    {
     "data": {
      "text/plain": [
       "(119.05500030517578,\n",
       " 238.4037628173828,\n",
       " 353.51007080078125,\n",
       " 249.1670379638672,\n",
       " 'Bezwaarmogelijkheden met betrekking tot het besluit \\n',\n",
       " 3,\n",
       " 0)"
      ]
     },
     "metadata": {},
     "output_type": "display_data"
    },
    {
     "data": {
      "text/plain": [
       "(119.05500030517578,\n",
       " 258.795166015625,\n",
       " 555.2759399414062,\n",
       " 321.73504638671875,\n",
       " 'Op grond van de Algemene wet bestuursrecht (Awb) kunnen belanghebbenden tegen dit besluit een \\nbezwaarschrift indienen. De termijn voor het indienen van een bezwaarschrift is 6 weken, ingaande op \\n24 augustus 2022. Het bezwaarschrift moet gericht zijn aan het dagelijks bestuur van waterschap Bra- \\nbantse Delta, Postbus 5520, 4801 DZ te Breda. U dient op de envelop het woord ‘bezwaarschrift’ te \\nvermelden. Wij verzoeken u om in het bezwaarschrift ook uw telefoonnummer en e-mailadres te ver- \\nmelden. Het bezwaarschrift moet de volgende inhoud hebben: \\n',\n",
       " 4,\n",
       " 0)"
      ]
     },
     "metadata": {},
     "output_type": "display_data"
    },
    {
     "data": {
      "text/plain": [
       "(119.05500030517578,\n",
       " 331.3091735839844,\n",
       " 249.29373168945312,\n",
       " 342.3800354003906,\n",
       " '1. \\nnaam en adres indiener; \\n',\n",
       " 5,\n",
       " 0)"
      ]
     },
     "metadata": {},
     "output_type": "display_data"
    },
    {
     "data": {
      "text/plain": [
       "(119.05500030517578,\n",
       " 342.18017578125,\n",
       " 201.12936401367188,\n",
       " 353.25103759765625,\n",
       " '2. \\ndagtekening; \\n',\n",
       " 6,\n",
       " 0)"
      ]
     },
     "metadata": {},
     "output_type": "display_data"
    },
    {
     "data": {
      "text/plain": [
       "(119.05500030517578,\n",
       " 353.0511779785156,\n",
       " 284.0110778808594,\n",
       " 364.1220397949219,\n",
       " '3. \\nhet nummer van de vergunning; \\n',\n",
       " 7,\n",
       " 0)"
      ]
     },
     "metadata": {},
     "output_type": "display_data"
    },
    {
     "data": {
      "text/plain": [
       "(119.05500030517578,\n",
       " 363.92218017578125,\n",
       " 414.9588317871094,\n",
       " 374.9930419921875,\n",
       " '4. \\nde reden(en) waarom u zich niet met het besluit kan verenigen; \\n',\n",
       " 8,\n",
       " 0)"
      ]
     },
     "metadata": {},
     "output_type": "display_data"
    },
    {
     "data": {
      "text/plain": [
       "(119.05500030517578,\n",
       " 374.7931823730469,\n",
       " 243.92835998535156,\n",
       " 385.8640441894531,\n",
       " '5. \\nhandtekening indiener. \\n',\n",
       " 9,\n",
       " 0)"
      ]
     },
     "metadata": {},
     "output_type": "display_data"
    },
    {
     "data": {
      "text/html": [
       "<h1>html</h1>"
      ],
      "text/plain": [
       "<IPython.core.display.HTML object>"
      ]
     },
     "metadata": {},
     "output_type": "display_data"
    },
    {
     "data": {
      "text/plain": [
       "'HTML'"
      ]
     },
     "metadata": {},
     "output_type": "display_data"
    },
    {
     "data": {
      "text/html": [
       "<pre>&lt;div id=&quot;page0&quot; style=&quot;width:595.3pt;height:841.9pt&quot;&gt;<br/>&lt;p style=&quot;top:111.1pt;left:119.1pt;line-height:12.0pt&quot;&gt;&lt;b&gt;&lt;span style=&quot;font-family:UniversLT,serif;font-size:12.0pt&quot;&gt;Scheepvaartvergunning voor het overschrijden van de op de Mark en Dintel &lt;/span&gt;&lt;/b&gt;&lt;/p&gt;<br/>&lt;p style=&quot;top:127.9pt;left:119.1pt;line-height:12.0pt&quot;&gt;&lt;b&gt;&lt;span style=&quot;font-family:UniversLT,serif;font-size:12.0pt&quot;&gt;(riviervakken VI en VII)) op traject vanaf de Mandersluis - Stampersgat (Suiker &lt;/span&gt;&lt;/b&gt;&lt;/p&gt;<br/>&lt;p style=&quot;top:144.7pt;left:119.1pt;line-height:12.0pt&quot;&gt;&lt;b&gt;&lt;span style=&quot;font-family:UniversLT,serif;font-size:12.0pt&quot;&gt;Unie) en retour ter plaatse toegestane afmetingen van een schip. &lt;/span&gt;&lt;/b&gt;&lt;/p&gt;<br/>&lt;p style=&quot;top:167.5pt;left:119.1pt;line-height:9.1pt&quot;&gt;&lt;span style=&quot;font-family:UniversLT,serif;font-size:9.1pt&quot;&gt;Besluitnummer 560746 ingevolge de Scheepvaartverkeerswet bekend gemaakt op 23 augustus 2022 &lt;/span&gt;&lt;/p&gt;<br/>&lt;p style=&quot;top:178.0pt;left:119.1pt;line-height:9.1pt&quot;&gt;&lt;span style=&quot;font-family:UniversLT,serif;font-size:9.1pt&quot;&gt;voor het overschrijden van de op de Mark en Dintel (riviervakken VI en VII) ter plaatse toegestane afme- &lt;/span&gt;&lt;/p&gt;<br/>&lt;p style=&quot;top:188.4pt;left:119.1pt;line-height:9.1pt&quot;&gt;&lt;span style=&quot;font-family:UniversLT,serif;font-size:9.1pt&quot;&gt;tingen, met het motorbeunschip &amp;quot;Klazina&amp;quot; met scheepsnummer 02300591 tussen 1 september 2022 en &lt;/span&gt;&lt;/p&gt;<br/>&lt;p style=&quot;top:198.8pt;left:119.1pt;line-height:9.1pt&quot;&gt;&lt;span style=&quot;font-family:UniversLT,serif;font-size:9.1pt&quot;&gt;30 januari 2023. &lt;/span&gt;&lt;/p&gt;<br/>&lt;p style=&quot;top:219.2pt;left:119.1pt;line-height:9.1pt&quot;&gt;&lt;span style=&quot;font-family:UniversLT,serif;font-size:9.1pt&quot;&gt;  &lt;/span&gt;&lt;/p&gt;<br/>&lt;p style=&quot;top:239.7pt;left:119.1pt;line-height:9.1pt&quot;&gt;&lt;b&gt;&lt;span style=&quot;font-family:UniversLT,serif;font-size:9.1pt&quot;&gt;Bezwaarmogelijkheden met betrekking tot het besluit &lt;/span&gt;&lt;/b&gt;&lt;/p&gt;<br/>&lt;p style=&quot;top:260.1pt;left:119.1pt;line-height:9.1pt&quot;&gt;&lt;span style=&quot;font-family:UniversLT,serif;font-size:9.1pt&quot;&gt;Op grond van de Algemene wet bestuursrecht (Awb) kunnen belanghebbenden tegen dit besluit een &lt;/span&gt;&lt;/p&gt;<br/>&lt;p style=&quot;top:270.5pt;left:119.1pt;line-height:9.1pt&quot;&gt;&lt;span style=&quot;font-family:UniversLT,serif;font-size:9.1pt&quot;&gt;bezwaarschrift indienen. De termijn voor het indienen van een bezwaarschrift is 6 weken, ingaande op &lt;/span&gt;&lt;/p&gt;<br/>&lt;p style=&quot;top:281.0pt;left:119.1pt;line-height:9.1pt&quot;&gt;&lt;span style=&quot;font-family:UniversLT,serif;font-size:9.1pt&quot;&gt;24 augustus 2022. Het bezwaarschrift moet gericht zijn aan het dagelijks bestuur van waterschap Bra- &lt;/span&gt;&lt;/p&gt;<br/>&lt;p style=&quot;top:291.4pt;left:119.1pt;line-height:9.1pt&quot;&gt;&lt;span style=&quot;font-family:UniversLT,serif;font-size:9.1pt&quot;&gt;bantse Delta, Postbus 5520, 4801 DZ te Breda. U dient op de envelop het woord &amp;#x2018;bezwaarschrift&amp;#x2019; te &lt;/span&gt;&lt;/p&gt;<br/>&lt;p style=&quot;top:301.8pt;left:119.1pt;line-height:9.1pt&quot;&gt;&lt;span style=&quot;font-family:UniversLT,serif;font-size:9.1pt&quot;&gt;vermelden. Wij verzoeken u om in het bezwaarschrift ook uw telefoonnummer en e-mailadres te ver- &lt;/span&gt;&lt;/p&gt;<br/>&lt;p style=&quot;top:312.2pt;left:119.1pt;line-height:9.1pt&quot;&gt;&lt;span style=&quot;font-family:UniversLT,serif;font-size:9.1pt&quot;&gt;melden. Het bezwaarschrift moet de volgende inhoud hebben: &lt;/span&gt;&lt;/p&gt;<br/>&lt;p style=&quot;top:332.9pt;left:119.1pt;line-height:9.1pt&quot;&gt;&lt;span style=&quot;font-family:UniversLT,serif;font-size:9.1pt&quot;&gt;1. &lt;/span&gt;&lt;/p&gt;<br/>&lt;p style=&quot;top:332.6pt;left:143.1pt;line-height:9.1pt&quot;&gt;&lt;span style=&quot;font-family:UniversLT,serif;font-size:9.1pt&quot;&gt;naam en adres indiener; &lt;/span&gt;&lt;/p&gt;<br/>&lt;p style=&quot;top:343.7pt;left:119.1pt;line-height:9.1pt&quot;&gt;&lt;span style=&quot;font-family:UniversLT,serif;font-size:9.1pt&quot;&gt;2. &lt;/span&gt;&lt;/p&gt;<br/>&lt;p style=&quot;top:343.5pt;left:143.1pt;line-height:9.1pt&quot;&gt;&lt;span style=&quot;font-family:UniversLT,serif;font-size:9.1pt&quot;&gt;dagtekening; &lt;/span&gt;&lt;/p&gt;<br/>&lt;p style=&quot;top:354.6pt;left:119.1pt;line-height:9.1pt&quot;&gt;&lt;span style=&quot;font-family:UniversLT,serif;font-size:9.1pt&quot;&gt;3. &lt;/span&gt;&lt;/p&gt;<br/>&lt;p style=&quot;top:354.4pt;left:143.1pt;line-height:9.1pt&quot;&gt;&lt;span style=&quot;font-family:UniversLT,serif;font-size:9.1pt&quot;&gt;het nummer van de vergunning; &lt</pre>"
      ],
      "text/plain": [
       "<IPython.core.display.HTML object>"
      ]
     },
     "metadata": {},
     "output_type": "display_data"
    },
    {
     "data": {
      "text/html": [
       "<h1>dict</h1>"
      ],
      "text/plain": [
       "<IPython.core.display.HTML object>"
      ]
     },
     "metadata": {},
     "output_type": "display_data"
    },
    {
     "data": {
      "text/plain": [
       "{'number': 0,\n",
       " 'type': 0,\n",
       " 'bbox': (119.05500030517578,\n",
       "  109.42204284667969,\n",
       "  556.0970458984375,\n",
       "  157.27801513671875),\n",
       " 'lines': [{'spans': [{'size': 12.0,\n",
       "     'flags': 20,\n",
       "     'font': 'UniversLT-Bold',\n",
       "     'color': 0,\n",
       "     'ascender': 0.9380000233650208,\n",
       "     'descender': -0.25,\n",
       "     'text': 'Scheepvaartvergunning voor het overschrijden van de op de Mark en Dintel ',\n",
       "     'origin': (119.05500030517578, 120.67803955078125),\n",
       "     'bbox': (119.05500030517578,\n",
       "      109.42204284667969,\n",
       "      551.04296875,\n",
       "      123.67803955078125)}],\n",
       "   'wmode': 0,\n",
       "   'dir': (1.0, 0.0),\n",
       "   'bbox': (119.05500030517578,\n",
       "    109.42204284667969,\n",
       "    551.04296875,\n",
       "    123.67803955078125)},\n",
       "  {'spans': [{'size': 12.0,\n",
       "     'flags': 20,\n",
       "     'font': 'UniversLT-Bold',\n",
       "     'color': 0,\n",
       "     'ascender': 0.9380000233650208,\n",
       "     'descender': -0.25,\n",
       "     'text': '(riviervakken VI en VII)) op traject vanaf de Mandersluis - Stampersgat (Suiker ',\n",
       "     'origin': (119.05500030517578, 137.47802734375),\n",
       "     'bbox': (119.05500030517578,\n",
       "      126.22203063964844,\n",
       "      556.0970458984375,\n",
       "      140.47802734375)}],\n",
       "   'wmode': 0,\n",
       "   'dir': (1.0, 0.0),\n",
       "   'bbox': (119.05500030517578,\n",
       "    126.22203063964844,\n",
       "    556.0970458984375,\n",
       "    140.47802734375)},\n",
       "  {'spans': [{'size': 12.0,\n",
       "     'flags': 20,\n",
       "     'font': 'UniversLT-Bold',\n",
       "     'color': 0,\n",
       "     'ascender': 0.9380000233650208,\n",
       "     'descender': -0.25,\n",
       "     'text': 'Unie) en retour ter plaatse toegestane afmetingen van een schip. ',\n",
       "     'origin': (119.05500030517578, 154.27801513671875),\n",
       "     'bbox': (119.05500030517578,\n",
       "      143.0220184326172,\n",
       "      491.5589904785156,\n",
       "      157.27801513671875)}],\n",
       "   'wmode': 0,\n",
       "   'dir': (1.0, 0.0),\n",
       "   'bbox': (119.05500030517578,\n",
       "    143.0220184326172,\n",
       "    491.5589904785156,\n",
       "    157.27801513671875)}]}"
      ]
     },
     "metadata": {},
     "output_type": "display_data"
    },
    {
     "data": {
      "text/plain": [
       "{'number': 1,\n",
       " 'type': 0,\n",
       " 'bbox': (119.05500030517578,\n",
       "  166.2091827392578,\n",
       "  555.284912109375,\n",
       "  208.31101989746094),\n",
       " 'lines': [{'spans': [{'size': 9.0600004196167,\n",
       "     'flags': 4,\n",
       "     'font': 'UniversLT',\n",
       "     'color': 0,\n",
       "     'ascender': 0.9470000267028809,\n",
       "     'descender': -0.25,\n",
       "     'text': 'Besluitnummer 560746 ingevolge de Scheepvaartverkeerswet bekend gemaakt op 23 augustus 2022 ',\n",
       "     'origin': (119.05500030517578, 174.78900146484375),\n",
       "     'bbox': (119.05500030517578,\n",
       "      166.2091827392578,\n",
       "      548.5830688476562,\n",
       "      177.0540008544922)}],\n",
       "   'wmode': 0,\n",
       "   'dir': (1.0, 0.0),\n",
       "   'bbox': (119.05500030517578,\n",
       "    166.2091827392578,\n",
       "    548.5830688476562,\n",
       "    177.0540008544922)},\n",
       "  {'spans': [{'size': 9.0600004196167,\n",
       "     'flags': 4,\n",
       "     'font': 'UniversLT',\n",
       "     'color': 0,\n",
       "     'ascender': 0.9470000267028809,\n",
       "     'descender': -0.25,\n",
       "     'text': 'voor het overschrijden van de op de Mark en Dintel (riviervakken VI en VII) ter plaatse toegestane afme- ',\n",
       "     'origin': (119.05500030517578, 185.2080078125),\n",
       "     'bbox': (119.05500030517578,\n",
       "      176.62818908691406,\n",
       "      555.284912109375,\n",
       "      187.47300720214844)}],\n",
       "   'wmode': 0,\n",
       "   'dir': (1.0, 0.0),\n",
       "   'bbox': (119.05500030517578,\n",
       "    176.62818908691406,\n",
       "    555.284912109375,\n",
       "    187.47300720214844)},\n",
       "  {'spans': [{'size': 9.0600004196167,\n",
       "     'flags': 4,\n",
       "     'font': 'UniversLT',\n",
       "     'color': 0,\n",
       "     'ascender': 0.9470000267028809,\n",
       "     'descender': -0.25,\n",
       "     'text': 'tingen, met het motorbeunschip \"Klazina\" met scheepsnummer 02300591 tussen 1 september 2022 en ',\n",
       "     'origin': (119.05500030517578, 195.62701416015625),\n",
       "     'bbox': (119.05500030517578,\n",
       "      187.0471954345703,\n",
       "      555.2807006835938,\n",
       "      197.8920135498047)}],\n",
       "   'wmode': 0,\n",
       "   'dir': (1.0, 0.0),\n",
       "   'bbox': (119.05500030517578,\n",
       "    187.0471954345703,\n",
       "    555.2807006835938,\n",
       "    197.8920135498047)},\n",
       "  {'spans': [{'size': 9.0600004196167,\n",
       "     'flags': 4,\n",
       "     'font': 'UniversLT',\n",
       "     'color': 0,\n",
       "     'ascender': 0.9470000267028809,\n",
       "     'descender': -0.25,\n",
       "     'text': '30 januari 2023. ',\n",
       "     'origin': (119.05500030517578, 206.0460205078125),\n",
       "     'bbox': (119.05500030517578,\n",
       "      197.46620178222656,\n",
       "      189.061767578125,\n",
       "      208.31101989746094)}],\n",
       "   'wmode': 0,\n",
       "   'dir': (1.0, 0.0),\n",
       "   'bbox': (119.05500030517578,\n",
       "    197.46620178222656,\n",
       "    189.061767578125,\n",
       "    208.31101989746094)}]}"
      ]
     },
     "metadata": {},
     "output_type": "display_data"
    },
    {
     "data": {
      "text/plain": [
       "{'number': 2,\n",
       " 'type': 0,\n",
       " 'bbox': (119.05500030517578,\n",
       "  217.8852081298828,\n",
       "  124.09235382080078,\n",
       "  228.7300262451172),\n",
       " 'lines': [{'spans': [{'size': 9.0600004196167,\n",
       "     'flags': 4,\n",
       "     'font': 'UniversLT',\n",
       "     'color': 0,\n",
       "     'ascender': 0.9470000267028809,\n",
       "     'descender': -0.25,\n",
       "     'text': '  ',\n",
       "     'origin': (119.05500030517578, 226.46502685546875),\n",
       "     'bbox': (119.05500030517578,\n",
       "      217.8852081298828,\n",
       "      124.09235382080078,\n",
       "      228.7300262451172)}],\n",
       "   'wmode': 0,\n",
       "   'dir': (1.0, 0.0),\n",
       "   'bbox': (119.05500030517578,\n",
       "    217.8852081298828,\n",
       "    124.09235382080078,\n",
       "    228.7300262451172)}]}"
      ]
     },
     "metadata": {},
     "output_type": "display_data"
    },
    {
     "data": {
      "text/html": [
       "<h1>text</h1>"
      ],
      "text/plain": [
       "<IPython.core.display.HTML object>"
      ]
     },
     "metadata": {},
     "output_type": "display_data"
    },
    {
     "data": {
      "text/plain": [
       "'HTML'"
      ]
     },
     "metadata": {},
     "output_type": "display_data"
    },
    {
     "data": {
      "text/html": [
       "<pre>Scheepvaartvergunning voor het overschrijden van de op de Mark en Dintel <br/>(riviervakken VI en VII)) op traject vanaf de Mandersluis - Stampersgat (Suiker <br/>Unie) en retour ter plaatse toegestane afmetingen van een schip. <br/>Besluitnummer 560746 ingevolge de Scheepvaartverkeerswet bekend gemaakt op 23 augustus 2022 <br/>voor het overschrijden van de op de Mark en Dintel (riviervakken VI en VII) ter plaatse toegestane afme- <br/>tingen, met het motorbeunschip &quot;Klazina&quot; met scheepsnummer 02300591 tussen 1 september 2022 en <br/>30 januari 2023. <br/>  <br/>Bezwaarmogelijkheden met betrekking tot het besluit <br/>Op grond van de Algemene wet bestuursrecht (Awb) kunnen belanghebbenden tegen dit besluit een <br/>bezwaarschrift indienen. De termijn voor het indienen van een bezwaarschrift is 6 weken, ingaande op <br/>24 augustus 2022. Het bezwaarschrift moet gericht zijn aan het dagelijks bestuur van waterschap Bra- <br/>bantse Delta, Postbus 5520, 4801 DZ te Breda. U dient op de envelop het woord ‘bezwaarschrift’ te <br/>vermelden. Wij verzoeken u om in het bezwaarschrift ook uw telefoonnummer en e-mailadres te ver- <br/>melden. Het bezwaarschrift moet de volgende inhoud hebben: <br/>1. <br/>naam en adres indiener; <br/>2. <br/>dagtekening; <br/>3. <br/>het nummer van de vergunning; <br/>4. <br/>de reden(en) waarom u zich niet met het besluit kan verenigen; <br/>5. <br/>handtekening indiener. <br/>Een verzoek aan het dagelijks bestuur, overeenkomstig artikel 7:15 Awb tot vergoeding van de kosten <br/>die belanghebbenden redelijkerwijs moeten maken in verband met de behandeling van het bezwaar, <br/>moet worden gedaan voordat door het dagelijks bestuur op het bezwaar is beslist. <br/>  <br/>Is bezwaar de juiste aanpak voor uw probleem?  <br/>De ervaring leert dat een bezwaarschriftprocedure vaak niet aansluit bij hetgeen u als belanghebbende <br/>met het bezwaar wilt bereiken. Als u zich afvraagt of het voor u zinvol is om een bezwaarprocedure te <br/>starten, kunnen de volgende vragen en aandachtspunten behulpzaam zijn bij het maken van uw afweging: <br/>1. <br/>Is het u voldoende duidelijk wat een bezwaarprocedure inhoudt? <br/>2. <br/>Is de inhoud van het besluit duidelijk voor u en wat het concreet voor u betekent? Of heeft u be- <br/>hoefte aan toelichting? <br/>3. <br/>Kloppen de gegevens over u in het besluit en heeft u alle gegevens verstrekt? <br/>4. <br/>Vindt u dat de wijze waarop bij de besluitvorming met u of uw belangen is omgegaan niet correct <br/>is? Zo ja, wat wilt u hiermee doen? <br/>5. <br/>Kunt u beoordelen of het besluit inhoudelijk juist is of niet? Of heeft u daarvoor meer informatie <br/>nodig? <br/>6. <br/>Als u het besluit onjuist vindt, wat zijn dan uw argumenten? <br/>7. <br/>Welk doel wilt u met uw bezwaar tegen het besluit bereiken? Wat verwacht u van het waterschap? <br/>8. <br/>Weet u of u met uw bezwaar dit doel ook kunt bereiken? <br/>Indien u naar aanleiding van bovenstaande nog vragen heeft, kunt u contact opnemen met de behan- <br/>delend ambtenaar van het waterschap die in het briefhoofd vermeld is. Ook indien u van plan bent om <br/>een bezwaarschrift in te dienen verzoeken wij u om contact op te nemen met het waterschap om te <br/>verkennen of het indienen van een bezwaar voor u de geschikte aanpak is. <br/>  <br/>Voorlopige voorziening <br/>Nr. 9718 <br/>WATERSCHAPSBLAD <br/>25 augustus <br/>2022 <br/>Officiële uitgave van het dagelijks bestuur van het Waterschap Brabantse Delta <br/>Waterschapsblad 2022 nr. 9718<br/>25 augustus 2022 <br/>1 <br/></pre>"
      ],
      "text/plain": [
       "<IPython.core.display.HTML object>"
      ]
     },
     "metadata": {},
     "output_type": "display_data"
    },
    {
     "data": {
      "text/html": [
       "<h1>xhtml</h1>"
      ],
      "text/plain": [
       "<IPython.core.display.HTML object>"
      ]
     },
     "metadata": {},
     "output_type": "display_data"
    },
    {
     "data": {
      "text/plain": [
       "'HTML'"
      ]
     },
     "metadata": {},
     "output_type": "display_data"
    },
    {
     "data": {
      "text/html": [
       "<pre>&lt;div id=&quot;page0&quot;&gt;<br/>&lt;h3&gt;&lt;b&gt;Scheepvaartvergunning voor het overschrijden van de op de Mark en Dintel (riviervakken VI en VII)) op traject vanaf de Mandersluis - Stampersgat (Suiker Unie) en retour ter plaatse toegestane afmetingen van een schip. &lt;/b&gt;&lt;/h3&gt;<br/>&lt;p&gt;Besluitnummer 560746 ingevolge de Scheepvaartverkeerswet bekend gemaakt op 23 augustus 2022 voor het overschrijden van de op de Mark en Dintel (riviervakken VI en VII) ter plaatse toegestane afme- tingen, met het motorbeunschip &amp;quot;Klazina&amp;quot; met scheepsnummer 02300591 tussen 1 september 2022 en 30 januari 2023. &lt;/p&gt;<br/>&lt;p&gt;  &lt;/p&gt;<br/>&lt;p&gt;&lt;b&gt;Bezwaarmogelijkheden met betrekking tot het besluit &lt;/b&gt;&lt;/p&gt;<br/>&lt;p&gt;Op grond van de Algemene wet bestuursrecht (Awb) kunnen belanghebbenden tegen dit besluit een bezwaarschrift indienen. De termijn voor het indienen van een bezwaarschrift is 6 weken, ingaande op 24 augustus 2022. Het bezwaarschrift moet gericht zijn aan het dagelijks bestuur van waterschap Bra- bantse Delta, Postbus 5520, 4801 DZ te Breda. U dient op de envelop het woord &amp;#x2018;bezwaarschrift&amp;#x2019; te vermelden. Wij verzoeken u om in het bezwaarschrift ook uw telefoonnummer en e-mailadres te ver- melden. Het bezwaarschrift moet de volgende inhoud hebben: &lt;/p&gt;<br/>&lt;p&gt;1. naam en adres indiener; &lt;/p&gt;<br/>&lt;p&gt;2. dagtekening; &lt;/p&gt;<br/>&lt;p&gt;3. het nummer van de vergunning; &lt;/p&gt;<br/>&lt;p&gt;4. de reden(en) waarom u zich niet met het besluit kan verenigen; &lt;/p&gt;<br/>&lt;p&gt;5. handtekening indiener. &lt;/p&gt;<br/>&lt;p&gt;Een verzoek aan het dagelijks bestuur, overeenkomstig artikel 7:15 Awb tot vergoeding van de kosten die belanghebbenden redelijkerwijs moeten maken in verband met de behandeling van het bezwaar, moet worden gedaan voordat door het dagelijks bestuur op het bezwaar is beslist. &lt;/p&gt;<br/>&lt;p&gt;&lt;b&gt;  &lt;/b&gt;&lt;/p&gt;<br/>&lt;p&gt;&lt;b&gt;Is bezwaar de juiste aanpak voor uw probleem?&lt;/b&gt;  &lt;/p&gt;<br/>&lt;p&gt;De ervaring leert dat een bezwaarschriftprocedure vaak niet aansluit bij hetgeen u als belanghebbende met het bezwaar wilt bereiken. Als u zich afvraagt of het voor u zinvol is om een bezwaarprocedure te starten, kunnen de volgende vragen en aandachtspunten behulpzaam zijn bij het maken van uw afweging: &lt;/p&gt;<br/>&lt;p&gt;1. Is het u voldoende duidelijk wat een bezwaarprocedure inhoudt? &lt;/p&gt;<br/>&lt;p&gt;2. Is de inhoud van het besluit duidelijk voor u en wat het concreet voor u betekent? Of heeft u be- hoefte aan toelichting? &lt;/p&gt;<br/>&lt;p&gt;3. Kloppen de gegevens over u in het besluit en heeft u alle gegevens verstrekt? &lt;/p&gt;<br/>&lt;p&gt;4. Vindt u dat de wijze waarop bij de besluitvorming met u of uw belangen is omgegaan niet correct is? Zo ja, wat wilt u hiermee doen? &lt;/p&gt;<br/>&lt;p&gt;5. Kunt u beoordelen of het besluit inhoudelijk juist is of niet? Of heeft u daarvoor meer informatie nodig? &lt;/p&gt;<br/>&lt;p&gt;6. Als u het besluit onjuist vindt, wat zijn dan uw argumenten? &lt;/p&gt;<br/>&lt;p&gt;7. Welk doel wilt u met uw bezwaar tegen het besluit bereiken? Wat verwacht u van het waterschap? &lt;/p&gt;<br/>&lt;p&gt;8. Weet u of u met uw bezwaar dit doel ook kunt bereiken? &lt;/p&gt;<br/>&lt;p&gt;Indien u naar aanleiding van bovenstaande nog vragen heeft, kunt u contact opnemen met de behan- delend ambtenaar van het waterschap die in het briefhoofd vermeld is. Ook indien u van plan bent om een bezwaarschrift in te dienen verzoeken wij u om contact op te nemen met het waterschap om te verkennen of het indienen van een bezwaar voor u de geschikte aanpak is. &lt;/p&gt;<br/>&lt;p&gt;&lt;b&gt;  &lt;/b&gt;&lt;/p&gt;<br/>&lt;p&gt;&lt;b&gt;Voorlopige voorziening &lt;/b&gt;&lt;/p&gt;<br/>&lt;p&gt;&lt;b&gt;Nr. 9718 &lt;/b&gt;&lt;/p&gt;&lt;h1&gt;&lt;b&gt;WATERSCHAPSBLAD &lt;/b&gt;&lt;/h1&gt;<br/>&lt;p&gt;25 augustus &lt;/p&gt;<br/>&lt;p&gt;2022 &lt;/p&gt;<br/>&lt;p&gt;Offici&amp;#xeb;le uitgave van het dagelijks bestuur van het Waterschap Brabantse Delta &lt;/p&gt;<br/>&lt;p&gt;&lt;b&gt;Waterschapsblad 2022 nr. 9718 25 augustus 2022 1 &lt;/b&gt;&lt;/p&gt;<br/>&lt;/div&gt;<br/></pre>"
      ],
      "text/plain": [
       "<IPython.core.display.HTML object>"
      ]
     },
     "metadata": {},
     "output_type": "display_data"
    },
    {
     "data": {
      "text/html": [
       "<h1>words</h1>"
      ],
      "text/plain": [
       "<IPython.core.display.HTML object>"
      ]
     },
     "metadata": {},
     "output_type": "display_data"
    },
    {
     "data": {
      "text/plain": [
       "(119.05500030517578,\n",
       " 109.42204284667969,\n",
       " 254.25900268554688,\n",
       " 123.67803955078125,\n",
       " 'Scheepvaartvergunning',\n",
       " 0,\n",
       " 0,\n",
       " 0)"
      ]
     },
     "metadata": {},
     "output_type": "display_data"
    },
    {
     "data": {
      "text/plain": [
       "(257.5950012207031,\n",
       " 109.42204284667969,\n",
       " 283.3590087890625,\n",
       " 123.67803955078125,\n",
       " 'voor',\n",
       " 0,\n",
       " 0,\n",
       " 1)"
      ]
     },
     "metadata": {},
     "output_type": "display_data"
    },
    {
     "data": {
      "text/plain": [
       "(286.69500732421875,\n",
       " 109.42204284667969,\n",
       " 305.36700439453125,\n",
       " 123.67803955078125,\n",
       " 'het',\n",
       " 0,\n",
       " 0,\n",
       " 2)"
      ]
     },
     "metadata": {},
     "output_type": "display_data"
    },
    {
     "data": {
      "text/plain": [
       "(308.7030029296875,\n",
       " 109.42204284667969,\n",
       " 384.85498046875,\n",
       " 123.67803955078125,\n",
       " 'overschrijden',\n",
       " 0,\n",
       " 0,\n",
       " 3)"
      ]
     },
     "metadata": {},
     "output_type": "display_data"
    },
    {
     "data": {
      "text/plain": [
       "(388.1910095214844,\n",
       " 109.42204284667969,\n",
       " 408.3869934082031,\n",
       " 123.67803955078125,\n",
       " 'van',\n",
       " 0,\n",
       " 0,\n",
       " 4)"
      ]
     },
     "metadata": {},
     "output_type": "display_data"
    },
    {
     "data": {
      "text/plain": [
       "(411.7229919433594,\n",
       " 109.42204284667969,\n",
       " 425.72698974609375,\n",
       " 123.67803955078125,\n",
       " 'de',\n",
       " 0,\n",
       " 0,\n",
       " 5)"
      ]
     },
     "metadata": {},
     "output_type": "display_data"
    },
    {
     "data": {
      "text/plain": [
       "(429.06298828125,\n",
       " 109.42204284667969,\n",
       " 443.72698974609375,\n",
       " 123.67803955078125,\n",
       " 'op',\n",
       " 0,\n",
       " 0,\n",
       " 6)"
      ]
     },
     "metadata": {},
     "output_type": "display_data"
    },
    {
     "data": {
      "text/plain": [
       "(447.06298828125,\n",
       " 109.42204284667969,\n",
       " 461.0669860839844,\n",
       " 123.67803955078125,\n",
       " 'de',\n",
       " 0,\n",
       " 0,\n",
       " 7)"
      ]
     },
     "metadata": {},
     "output_type": "display_data"
    },
    {
     "data": {
      "text/plain": [
       "(464.40301513671875,\n",
       " 109.42204284667969,\n",
       " 493.26300048828125,\n",
       " 123.67803955078125,\n",
       " 'Mark',\n",
       " 0,\n",
       " 0,\n",
       " 8)"
      ]
     },
     "metadata": {},
     "output_type": "display_data"
    },
    {
     "data": {
      "text/plain": [
       "(496.5989990234375,\n",
       " 109.42204284667969,\n",
       " 510.6029968261719,\n",
       " 123.67803955078125,\n",
       " 'en',\n",
       " 0,\n",
       " 0,\n",
       " 9)"
      ]
     },
     "metadata": {},
     "output_type": "display_data"
    }
   ],
   "source": [
    "for option, flags in (\n",
    "    # block level\n",
    "    ('blocks',None),\n",
    "    ('html',  fitz.TEXTFLAGS_HTML & ~fitz.TEXT_PRESERVE_IMAGES),\n",
    "    ('dict',  None), # may also want to ignore blocks that are images,  if we can?\n",
    "    #('json',  None),\n",
    "\n",
    "    # more analysed\n",
    "    ('text',  None),\n",
    "    ('xhtml', fitz.TEXTFLAGS_XHTML & ~fitz.TEXT_PRESERVE_IMAGES),\n",
    "\n",
    "    # more low level\n",
    "    ('words',None),\n",
    "    #('xml',None),\n",
    "    \n",
    "    #('rawdict',),\n",
    "    #('rawjson',),\n",
    "):\n",
    "    with fitz.open( stream=example_pdf_bytes, filetype=\"pdf\") as document:\n",
    "        for page in document:\n",
    "            display( HTML( f'<h1>{option}</h1>' ) )\n",
    "            res = page.get_text( option=option, flags=flags )\n",
    "            if isinstance(res, str):\n",
    "                display('HTML')\n",
    "                display( HTML( '<pre>%s</pre>'%(\n",
    "                    html.escape(res).replace('\\n','<br/>')\n",
    "                    #[:5000] # limit output\n",
    "                ) ) )\n",
    "\n",
    "            elif isinstance(res, dict):  # just a few blocks, because this is verbose\n",
    "                for block in res['blocks'][:3]:\n",
    "                    display(block)\n",
    "\n",
    "            elif isinstance(res, list):  # just a few items\n",
    "                for block in res[:10]:\n",
    "                    display(block)\n",
    "\n",
    "            else:\n",
    "                display( res )\n",
    "\n",
    "            break # stop after just one page, actually"
   ]
  },
  {
   "cell_type": "markdown",
   "metadata": {},
   "source": [
    "Say we looked at that and liked `xhtml` for its apparently useful analysis of paragraphs, and marking it up with headers and such,\n",
    "but noticed the header that is _visually_ on top of the page is structrally _below_ the page - it seems this does _not_ care about natural reading order.\n",
    "\n",
    "Okay, then we looked at `html` form and noticed it's the next step more raw, and with positions to let us sort by.\n",
    "How hard could it be?"
   ]
  },
  {
   "cell_type": "code",
   "execution_count": 28,
   "metadata": {},
   "outputs": [
    {
     "name": "stdout",
     "output_type": "stream",
     "text": [
      "{'pagenum': 0, 'top': '72.6pt', 'left': '119.1pt', 'line-height': '9.1pt'} <p><span>Officiële uitgave van het dagelijks bestuur van het Waterschap Brabantse Delta </span></p>\n",
      "{'pagenum': 0, 'top': '111.1pt', 'left': '119.1pt', 'line-height': '12.0pt'} <p><b><span>Scheepvaartvergunning voor het overschrijden van de op de Mark en Dintel </span></b></p>\n",
      "{'pagenum': 0, 'top': '127.9pt', 'left': '119.1pt', 'line-height': '12.0pt'} <p><b><span>(riviervakken VI en VII)) op traject vanaf de Mandersluis - Stampersgat (Suiker </span></b></p>\n",
      "{'pagenum': 0, 'top': '144.7pt', 'left': '119.1pt', 'line-height': '12.0pt'} <p><b><span>Unie) en retour ter plaatse toegestane afmetingen van een schip. </span></b></p>\n",
      "{'pagenum': 0, 'top': '167.5pt', 'left': '119.1pt', 'line-height': '9.1pt'} <p><span>Besluitnummer 560746 ingevolge de Scheepvaartverkeerswet bekend gemaakt op 23 augustus 2022 </span></p>\n",
      "{'pagenum': 0, 'top': '178.0pt', 'left': '119.1pt', 'line-height': '9.1pt'} <p><span>voor het overschrijden van de op de Mark en Dintel (riviervakken VI en VII) ter plaatse toegestane afme- </span></p>\n",
      "{'pagenum': 0, 'top': '188.4pt', 'left': '119.1pt', 'line-height': '9.1pt'} <p><span>tingen, met het motorbeunschip \"Klazina\" met scheepsnummer 02300591 tussen 1 september 2022 en </span></p>\n",
      "{'pagenum': 0, 'top': '198.8pt', 'left': '119.1pt', 'line-height': '9.1pt'} <p><span>30 januari 2023. </span></p>\n",
      "{'pagenum': 0, 'top': '219.2pt', 'left': '119.1pt', 'line-height': '9.1pt'} <p><span> </span></p>\n",
      "{'pagenum': 0, 'top': '239.7pt', 'left': '119.1pt', 'line-height': '9.1pt'} <p><b><span>Bezwaarmogelijkheden met betrekking tot het besluit </span></b></p>\n",
      "{'pagenum': 0, 'top': '260.1pt', 'left': '119.1pt', 'line-height': '9.1pt'} <p><span>Op grond van de Algemene wet bestuursrecht (Awb) kunnen belanghebbenden tegen dit besluit een </span></p>\n",
      "{'pagenum': 0, 'top': '270.5pt', 'left': '119.1pt', 'line-height': '9.1pt'} <p><span>bezwaarschrift indienen. De termijn voor het indienen van een bezwaarschrift is 6 weken, ingaande op </span></p>\n",
      "{'pagenum': 0, 'top': '281.0pt', 'left': '119.1pt', 'line-height': '9.1pt'} <p><span>24 augustus 2022. Het bezwaarschrift moet gericht zijn aan het dagelijks bestuur van waterschap Bra- </span></p>\n",
      "{'pagenum': 0, 'top': '291.4pt', 'left': '119.1pt', 'line-height': '9.1pt'} <p><span>bantse Delta, Postbus 5520, 4801 DZ te Breda. U dient op de envelop het woord ‘bezwaarschrift’ te </span></p>\n",
      "{'pagenum': 0, 'top': '301.8pt', 'left': '119.1pt', 'line-height': '9.1pt'} <p><span>vermelden. Wij verzoeken u om in het bezwaarschrift ook uw telefoonnummer en e-mailadres te ver- </span></p>\n",
      "{'pagenum': 0, 'top': '312.2pt', 'left': '119.1pt', 'line-height': '9.1pt'} <p><span>melden. Het bezwaarschrift moet de volgende inhoud hebben: </span></p>\n",
      "{'pagenum': 0, 'top': '332.6pt', 'left': '143.1pt', 'line-height': '9.1pt'} <p><span>naam en adres indiener; </span></p>\n",
      "{'pagenum': 0, 'top': '332.9pt', 'left': '119.1pt', 'line-height': '9.1pt'} <p><span>1. </span></p>\n",
      "{'pagenum': 0, 'top': '343.5pt', 'left': '143.1pt', 'line-height': '9.1pt'} <p><span>dagtekening; </span></p>\n",
      "{'pagenum': 0, 'top': '343.7pt', 'left': '119.1pt', 'line-height': '9.1pt'} <p><span>2. </span></p>\n",
      "{'pagenum': 0, 'top': '354.4pt', 'left': '143.1pt', 'line-height': '9.1pt'} <p><span>het nummer van de vergunning; </span></p>\n",
      "{'pagenum': 0, 'top': '354.6pt', 'left': '119.1pt', 'line-height': '9.1pt'} <p><span>3. </span></p>\n",
      "{'pagenum': 0, 'top': '365.3pt', 'left': '143.1pt', 'line-height': '9.1pt'} <p><span>de reden(en) waarom u zich niet met het besluit kan verenigen; </span></p>\n",
      "{'pagenum': 0, 'top': '365.5pt', 'left': '119.1pt', 'line-height': '9.1pt'} <p><span>4. </span></p>\n",
      "{'pagenum': 0, 'top': '376.1pt', 'left': '143.1pt', 'line-height': '9.1pt'} <p><span>handtekening indiener. </span></p>\n",
      "{'pagenum': 0, 'top': '376.4pt', 'left': '119.1pt', 'line-height': '9.1pt'} <p><span>5. </span></p>\n",
      "{'pagenum': 0, 'top': '395.7pt', 'left': '119.1pt', 'line-height': '9.1pt'} <p><span>Een verzoek aan het dagelijks bestuur, overeenkomstig artikel 7:15 Awb tot vergoeding van de kosten </span></p>\n",
      "{'pagenum': 0, 'top': '406.1pt', 'left': '119.1pt', 'line-height': '9.1pt'} <p><span>die belanghebbenden redelijkerwijs moeten maken in verband met de behandeling van het bezwaar, </span></p>\n",
      "{'pagenum': 0, 'top': '416.5pt', 'left': '119.1pt', 'line-height': '9.1pt'} <p><span>moet worden gedaan voordat door het dagelijks bestuur op het bezwaar is beslist. </span></p>\n",
      "{'pagenum': 0, 'top': '437.0pt', 'left': '119.1pt', 'line-height': '9.1pt'} <p><b><span> </span></b></p>\n",
      "{'pagenum': 0, 'top': '457.5pt', 'left': '119.1pt', 'line-height': '9.1pt'} <p><b><span>Is bezwaar de juiste aanpak voor uw probleem?</span></b><span> </span></p>\n",
      "{'pagenum': 0, 'top': '477.9pt', 'left': '119.1pt', 'line-height': '9.1pt'} <p><span>De ervaring leert dat een bezwaarschriftprocedure vaak niet aansluit bij hetgeen u als belanghebbende </span></p>\n",
      "{'pagenum': 0, 'top': '488.4pt', 'left': '119.1pt', 'line-height': '9.1pt'} <p><span>met het bezwaar wilt bereiken. Als u zich afvraagt of het voor u zinvol is om een bezwaarprocedure te </span></p>\n",
      "{'pagenum': 0, 'top': '498.8pt', 'left': '119.1pt', 'line-height': '9.1pt'} <p><span>starten, kunnen de volgende vragen en aandachtspunten behulpzaam zijn bij het maken van uw afweging: </span></p>\n",
      "{'pagenum': 0, 'top': '519.2pt', 'left': '143.1pt', 'line-height': '9.1pt'} <p><span>Is het u voldoende duidelijk wat een bezwaarprocedure inhoudt? </span></p>\n",
      "{'pagenum': 0, 'top': '519.4pt', 'left': '119.1pt', 'line-height': '9.1pt'} <p><span>1. </span></p>\n",
      "{'pagenum': 0, 'top': '530.1pt', 'left': '143.1pt', 'line-height': '9.1pt'} <p><span>Is de inhoud van het besluit duidelijk voor u en wat het concreet voor u betekent? Of heeft u be- </span></p>\n",
      "{'pagenum': 0, 'top': '530.3pt', 'left': '119.1pt', 'line-height': '9.1pt'} <p><span>2. </span></p>\n",
      "{'pagenum': 0, 'top': '540.5pt', 'left': '143.1pt', 'line-height': '9.1pt'} <p><span>hoefte aan toelichting? </span></p>\n",
      "{'pagenum': 0, 'top': '550.9pt', 'left': '143.1pt', 'line-height': '9.1pt'} <p><span>Kloppen de gegevens over u in het besluit en heeft u alle gegevens verstrekt? </span></p>\n",
      "{'pagenum': 0, 'top': '551.1pt', 'left': '119.1pt', 'line-height': '9.1pt'} <p><span>3. </span></p>\n",
      "{'pagenum': 0, 'top': '561.8pt', 'left': '143.1pt', 'line-height': '9.1pt'} <p><span>Vindt u dat de wijze waarop bij de besluitvorming met u of uw belangen is omgegaan niet correct </span></p>\n",
      "{'pagenum': 0, 'top': '562.0pt', 'left': '119.1pt', 'line-height': '9.1pt'} <p><span>4. </span></p>\n",
      "{'pagenum': 0, 'top': '572.2pt', 'left': '143.1pt', 'line-height': '9.1pt'} <p><span>is? Zo ja, wat wilt u hiermee doen? </span></p>\n",
      "{'pagenum': 0, 'top': '582.6pt', 'left': '143.1pt', 'line-height': '9.1pt'} <p><span>Kunt u beoordelen of het besluit inhoudelijk juist is of niet? Of heeft u daarvoor meer informatie </span></p>\n",
      "{'pagenum': 0, 'top': '582.8pt', 'left': '119.1pt', 'line-height': '9.1pt'} <p><span>5. </span></p>\n",
      "{'pagenum': 0, 'top': '593.0pt', 'left': '143.1pt', 'line-height': '9.1pt'} <p><span>nodig? </span></p>\n",
      "{'pagenum': 0, 'top': '603.4pt', 'left': '143.1pt', 'line-height': '9.1pt'} <p><span>Als u het besluit onjuist vindt, wat zijn dan uw argumenten? </span></p>\n",
      "{'pagenum': 0, 'top': '603.7pt', 'left': '119.1pt', 'line-height': '9.1pt'} <p><span>6. </span></p>\n",
      "{'pagenum': 0, 'top': '614.3pt', 'left': '143.1pt', 'line-height': '9.1pt'} <p><span>Welk doel wilt u met uw bezwaar tegen het besluit bereiken? Wat verwacht u van het waterschap? </span></p>\n",
      "{'pagenum': 0, 'top': '614.5pt', 'left': '119.1pt', 'line-height': '9.1pt'} <p><span>7. </span></p>\n",
      "{'pagenum': 0, 'top': '625.2pt', 'left': '143.1pt', 'line-height': '9.1pt'} <p><span>Weet u of u met uw bezwaar dit doel ook kunt bereiken? </span></p>\n",
      "{'pagenum': 0, 'top': '625.4pt', 'left': '119.1pt', 'line-height': '9.1pt'} <p><span>8. </span></p>\n",
      "{'pagenum': 0, 'top': '644.8pt', 'left': '119.1pt', 'line-height': '9.1pt'} <p><span>Indien u naar aanleiding van bovenstaande nog vragen heeft, kunt u contact opnemen met de behan- </span></p>\n",
      "{'pagenum': 0, 'top': '655.2pt', 'left': '119.1pt', 'line-height': '9.1pt'} <p><span>delend ambtenaar van het waterschap die in het briefhoofd vermeld is. Ook indien u van plan bent om </span></p>\n",
      "{'pagenum': 0, 'top': '665.6pt', 'left': '119.1pt', 'line-height': '9.1pt'} <p><span>een bezwaarschrift in te dienen verzoeken wij u om contact op te nemen met het waterschap om te </span></p>\n",
      "{'pagenum': 0, 'top': '676.0pt', 'left': '119.1pt', 'line-height': '9.1pt'} <p><span>verkennen of het indienen van een bezwaar voor u de geschikte aanpak is. </span></p>\n",
      "{'pagenum': 0, 'top': '696.5pt', 'left': '119.1pt', 'line-height': '9.1pt'} <p><b><span> </span></b></p>\n",
      "{'pagenum': 0, 'top': '716.9pt', 'left': '119.1pt', 'line-height': '9.1pt'} <p><b><span>Voorlopige voorziening </span></b></p>\n",
      "{'pagenum': 1, 'top': '79.0pt', 'left': '119.1pt', 'line-height': '9.1pt'} <p><span>Het indienen van een bezwaarschrift schorst het genomen besluit niet. Als een bezwaarschrift is ingediend </span></p>\n",
      "{'pagenum': 1, 'top': '89.4pt', 'left': '119.1pt', 'line-height': '9.1pt'} <p><span>kan ook een verzoek om een voorlopige voorziening aan de voorzieningenrechter van de Rechtbank </span></p>\n",
      "{'pagenum': 1, 'top': '99.9pt', 'left': '119.1pt', 'line-height': '9.1pt'} <p><span>Zeeland – West-Brabant, Team Bestuursrecht, Postbus 90006, 4800 PA Breda worden gericht. Het verzoek </span></p>\n",
      "{'pagenum': 1, 'top': '110.3pt', 'left': '119.1pt', 'line-height': '9.1pt'} <p><span>moet de volgende inhoud hebben: </span></p>\n",
      "{'pagenum': 1, 'top': '130.7pt', 'left': '143.1pt', 'line-height': '9.1pt'} <p><span>naam en adres indiener; </span></p>\n",
      "{'pagenum': 1, 'top': '130.9pt', 'left': '119.1pt', 'line-height': '9.1pt'} <p><span>1. </span></p>\n",
      "{'pagenum': 1, 'top': '141.6pt', 'left': '143.1pt', 'line-height': '9.1pt'} <p><span>dagtekening; </span></p>\n",
      "{'pagenum': 1, 'top': '141.8pt', 'left': '119.1pt', 'line-height': '9.1pt'} <p><span>2. </span></p>\n",
      "{'pagenum': 1, 'top': '152.4pt', 'left': '143.1pt', 'line-height': '9.1pt'} <p><span>omschrijving van het besluit en vermelding van het bestuursorgaan dat het besluit heeft genomen; </span></p>\n",
      "{'pagenum': 1, 'top': '152.7pt', 'left': '119.1pt', 'line-height': '9.1pt'} <p><span>3. </span></p>\n",
      "{'pagenum': 1, 'top': '163.3pt', 'left': '143.1pt', 'line-height': '9.1pt'} <p><span>een afschrift van het bezwaarschrift en de gronden van het verzoek (reden spoedeisendheid); </span></p>\n",
      "{'pagenum': 1, 'top': '163.5pt', 'left': '119.1pt', 'line-height': '9.1pt'} <p><span>4. </span></p>\n",
      "{'pagenum': 1, 'top': '174.2pt', 'left': '143.1pt', 'line-height': '9.1pt'} <p><span>zo mogelijk een kopie van het besluit waarop het bezwaarschrift betrekking heeft; </span></p>\n",
      "{'pagenum': 1, 'top': '174.4pt', 'left': '119.1pt', 'line-height': '9.1pt'} <p><span>5. </span></p>\n",
      "{'pagenum': 1, 'top': '185.0pt', 'left': '143.1pt', 'line-height': '9.1pt'} <p><span>handtekening verzoeker. </span></p>\n",
      "{'pagenum': 1, 'top': '185.3pt', 'left': '119.1pt', 'line-height': '9.1pt'} <p><span>6. </span></p>\n",
      "{'pagenum': 1, 'top': '204.6pt', 'left': '119.1pt', 'line-height': '9.1pt'} <p><span>U kunt ook digitaal een voorlopige voorziening indienen bij genoemde rechtbank via http://loket.recht- </span></p>\n",
      "{'pagenum': 1, 'top': '215.0pt', 'left': '119.1pt', 'line-height': '9.1pt'} <p><span>spraak.nl/Burgers. Daarvoor moet u wel beschikken over een elektronische handtekening (DigiD). Kijk </span></p>\n",
      "{'pagenum': 1, 'top': '225.5pt', 'left': '119.1pt', 'line-height': '9.1pt'} <p><span>op de genoemde site voor de precieze voorwaarden. </span></p>\n",
      "{'pagenum': 1, 'top': '245.9pt', 'left': '119.1pt', 'line-height': '9.1pt'} <p><span>Voor het behandelen van een verzoek om een voorlopige voorziening wordt een bedrag aan griffierecht </span></p>\n",
      "{'pagenum': 1, 'top': '256.3pt', 'left': '119.1pt', 'line-height': '9.1pt'} <p><span>geheven. </span></p>\n",
      "{'pagenum': 1, 'top': '276.7pt', 'left': '119.1pt', 'line-height': '9.1pt'} <p><span> </span></p>\n",
      "{'pagenum': 1, 'top': '297.1pt', 'left': '119.1pt', 'line-height': '9.1pt'} <p><span> </span></p>\n",
      "{'pagenum': 1, 'top': '317.5pt', 'left': '119.1pt', 'line-height': '9.1pt'} <p><span> </span></p>\n",
      "{'pagenum': 1, 'top': '336.9pt', 'left': '119.1pt', 'line-height': '9.1pt'} <p><i><span>Breda, 25 augustus 2022 </span></i></p>\n"
     ]
    }
   ],
   "source": [
    "#Say we wanted to \n",
    "\n",
    "# one of the things is that things we consider on the same line may be easily 0.5pt y-offset away (maybe half-text-height)\n",
    "#  so when we sort, we should try to also group by \"probably on same line\"\n",
    "def line_sort():\n",
    "    pass\n",
    "\n",
    "\n",
    "def deal_with_page(pagenum, page):\n",
    "    res = page.get_text( option='html', flags=fitz.TEXTFLAGS_HTML & ~fitz.TEXT_PRESERVE_IMAGES )\n",
    "    soup = bs4.BeautifulSoup(res, features='lxml') # TODO: prefer lxml.html\n",
    "\n",
    "    l = []\n",
    "    for thing in soup.select('div>*'): # looks for p; keep in mind that spans inside sometimes have e.g. colors\n",
    "        #print('-',thing)\n",
    "        \n",
    "        d = {'pagenum':pagenum}\n",
    "        for kv in thing.get('style').split(';'):\n",
    "            k, v = kv.split(':')\n",
    "            d[k]=v\n",
    "        del thing.attrs['style']\n",
    "        for span in thing.find_all('span'):\n",
    "            del span.attrs['style']\n",
    "        #index: element for index, element in enumerate(my_list)\n",
    "        #print(d, thing)          \n",
    "        l.append( (float(d['top'].rstrip('pt')), d, thing) )  \n",
    "\n",
    "    l.sort( key=lambda tup:tup[0] ) # sort by top \n",
    "    for top, dict, thing in l:\n",
    "\n",
    "        # ignore everything in the top inch, and bottom inch (these are pt, which are by definition 1/72 inch\n",
    "        # note that this is somewhat of a dangerous assumption, and should involve more checks\n",
    "        if top < 72  or  top > page.cropbox.y1-72:\n",
    "            continue\n",
    "        # for some idea, PDF allows about five different box sizes, but most of them are for preprint,\n",
    "        # and we mostly care about mediabox and cropbox, which are _usually_ the same but if there is a difference we probably care about cropbox.\n",
    "        # See also: https://pymupdf.readthedocs.io/en/latest/glossary.html#MediaBox\n",
    "\n",
    "        print( dict, thing )\n",
    "\n",
    "    # natural reading order is a little more complex - the list numbering actually appears _after_,\n",
    "    # and _slightly_ below, the text to the right of it.\n",
    "    # You can't just sort by y, then x position,  because we are now in the land of typesetting.\n",
    "    #   y position can be offset a little from other things that are, to us, on the same line.\n",
    "    # If it's less than some fraction of line-height away it's probably the same line.\n",
    "\n",
    "\n",
    "with fitz.open( stream=example_pdf_bytes, filetype=\"pdf\") as document:\n",
    "    for pagenum, page in enumerate(document):\n",
    "        deal_with_page(pagenum, page)\n",
    "        "
   ]
  },
  {
   "cell_type": "markdown",
   "metadata": {},
   "source": [
    "# other suggested test cases\n",
    "\n",
    "...in case you want to experience more of the variation:"
   ]
  },
  {
   "cell_type": "code",
   "execution_count": null,
   "metadata": {},
   "outputs": [],
   "source": [
    "test_urls = [\n",
    "    'https://repository.overheid.nl/frbr/officielepublicaties/kst/31700-VIII/kst-31700-VIII-77-b1/1/pdf/kst-31700-VIII-77-b1.pdf', # non-straight image of text of not the best quality, that OCR makes a bunch of mistakes on\n",
    "\n",
    "    'https://kansspelautoriteit.nl/publish/library/32/last_onder_dwangsom_slots_dev.pdf', # 1 page of text, the rest is images-of-text\n",
    "\n",
    "    #'https://www.tweedekamer.nl/downloads/document?id=2023D37764',\n",
    "    #'https://repository.overheid.nl/frbr/officielepublicaties/kst/20487-32/kst-20487-32-b2/1/pdf/kst-20487-32-b2.pdf',\n",
    "    #'https://repository.overheid.nl/frbr/officielepublicaties/kst/17050-284/kst-17050-284-b1/1/pdf/kst-17050-284-b1.pdf',\n",
    "\n",
    "    #'https://kansspelautoriteit.nl/publish/pages/5492/00_082_720_openbare_versie_last_onder_bestuursdwang.pdf', # 5 pages of images-of-text\n",
    "    #'https://kansspelautoriteit.nl/publish/pages/5491/sanctiebesluit_wedwinkel.pdf', # 25 pages of images-of-text\n",
    "\n",
    "    #'https://zoek.officielebekendmakingen.nl/trb-2022-72.pdf',\n",
    "    #'https://zoek.officielebekendmakingen.nl/stb-2022-1.pdf',\n",
    "    #'https://zoek.officielebekendmakingen.nl/stb-2000-5.pdf',\n",
    "    #'https://zoek.officielebekendmakingen.nl/gmb-2022-385341.pdf',\n",
    "    #'https://zoek.officielebekendmakingen.nl/stcrt-2019-42172.pdf',\n",
    "    #'https://zoek.officielebekendmakingen.nl/prb-2022-10190.pdf',\n",
    "    #'https://zoek.officielebekendmakingen.nl/wsb-2022-9718.pdf',\n",
    "]"
   ]
  }
 ],
 "metadata": {
  "colab": {
   "include_colab_link": true,
   "provenance": []
  },
  "kernelspec": {
   "display_name": "Python 3",
   "language": "python",
   "name": "python3"
  },
  "language_info": {
   "codemirror_mode": {
    "name": "ipython",
    "version": 3
   },
   "file_extension": ".py",
   "mimetype": "text/x-python",
   "name": "python",
   "nbconvert_exporter": "python",
   "pygments_lexer": "ipython3",
   "version": "3.8.10"
  },
  "vscode": {
   "interpreter": {
    "hash": "31f2aee4e71d21fbe5cf8b01ff0e069b9275f58929596ceb00d14d90e3e16cd6"
   }
  }
 },
 "nbformat": 4,
 "nbformat_minor": 0
}
