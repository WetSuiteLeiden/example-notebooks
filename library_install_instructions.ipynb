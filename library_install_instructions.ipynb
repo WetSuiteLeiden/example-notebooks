{
  "cells": [
    {
      "cell_type": "markdown",
      "metadata": {},
      "source": [
        "## Installing wetsuite?\n",
        "\n",
        "Most notebooks can be opened in colab, visual studio code, \n",
        "or anything else that understands these notebooks.\n",
        "\n",
        "To run them, though, many of these notebooks rely on wetsuite core library being installed.\n",
        "Plus a dozen libraries, which should be installed as dependencies.\n",
        "\n",
        "The short version is that `pip install wetsuite` should be enough.\n",
        "\n",
        "\n",
        "***In colab***, each time you start a notebook, you get sandbox containing a fresh python installation.\n",
        "Any third-party library you want, like ours, will have to be installed at the start of every session.\n",
        "\n",
        "\n",
        "***On your own infrastructure***, whether it is a laptop or a cluster, you probably only need to install it once.\n",
        "\n",
        "Again, `pip install wetsuite` should be enough, \n",
        "with the added notes that:\n",
        "* you _may_ wish to work in a virtual environment.\n",
        "* when the core library is under development, you may want to occasionally run `install -U --quiet wetsuite` so that it actively looks for the latest version\n",
        "    \n",
        "<!--\n",
        "Most of those parameters aren't strictly necessary\n",
        "* `--quiet` means it won't spam a page of text\n",
        "* `-U --no-cache-dir` means you force it to update from the latest source\n",
        "\n",
        "!pip3 install https://github.com/WetSuiteLeiden/wetsuite-core/archive/refs/heads/main.zip\n",
        "-->"
      ]
    },
    {
      "cell_type": "markdown",
      "metadata": {},
      "source": []
    }
  ],
  "metadata": {
    "colab": {
      "provenance": [],
      "toc_visible": true
    },
    "kernelspec": {
      "display_name": "Python 3",
      "language": "python",
      "name": "python3"
    },
    "language_info": {
      "codemirror_mode": {
        "name": "ipython",
        "version": 3
      },
      "file_extension": ".py",
      "mimetype": "text/x-python",
      "name": "python",
      "nbconvert_exporter": "python",
      "pygments_lexer": "ipython3",
      "version": "3.8.10"
    },
    "vscode": {
      "interpreter": {
        "hash": "31f2aee4e71d21fbe5cf8b01ff0e069b9275f58929596ceb00d14d90e3e16cd6"
      }
    }
  },
  "nbformat": 4,
  "nbformat_minor": 0
}
