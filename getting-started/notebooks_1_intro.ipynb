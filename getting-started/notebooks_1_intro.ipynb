{
 "cells": [
  {
   "cell_type": "markdown",
   "metadata": {},
   "source": [
    "## Introduction by some words\n",
    "\n",
    "Jupyter's computational notebooks were created as a way of putting a browser in front of... \n",
    "a way of running code that you now barely have to think about anymore.\n",
    "\n",
    "The notebook itself is like a document you can save,\n",
    "- containing chunks of marked-up explanations you can read.\n",
    "- alongside chunks of python code you can run,\n",
    "- and its output, often presented in a richer format (...rather than as data), is also kept\n",
    "\n",
    "In the right environment, that code can be executed. In others, only viewed.\n",
    "\n",
    "When you start running its code, \n",
    "- you start a relatively-short-term session which remembers the output of what you were running,\n",
    "- so that different parts of a notebook can be working on the same thing.\n",
    "\n",
    "For both a more technical technical introduction, and a \"when and why might this be interesting to you,\" \n",
    "scroll down past the examples."
   ]
  },
  {
   "cell_type": "markdown",
   "metadata": {},
   "source": [
    "## Introduction by example\n",
    "\n",
    "You are currently looking at a notebook.\n",
    "\n",
    "Right now, at a marked-up block, there will be code blocks following, with some output.\n",
    "\n",
    "You could just _look_ at it, but the point is that you could take this and start running it _yourself_. \n",
    "\n",
    "For some exmaples of what you might put in and get out:"
   ]
  },
  {
   "cell_type": "markdown",
   "metadata": {},
   "source": [
    "Topical for this project: Spacy is a package for text analysis, doing some NLP work (more on it in [a separate notebook on spacy](../research-methods/methods_nlp__spacy_basics.ipynb))"
   ]
  },
  {
   "cell_type": "code",
   "execution_count": null,
   "metadata": {},
   "outputs": [],
   "source": [
    "!pip install --quiet spacy\n",
    "!python3 -m spacy download en_core_web_sm\n",
    "# The next code blocks assume that spacy and the mentioned model are already installed. \n",
    "# If they are installed, skip this cell.  If they are not installed, run this cell."
   ]
  },
  {
   "cell_type": "code",
   "execution_count": 13,
   "metadata": {},
   "outputs": [
    {
     "name": "stdout",
     "output_type": "stream",
     "text": [
      "Groene/ADJ  \n",
      "kaas/NOUN  \n",
      "is/AUX  \n",
      "sterk/ADJ  \n"
     ]
    }
   ],
   "source": [
    "import spacy\n",
    "\n",
    "dutch_parser = spacy.load('nl_core_news_sm')     # load a specific language model,\n",
    "analysed     = dutch_parser(\"Groene kaas is sterk\")   # give it a sentence,\n",
    "for token in analysed:                            # have it say (some) of what each piece is.\n",
    "    print( '%s/%s  '%(token.text, token.pos_) )"
   ]
  },
  {
   "cell_type": "code",
   "execution_count": 11,
   "metadata": {},
   "outputs": [
    {
     "name": "stdout",
     "output_type": "stream",
     "text": [
      "afwijking\n",
      "het derde lid\n",
      "leerlingen\n",
      "een indicatie\n",
      "leerwegondersteunend onderwijs\n",
      "de het samenwerkingsverband\n",
      "zij\n",
      "dit onderwijs\n",
      "een ratio\n",
      "leraar/leerling\n"
     ]
    }
   ],
   "source": [
    "# or, perhaps more usefully:\n",
    "analysed = dutch_parser( \"In afwijking van het derde lid geldt voor leerlingen met een indicatie voor leerwegondersteunend onderwijs voor wie de het samenwerkingsverband heeft bepaald dat zij op dit onderwijs zijn aangewezen een ratio leraar/leerling van 1/17,14.\" )\n",
    "for nc in analysed.noun_chunks: \n",
    "    print(nc)"
   ]
  },
  {
   "cell_type": "code",
   "execution_count": 8,
   "metadata": {},
   "outputs": [
    {
     "data": {
      "text/plain": [
       "<matplotlib.axes._subplots.AxesSubplot at 0x7fc14592f730>"
      ]
     },
     "metadata": {},
     "output_type": "display_data"
    },
    {
     "data": {
      "image/png": "[encoded data removed]",
      "text/plain": [
       "<Figure size 640x480 with 1 Axes>"
      ]
     },
     "metadata": {},
     "output_type": "display_data"
    }
   ],
   "source": [
    "# Notebooks make visualisation easier, of data and of results\n",
    "#   this plot is itself pointless, but serves to illustrate it's often just a few lines to nice graphics\n",
    "import matplotlib.pyplot, random\n",
    "\n",
    "fig, ax = matplotlib.pyplot.subplots()\n",
    "ax.plot([1,2, 3,4],\n",
    "        [1,4,12,1])\n",
    "ax.set_title('some data')\n",
    "\n",
    "display(ax)  # display() exists (only) in these notebook environments"
   ]
  },
  {
   "cell_type": "markdown",
   "metadata": {},
   "source": [
    "Also, do a search for '[matplotlib gallery](https://matplotlib.org/stable/gallery/index.html)' to see further plots peope made.\n",
    "\n",
    "There is also [pandas](https://pandas.pydata.org/docs/user_guide/visualization.html), \n",
    "and consider the somewhat more advanced seaborn - and similarly look for '[seaborn gallery](https://seaborn.pydata.org/examples/index.html)'\n"
   ]
  },
  {
   "cell_type": "code",
   "execution_count": 3,
   "metadata": {},
   "outputs": [
    {
     "data": {
      "text/html": [
       "<div>\n",
       "<style scoped>\n",
       "    .dataframe tbody tr th:only-of-type {\n",
       "        vertical-align: middle;\n",
       "    }\n",
       "\n",
       "    .dataframe tbody tr th {\n",
       "        vertical-align: top;\n",
       "    }\n",
       "\n",
       "    .dataframe thead th {\n",
       "        text-align: right;\n",
       "    }\n",
       "</style>\n",
       "<table border=\"1\" class=\"dataframe\">\n",
       "  <thead>\n",
       "    <tr style=\"text-align: right;\">\n",
       "      <th></th>\n",
       "      <th>pickup</th>\n",
       "      <th>dropoff</th>\n",
       "      <th>passengers</th>\n",
       "      <th>distance</th>\n",
       "      <th>fare</th>\n",
       "      <th>tip</th>\n",
       "      <th>tolls</th>\n",
       "      <th>total</th>\n",
       "      <th>color</th>\n",
       "      <th>payment</th>\n",
       "      <th>pickup_zone</th>\n",
       "      <th>dropoff_zone</th>\n",
       "      <th>pickup_borough</th>\n",
       "      <th>dropoff_borough</th>\n",
       "    </tr>\n",
       "  </thead>\n",
       "  <tbody>\n",
       "    <tr>\n",
       "      <th>0</th>\n",
       "      <td>2019-03-23 20:21:09</td>\n",
       "      <td>2019-03-23 20:27:24</td>\n",
       "      <td>1</td>\n",
       "      <td>1.60</td>\n",
       "      <td>7.0</td>\n",
       "      <td>2.15</td>\n",
       "      <td>0.0</td>\n",
       "      <td>12.95</td>\n",
       "      <td>yellow</td>\n",
       "      <td>credit card</td>\n",
       "      <td>Lenox Hill West</td>\n",
       "      <td>UN/Turtle Bay South</td>\n",
       "      <td>Manhattan</td>\n",
       "      <td>Manhattan</td>\n",
       "    </tr>\n",
       "    <tr>\n",
       "      <th>1</th>\n",
       "      <td>2019-03-04 16:11:55</td>\n",
       "      <td>2019-03-04 16:19:00</td>\n",
       "      <td>1</td>\n",
       "      <td>0.79</td>\n",
       "      <td>5.0</td>\n",
       "      <td>0.00</td>\n",
       "      <td>0.0</td>\n",
       "      <td>9.30</td>\n",
       "      <td>yellow</td>\n",
       "      <td>cash</td>\n",
       "      <td>Upper West Side South</td>\n",
       "      <td>Upper West Side South</td>\n",
       "      <td>Manhattan</td>\n",
       "      <td>Manhattan</td>\n",
       "    </tr>\n",
       "    <tr>\n",
       "      <th>2</th>\n",
       "      <td>2019-03-27 17:53:01</td>\n",
       "      <td>2019-03-27 18:00:25</td>\n",
       "      <td>1</td>\n",
       "      <td>1.37</td>\n",
       "      <td>7.5</td>\n",
       "      <td>2.36</td>\n",
       "      <td>0.0</td>\n",
       "      <td>14.16</td>\n",
       "      <td>yellow</td>\n",
       "      <td>credit card</td>\n",
       "      <td>Alphabet City</td>\n",
       "      <td>West Village</td>\n",
       "      <td>Manhattan</td>\n",
       "      <td>Manhattan</td>\n",
       "    </tr>\n",
       "  </tbody>\n",
       "</table>\n",
       "</div>"
      ],
      "text/plain": [
       "                pickup              dropoff  passengers  distance  fare   tip  \\\n",
       "0  2019-03-23 20:21:09  2019-03-23 20:27:24           1      1.60   7.0  2.15   \n",
       "1  2019-03-04 16:11:55  2019-03-04 16:19:00           1      0.79   5.0  0.00   \n",
       "2  2019-03-27 17:53:01  2019-03-27 18:00:25           1      1.37   7.5  2.36   \n",
       "\n",
       "   tolls  total   color      payment            pickup_zone  \\\n",
       "0    0.0  12.95  yellow  credit card        Lenox Hill West   \n",
       "1    0.0   9.30  yellow         cash  Upper West Side South   \n",
       "2    0.0  14.16  yellow  credit card          Alphabet City   \n",
       "\n",
       "            dropoff_zone pickup_borough dropoff_borough  \n",
       "0    UN/Turtle Bay South      Manhattan       Manhattan  \n",
       "1  Upper West Side South      Manhattan       Manhattan  \n",
       "2           West Village      Manhattan       Manhattan  "
      ]
     },
     "metadata": {},
     "output_type": "display_data"
    }
   ],
   "source": [
    "import seaborn, pandas    \n",
    "# pandas to load into a table of sorts,\n",
    "# seaborn happens to have some toy datasets -- see also  seaborn.get_dataset_names()\n",
    "\n",
    "pandas_df = seaborn.load_dataset('taxis')[:3]   # seaborn.load_dataset returns a pandas dataframe,   \n",
    "display( pandas_df )                            # which gets display()ed as a table\n",
    "# "
   ]
  }
 ],
 "metadata": {
  "kernelspec": {
   "display_name": "Python 3.8.10 64-bit",
   "language": "python",
   "name": "python3"
  },
  "language_info": {
   "codemirror_mode": {
    "name": "ipython",
    "version": 3
   },
   "file_extension": ".py",
   "mimetype": "text/x-python",
   "name": "python",
   "nbconvert_exporter": "python",
   "pygments_lexer": "ipython3",
   "version": "3.8.10"
  },
  "orig_nbformat": 4,
  "vscode": {
   "interpreter": {
    "hash": "31f2aee4e71d21fbe5cf8b01ff0e069b9275f58929596ceb00d14d90e3e16cd6"
   }
  }
 },
 "nbformat": 4,
 "nbformat_minor": 2
}
