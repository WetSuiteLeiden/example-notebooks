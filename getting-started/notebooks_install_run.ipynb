{
 "cells": [
  {
   "cell_type": "markdown",
   "metadata": {},
   "source": [
    "## I've read the intro, seems useful, what ways are there to run notebooks?"
   ]
  },
  {
   "cell_type": "markdown",
   "metadata": {},
   "source": [
    "## On Colab\n",
    "\n",
    "[Google Colab](https://colab.research.google.com/) is a product that lets you run notebooks in a sandbox of sorts.\n",
    "\n",
    "Upsides:\n",
    "- Nothing for you to install\n",
    "- creates a sandboxed session so you can get started quickly, and you don't have to worry about messing up mess with as you wish\n",
    "\n",
    "Limitations:\n",
    "- getting a fresh sandbox each time _also_ means\n",
    "  - you need to install any additional libraries at the start of every session.\n",
    "  - any data you are working on gets cleaned up with the session\n",
    "  \n",
    "So it's great for quick experiments, but any continuing projects end up having to focus a lot on \n",
    "how they interact to load and save data efficiently, and may choose to move to a dedicated install of your own."
   ]
  },
  {
   "cell_type": "markdown",
   "metadata": {},
   "source": [
    "If you click the following button, you will tell colab to copy **this** particular notebook from github,\n",
    "and start a fresh session with it loaded.\n",
    "\n",
    "<a href=\"https://colab.research.google.com/github/knobs-dials/wetsuite-dev/blob/main/notebooks/getting-started/notebooks_install_run.ipynb.ipynb\" target=\"_parent\"><img src=\"https://colab.research.google.com/assets/colab-badge.svg\" alt=\"Open In Colab\"/></a>\n",
    "\n",
    "What this actually does is\n",
    "- make a copy the notebook from this repository, into colab\n",
    "- give you a completely temporary sandbox, in that\n",
    "  - You will **not** be able to edit our code, just your copy. Play at will, try to break it just to see how it works.\n",
    "  - you will not clutter your own PC with the results\n",
    "    - both an upside, in that each such experiment won't leave behind a mess\n",
    "    - ...and a downside, in that if you _wanted_ to keep all the results, more work is required\n",
    "\n",
    "<!-- -->\n",
    "\n",
    "Colab is interesting because its _basic_ vesion is free, fully online, running it _at all_ requires no installation,\n",
    "and its python environment already contains some things we need so installing wetsuite and its dependencies isn't too much work either.\n",
    "\n",
    "Google seems to provide this so that, once you start doing more serious scales of projects,\n",
    "you can get a faster variant for money."
   ]
  },
  {
   "cell_type": "markdown",
   "metadata": {},
   "source": [
    "## Local+Browser based\n",
    "\n",
    "Upsides:\n",
    "* more control\n",
    "Limitations:\n",
    "* more up-front work\n",
    "\n",
    "The classical way was to **start a server** and separately **point a browser at it**. \n",
    "\n",
    "With some _additional_ trickery you can turn this int a thing you can also access remotely.\n",
    "\n",
    "<!-- -->\n",
    "\n",
    "This works perfectly well, and gets used a bunch, \n",
    "in that it gives you fine control over _how exactly_ while being more steps before you can get started.\n",
    "\n",
    "But it's also ***more clunky work than most non-nerds prefer***. \n",
    "You know, when the instructions start with \"it's very simple, you just\" and then go on for pages and pages.\n",
    "\n",
    "If you still want to go this way, read something like: https://jupyter.org/install"
   ]
  },
  {
   "cell_type": "markdown",
   "metadata": {},
   "source": [
    "## Code-editor based\n",
    "\n",
    "Upsides:\n",
    "* Should do more of the work of actually running things for you\n",
    "* some may also be made to work remotely\n",
    "Downsides:\n",
    "* You still need to choose one you like, and install it\n",
    "* it may have its own way of doing things\n",
    "\n",
    "A number of development environments will be able open a notebook, as a built-in or extended feature.\n",
    "\n",
    "For example, [Visual Studio Code](https://code.visualstudio.com/) \n",
    "requires [an extension](https://marketplace.visualstudio.com/items?itemName=ms-toolsai.jupyter),\n",
    "after which it will work with notebooks fairly transparently.\n",
    "\n",
    "The lifetime of sessions works a little differently - it is more tied to the window/tab that opened it - but it's otherwise much the same.\n",
    "\n",
    "\n",
    "### Option: Remotely\n",
    "\n",
    "If you also install [Remote - SSH](https://marketplace.visualstudio.com/items?itemName=ms-vscode-remote.remote-ssh),\n",
    "then any server you can SSH into can be used as a development environment.\n",
    "\n",
    "This means the notebook is stored there, but more interestingly, the data you save is as well.\n",
    "\n",
    "So while it's more up-front setup than colab, you now have a setup that \n",
    "- persists data, \n",
    "- that you can reach from work, home, and anywhere else\n",
    "\n",
    "(This was, for example, really useful while creating our readymade datasets, useful for dataset development, because there was one instance that stored three hundred gigabytes of rawer downloaded data.)"
   ]
  },
  {
   "cell_type": "markdown",
   "metadata": {},
   "source": [
    "# ...on colab\n"
   ]
  },
  {
   "cell_type": "markdown",
   "metadata": {},
   "source": [
    "## ...plus wetsuite\n",
    "\n",
    "If you've loaded this in colab, you could install wetsuite core library without worrying you're cluttering anything. \n",
    "\n",
    "See the [library_install_instructions](library_install_instructions.ipynb) notebook, but it comes down to:"
   ]
  },
  {
   "cell_type": "code",
   "execution_count": null,
   "metadata": {},
   "outputs": [],
   "source": [
    "!pip3 install -U wetsuite"
   ]
  },
  {
   "cell_type": "code",
   "execution_count": 10,
   "metadata": {},
   "outputs": [
    {
     "data": {
      "text/plain": [
       "{'urls': ['https://repository.overheid.nl/frbr/officielepublicaties/ah-tk/20112012/ah-tk-20112012-2378/1/metadata/metadata.xml',\n",
       "  'https://repository.overheid.nl/frbr/officielepublicaties/ah-tk/20112012/ah-tk-20112012-2378/1/xml/ah-tk-20112012-2378.xml'],\n",
       " 'identifier': 'ah-tk-20112012-2378',\n",
       " 'type': ['officiële publicatie', 'Antwoord', 'Aanhangsel van de Handelingen'],\n",
       " 'available': '2012-05-02',\n",
       " 'issued': '2012-05-01',\n",
       " 'category': 'Openbare orde en veiligheid | Organisatie en beleid',\n",
       " 'indiener': ['T. Dibi'],\n",
       " 'ontvanger': ['J.W.E. Spies'],\n",
       " 'vergaderjaar': '2011-2012',\n",
       " 'vraagdata': {'1': {'vraag': ['Kent u het bericht dat de burgemeester van de gemeente Rhenen in aanloop naar Koninginnedag 2012 huiszoekingen wil laten uitvoeren en dat wie niet meewerkt zal worden gearresteerd?',\n",
       "    '<vraag>\\n      <nr status=\"officieel\">Vraag 1</nr>\\n      <al>Kent u het bericht dat de burgemeester van de gemeente Rhenen in aanloop naar Koninginnedag 2012 huiszoekingen wil laten uitvoeren en dat wie niet meewerkt zal worden gearresteerd?<noot id=\"ID-2012Z05597-d36e59\" type=\"voet\"><noot.nr>1</noot.nr><noot.al> «Kamervragen over huiszoekingen voor koninginnedag», <extref soort=\"URL\" doc=\"http://www.elsevier.nl\" status=\"actief\">www.elsevier.nl</extref>, 9\\xa0maart 2012.</noot.al></noot> Zo ja, klopt dit bericht?</al>\\n    </vraag>\\n    '],\n",
       "   'antwoord': ['Ja. Het bericht betreft een fragment van het verloop van een voorlichtingsbijeenkomst in de aanloop naar Koninginnedag 2012 en mist daardoor de context waarin de opmerking van de burgemeester is geplaatst. Het binnentreden zonder toestemming van de bewoner en het verrichten van huiszoekingen en arrestaties kunnen uiteraard niet zomaar worden verricht. Dit zijn vergaande bevoegdheden waarmee terughoudend dient te worden omgegaan en die uitsluitend kunnen worden toegepast binnen de grenzen van wet- en regelgeving. De burgemeester geeft daar ook blijk van in het door hem verstrekte ambtsbericht.',\n",
       "    '<antwoord>\\n      <nr status=\"officieel\">Antwoord 1</nr>\\n      <al>Ja. Het bericht betreft een fragment van het verloop van een voorlichtingsbijeenkomst in de aanloop naar Koninginnedag 2012 en mist daardoor de context waarin de opmerking van de burgemeester is geplaatst. Het binnentreden zonder toestemming van de bewoner en het verrichten van huiszoekingen en arrestaties kunnen uiteraard niet zomaar worden verricht. Dit zijn vergaande bevoegdheden waarmee terughoudend dient te worden omgegaan en die uitsluitend kunnen worden toegepast binnen de grenzen van wet- en regelgeving. De burgemeester geeft daar ook blijk van in het door hem verstrekte ambtsbericht.</al>\\n    </antwoord>\\n    ']},\n",
       "  '2': {'vraag': ['Heeft de burgemeester van Rhenen überhaupt wel de juridische bevoegdheid om dergelijke vergaande bevoegdheden te treffen? Zo ja, welke juridische grondslag hebben deze huiszoekingen? Hoe verhoudt dit voornemen zich tot het grondwettelijk en verdragsrechtelijk erkende recht op eerbiediging van de persoonlijke levenssfeer? Vindt u dit voornemen van de Rhenense burgemeester voldoen aan de criteria van subsidiariteit en proportionaliteit?',\n",
       "    '<vraag>\\n      <nr status=\"officieel\">Vraag 2</nr>\\n      <al>Heeft de burgemeester van Rhenen überhaupt wel de juridische bevoegdheid om dergelijke vergaande bevoegdheden te treffen? Zo ja, welke juridische grondslag hebben deze huiszoekingen? Hoe verhoudt dit voornemen zich tot het grondwettelijk en verdragsrechtelijk erkende recht op eerbiediging van de persoonlijke levenssfeer? Vindt u dit voornemen van de Rhenense burgemeester voldoen aan de criteria van subsidiariteit en proportionaliteit?</al>\\n    </vraag>\\n    '],\n",
       "   'antwoord': ['In zijn ambtsbericht laat de burgemeester weten dat er geen voornemen tot huiszoeking bestaat en eerst bij een eventueel ernstig dreigende situatie sprake zal kunnen zijn van rechtmatig binnentreden.\\n\\nBinnentreden zonder toestemming van de bewoner is een inperking van het huisrecht, zoals gegarandeerd in artikel 12 van de Grondwet, artikel 8 van het Europees Verdrag tot bescherming van de rechten van de mens en de fundamentele vrijheden, artikel 17 van het Internationaal Verdrag inzake burgerrechten en politieke rechten en artikel 7 van het Handvest van de grondrechten van de Europese Unie. Het binnentreden in een woning zonder toestemming van de bewoner is daarom slechts geoorloofd in de gevallen bij of krachtens de wet bepaald, door hen die daartoe bij of krachtens de wet zijn aangewezen, aldus artikel 12, eerste lid, van de Grondwet. De bevoegdheid tot binnentreden zonder toestemming moet zijn geregeld in een specifiek daarop toegesneden formele wet (of in daarop gebaseerde lagere regelgeving), zoals artikel 8 van de Politiewet, artikel 55a van het Wetboek van Strafvordering, artikel 49 van de Wet Wapens en Munitie of artikel 149a van de Gemeentewet. Voorts gelden er verschillende vormvereisten op grond artikel 12, tweede en derde lid, van de Grondwet voor het binnentreden in overeenstemming met artikel 12, eerste lid, van de Grondwet. Deze zijn uitgewerkt in de Algemene wet op het binnentreden. Daarin is onder andere als vereiste voor de bevoegdheid tot binnentreden zonder toestemming van de bewoner opgenomen dat er, behoudens enkele uitzonderingen, sprake moet zijn van een rechterlijke of bestuurlijke machtiging.\\n\\nIn het onderhavige geval van de gemeente Rhenen is van belang dat ten tijde van Koninginnedag een noodverordening van kracht is (Koninginnedagnoodverordening 2012) die strekt tot handhaving van de openbare orde en het beperken van gevaar voor personen, alsmede een algemene raadsverordening die mede is gebaseerd op artikel 149a van de Gemeentewet. Deze raadsverordening biedt de grondslag voor de bevoegdheid tot binnentreden zonder toestemming van de bewoner, ten behoeve van het toezicht op de naleving of de opsporing van een overtreding van de Koninginnedagnoodverordening 2012. Daadwerkelijk inzet van deze bevoegdheid zal moeten voldoen aan de vereisten van proportionaliteit en subsidiariteit. De vraag of daarvan sprake is, kan pas kort voorafgaand aan en na de eventuele inzet van de bevoegdheid worden beantwoord. De inzet van bevoegdheden is toetsbaar door de rechter.',\n",
       "    '<antwoord>\\n      <nr status=\"officieel\">Antwoord 2</nr>\\n      <al>In zijn ambtsbericht laat de burgemeester weten dat er geen voornemen tot huiszoeking bestaat en eerst bij een eventueel ernstig dreigende situatie sprake zal kunnen zijn van rechtmatig binnentreden.</al>\\n      <al>Binnentreden zonder toestemming van de bewoner is een inperking van het huisrecht, zoals gegarandeerd in artikel 12 van de Grondwet, artikel 8 van het Europees Verdrag tot bescherming van de rechten van de mens en de fundamentele vrijheden, artikel 17 van het Internationaal Verdrag inzake burgerrechten en politieke rechten en artikel 7 van het Handvest van de grondrechten van de Europese Unie. Het binnentreden in een woning zonder toestemming van de bewoner is daarom slechts geoorloofd in de gevallen bij of krachtens de wet bepaald, door hen die daartoe bij of krachtens de wet zijn aangewezen, aldus artikel 12, eerste lid, van de Grondwet. De bevoegdheid tot binnentreden zonder toestemming moet zijn geregeld in een specifiek daarop toegesneden formele wet (of in daarop gebaseerde lagere regelgeving), zoals artikel 8 van de Politiewet, artikel 55a van het Wetboek van Strafvordering, artikel 49 van de Wet Wapens en Munitie of artikel 149a van de Gemeentewet. Voorts gelden er verschillende vormvereisten op grond artikel 12, tweede en derde lid, van de Grondwet voor het binnentreden in overeenstemming met artikel 12, eerste lid, van de Grondwet. Deze zijn uitgewerkt in de Algemene wet op het binnentreden. Daarin is onder andere als vereiste voor de bevoegdheid tot binnentreden zonder toestemming van de bewoner opgenomen dat er, behoudens enkele uitzonderingen, sprake moet zijn van een rechterlijke of bestuurlijke machtiging.</al>\\n      <al>In het onderhavige geval van de gemeente Rhenen is van belang dat ten tijde van Koninginnedag een noodverordening van kracht is (Koninginnedagnoodverordening 2012) die strekt tot handhaving van de openbare orde en het beperken van gevaar voor personen, alsmede een algemene raadsverordening die mede is gebaseerd op artikel 149a van de Gemeentewet. Deze raadsverordening biedt de grondslag voor de bevoegdheid tot binnentreden zonder toestemming van de bewoner, ten behoeve van het toezicht op de naleving of de opsporing van een overtreding van de Koninginnedagnoodverordening 2012. Daadwerkelijk inzet van deze bevoegdheid zal moeten voldoen aan de vereisten van proportionaliteit en subsidiariteit. De vraag of daarvan sprake is, kan pas kort voorafgaand aan en na de eventuele inzet van de bevoegdheid worden beantwoord. De inzet van bevoegdheden is toetsbaar door de rechter.</al>\\n    </antwoord>\\n    ']},\n",
       "  '3': {'vraag': ['Sinds wanneer heeft het weigeren van toestemming tot het binnentreden van een woning tot gevolg dat een onverdachte burger gearresteerd kan worden? Levert dit niet ook strijd op met grondwettelijk en verdragsrechtelijk erkende burgerlijke vrijheden? Is ook dit niet in strijd met de criteria van subsidiariteit en proportionaliteit?',\n",
       "    '<vraag>\\n      <nr status=\"officieel\">Vraag 3</nr>\\n      <al>Sinds wanneer heeft het weigeren van toestemming tot het binnentreden van een woning tot gevolg dat een onverdachte burger gearresteerd kan worden? Levert dit niet ook strijd op met grondwettelijk en verdragsrechtelijk erkende burgerlijke vrijheden? Is ook dit niet in strijd met de criteria van subsidiariteit en proportionaliteit?</al>\\n    </vraag>\\n    '],\n",
       "   'antwoord': ['Het weigeren toestemming te verlenen tot binnentreden is geen strafbaar feit en levert geen zelfstandige grond op voor aanhouding. Wel kan er grond zijn voor een aanhouding van de bewoner die weigert toestemming te verlenen, indien deze zich bijvoorbeeld tevens verzet tegen rechtmatig binnentreden of niet voldoet aan een in dat kader rechtmatig gegeven vordering of ambtelijk bevel (respectievelijk artikel 180 en 184 van het Wetboek van Strafrecht); de reden voor aanhouding bij het binnentreden is dan gelegen in het verzet of de weigering aan een rechtmatig bevel of vordering te voldoen, niet in de enkele weigering om toestemming te verlenen. In dit licht kan ook de verbodbepaling van artikel 16, derde lid, van de Koninginnedagnoodverordening 2012 van de gemeente Rhenen worden gezien. Daarin wordt de eigenaar of gebruiker van (o.a.) de woning verboden om in verband met de handhaving van het bepaalde in de Koninginnedagnoodverordening de met toezicht en handhaving van die verordening belaste ambtenaren, de toegang te beletten of te belemmeren. Voor overtreding van deze verbodsbepaling wordt (ook) verwezen naar artikel 443 van het Wetboek van Strafrecht, dat overtreding van bepalingen uit een noodverordening strafbaar stelt. Voorstelbaar zou zijn geweest een verwijzing naar de genoemde artikelen 180 en 184 van het Wetboek van Strafrecht. Overigens is wederrechtelijk binnentreden door een ambtenaar strafbaar op grond van artikel 370 van het Wetboek van Strafrecht.',\n",
       "    '<antwoord>\\n      <nr status=\"officieel\">Antwoord 3</nr>\\n      <al>Het weigeren toestemming te verlenen tot binnentreden is geen strafbaar feit en levert geen zelfstandige grond op voor aanhouding. Wel kan er grond zijn voor een aanhouding van de bewoner die weigert toestemming te verlenen, indien deze zich bijvoorbeeld tevens verzet tegen rechtmatig binnentreden of niet voldoet aan een in dat kader rechtmatig gegeven vordering of ambtelijk bevel (respectievelijk artikel 180 en 184 van het Wetboek van Strafrecht); de reden voor aanhouding bij het binnentreden is dan gelegen in het verzet of de weigering aan een rechtmatig bevel of vordering te voldoen, niet in de enkele weigering om toestemming te verlenen. In dit licht kan ook de verbodbepaling van artikel 16, derde lid, van de Koninginnedagnoodverordening 2012 van de gemeente Rhenen worden gezien. Daarin wordt de eigenaar of gebruiker van (o.a.) de woning verboden om in verband met de handhaving van het bepaalde in de Koninginnedagnoodverordening de met toezicht en handhaving van die verordening belaste ambtenaren, de toegang te beletten of te belemmeren. Voor overtreding van deze verbodsbepaling wordt (ook) verwezen naar artikel 443 van het Wetboek van Strafrecht, dat overtreding van bepalingen uit een noodverordening strafbaar stelt. Voorstelbaar zou zijn geweest een verwijzing naar de genoemde artikelen 180 en 184 van het Wetboek van Strafrecht. Overigens is wederrechtelijk binnentreden door een ambtenaar strafbaar op grond van artikel 370 van het Wetboek van Strafrecht.</al>\\n    </antwoord>\\n    ']},\n",
       "  '4': {'vraag': ['Deelt u de mening dat in dit geval nogal achteloos is omgesprongen met de vrijheidsrechten van onverdachte burgers? Zo nee, waarom niet?',\n",
       "    '<vraag>\\n      <nr status=\"officieel\">Vraag 4</nr>\\n      <al>Deelt u de mening dat in dit geval nogal achteloos is omgesprongen met de vrijheidsrechten van onverdachte burgers? Zo nee, waarom niet?</al>\\n    </vraag>\\n    '],\n",
       "   'antwoord': ['Nee. Het creëren en gebruikmaken van bevoegdheden dient te gebeuren binnen de daarvoor gegeven wettelijke kaders. Van deze bevoegdheden is vooralsnog geen gebruik gemaakt. Evenmin bestond er – in elk geval ten tijde van de door de burgemeester aan mij verstrekte informatie – een voornemen om daartoe over te gaan. Bovendien blijkt uit de informatie dat de burgemeester zich terdege bewust is van de wettelijke kaders.',\n",
       "    '<antwoord>\\n      <nr status=\"officieel\">Antwoord 4</nr>\\n      <al>Nee. Het creëren en gebruikmaken van bevoegdheden dient te gebeuren binnen de daarvoor gegeven wettelijke kaders. Van deze bevoegdheden is vooralsnog geen gebruik gemaakt. Evenmin bestond er – in elk geval ten tijde van de door de burgemeester aan mij verstrekte informatie – een voornemen om daartoe over te gaan. Bovendien blijkt uit de informatie dat de burgemeester zich terdege bewust is van de wettelijke kaders.</al>\\n    </antwoord>\\n    ']},\n",
       "  '5': {'vraag': ['Bent u bereid om in gesprek te gaan met de burgemeester van Rhenen over zijn voornemens? Zo nee, waarom niet?',\n",
       "    '<vraag>\\n      <nr status=\"officieel\">Vraag 5</nr>\\n      <al>Bent u bereid om in gesprek te gaan met de burgemeester van Rhenen over zijn voornemens? Zo nee, waarom niet?</al>\\n    </vraag>\\n    '],\n",
       "   'antwoord': ['Nee. Ik heb vooralsnog geen reden om aan te nemen dat de burgemeester zijn bevoegdheden niet zorgvuldig en binnen de wet zal toepassen.',\n",
       "    '<antwoord>\\n      <nr status=\"officieel\">Antwoord 5</nr>\\n      <al>Nee. Ik heb vooralsnog geen reden om aan te nemen dat de burgemeester zijn bevoegdheden niet zorgvuldig en binnen de wet zal toepassen.</al>\\n    </antwoord>\\n  ']}}}"
      ]
     },
     "metadata": {},
     "output_type": "display_data"
    }
   ],
   "source": [
    "# now you could e.g. load a dataset we have prepared \n",
    "import wetsuite.datasets, random\n",
    "# show an item from it\n",
    "kamervragen_dataset = wetsuite.datasets.load('kamervragen-struc')\n",
    "display(   random.choice(  list( kamervragen_dataset.data.values() )  )   )"
   ]
  }
 ],
 "metadata": {
  "kernelspec": {
   "display_name": "Python 3.8.10 64-bit",
   "language": "python",
   "name": "python3"
  },
  "language_info": {
   "codemirror_mode": {
    "name": "ipython",
    "version": 3
   },
   "file_extension": ".py",
   "mimetype": "text/x-python",
   "name": "python",
   "nbconvert_exporter": "python",
   "pygments_lexer": "ipython3",
   "version": "3.8.10"
  },
  "orig_nbformat": 4,
  "vscode": {
   "interpreter": {
    "hash": "31f2aee4e71d21fbe5cf8b01ff0e069b9275f58929596ceb00d14d90e3e16cd6"
   }
  }
 },
 "nbformat": 4,
 "nbformat_minor": 2
}
