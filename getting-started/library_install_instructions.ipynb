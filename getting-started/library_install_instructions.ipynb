{
  "cells": [
    {
      "cell_type": "markdown",
      "metadata": {},
      "source": [
        "# Installing wetsuite\n",
        "\n",
        "Wetsuite as a project consists of a few distinct things, such as \n",
        "the website and its guidance,\n",
        "notebooks that are specific projects or experiments,\n",
        "and our own library of helpers that most of those notebooks rely on.\n",
        "\n",
        "This installation cares primarily about the notebooks. They rely on our own library (and a dozen more standard libraries that _it_ relies on).\n",
        "\n",
        "**The short version** is that \n",
        "- `pip install -U wetsuite` should install all of those.\n",
        "- and if we're still working on that library, occasionally re-running that should update it.\n",
        "\n",
        "\n",
        "Most notebooks will start with a cell saying `!pip install -U wetsuite` \n",
        "- the added exclamation mark is a notebook way this is a command, not python code\n",
        "- ...and should refer to this notebook for the additional guidance below.\n",
        "\n",
        "A number of notebooks also use spacy,\n",
        "and want you to download specific spacy models (which do not seem to be installable via python-standard mechanisms),\n",
        "\n",
        "We will include similar \"please run this to install\" lines as you need them, such as:\n",
        "\n",
        "    !python3 -m spacy download en_core_web_lg    # reasonable on CPU\n",
        "    !python3 -m spacy download en_core_web_trf\n",
        "\n",
        "\n",
        "## Installing and notebooks\n",
        "\n",
        "There are more notes on notebooks and installes in the [notebook basics notebook](notes_technical__notebooks_basics.ipynb).\n",
        "\n",
        "In terms of installation, it matters whether\n",
        "- you run them on your own infrastructure -- **installing once is fine**, you can mostly forget this afterwards\n",
        "- you run them on colab -- you get a fresh sandbox each time, **so you always start a session** running these install lines\n",
        "\n",
        "\n",
        "## Notes you can ignore\n",
        "\n",
        "* you can add `--quiet` to that pip line if you want less output spam\n",
        "\n",
        "* if the project is under development, you may wish to occasionally re-run that so it updates to the latest version\n",
        "  - you don't have to do that every time you start a notebook, but it shouldn't hurt\n",
        "\n",
        "* you _may_ wish to work in a python virtual environment \n",
        "  - programmers will be nodding that that's how to do it cleanly\n",
        "  - others may get away with not doing it"
      ]
    },
    {
      "cell_type": "markdown",
      "metadata": {},
      "source": []
    }
  ],
  "metadata": {
    "colab": {
      "provenance": [],
      "toc_visible": true
    },
    "kernelspec": {
      "display_name": "Python 3",
      "language": "python",
      "name": "python3"
    },
    "language_info": {
      "codemirror_mode": {
        "name": "ipython",
        "version": 3
      },
      "file_extension": ".py",
      "mimetype": "text/x-python",
      "name": "python",
      "nbconvert_exporter": "python",
      "pygments_lexer": "ipython3",
      "version": "3.8.10"
    },
    "vscode": {
      "interpreter": {
        "hash": "31f2aee4e71d21fbe5cf8b01ff0e069b9275f58929596ceb00d14d90e3e16cd6"
      }
    }
  },
  "nbformat": 4,
  "nbformat_minor": 0
}
