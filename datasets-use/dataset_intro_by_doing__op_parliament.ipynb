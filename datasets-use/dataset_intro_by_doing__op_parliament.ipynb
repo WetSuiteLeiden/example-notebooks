{
 "cells": [
  {
   "cell_type": "markdown",
   "metadata": {},
   "source": [
    "<a href=\"https://colab.research.google.com/github/WetSuiteLeiden/example-notebooks/blob/main/datasets/dataset_intro_by_doing__op_parliament.ipynb.ipynb\" target=\"_parent\"><img src=\"https://colab.research.google.com/assets/colab-badge.svg\" alt=\"Open In Colab\"/></a>"
   ]
  },
  {
   "cell_type": "code",
   "execution_count": null,
   "metadata": {},
   "outputs": [],
   "source": [
    "# (only) in colab, run this first to install wetsuite from (the most recent) source. \n",
    "#    (this should soon simplify to something like   !pip3 install --upgrade wetsuite)\n",
    "# For your own setup, see wetsuite's install guidelines.\n",
    "!pip3 install -U wetsuite"
   ]
  },
  {
   "attachments": {},
   "cell_type": "markdown",
   "metadata": {},
   "source": [
    "## Purpose of this notebook\n",
    "\n",
    "Explore what is in the `parliament-sample-xml` dataset"
   ]
  },
  {
   "cell_type": "code",
   "execution_count": 1,
   "metadata": {},
   "outputs": [],
   "source": [
    "import collections\n",
    "import re\n",
    "import random\n",
    "import pprint\n",
    "\n",
    "import wetsuite.datasets\n",
    "import wetsuite.helpers.koop_parse\n",
    "import wetsuite.helpers.etree"
   ]
  },
  {
   "cell_type": "code",
   "execution_count": 2,
   "metadata": {},
   "outputs": [
    {
     "name": "stdout",
     "output_type": "stream",
     "text": [
      "\n",
      "                       \n",
      "A moderate-sized collection of kamerstukken (~700MB of the most recently touched dossiers), handelingen (up to five years), and aanhangsels (up to five years)\n",
      "                       \n",
      "For each conceptual item, e.g. kst-27625-351, it contains\n",
      "- a metadata XML, e.g. https://repository.overheid.nl/frbr/officielepublicaties/kst/27625/kst-27625-351/1/metadata/metadata.xml\n",
      "- an content XML, e.g. https://repository.overheid.nl/frbr/officielepublicaties/kst/27625/kst-27625-351/1/xml/kst-27625-351.xml                       \n",
      "\n",
      "The metadata file can be parsed with wetsuite.helpers.koop_parse.parse_op_metafile()\n",
      "\n",
      "TODO: more elaboration\n",
      "                                              \n",
      "Dataset generated on:                        \n",
      "This dataset was generated on 2024-07-23\n"
     ]
    }
   ],
   "source": [
    "px = wetsuite.datasets.load('parliament-sample-xml')\n",
    "\n",
    "print( px.description )"
   ]
  },
  {
   "cell_type": "markdown",
   "metadata": {},
   "source": [
    "...okay, that description needs more work.\n",
    "\n",
    "\n",
    "The data does too, in that this dataset is **rawer** than various others,\n",
    "to help illustrate that even doing this from raw data is not too painful,\n",
    "especially when someone else has written helper functions to help common tasks you along."
   ]
  },
  {
   "cell_type": "code",
   "execution_count": 12,
   "metadata": {},
   "outputs": [
    {
     "data": {
      "text/plain": [
       "['https://repository.overheid.nl/frbr/officielepublicaties/ah-tk/20192020/ah-tk-20192020-1846/1/metadata/metadata.xml',\n",
       " 'https://repository.overheid.nl/frbr/officielepublicaties/h-tk/20232024/h-tk-20232024-50-30/1/xml/h-tk-20232024-50-30.xml',\n",
       " 'https://repository.overheid.nl/frbr/officielepublicaties/ah-tk/20202021/ah-tk-20202021-3083/1/xml/ah-tk-20202021-3083.xml',\n",
       " 'https://repository.overheid.nl/frbr/officielepublicaties/kst/32637/kst-32637-242/1/xml/kst-32637-242.xml',\n",
       " 'https://repository.overheid.nl/frbr/officielepublicaties/kst/30420/kst-30420-232/1/metadata/metadata.xml']"
      ]
     },
     "execution_count": 12,
     "metadata": {},
     "output_type": "execute_result"
    }
   ],
   "source": [
    "# Since we provide only the raw data, what we think of as a single document will have corresponding metadata and data file.\n",
    "\n",
    "# This store will mix the two, as demonstrated by randomly getting some keys, so we will have to put them together\n",
    "px.data.random_keys(5)"
   ]
  },
  {
   "cell_type": "markdown",
   "metadata": {},
   "source": [
    "Goal: \n",
    "- First group by the area the document is in -- which will be 'ah-ek', 'ah-tk', 'h-ek', 'h-tk', 'h-vv', 'kst' \n",
    "- the put together the metadata and data for each, by grouping by the identifier (look like `kst-32637-242`)\n",
    "\n",
    "For example, we might make a dict where\n",
    "\n",
    "        {'ah-ek': \n",
    "            {'ah-ek-20182019-2': \n",
    "                {'metadata': 'https://repository.overheid.nl/frbr/officielepublicaties/ah-ek/20182019/ah-ek-20182019-2/1/metadata/metadata.xml',\n",
    "                      'xml': 'https://repository.overheid.nl/frbr/officielepublicaties/ah-ek/20182019/ah-ek-20182019-2/1/xml/ah-ek-20182019-2.xml'\n",
    "        ...   \n",
    "\n",
    "Okay, let's get that done.\n",
    "\n",
    "NOTE: you might ignore most of this code and only use its results. "
   ]
  },
  {
   "cell_type": "code",
   "execution_count": 3,
   "metadata": {},
   "outputs": [],
   "source": [
    "def op_repo_url_parse(url):\n",
    "    ''' Given a URL like \"https://repository.overheid.nl/frbr/officielepublicaties/ah-ek/20182019/ah-ek-20182019-2/1/metadata/metadata.xml\",\n",
    "        Return a dict with keys like \n",
    "        - 'area'  (here 'ah-ek') \n",
    "        - 'id'    (here 'ah-ek-20182019-2') \n",
    "        - 'mtype' (here 'metadata')\n",
    "    '''\n",
    "    # the regexp is ugly, and not very clear about how it was made and why it may or may not be valid - we may want something more transparent\n",
    "    _re_repourl_parl = re.compile( r'^https?://repository.overheid.nl/frbr/officielepublicaties/([a-z-]+)/([A-Za-z0-9-]+)/([A-Za-z0-9_-]+)/([a-z0-9-]+)/([a-z]+)/([A-Za-z0-9_-]+.[a-z]+)$' )\n",
    "    #                                                            e.g.                              h-ek       20092010     h-ek-20092010-1_2       1       xml    h-ek-20092010-1_2.xml\n",
    "    m = _re_repourl_parl.match(url)\n",
    "    if m is None:\n",
    "        raise ValueError(f'Does not seem like a valid KOOP SRU Officiele Publicaties Repo URL: {repr(url)}')\n",
    "    else:\n",
    "        ret = {}\n",
    "        area, _, id, mnum, mtype, basename = m.groups()\n",
    "        ret['area']     = area\n",
    "        ret['id']       = id\n",
    "        ret['mtype']    = mtype\n",
    "        ret['mnum']     = mnum\n",
    "        ret['basename'] = basename\n",
    "        return ret"
   ]
  },
  {
   "cell_type": "code",
   "execution_count": null,
   "metadata": {},
   "outputs": [],
   "source": [
    "# The 'groups' variable is what that area-then-identifier-then-filetytes thing we gave one example of above\n",
    "#   (defaultdict saves us some code explicitly creating nested structures - it's why that groups[][][] is not a problem)\n",
    "groups = collections.defaultdict( lambda: collections.defaultdict(dict) ) \n",
    "\n",
    "for source_url in px.data.keys():\n",
    "    dd = op_repo_url_parse( source_url )\n",
    "    area  = dd['area']\n",
    "    id    = dd['id']\n",
    "    mtype = dd['mtype']\n",
    "    groups[area][id][mtype] = source_url\n",
    "        \n",
    "dict(groups) # output not in repo notebook because it's huge"
   ]
  },
  {
   "cell_type": "markdown",
   "metadata": {},
   "source": [
    "Okay, now we have that big structure. \n",
    "\n",
    "Inspect it to see what's in there.\n",
    "\n",
    "- For each area, show us **one** item\n",
    "  - the metadata, parsed\n",
    "  - the text's first few lines"
   ]
  },
  {
   "cell_type": "code",
   "execution_count": 15,
   "metadata": {},
   "outputs": [
    {
     "data": {
      "text/plain": [
       "'-- ah-ek-20182019-2 --'"
      ]
     },
     "metadata": {},
     "output_type": "display_data"
    },
    {
     "data": {
      "text/plain": [
       "{'documentStatus': [('', 'Opgemaakt na onopgemaakt')],\n",
       " 'title': [('',\n",
       "   'Vragen van het lid Van Hattem (PVV) op 2 juli 2019 medegedeeld aan de Minister van Binnenlandse Zaken en Koninkrijksrelaties inzake de brief van deze Minister aan gemeenten over verwerping door de Eerste Kamer van het wetsvoorstel verruiming ontheffing woonplaatsvereiste wethouders en gedeputeerden (34 807).')],\n",
       " 'aanhangselNummer': [('', '2')],\n",
       " 'indiener': [('', 'Van Hattem')],\n",
       " 'ontvanger': [('', 'Ollongren')],\n",
       " 'publicationName': [('', 'Kamervragen (Aanhangsel)')],\n",
       " 'vergaderjaar': [('', '2018-2019')],\n",
       " 'vraagnummer': [('', '218190001')],\n",
       " 'language': [('DCTERMS.RFC4646', 'nl')],\n",
       " 'available': [('DCTERMS.W3CDTF', '2019-09-03')],\n",
       " 'issued': [('DCTERMS.W3CDTF', '2019-08-19')],\n",
       " 'datumOntvangst': [('DCTERMS.W3CDTF', '2019-08-19')],\n",
       " 'type': [('OVERHEID.Informatietype', 'officiële publicatie'),\n",
       "  ('OVERHEIDop.AanhangselTypen', 'Antwoord'),\n",
       "  ('OVERHEIDop.Parlementair', 'Aanhangsel van de Handelingen')],\n",
       " 'organisationType': [('OVERHEID.Organisatietype', 'staten generaal')],\n",
       " 'creator': [('OVERHEID.StatenGeneraal', 'Eerste Kamer der Staten-Generaal')],\n",
       " 'category': [('OVERHEID.TaxonomieBeleidsagenda', 'Bestuur | Gemeenten'),\n",
       "  ('OVERHEID.TaxonomieBeleidsagenda', 'Bestuur | Organisatie en beleid')],\n",
       " 'identifier': [('OVERHEIDop.ParlID', 'ah-ek-20182019-2')]}"
      ]
     },
     "metadata": {},
     "output_type": "display_data"
    },
    {
     "data": {
      "text/plain": [
       "'  informeert de Minister van Binnenlandse Zaken en Koninkrijksrelaties de gemeenten over de verwerping van het wetsvoorstel verruiming ontheffing woonplaatsvereiste wethouders en gedeputeerden door de Eerste Kamer. In deze brief geeft zij tevens aan dat het huidige wettelijke kader van kracht blijft. 1 Brief Ministerie van Binnenlandse Zaken en Koninkrijksrelaties, directie Democratie en Bestuur, 12\\xa0juni 2019, kenmerk: 2019-0000292304 (ter inzage gelegd op de afdeling Inhoudelijke ondersteuning onder griffienr. 165109U.JAB/fb).\\n\\n \\n\\n  «Ik zal blijven streven naar meer ruimte voor lokaal maatwerk en daartoe met VNG en IPO overleg voeren, waarbij ik goede nota neem van de overwegingen van de Eerste Kamer om het wetsvoorstel te verwerpen. \\n\\nKan de Minister aangeven wat zij concreet bedoelt met «meer ruimte voor lokaal maatwerk» en in hoeverre dit specifiek het woonplaatsvereiste, de ontheffingsmogelijkheden en het voorzitterschap van raadscommissies door niet-raadsleden betreft? \\n\\nKan de M'"
      ]
     },
     "metadata": {},
     "output_type": "display_data"
    },
    {
     "data": {
      "text/plain": [
       "'-- ah-tk-20082009-2635 --'"
      ]
     },
     "metadata": {},
     "output_type": "display_data"
    },
    {
     "data": {
      "text/plain": [
       "{'documentStatus': [('', 'Opgemaakt')],\n",
       " 'title': [('',\n",
       "   'Antwoord op vragen van het lid Sterk over de koppeling van leeftijd aan internetgames')],\n",
       " 'aanhangselNummer': [('', '2635')],\n",
       " 'doctype': [('', 'Officiële Publicaties, versie 1.1')],\n",
       " 'indiener': [('', 'Sterk W.R.C.')],\n",
       " 'publicationName': [('', 'Kamervragen (Aanhangsel)')],\n",
       " 'vergaderjaar': [('', '2008-2009')],\n",
       " 'vraagnummer': [('', '2009D25439')],\n",
       " 'language': [('DCTERMS.RFC4646', 'nl')],\n",
       " 'available': [('DCTERMS.W3CDTF', '2022-03-09')],\n",
       " 'datumOntvangst': [('DCTERMS.W3CDTF', '2009-05-25')],\n",
       " 'type': [('OVERHEID.Informatietype', 'officiële publicatie'),\n",
       "  ('OVERHEIDop.AanhangselTypen', 'Antwoord'),\n",
       "  ('OVERHEIDop.Parlementair', 'Aanhangsel van de Handelingen')],\n",
       " 'organisationType': [('OVERHEID.Organisatietype', 'staten generaal')],\n",
       " 'creator': [('OVERHEID.StatenGeneraal', 'Tweede Kamer der Staten-Generaal')],\n",
       " 'identifier': [('OVERHEIDop.ParlID', 'ah-tk-20082009-2635')]}"
      ]
     },
     "metadata": {},
     "output_type": "display_data"
    },
    {
     "data": {
      "text/plain": [
       "'Bent u bekend met het artikel «Leeftijd koppelen aan internetspel»  , en de resultaten van het onderzoek van de stichting Mijn Kind Online? 1 De Telegraaf, 29\\xa0januari 2009. 2 Dossier over online spelletjes voor kinderen, januari 2009 http://www.mijnkindonline.nl/uploads/ Spelletjesdossier.pdf\\n\\nDeelt u de mening dat het spelen van gewelddadige internetspelletjes zeer schadelijk is voor jonge kinderen en vindt u met ons dat het een taak van de overheid is te bevorderen via de haar geëigende instrumenten dat de geschiktheid van games voor ouders inzichtelijk is? Zo ja, hoe? Zo nee, waarom niet? \\n\\nBent u al in gesprek met het NICAM  over het bevorderen van een PEGI-classificatiesysteem (vergelijkbaar met Kijkwijzer) voor internetgames en bent u van plan om kennis over het bestaan van een dergelijk systeem te bevorderen? 3 Nederlands Instituut voor de Classificatie van Audiovisuele Media.\\n\\nWelke rol ziet u voor uzelf weggelegd bij het bevorderen van kennis bij ouders over filterprogramma’s '"
      ]
     },
     "metadata": {},
     "output_type": "display_data"
    },
    {
     "data": {
      "text/plain": [
       "'-- h-ek-20042005-1268-1301 --'"
      ]
     },
     "metadata": {},
     "output_type": "display_data"
    },
    {
     "data": {
      "text/plain": [
       "{'creator': [('OVERHEID.StatenGeneraal', 'Eerste Kamer der Staten-Generaal')],\n",
       " 'identifier': [('OVERHEIDop.ParlID', 'h-ek-20042005-1268-1301')],\n",
       " 'title': [('',\n",
       "   'Beleidsdebat over de onderdelen Ontwikkelingssamenwerking en Buitenlandse Zaken van begroting van het Ministerie van Buitenlandse Zaken voor het jaar 2005 (29800 V), waarbij tevens wordt betrokken de Verordening toepassing schema van algemene tariefpreferenties (22112, nr. 352, fiche 4)')],\n",
       " 'type': [('OVERHEID.Informatietype', 'officiële publicatie'),\n",
       "  ('OVERHEIDop.Parlementair', 'Handeling')],\n",
       " 'available': [('DCTERMS.W3CDTF', '2005-06-29')],\n",
       " 'language': [('DCTERMS.RFC4646', 'nl')],\n",
       " 'category': [('OVERHEID.TaxonomieBeleidsagenda',\n",
       "   'Internationaal | Europese zaken'),\n",
       "  ('OVERHEID.TaxonomieBeleidsagenda', 'Financiën | Begroting')],\n",
       " 'organisationType': [('OVERHEID.Organisatietype', 'staten generaal')],\n",
       " 'behandeldDossier': [('', '29800-V'), ('', '22112')],\n",
       " 'datumVergadering': [('DCTERMS.W3CDTF', '2005-06-14')],\n",
       " 'doctype': [('', 'Officiële Publicaties, versie 1.0')],\n",
       " 'documentStatus': [('', 'Opgemaakt')],\n",
       " 'eindpagina': [('', '1301')],\n",
       " 'paginareeks': [('', '1268-1301')],\n",
       " 'publicationIssue': [('', '28')],\n",
       " 'publicationName': [('', 'Handelingen')],\n",
       " 'startpagina': [('', '1268')],\n",
       " 'vergaderjaar': [('', '2004-2005')],\n",
       " 'pskey': [('', 'HAN7861A03')]}"
      ]
     },
     "metadata": {},
     "output_type": "display_data"
    },
    {
     "data": {
      "text/plain": [
       "'Mevrouw de voorzitter. Het aanzien van Nederland in de wereld is in de\\nafgelopen drie jaar dramatisch verslechterd. Stond Nederland tot voor kort\\nte boek als een voorbeeld van tolerantie, geestelijke vrijheid en respectvol\\nen vreedzaam samenleven van diverse culturen, godsdiensten en etnische minderheden,\\nna de recente dramatische gebeurtenissen is het masker gevallen. Met name\\nna de moord op Theo van Gogh verschenen in de meeste grote opiniebladen, variërend\\nvan Le Figaro, Financial Times tot The New York Times, vernietigende artikelen.\\nIn het boek \"Nederland op scherp: buitenlandse beschouwingen over een stuurloos\\nland\" heeft Pieter van Os een aantal daarvan gebundeld. Alleen al de titels\\nspreken boekdelen. Ik noem: How Holland lost its innocence, Beyond tolerance,\\nVerlorene Freiheit, Werden die Niederlande ausländerfeindlich? en Fear\\nreplaces tolerance, as racism sweeps Holland. Deze beschouwingen zijn vele\\nmalen erger dan de Belgische opvlieger van vorige week. Trouwens, premier\\nVe'"
      ]
     },
     "metadata": {},
     "output_type": "display_data"
    },
    {
     "data": {
      "text/plain": [
       "'-- h-tk-19951996-40-3148-3148 --'"
      ]
     },
     "metadata": {},
     "output_type": "display_data"
    },
    {
     "data": {
      "text/plain": [
       "{'creator': [('OVERHEID.StatenGeneraal', 'Tweede Kamer der Staten-Generaal')],\n",
       " 'identifier': [('OVERHEIDop.ParlID', 'h-tk-19951996-40-3148-3148')],\n",
       " 'title': [('',\n",
       "   \"Stemmingen over acht moties, ingediend tijdens het nota-overleg over het kabinetsstandpunt openbaar vervoer, te weten: de motie-Reitsma c.s. over de verzelfstandiging van de gemeentelijke vervoerbedrijven (23645, nr. 23); de motie-Van 't Riet c.s. over een kostendekkingsgraad bij het collectief vraagafhankelijk vervoer gelijk aan die van het streekvervoer (23645, nr. 24); de motie-Remkes c.s. over de positie van VSN op de openbaar-vervoermarkt (23645, nr. 25); de motie-M.B. Vos over het afzien van de introductie van marktwerking in het stads- en streekvervoer (23645, nr. 17); en 4 andere moties\"),\n",
       "  ('',\n",
       "   \"Stemmingen over acht moties, ingediend tijdens het nota-overleg over het kabinetsstandpunt openbaar vervoer, te weten: de motie-Reitsma c.s. over de verzelfstandiging van de gemeentelijke vervoerbedrijven (23645, nr. 23); de motie-Van 't Riet c.s. over een kostendekkingsgraad bij het collectief vraagafhankelijk vervoer gelijk aan die van het streekvervoer (23645, nr. 24); de motie-Remkes c.s. over de positie van VSN op de openbaar-vervoermarkt (23645, nr. 25); de motie-M.B. Vos over het afzien van de introductie van marktwerking in het stads- en streekvervoer (23645, nr. 17); en 4 andere moties\")],\n",
       " 'type': [('OVERHEID.Informatietype', 'officiële publicatie'),\n",
       "  ('OVERHEIDop.Parlementair', 'Handeling')],\n",
       " 'available': [('DCTERMS.W3CDTF', '1995-12-19')],\n",
       " 'language': [('DCTERMS.RFC4646', 'nl')],\n",
       " 'category': [('OVERHEID.TaxonomieBeleidsagenda',\n",
       "   'Verkeer | Organisatie en beleid')],\n",
       " 'organisationType': [('OVERHEID.Organisatietype', 'staten generaal')],\n",
       " 'behandeldDossier': [('', '23645')],\n",
       " 'datumVergadering': [('DCTERMS.W3CDTF', '1995-12-19')],\n",
       " 'doctype': [('', 'Officiële Publicaties, versie 1.0')],\n",
       " 'documentStatus': [('', 'Opgemaakt')],\n",
       " 'eindpagina': [('', '3148')],\n",
       " 'pagina': [('', '3148-3148')],\n",
       " 'publicationIssue': [('', '40')],\n",
       " 'publicationName': [('', 'Handelingen')],\n",
       " 'startpagina': [('', '3148')],\n",
       " 'vergaderjaar': [('', '1995-1996')],\n",
       " 'pskey': [('', 'HAN3644'), ('', 'HAN3644')]}"
      ]
     },
     "metadata": {},
     "output_type": "display_data"
    },
    {
     "data": {
      "text/plain": [
       "\"(Zie vergadering van 14 december 1995.) \\n\\nIn stemming komt de motie-Reitsma c.s. (23645, nr. 23). \\n\\nIk constateer, dat de aanwezige leden van de fractie van de SP tegen deze\\nmotie hebben gestemd en die van de overige fracties ervoor, zodat zij is aangenomen. \\n\\nIn stemming komt de motie-Van 't Riet c.s. (23645, nr. 24). \\n\\nIk constateer, dat deze motie met algemene stemmen is aangenomen. \\n\\nIn stemming komt de motie-Remkes c.s. (23645, nr. 25). \\n\\nIk constateer, dat de aanwezige leden van de fracties van de VVD, D66,\\nde RPF, de SGP, het GPV, de PvdA, het CDA, de groep-Nijpels, het AOV, de Unie\\n55+ en de CD voor deze motie hebben gestemd en die van de overige fracties\\nertegen, zodat zij is aangenomen. \\n\\nIn stemming komt de motie-M.B. Vos (23645, nr. 17). \\n\\nIk constateer, dat de aanwezige leden van de fracties van GroenLinks,\\nde SP en het AOV voor deze motie hebben gestemd en die van de overige fracties\\nertegen, zodat zij is verworpen. \\n\\nIn stemming komt de motie-M.B. Vos (23645, nr. 18). \\n\\n\""
      ]
     },
     "metadata": {},
     "output_type": "display_data"
    },
    {
     "data": {
      "text/plain": [
       "'-- h-vv-20192020-1-1 --'"
      ]
     },
     "metadata": {},
     "output_type": "display_data"
    },
    {
     "data": {
      "text/plain": [
       "{'documentStatus': [('', 'Opgemaakt')],\n",
       " 'title': [('', 'Presentie en opening')],\n",
       " 'eindpagina': [('', '5')],\n",
       " 'handelingenItemNummer': [('', '1')],\n",
       " 'publicationIssue': [('', '1')],\n",
       " 'publicationName': [('', 'Handelingen')],\n",
       " 'startpagina': [('', '1')],\n",
       " 'vergaderjaar': [('', '2019-2020')],\n",
       " 'language': [('DCTERMS.RFC4646', 'nl')],\n",
       " 'available': [('DCTERMS.W3CDTF', '2019-10-09')],\n",
       " 'issued': [('DCTERMS.W3CDTF', '2019-09-17')],\n",
       " 'datumVergadering': [('DCTERMS.W3CDTF', '2019-09-17')],\n",
       " 'type': [('OVERHEID.Informatietype', 'officiële publicatie'),\n",
       "  ('OVERHEIDop.HandelingTypen', 'Opening'),\n",
       "  ('OVERHEIDop.Parlementair', 'Handeling')],\n",
       " 'organisationType': [('OVERHEID.Organisatietype', 'staten generaal')],\n",
       " 'creator': [('OVERHEID.StatenGeneraal',\n",
       "   'Verenigde Vergadering der Staten-Generaal')],\n",
       " 'category': [('OVERHEID.TaxonomieBeleidsagenda', 'Bestuur | Parlement')],\n",
       " 'identifier': [('OVERHEIDop.ParlID', 'h-vv-20192020-1-1')]}"
      ]
     },
     "metadata": {},
     "output_type": "display_data"
    },
    {
     "data": {
      "text/plain": [
       "'  Voorzitter: Bruijn \\n\\nDe  voorzitter :\\n\\nDe verenigde vergadering van de Staten-Generaal, als bedoeld in artikel 65 van de Grondwet, is geopend. Graag heet ik u allen van harte welkom in de Ridderzaal. \\n\\n\\n\\nDe  voorzitter :\\n\\nIk deel aan de verenigde vergadering mee dat de volgende leden zich hebben afgemeld: \\n\\nKarabulut, Buitenweg en Gijs van Dijk. \\n\\nDeze mededeling wordt voor kennisgeving aangenomen. \\n\\nTroonrede \\n\\nAan de orde is  het uitspreken van de troonrede .\\n\\nDe  voorzitter :\\n\\nIk stel aan de orde de benoeming van een Commissie van in- en uitgeleide. Zijne Majesteit de Koning zal vergezeld worden door de volgende leden van het Koninklijk Huis: Hare Majesteit Koningin Máxima, Zijne Koninklijke Hoogheid Prins Constantijn en Hare Koninklijke Hoogheid Prinses Laurentien. \\n\\nIk benoem tot leden van de commissie die Zijne Majesteit de Koning en de overige leden van het Koninklijk Huis in- en uitgeleide zal doen: mevrouw Arib, tevens voorzitter, de heer Ganzevoort, mevrouw Ouwehand, mevrou'"
      ]
     },
     "metadata": {},
     "output_type": "display_data"
    },
    {
     "data": {
      "text/plain": [
       "'-- kst-17050-229 --'"
      ]
     },
     "metadata": {},
     "output_type": "display_data"
    },
    {
     "data": {
      "text/plain": [
       "{'creator': [('OVERHEID.StatenGeneraal', 'Tweede Kamer der Staten-Generaal')],\n",
       " 'identifier': [('OVERHEIDop.ParlID', 'kst-17050-229')],\n",
       " 'title': [('',\n",
       "   'Misbruik belastingen, sociale zekerheid en subsidies; Brief minister over de manier waarop inzicht zal worden verkregen in de omvang van de milieufraude')],\n",
       " 'type': [('OVERHEID.Informatietype', 'officiële publicatie'),\n",
       "  ('OVERHEIDop.Parlementair', 'Kamerstuk')],\n",
       " 'available': [('DCTERMS.W3CDTF', '2002-03-22')],\n",
       " 'language': [('DCTERMS.RFC4646', 'nl')],\n",
       " 'category': [('OVERHEID.TaxonomieBeleidsagenda',\n",
       "   'Economie | Organisatie en beleid'),\n",
       "  ('OVERHEID.TaxonomieBeleidsagenda', 'Financiën | Belasting'),\n",
       "  ('OVERHEID.TaxonomieBeleidsagenda',\n",
       "   'Sociale zekerheid | Organisatie en beleid'),\n",
       "  ('OVERHEID.TaxonomieBeleidsagenda', 'Natuur en milieu | Afval'),\n",
       "  ('OVERHEID.TaxonomieBeleidsagenda',\n",
       "   'Natuur en milieu | Organisatie en beleid'),\n",
       "  ('OVERHEID.TaxonomieBeleidsagenda', 'Bestuur | Organisatie en beleid')],\n",
       " 'organisationType': [('OVERHEID.Organisatietype', 'staten generaal')],\n",
       " 'datumBrief': [('DCTERMS.W3CDTF', '2002-03-15')],\n",
       " 'doctype': [('', 'Officiële Publicaties, versie 1.0')],\n",
       " 'documentStatus': [('', 'Opgemaakt')],\n",
       " 'dossiernummer': [('', '17050;22343')],\n",
       " 'dossiertitel': [('',\n",
       "   'Misbruik en oneigenlijk gebruik op het gebied van belastingen, sociale zekerheid en subsidies'),\n",
       "  ('', 'Handhaving milieuwetgeving')],\n",
       " 'ondernummer': [('', '229')],\n",
       " 'publicationName': [('', 'Kamerstuk')],\n",
       " 'vergaderjaar': [('', '2001-2002')],\n",
       " 'pskey': [('', 'KST60272')]}"
      ]
     },
     "metadata": {},
     "output_type": "display_data"
    },
    {
     "data": {
      "text/plain": [
       "\"Aan de Voorzitter van de Tweede Kamer der Staten-Generaal \\n\\n's-Gravenhage,  15 maart 2002\\n\\nOp 19 december 2001 is een Algemeen Overleg gevoerd met de Vaste Commissies\\nvoor Justitie, voor Financiën, voor Sociale Zaken en Werkgelegenheid,\\nen voor Volksgezondheid, Welzijn en Sport over de voortgangsrapportage «Bestrijding\\nfinancieel-economische criminaliteit over het jaar 2000» (Kamerstuk\\n17\\xa0050, nr. 221). \\n\\nIn deze voortgangsrapportage is aangegeven dat vrijwel elk milieu-onderzoek\\neen fraudecomponent bevat (economisch delict). Vanuit de commissies is meer\\ninzicht in de omvang van de milieufraude wenselijk geoordeeld. \\n\\nMijn ambtgenoot van Justitie heeft mij gevraagd om u te berichten over\\nmogelijkheden om in de toekomst een nadere uitsplitsing te geven. \\n\\nEen precieze registratie is lastig, omdat het bij milieu-onderzoeken steeds\\nom zeer uiteenlopende misdrijven en wetsovertredingen gaat. Veelal is er geen\\ndan wel een indirecte relatie met eventueel door de overheid verstrekte subsidieg\""
      ]
     },
     "metadata": {},
     "output_type": "display_data"
    }
   ],
   "source": [
    "import wetsuite.helpers.split\n",
    "from importlib import reload\n",
    "reload( wetsuite.helpers.split )\n",
    "\n",
    "for area in groups:\n",
    "    #print( f'==== {area} ====' )\n",
    "    for id, metadata_and_data_pair in groups[area].items():\n",
    "        display( f'-- {id:10s} --' )\n",
    "        for mtype, source_url in metadata_and_data_pair.items():\n",
    "            if mtype == 'metadata':\n",
    "                 metabytes = px.data.get(source_url)\n",
    "                 display( wetsuite.helpers.koop_parse.parse_op_metafile( metabytes, as_dict=True ) )\n",
    "            elif mtype == 'xml':\n",
    "                 xmlbytes = px.data.get(source_url)\n",
    "\n",
    "                 #While you probably want to handle the XML contents in mor3e detail\n",
    "                 #   (...uncomment the next line to get spammed with rawish XML...)\n",
    "                 #display( wetsuite.helpers.etree.debug_color( xmlbytes ) )\n",
    "                 #...that is a bit daunting at first, so we have some code that tries to extract just the main body of text.\n",
    "                 #   (the `feeling_lucky()` call simplifies this, and this works because it has already been told \n",
    "                 #    about these document formats - you may or may not wish to learn how that actually works)\n",
    "                 textary = wetsuite.helpers.split.feeling_lucky( xmlbytes ) # ()\n",
    "                 display( '\\n\\n'.join( textary )[:1000] ) # truncate version of that text, for brevity\n",
    "\n",
    "        break # stop after just one example from each area"
   ]
  }
 ],
 "metadata": {
  "kernelspec": {
   "display_name": "Python 3",
   "language": "python",
   "name": "python3"
  },
  "language_info": {
   "codemirror_mode": {
    "name": "ipython",
    "version": 3
   },
   "file_extension": ".py",
   "mimetype": "text/x-python",
   "name": "python",
   "nbconvert_exporter": "python",
   "pygments_lexer": "ipython3",
   "version": "3.8.10"
  },
  "orig_nbformat": 4
 },
 "nbformat": 4,
 "nbformat_minor": 2
}
