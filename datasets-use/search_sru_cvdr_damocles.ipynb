{
  "cells": [
    {
      "attachments": {},
      "cell_type": "markdown",
      "metadata": {
        "colab_type": "text",
        "id": "view-in-github"
      },
      "source": [
        "<a href=\"https://colab.research.google.com/github/knobs-dials/wetsuite-dev/blob/main/examples/datacollect_koop_repos.ipynb\" target=\"_parent\"><img src=\"https://colab.research.google.com/assets/colab-badge.svg\" alt=\"Open In Colab\"/></a>"
      ]
    },
    {
      "attachments": {},
      "cell_type": "markdown",
      "metadata": {
        "id": "rCIrIWma5Omg"
      },
      "source": [
        "## This notebook's goal\n",
        "\n",
        "This is a continuation of the koop_sru_repos notebook in the wetsuite-datacollect repository,\n",
        "focused on a somewhat more real example"
      ]
    },
    {
      "attachments": {},
      "cell_type": "markdown",
      "metadata": {
        "id": "6XwCG0kqe3mt"
      },
      "source": [
        "### Damocles\n",
        "Let's try looking for Amsterdam's policy around on [Wet damocles](https://nl.wikipedia.org/wiki/Wet_Damocles).\n",
        "\n",
        "As [the relevant SRU manual](https://data.overheid.nl/sites/default/files/dataset/d0cca537-44ea-48cf-9880-fa21e1a7058f/resources/Handleiding%2BSRU%2B2.0.pdf) mentions in passing, `dt.spatial` refers to where it applies, `dt.creator` refers to who is responsible for creating the document. For this case we assume they are the same. Also, this repository lets us write `creator` instead of `dt.creator`, etc., nice for a bit of readability in these examples."
      ]
    },
    {
      "cell_type": "code",
      "execution_count": 13,
      "metadata": {},
      "outputs": [],
      "source": [
        "import pprint\n",
        "import random\n",
        "\n",
        "import dateutil\n",
        "\n",
        "import wetsuite.datacollect.koop_sru\n",
        "import wetsuite.helpers.koop_parse"
      ]
    },
    {
      "cell_type": "code",
      "execution_count": 16,
      "metadata": {},
      "outputs": [],
      "source": [
        "sru_cvdr = wetsuite.datacollect.koop_sru.CVDR()\n",
        "\n",
        "#pprint.pprint( sru_cvdr.explain_parsed() ) # seeing which indexes are here. \n",
        "# This one has a more complex information model, so you can dig a little deeper to see what you can do with it."
      ]
    },
    {
      "cell_type": "code",
      "execution_count": 17,
      "metadata": {
        "id": "2107IgKrvMCg"
      },
      "outputs": [],
      "source": [
        "# we'll be playing with queries, so make 'show results' a minimal amount of typing away\n",
        "def print_cvdr_results(records):  \n",
        "    ' takes a list of etree object '\n",
        "    print('fetched %d records\\n'%len(records))\n",
        "    for i, record in enumerate( records ):\n",
        "        print('***  Record %d of %d  ***'%(i+1, sru_cvdr.number_of_records) )\n",
        "        meta = wetsuite.helpers.koop_parse.cvdr_meta(record, flatten=True) # flatten smushes down possibly-repeated fields into a single value. Good enough (only) for presentation.\n",
        "        pprint.pprint( meta )"
      ]
    },
    {
      "cell_type": "code",
      "execution_count": 18,
      "metadata": {},
      "outputs": [
        {
          "name": "stdout",
          "output_type": "stream",
          "text": [
            "fetched 1 records\n",
            "\n",
            "***  Record 1 of 4166  ***\n",
            "{'alternatieveIdentifier': '',\n",
            " 'alternative': 'Verordening op de vastgoedregistratie',\n",
            " 'betreft': 'nieuwe regeling',\n",
            " 'creator': 'Amsterdam (overheid:Gemeente)',\n",
            " 'gedelegeerdeRegelgeving': '<al>Geen</al>',\n",
            " 'identifier': 'CVDR108223_1',\n",
            " 'indeling': 'overig',\n",
            " 'inwerkingtredingDatum': '2008-10-01',\n",
            " 'isFormatOf': 'Gemeenteblad 2008, afd. 3A, nr. 182/461',\n",
            " 'isRatifiedBy': 'gemeenteraad (overheid:BestuursorgaanGemeente)',\n",
            " 'issued': '2008-10-01',\n",
            " 'kenmerk': 'Gemeenteblad 2008, afd. 1, nr. 461',\n",
            " 'language': 'nl',\n",
            " 'modified': '2018-01-30',\n",
            " 'omgevingswet': 'nee',\n",
            " 'onderwerp': 'Ruimtelijke ordening, grondbeleid en bouwen',\n",
            " 'opvolgerVan': '',\n",
            " 'organisatietype': 'Gemeente',\n",
            " 'preferred_url': 'https://lokaleregelgeving.overheid.nl/CVDR108223/1',\n",
            " 'publicatieurl_xhtml': 'https://repository.officiele-overheidspublicaties.nl/cvdr/CVDR108223/1/html/CVDR108223_1.html',\n",
            " 'publicatieurl_xml': 'https://repository.officiele-overheidspublicaties.nl/cvdr/CVDR108223/1/xml/CVDR108223_1.xml',\n",
            " 'redactioneleToevoeging': '<al>Geen</al>',\n",
            " 'source': 'Gemeentewet, art. 149 '\n",
            "           '(http://wetten.overheid.nl/cgi-bin/deeplink/law1/title=Gemeentewet)',\n",
            " 'subject': 'ruimtelijke ordening, verkeer en vervoer',\n",
            " 'title': 'Verordening op de vastgoedregistratie',\n",
            " 'type': 'regeling (overheid:Informatietype)',\n",
            " 'uitwerkingtredingDatum': '2011-05-20'}\n"
          ]
        }
      ],
      "source": [
        "# See if we can search for amsterdam\n",
        "results = sru_cvdr.search_retrieve_many( '(creator any Amsterdam) ', up_to=1 )\n",
        "print_cvdr_results( results ) # show just one of many results, we only check whether it works"
      ]
    },
    {
      "cell_type": "code",
      "execution_count": 19,
      "metadata": {
        "colab": {
          "base_uri": "https://localhost:8080/"
        },
        "id": "lmW6ITNJeWQn",
        "outputId": "6a186d22-b527-4c97-885d-4e20ee0d47b5"
      },
      "outputs": [
        {
          "name": "stdout",
          "output_type": "stream",
          "text": [
            "fetched 0 records\n",
            "\n"
          ]
        }
      ],
      "source": [
        "# seems to work.  Now also require 'damocles' in the body text\n",
        "print_cvdr_results( sru_cvdr.search_retrieve_many( '(creator any Amsterdam) AND (body any damocles)', up_to=5 ) ) "
      ]
    },
    {
      "attachments": {},
      "cell_type": "markdown",
      "metadata": {
        "id": "hFf4vIFSeqrp"
      },
      "source": [
        "Nothing. Hm. Maybe it's called 'damoclesbeleid'?"
      ]
    },
    {
      "cell_type": "code",
      "execution_count": 20,
      "metadata": {
        "colab": {
          "base_uri": "https://localhost:8080/"
        },
        "id": "IUfLd_DKeqzO",
        "outputId": "69454ae3-0a4d-410b-87ea-df9b9fe91276"
      },
      "outputs": [
        {
          "name": "stdout",
          "output_type": "stream",
          "text": [
            "fetched 1 records\n",
            "\n",
            "***  Record 1 of 1  ***\n",
            "{'alternatieveIdentifier': '',\n",
            " 'alternative': 'Verzamelbesluit van de burgemeester van de gemeente Amsterdam '\n",
            "                'verband houdende met de herindeling van de gemeenten '\n",
            "                'Amsterdam en Weesp',\n",
            " 'betreft': 'nieuwe regeling',\n",
            " 'creator': 'Amsterdam (overheid:Gemeente)',\n",
            " 'identifier': 'CVDR674918_1',\n",
            " 'indeling': 'overig',\n",
            " 'inwerkingtredingDatum': '2022-03-25',\n",
            " 'isFormatOf': 'gmb-2022-138618 '\n",
            "               '(https://zoek.officielebekendmakingen.nl/gmb-2022-138618)',\n",
            " 'isRatifiedBy': 'burgemeester (overheid:BestuursorgaanGemeente)',\n",
            " 'issued': '2022-03-07',\n",
            " 'kenmerk': 'Onbekend.',\n",
            " 'language': 'nl',\n",
            " 'modified': '2022-03-25',\n",
            " 'omgevingswet': 'nee',\n",
            " 'onderwerp': '',\n",
            " 'opvolgerVan': '',\n",
            " 'organisatietype': 'Gemeente',\n",
            " 'preferred_url': 'https://lokaleregelgeving.overheid.nl/CVDR674918/1',\n",
            " 'publicatieurl_xhtml': 'https://repository.officiele-overheidspublicaties.nl/cvdr/CVDR674918/1/html/CVDR674918_1.html',\n",
            " 'publicatieurl_xml': 'https://repository.officiele-overheidspublicaties.nl/cvdr/CVDR674918/1/xml/CVDR674918_1.xml',\n",
            " 'redactioneleToevoeging': '',\n",
            " 'source': 'artikel 28 van de Wet algemene regels herindeling '\n",
            "           '(1.0:c:BWBR0003718&artikel=28&g=2021-10-01),  artikel 30 van de '\n",
            "           'Wet algemene regels herindeling '\n",
            "           '(1.0:c:BWBR0003718&artikel=30&g=2021-10-01)',\n",
            " 'subject': 'bestuur en recht',\n",
            " 'title': 'Verzamelbesluit van de burgemeester van de gemeente Amsterdam '\n",
            "          'verband houdende met de herindeling van de gemeenten Amsterdam en '\n",
            "          'Weesp',\n",
            " 'type': 'regeling (overheid:Informatietype)',\n",
            " 'uitwerkingtredingDatum': ''}\n"
          ]
        }
      ],
      "source": [
        "print_cvdr_results( sru_cvdr.search_retrieve_many( '(creator any Amsterdam) AND (body any damocles  OR  body any damoclesbeleid)', up_to=5 ) )"
      ]
    },
    {
      "attachments": {},
      "cell_type": "markdown",
      "metadata": {
        "id": "hDs8IdO7ey1T"
      },
      "source": [
        "Not actually what we want - it's about reorganization and just happens to mention [Damoclesbeleid gemeente Weesp](https://lokaleregelgeving.overheid.nl/CVDR622223/1). \n",
        "\n",
        "If it exists, it probably isn't ***called*** damocles. \n",
        "\n",
        "Let's widen that to also include things that mention one of `drugs softdrugs harddrugs handelshoeveelheid opiumwet 13b` AND mention one of `sluiting herstelsanctie bestuursdwang`.\n",
        "\n",
        "This is a practical consideration: we _will_ get too many results, but what we want should at least be in there,  and filtering out can be easier than continuing to guess. "
      ]
    },
    {
      "cell_type": "code",
      "execution_count": 13,
      "metadata": {
        "colab": {
          "base_uri": "https://localhost:8080/"
        },
        "id": "fdwnatePey8J",
        "outputId": "4dd3c3ef-3a90-411d-fa92-6f1d48310c8c"
      },
      "outputs": [
        {
          "name": "stdout",
          "output_type": "stream",
          "text": [
            "fetched 5 records\n",
            "\n",
            "***  Record 1 of 114  ***\n",
            "{'alternatieveIdentifier': '',\n",
            " 'alternative': 'Beleidsregels sluitingen en heropeningen Amsterdam',\n",
            " 'betreft': 'nieuwe regeling',\n",
            " 'creator': 'Amsterdam (overheid:Gemeente)',\n",
            " 'identifier': 'CVDR640125_1',\n",
            " 'inwerkingtredingDatum': '2020-05-08',\n",
            " 'isFormatOf': 'gmb-2020-115757 '\n",
            "               '(https://zoek.officielebekendmakingen.nl/gmb-2020-115757)',\n",
            " 'isRatifiedBy': 'burgemeester (overheid:BestuursorgaanGemeente)',\n",
            " 'issued': '2020-04-24',\n",
            " 'kenmerk': 'Onbekend.',\n",
            " 'language': 'nl',\n",
            " 'modified': '2020-05-08',\n",
            " 'onderwerp': '',\n",
            " 'opvolgerVan': '',\n",
            " 'organisatietype': 'Gemeente',\n",
            " 'preferred_url': 'https://lokaleregelgeving.overheid.nl/CVDR640125/1',\n",
            " 'publicatieurl_xhtml': 'https://repository.officiele-overheidspublicaties.nl/cvdr/CVDR640125/1/html/CVDR640125_1.html',\n",
            " 'publicatieurl_xml': 'https://repository.officiele-overheidspublicaties.nl/cvdr/CVDR640125/1/xml/CVDR640125_1.xml',\n",
            " 'redactioneleToevoeging': '<al>Deze regeling vervangt de beleidsregels '\n",
            "                           'neergelegd in de Notitie inzake het sluitings- en '\n",
            "                           'heropeningsbeleid met betrekking tot artikel 13b '\n",
            "                           'van de Opiumwet en artikel 2.7 van de Algemene '\n",
            "                           'Plaatselijke Verordening, van 21 april 2005 '\n",
            "                           '(Gemeenteblad 4 mei 2005, afdeling 1 ,nr. '\n",
            "                           '223).</al>',\n",
            " 'source': 'artikel 4:81 van de Algemene wet bestuursrecht '\n",
            "           '(1.0:c:BWBR0005537&artikel=4%3A81&g=2020-04-15),  artikel 13b van '\n",
            "           'de Opiumwet (1.0:c:BWBR0001941&artikel=13b&g=2020-01-01),  artikel '\n",
            "           '172, derde lid, van de Gemeentewet '\n",
            "           '(1.0:c:BWBR0005416&artikel=172&lid=3&g=2020-01-01),  artikel 174a '\n",
            "           'van de Gemeentewet (1.0:c:BWBR0005416&artikel=174a&g=2020-01-01),  '\n",
            "           'https://decentrale.regelgeving.overheid.nl/cvdr/xhtmloutput/historie/amsterdam/72510/72510_9.html '\n",
            "           '()',\n",
            " 'subject': 'bestuur en recht',\n",
            " 'title': 'Beleidsregel van de burgemeester van de gemeente Amsterdam houdende '\n",
            "          'regels omtrent sluitingen en heropeningen (Beleidsregels sluitingen '\n",
            "          'en heropeningen Amsterdam)',\n",
            " 'type': 'regeling (overheid:Informatietype)',\n",
            " 'uitwerkingtredingDatum': '2023-02-01'}\n",
            "***  Record 2 of 114  ***\n",
            "{'alternatieveIdentifier': '',\n",
            " 'alternative': 'Beleidsregels sluitingen en heropeningen Amsterdam',\n",
            " 'betreft': 'nieuwe regeling',\n",
            " 'creator': 'Amsterdam (overheid:Gemeente)',\n",
            " 'identifier': 'CVDR691619_1',\n",
            " 'inwerkingtredingDatum': '2023-02-01',\n",
            " 'isFormatOf': 'gmb-2023-39609 '\n",
            "               '(https://zoek.officielebekendmakingen.nl/gmb-2023-39609)',\n",
            " 'isRatifiedBy': 'burgemeester (overheid:BestuursorgaanGemeente)',\n",
            " 'issued': '2023-01-19',\n",
            " 'kenmerk': 'Onbekend.',\n",
            " 'language': 'nl',\n",
            " 'modified': '2023-02-01',\n",
            " 'onderwerp': '',\n",
            " 'opvolgerVan': '',\n",
            " 'organisatietype': 'Gemeente',\n",
            " 'preferred_url': 'https://lokaleregelgeving.overheid.nl/CVDR691619/1',\n",
            " 'publicatieurl_xhtml': 'https://repository.officiele-overheidspublicaties.nl/cvdr/CVDR691619/1/html/CVDR691619_1.html',\n",
            " 'publicatieurl_xml': 'https://repository.officiele-overheidspublicaties.nl/cvdr/CVDR691619/1/xml/CVDR691619_1.xml',\n",
            " 'redactioneleToevoeging': '<al>Deze regeling vervangt de Beleidsregels '\n",
            "                           'Sluitingen en Heropeningen Amsterdam.</al>',\n",
            " 'source': 'artikel 4:81 van de Algemene wet bestuursrecht '\n",
            "           '(1.0:c:BWBR0005537&artikel=4%3A81&g=2023-01-01),  artikel 13b van '\n",
            "           'de Opiumwet (1.0:c:BWBR0001941&artikel=13b&g=2023-01-01),  artikel '\n",
            "           '172, derde lid, van de Gemeentewet '\n",
            "           '(1.0:c:BWBR0005416&artikel=172&lid=3&g=2023-01-01),  artikel 174a '\n",
            "           'van de Gemeentewet (1.0:c:BWBR0005416&artikel=174a&g=2023-01-01),  '\n",
            "           'artikel 175 van de Gemeentewet '\n",
            "           '(1.0:c:BWBR0005416&artikel=175&g=2023-01-01),  Algemene '\n",
            "           'Plaatselijke Verordening 2008 '\n",
            "           '(https://lokaleregelgeving.overheid.nl/CVDR72510/45)',\n",
            " 'subject': 'openbare orde en veiligheid',\n",
            " 'title': 'Besluit van de burgemeester van de gemeente Amsterdam houdende '\n",
            "          'beleidsregels over de sluitingsbevoegdheid op grond van de '\n",
            "          'Opiumwet, de Gemeentewet en de Algemene Plaatselijke Verordening '\n",
            "          '2008 (Beleidsregels sluitingen en heropeningen Amsterdam)',\n",
            " 'type': 'regeling (overheid:Informatietype)',\n",
            " 'uitwerkingtredingDatum': ''}\n",
            "***  Record 3 of 114  ***\n",
            "{'alternatieveIdentifier': '',\n",
            " 'alternative': 'Algemene Plaatselijke Verordening 2008',\n",
            " 'betreft': 'art. 3.1.2. onder u, art. 3.6, art. 3.14 lid 2, art. 3.19, art. '\n",
            "            '3.21 en de toelichting op deze artikelen',\n",
            " 'creator': 'Amsterdam (overheid:Gemeente)',\n",
            " 'gedelegeerdeRegelgeving': '<al>Geen</al>',\n",
            " 'identifier': '72510_10',\n",
            " 'inwerkingtredingDatum': '2012-08-02',\n",
            " 'isFormatOf': 'Gemeenteblad 2012, afd. 3A, nr. 100/524 ()',\n",
            " 'isRatifiedBy': 'gemeenteraad (overheid:BestuursorgaanGemeente)',\n",
            " 'issued': '2013-03-18',\n",
            " 'kenmerk': 'Gemeenteblad 2012, afd. 1, nr. 524',\n",
            " 'language': 'nl',\n",
            " 'modified': '2013-04-12',\n",
            " 'onderwerp': 'Openbare orde en veiligheid',\n",
            " 'opvolgerVan': '',\n",
            " 'organisatietype': 'Gemeente',\n",
            " 'preferred_url': 'https://lokaleregelgeving.overheid.nl/72510/10',\n",
            " 'publicatieurl_xhtml': 'https://repository.officiele-overheidspublicaties.nl/cvdr/72510/10/html/72510_10.html',\n",
            " 'publicatieurl_xml': 'https://repository.officiele-overheidspublicaties.nl/cvdr/72510/10/xml/72510_10.xml',\n",
            " 'redactioneleToevoeging': '<al>Geen</al>',\n",
            " 'source': 'Gemeentewet, art. 149 '\n",
            "           '(http://wetten.overheid.nl/cgi-bin/deeplink/law1/title=Gemeentewet)',\n",
            " 'title': 'Algemene Plaatselijke Verordening 2008',\n",
            " 'type': 'regeling (overheid:Informatietype)',\n",
            " 'uitwerkingtredingDatum': '2013-03-18'}\n",
            "***  Record 4 of 114  ***\n",
            "{'alternatieveIdentifier': '',\n",
            " 'alternative': 'Algemene Plaatselijke Verordening 2008',\n",
            " 'betreft': 'wijziging art. 4.13',\n",
            " 'creator': 'Amsterdam (overheid:Gemeente)',\n",
            " 'identifier': '72510_4',\n",
            " 'inwerkingtredingDatum': '2009-10-01',\n",
            " 'isFormatOf': 'Gemeenteblad 2009, afd. 3A, nr. 145/384 '\n",
            "               '(http://www.regelgeving.amsterdam.nl/centralestad/algemene_plaatselijke_verordening_2008/20091001)',\n",
            " 'isRatifiedBy': 'gemeenteraad (overheid:BestuursorgaanGemeente)',\n",
            " 'kenmerk': 'Gemeenteblad 2009, afd. 1, nr. 384',\n",
            " 'language': 'nl',\n",
            " 'modified': '2009-10-26',\n",
            " 'onderwerp': '',\n",
            " 'opvolgerVan': '',\n",
            " 'organisatietype': 'Gemeente',\n",
            " 'preferred_url': 'https://lokaleregelgeving.overheid.nl/72510/4',\n",
            " 'publicatieurl_xhtml': 'https://repository.officiele-overheidspublicaties.nl/cvdr/72510/4/html/72510_4.html',\n",
            " 'publicatieurl_xml': 'https://repository.officiele-overheidspublicaties.nl/cvdr/72510/4/xml/72510_4.xml',\n",
            " 'redactioneleToevoeging': '',\n",
            " 'source': 'Gemeentewet, art. 149 '\n",
            "           '(http://wetten.overheid.nl/cgi-bin/deeplink/law1/title=Gemeentewet)',\n",
            " 'title': 'Algemene Plaatselijke Verordening 2008',\n",
            " 'type': 'regeling (overheid:Informatietype)',\n",
            " 'uitwerkingtredingDatum': '2009-11-01'}\n",
            "***  Record 5 of 114  ***\n",
            "{'alternatieveIdentifier': '',\n",
            " 'alternative': 'Algemene Plaatselijke Verordening 2008',\n",
            " 'betreft': 'wijziging toelichting art. 4.27 lid 2 onder b',\n",
            " 'creator': 'Amsterdam (overheid:Gemeente)',\n",
            " 'identifier': '72510_5',\n",
            " 'inwerkingtredingDatum': '2009-11-01',\n",
            " 'isFormatOf': 'Gemeenteblad 2009, afd. 3A, nr. 160/375 '\n",
            "               '(http://www.regelgeving.amsterdam.nl/centralestad/algemene_plaatselijke_verordening_2008/20091101)',\n",
            " 'isRatifiedBy': 'gemeenteraad (overheid:BestuursorgaanGemeente)',\n",
            " 'kenmerk': 'Gemeenteblad 2009, afd. 1, nr. 375',\n",
            " 'language': 'nl',\n",
            " 'modified': '2009-12-30',\n",
            " 'onderwerp': '',\n",
            " 'opvolgerVan': '',\n",
            " 'organisatietype': 'Gemeente',\n",
            " 'preferred_url': 'https://lokaleregelgeving.overheid.nl/72510/5',\n",
            " 'publicatieurl_xhtml': 'https://repository.officiele-overheidspublicaties.nl/cvdr/72510/5/html/72510_5.html',\n",
            " 'publicatieurl_xml': 'https://repository.officiele-overheidspublicaties.nl/cvdr/72510/5/xml/72510_5.xml',\n",
            " 'redactioneleToevoeging': '',\n",
            " 'source': 'Gemeentewet, art. 149 '\n",
            "           '(http://wetten.overheid.nl/cgi-bin/deeplink/law1/title=Gemeentewet)',\n",
            " 'title': 'Algemene Plaatselijke Verordening 2008',\n",
            " 'type': 'regeling (overheid:Informatietype)',\n",
            " 'uitwerkingtredingDatum': '2009-12-28'}\n"
          ]
        }
      ],
      "source": [
        "print_cvdr_results( sru_cvdr.search_retrieve_many( '(creator any \"Amsterdam\") AND ( (body any \"damoclesbeleid damocles\") OR (body any \"drugs softdrugs harddrugs handelshoeveelheid opiumwet 13b\") AND (body any \"sluiting herstelsanctie bestuursdwang\"))', up_to=5 ) )\n",
        "\n"
      ]
    },
    {
      "attachments": {},
      "cell_type": "markdown",
      "metadata": {
        "id": "fyD55XLugody"
      },
      "source": [
        "There it is, plus a bunch of unrelated and expired entries.  We'll get to the expiry part of that in the next section."
      ]
    },
    {
      "attachments": {},
      "cell_type": "markdown",
      "metadata": {
        "id": "s_D98WGcmnIg"
      },
      "source": [
        "### Damocles per municipality\n",
        "\n",
        "We have a list of municipalities:"
      ]
    },
    {
      "cell_type": "code",
      "execution_count": null,
      "metadata": {
        "colab": {
          "base_uri": "https://localhost:8080/"
        },
        "id": "GznrOETBmq9B",
        "outputId": "083df52c-fc59-4110-8253-af23b8e6a02e"
      },
      "outputs": [],
      "source": [
        "gem = wetsuite.datasets.load('gemeentes')\n",
        "print( gem.description )"
      ]
    },
    {
      "cell_type": "code",
      "execution_count": 18,
      "metadata": {
        "colab": {
          "base_uri": "https://localhost:8080/"
        },
        "id": "gFxGgORwnPKc",
        "outputId": "1e481741-f258-4fe1-a5b3-72de5bcb36b3"
      },
      "outputs": [
        {
          "name": "stdout",
          "output_type": "stream",
          "text": [
            "{'Aantal inwoners': '74298',\n",
            " 'Bevat plaatsen': ['Blokker', 'Hoorn NH', 'Zwaag'],\n",
            " 'CBSCode': '0405',\n",
            " 'Namen': ['Hoorn', 'Gemeente Hoorn'],\n",
            " 'OWMS URI': 'http://standaarden.overheid.nl/owms/terms/Hoorn_(gemeente)',\n",
            " 'Oppervlakte': [52, 'km2'],\n",
            " 'Organisatiecode': 'gm0405',\n",
            " 'Overlaps with': [['Hoogheemraadschap Hollands Noorderkwartier'],\n",
            "                   ['Noord-Holland']],\n",
            " 'Predecessors': [],\n",
            " 'Raad': [['Fractie Tonnaer', 6],\n",
            "          ['Hoorn lokaal', 4],\n",
            "          ['ÉénHoorn', 4],\n",
            "          ['GroenLinks', 4],\n",
            "          ['VVD', 3],\n",
            "          ['D66', 3],\n",
            "          ['PvdA', 3],\n",
            "          ['CDA', 2],\n",
            "          ['Liberaal Hoorn', 2],\n",
            "          ['Sociaal Hoorn', 2],\n",
            "          ['De Realistische Partij', 1],\n",
            "          ['ChristenUnie', 1]],\n",
            " 'Service area of': [['Afvalbeheer Westfriesland', 'ABWF'],\n",
            "                     ['Gemeentelijke Gezondheidsdienst Hollands Noorden',\n",
            "                      'GGD HN',\n",
            "                      'GGD Hollands Noorden',\n",
            "                      '1620'],\n",
            "                     ['Milieudienst Westfriesland'],\n",
            "                     ['OD NHN', 'Omgevingsdienst Noord-Holland Noord'],\n",
            "                     ['RUD NHN',\n",
            "                      'Regionale Uitvoeringsdienst Noord-Holland Noord'],\n",
            "                     ['Recreatieschap Westfriesland'],\n",
            "                     ['Regiokorps Politie Noord-Holland-Noord'],\n",
            "                     ['Veiligheidsregio Noord-Holland Noord'],\n",
            "                     ['Veiligheidsregio Noord-Holland-Noord'],\n",
            "                     ['WerkSaam', 'WerkSaam Westfriesland'],\n",
            "                     ['Westfries Archief, Regionaal Historisch Centrum voor '\n",
            "                      'West-Friesland',\n",
            "                      'WFA',\n",
            "                      'Westfries Archief']],\n",
            " 'Totaal aantal zetels': '35'}\n"
          ]
        }
      ],
      "source": [
        "# Showing one random example of gemeente data.\n",
        "#   in this example we only actually care about 'Namen', though\n",
        "pprint.pprint( random.choice( gem.data ) )"
      ]
    },
    {
      "attachments": {},
      "cell_type": "markdown",
      "metadata": {
        "id": "n3rjSWgaF8_R"
      },
      "source": [
        "For each municipality, we pick out 'Namen' and put it in a query:"
      ]
    },
    {
      "cell_type": "code",
      "execution_count": 20,
      "metadata": {
        "colab": {
          "base_uri": "https://localhost:8080/"
        },
        "id": "DB6Ty3BOnWSd",
        "outputId": "71f39d2c-fec2-4230-b498-af5a98564e2a"
      },
      "outputs": [
        {
          "name": "stdout",
          "output_type": "stream",
          "text": [
            "\n",
            " ==  56  hits for   Den Haag / Gemeente Den Haag / 's-Gravenhage == \n",
            "     CVDR645629_1  2020-11-10..            Beleidsregel toezicht bedrijfsmatige activiteiten 2020\n",
            "     CVDR674619_1  2022-03-24..            Beleidsregel bestuurlijke boete, sluiting en beheerovername op grond van de Woningwet Den Haag 2022\n",
            "     CVDR690428_1  2023-01-01..            Beleidsregel beoordeling levensgedrag Den Haag 2023\n",
            "     CVDR11313_53  2022-12-01..            Algemene plaatselijke verordening voor de gemeente Den Haag\n",
            "\n",
            " ==  25  hits for   Den Helder / Gemeente Den Helder == \n",
            "     CVDR657606_1  2021-05-15..            Beleidsregel van de burgemeester van de gemeente Den Helder, houdende regels over sluiting van lokalen en woningen op grond van artikel 13b Opiumwet (Damoclesbeleid Den Helder 2021)\n",
            "     CVDR674768_1  2022-03-26..            Beleidsregels van de burgemeester van de gemeente Den Helder, houdende regels omtrent coffeeshops (Beleid coffeeshops Den Helder 2022)\n",
            "     CVDR627607_1  2019-09-20..            Besluit van de gemeenteraad van de gemeente Den Helder houdende regels omtrent vergunningverlening, toezicht en handhaving\n",
            "     CVDR670333_2  2022-03-25..            Besluit van de raad van de gemeente Den Helder tot vaststelling van de Algemene plaatselijke verordening Den Helder 2021 (Algemene plaatselijke verordening Den Helder 2021)\n",
            "     CVDR655148_1  2021-03-13..            Beleidsregels van het college van burgemeester en wethouders van de gemeente Den Helder, houdende regels over bijstandsverlening aan zelfstandigen (Beleidsregels Bijstandsverlening zelfstandigen (Bbz 2004) gemeente Den Helder)\n",
            "     CVDR657181_1  2021-05-01..            Beleidsregel van het college van burgemeester en wethouders van de gemeente Den Helder houdende regels omtrent de procedures, voorschriften en afspraken rond evenementenvergunningen\n",
            "     CVDR695416_1  2024-01-01..            Besluit van de gemeenteraad van de gemeente Den Helder, houdende regels over de fysieke leefomgeving (Verordening Fysieke Leefomgeving Den Helder)\n",
            "\n",
            " ==  13  hits for   Deurne / Gemeente Deurne == \n",
            "     CVDR665664_1  2021-12-04..            Beleidsregel handhavingsprotocol Opiumwet 13b Deurne 2021\n",
            "     CVDR490139_4  2021-12-30..            Algemene Plaatselijke Verordening Deurne 2018\n",
            "     CVDR640681_4  2022-11-18..2023-06-02  Algemene mandaatregeling Deurne 2020\n",
            "\n",
            " ==  15  hits for   Deventer / Gemeente Deventer == \n",
            "      CVDR19959_1  2009-11-04..            Beleidsregels handhavingsprotocol art. 13b Opiumwet\n",
            "     CVDR375267_1  2015-08-22..            Gedoog- en handhavingsarrangement artikel 13b Opiumwet\n",
            "     CVDR665128_3  2022-12-03..            Algemene plaatselijke verordening Deventer\n",
            "     CVDR640609_1  2020-05-28..            Beleidsregel van de burgemeester van de gemeente Deventer houdende regels omtrent aanpak woonoverlast gemeente Deventer\n",
            "\n",
            " ==  22  hits for   Diemen / Gemeente Diemen == \n",
            "     CVDR449569_1  2017-04-05..            Geüniformeerd bestuursrechtelijk handhavingsbeleid met betrekking tot overtredingen van de Opiumwet (Sluitings- en heropeningsbeleid)\n",
            "     CVDR483831_5  2022-03-01..            Algemene Plaatselijke Verordening Diemen 2015\n",
            "     CVDR693548_1  2023-03-22..            Uitvoerings- en handhavingsbeleid VTH Omgevingsrecht Gemeente Diemen 2023 - 2026\n",
            "     CVDR684528_1  2022-11-26..            Uitvoeringsplan vergunningverlening, toezicht en handhaving omgevingsrecht en openbare orde & veiligheid gemeente Diemen 2021\n",
            "     CVDR684216_1  2022-11-24..            Meerjarenbeleidsplan integrale veiligheid 2019-2022\n",
            "     CVDR486018_1  2018-03-15..            Beleidsregel Wet aanpak woonoverlast gemeente Diemen\n",
            "     CVDR487010_1  2018-04-13..            Uitvoeringsplan vergunningverlening, toezicht en handhaving omgevingsrecht gemeente Diemen 2018\n",
            "     CVDR626625_1  2019-07-26..            Integraal vergunningverlenings-, toezichts- en handhavingsbeleid gemeente Diemen 2019-2022\n",
            "     CVDR672622_1  2022-02-10..            Bevoegdhedenregeling gemeente Diemen April 2021\n",
            "     CVDR438689_1  2017-01-01..            Integraal VTH beleid gemeente Diemen 2017 en 2018\n"
          ]
        }
      ],
      "source": [
        "for gemeente_dict in gem.data[65:70]: \n",
        "    # that indexing around 60 is looking for den haag  with its other name, \n",
        "    # to check that the code and search are not not tripping over that.      \n",
        "    #   (-35:-30  exposes a current repo bug)\n",
        "\n",
        "    # We probably want to search in the index called 'creator'\n",
        "    # When there are multiple names, we accept any name.\n",
        "    # doublequotes because there's spaces in some names.\n",
        "    query_gemeente_names = ' OR '.join( '(creator = \"%s\")'%naam   for naam in gemeente_dict['Namen'] )\n",
        "\n",
        "    # this is the name requirement, plus the query we settled on earlier\n",
        "    query = '(%s) AND ( (body any \"damoclesbeleid damocles\")  OR  (body any \"drugs softdrugs harddrugs handelshoeveelheid opiumwet 13b\") AND (body any \"sluiting herstelsanctie bestuursdwang\"))'%( \n",
        "        query_gemeente_names\n",
        "    )\n",
        "\n",
        "    ## search and fetch only first page, just so that num_records is filled in to report\n",
        "    cvdr = wetsuite.datacollect.koop_sru.CVDR()\n",
        "    cvdr.search_retrieve( query ) \n",
        "    print( \"\\n == %3d  hits for   %s == \"%(cvdr.num_records(), ' / '.join(gemeente_dict['Namen'])) )\n",
        "\n",
        "    ## search and fetch all, summarizing each record as we go  (callback style instead)\n",
        "    def show_brief( record ): \n",
        "        meta = wetsuite.helpers.koop_parse.cvdr_meta( record, flatten=True )\n",
        "        uit = meta.get('uitwerkingtredingDatum', None)  # ignore things that are expired, because they were probably replaced by something else also in the results  (side note: the expiry data doesn't look 100% correct)\n",
        "\n",
        "        # old policies are still in here, and we can reasonably assume that ones that expired will probably be replaced by another in the results, so we can just hide them. \n",
        "        # Yes, this can also be done in the query\n",
        "        if uit not in (None,'')  and  (dateutil.parser.parse(uit.split('+')[0]).date() < datetime.date.today()):  # TODO: push newer code that avoids the need for that + nonsense\n",
        "            pass\n",
        "        else:\n",
        "            print( \"  %15s  %10s..%-10s  %s\"%( meta.get('identifier'), meta.get('inwerkingtredingDatum'),  meta.get('uitwerkingtredingDatum',''),  meta.get('title')) )\n",
        "            #print('    URL: %s'%meta.get('publicatieurl_xml') )     # 'publicatieurl_xml' points to text in structured XML.  There is also 'publicatieurl_xhtml' (more browser-presentable),  and 'preferred_url' (a link to the page that lokaleregelgeving.overheid.nl would also send you to)\n",
        "            \n",
        "            if False: # If you wanted to extract the text, this would be a (very crude) start:\n",
        "              xml_data = wetsuite.helpers.net.download( meta.get('publicatieurl_xml') )\n",
        "              tree = etree.strip_namespace( etree.fromstring( xml_data ) )\n",
        "              for al in tree.find('body/regeling/regeling-tekst').getiterator('al'):\n",
        "                  print(  ''.join( etree.all_text_fragments(al) )  )\n",
        "\n",
        "    cvdr.search_retrieve_many( query, callback=show_brief ) # all results, and show brief summary, mainly just titles"
      ]
    },
    {
      "attachments": {},
      "cell_type": "markdown",
      "metadata": {
        "id": "ZFZ7kfyqeqC6"
      },
      "source": [
        "Always think and check, rather than trust automation blindly.\n",
        "\n",
        "In this case, consider:\n",
        "- the above search doesn't have a good hit for Den Haag. \n",
        "  - They do actually have a policy, but [on their website](https://denhaag.raadsinformatie.nl/modules/13/Overige_bestuurlijke_stukken/113642) rather than in in CVDR, because they're not quite part of it yet. There are other cases like this, which you will probably only really find out by hand and/or with experience.\n",
        "<!-- -->\n",
        "\n",
        "- [CVDR19959/1](https://lokaleregelgeving.overheid.nl/CVDR19959/1) and [CVDR375267/1](https://lokaleregelgeving.overheid.nl/CVDR375267/1) look to me like the same thing, for Deventer, and both mention they are current. \n",
        "  - I can't tell offhand whether that's correct, or they e.g. forgot to mark the older one as ended when the newer one was introduced. There are a handful more cases like these, so it might instead have some practical or legal reason I am not aware of.\n",
        "<!-- -->\n",
        "\n",
        "- Municipality mergers means names change over time, e.g. `Kollumerland en Nieuwkruisland` (a.k.a. `Kollumerland ca.`), `Dongeradeel`, en `Ferwerderadeel` are now `Noardeast-Fryslân`.\n",
        "  - Presumably they don't re-issue all policy on that day - which probably means most active policy is still under the old name? \n",
        "    - TODO: actually look into that - it might be worth finding all historic names and mentioning them in the gemeente list/dataset - somehow.\n",
        "<!-- -->\n",
        "\n",
        "- Municipality naming converntions may throw you off. Consider e.g.:\n",
        "  - `Den Haag` is also known as `'s-Gravenhage`, and `Den Bosch` is also known as `'s-Hertogenbosch`\n",
        "  - abbreviations, e.g. `Nuenen, Gerwen en Nederwetten` may appear as `Neunen c.a.` - and I would assume also often just `Neunen`\n",
        "  - somewhat less officially, Frisian towns should be assumed to an have two equivalent names. This may be subtle (`Dantumadeel` versus `Dantumadiel`) or less so (`Leeuwarden` versus `Ljouwert`). These may be used in documents. They do not seem to be part of the mentioned gemeente list/dataset. This merits some investigation as well.\n",
        "\n",
        "<!-- -->\n",
        "\n",
        "- There is a `Bergen` (municipality _and_ town) in Noord Holland and a `Bergen` (municipality _and_ town) in Limburg. \n",
        "  - In [this government list](https://organisaties.overheid.nl/export/Gemeenten.csv) the municipalities are called `Bergen (L)` and `Bergen NH` but it seems a poor idea to assume that is precisely how they appear in all use. You should proably assume searches by name will mix these two, for you to resolve manually (it would be nice if we could search by gemeentecode/organisatiecode, here gm0893 and gm0373 respectively - again, see that mentioned gemeente list/dataset).\n"
      ]
    }
  ],
  "metadata": {
    "colab": {
      "include_colab_link": true,
      "provenance": [],
      "toc_visible": true
    },
    "kernelspec": {
      "display_name": "Python 3",
      "name": "python3"
    },
    "language_info": {
      "codemirror_mode": {
        "name": "ipython",
        "version": 3
      },
      "file_extension": ".py",
      "mimetype": "text/x-python",
      "name": "python",
      "nbconvert_exporter": "python",
      "pygments_lexer": "ipython3",
      "version": "3.8.10"
    }
  },
  "nbformat": 4,
  "nbformat_minor": 0
}
