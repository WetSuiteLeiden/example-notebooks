{
  "cells": [
    {
      "cell_type": "markdown",
      "metadata": {
        "id": "WA3ztv-SU0uO"
      },
      "source": [
        "If you want to start playing with this without installation, try:\n",
        "<a href=\"https://colab.research.google.com/github/knobs-dials/wetsuite-notebooks/blob/main/dataset_intro_by_doing__0intro.ipynb\" target=\"_parent\"><img src=\"https://colab.research.google.com/assets/colab-badge.svg\" alt=\"Open In Colab\"/></a>"
      ]
    },
    {
      "cell_type": "markdown",
      "metadata": {
        "id": "VDSic6hRU0uP"
      },
      "source": [
        "# WetSuite datasets: introduction (part 1)\n",
        "\n",
        "WetSuite provides tools to more easily use existing legal datasets. In this series of example notebooks, we explain which datasets can be accessed via the `wetsuite-core` library, and how you can use this to speed up your research.\n",
        "\n",
        "## Types of legal datasets\n",
        "A lot of different legal datasets exist (TODO: reference the website here). The `wetsuite-core` library provides an easier interface to interact with some datasets. For each of these datasets, WetSuite also provides ready-made sample datasets which can help you practice your technical skills and show what's possible. The sample datasets are incomplete, as most datasets are quite big. Furthermore, the sample datasets won't be updated: they remain static.\n",
        "\n",
        "## Purpose of this notebook\n",
        "In this first part, we show how to install the `wetsuite-core` library for use in your Python Notebook (or project). Then we show how to interact with the ready-made datasets provided by WetSuite.\n",
        "\n",
        "## Summary\n",
        "* WetSuite provides code to access some legal datasets in the `wetsuite-core` library.\n",
        "* WetSuite provides some small ready-made datasets which can also be accessed via the `wetsuite-core` library.\n"
      ]
    },
    {
      "cell_type": "markdown",
      "metadata": {
        "id": "s2d35L3bcqhw"
      },
      "source": [
        "# Step 1: Using the `wetsuite-core` library\n",
        "\n",
        "The `wetsuite-core` library provides, among other things, interfaces to interact in a practical manner directly with some existing legal datasets which are made available online. For example, you can easily download all published judgments by a specific court in the Netherlands as made available by the Raad voor de rechtspraak.\n",
        "\n",
        "In order to use the `wetsuite-core` library, download and install the library by running the following code block:\n",
        "\n",
        "(TODO: also add documentation on how to run this locally?)"
      ]
    },
    {
      "cell_type": "code",
      "execution_count": 1,
      "metadata": {
        "id": "zda46Be8U0uS"
      },
      "outputs": [],
      "source": [
        "# (only) in colab, run this first to install wetsuite from (the most recent) source.   For your own setup, see wetsuite's install guidelines.\n",
        "!pip3 install -U wetsuite"
      ]
    },
    {
      "cell_type": "markdown",
      "metadata": {},
      "source": [
        "Once the library is installed, we can import these in our Python file:"
      ]
    },
    {
      "cell_type": "code",
      "execution_count": 1,
      "metadata": {
        "colab": {
          "base_uri": "https://localhost:8080/"
        },
        "id": "f1h4H0pVU0uT",
        "outputId": "2c0790c5-6558-4a27-ead8-7bd16da2ebf1"
      },
      "outputs": [],
      "source": [
        "import wetsuite.datasets"
      ]
    },
    {
      "cell_type": "markdown",
      "metadata": {},
      "source": [
        "# Step 2: Finding a sample dataset"
      ]
    },
    {
      "cell_type": "markdown",
      "metadata": {},
      "source": [
        "Once a library is imported, we can use it in our program. By calling the following function, we can see which sample datasets are currently available. Please note that it might change over time which sample datasets are available."
      ]
    },
    {
      "cell_type": "code",
      "execution_count": 2,
      "metadata": {},
      "outputs": [
        {
          "data": {
            "text/plain": [
              "['bwb-mostrecent-meta-struc',\n",
              " 'bwb-mostrecent-text',\n",
              " 'bwb-mostrecent-xml',\n",
              " 'cvdr-mostrecent-html',\n",
              " 'cvdr-mostrecent-meta-struc',\n",
              " 'cvdr-mostrecent-text',\n",
              " 'cvdr-mostrecent-xml',\n",
              " 'gemeentes-struc',\n",
              " 'internetconsultaties-partial-struc',\n",
              " 'kansspelautoriteit-sancties-struc',\n",
              " 'parliament-sample-xml',\n",
              " 'raadvanstate-adviezen-struc',\n",
              " 'rechtspraaknl-sample-xml',\n",
              " 'rechtspraaknl-struc',\n",
              " 'tweedekamer-fractie-membership-struc',\n",
              " 'tweedekamer-fracties-struc',\n",
              " 'tweedekamer-kamervragen-struc',\n",
              " 'wetnamen',\n",
              " 'woo_besluiten_docs_text',\n",
              " 'woo_besluiten_meta']"
            ]
          },
          "execution_count": 2,
          "metadata": {},
          "output_type": "execute_result"
        }
      ],
      "source": [
        "wetsuite.datasets.list_datasets()"
      ]
    },
    {
      "cell_type": "markdown",
      "metadata": {},
      "source": [
        "Each sample dataset also has a short (and longer) description, and we can see what the size is of each dataset.\n",
        "\n",
        "You can get that in data form by running: "
      ]
    },
    {
      "cell_type": "code",
      "execution_count": null,
      "metadata": {},
      "outputs": [],
      "source": [
        "wetsuite.datasets.fetch_index() # which gives the same names, together with details about each"
      ]
    },
    {
      "cell_type": "markdown",
      "metadata": {},
      "source": [
        "...or you could pick out those details and print a summary. Because you probably  "
      ]
    },
    {
      "cell_type": "code",
      "execution_count": 3,
      "metadata": {
        "colab": {
          "base_uri": "https://localhost:8080/"
        },
        "id": "KNy-7ETmU0uU",
        "outputId": "c0b7a475-5a7c-4b70-b66e-87f56b1bc318"
      },
      "outputs": [
        {
          "name": "stdout",
          "output_type": "stream",
          "text": [
            "bwb-mostrecent-meta-struc               \t  186MiB\tMetadata structure text for the latest revision from each BWB-id\n",
            "bwb-mostrecent-text                     \t  393MiB\tPlain text for the latest revision from each BWB-id\n",
            "bwb-mostrecent-xml                      \t  2.9GiB\tRaw XML for the latest revision from each BWB-id\n",
            "cvdr-mostrecent-html                    \t 14.3GiB\tRaw HTML for the latest expression within each CVDR work set\n",
            "cvdr-mostrecent-meta-struc              \t  259MiB\tMetadata for the latest expression within each CVDR work set\n",
            "cvdr-mostrecent-text                    \t  3.8GiB\tFlattened plain text for the latest expression within each CVDR work set\n",
            "cvdr-mostrecent-xml                     \t  8.7GiB\tRaw XML for the latest expression within each CVDR work set\n",
            "gemeentes-struc                         \t  374KiB\tA list of gemeentes, and some details about each.\n",
            "internetconsultaties-partial-struc      \t   82MiB\tThe text contents of a good portion of the answers at https://www.internetconsultatie.nl\n",
            "kansspelautoriteit-sancties-struc       \t  8.8MiB\tMetadata and plain text form of the set of PDFs you can find under https://kansspelautoriteit.nl/aanpak-misstanden/sanctiebesluiten/ \n",
            "parliament-sample-xml                   \t  1.7GiB\tA moderate-sized collection of kamerstukken, handelingen, and aanhangsels\n",
            "raadvanstate-adviezen-struc             \t  140MiB\tA parsed, plain-text form of Raad van State (state council) advice, specifically the set of documents under https://www.raadvanstate.nl/adviezen\n",
            "rechtspraaknl-sample-xml                \t  3.9GiB\t A small sample of the XML form available at rechtspraak.nl: documents from 2022 on \n",
            "rechtspraaknl-struc                     \t 12.3GiB\tNone\n",
            "tweedekamer-fractie-membership-struc    \t  800KiB\tDescription of people, including party memberships over time.\n",
            "tweedekamer-fracties-struc              \t   72KiB\tDescription of political parties/fracties.\n",
            "tweedekamer-kamervragen-struc           \t  606MiB\t Questions from members of the parliament (tweede kamer) to the government. \n",
            "wetnamen                                \t  6.5MiB\tA name for each BWB-ID\n",
            "woo_besluiten_docs_text                 \t  123MiB\tNone\n",
            "woo_besluiten_meta                      \t    3MiB\tNone\n"
          ]
        }
      ],
      "source": [
        "wetsuite.datasets.print_dataset_summary() \n",
        "# that function actually uses , which gives more detailed\n",
        "# ...and prints just a few parts of it "
      ]
    },
    {
      "cell_type": "markdown",
      "metadata": {},
      "source": [
        "You can read a longer description if you care. You can pick it out of what fetch_index gives, \n",
        "but it's less typing to use our function that does just that:  "
      ]
    },
    {
      "cell_type": "code",
      "execution_count": 3,
      "metadata": {},
      "outputs": [
        {
          "name": "stdout",
          "output_type": "stream",
          "text": [
            "\n",
            "    Questions from members of the parliament (tweede kamer) to the government.\n",
            "\n",
            "    Source: Officiele publicaties, specifically the ah-tk documents (aanhangsels, tweede kamer), as fetched from the KOOP repositories,\n",
            "    and further restricted to the documents that actually contain answers \n",
            "    (so ignoring documents that are only the questions, or only the questions and a note that they will be answered later).\n",
            "\n",
            "    The structure of .data looks something like:\n",
            "       {'ah-tk-20102011-2857': {\n",
            "            'identifier': 'ah-tk-20102011-2857',\n",
            "            'urls':   [ 'https://repository.overheid.nl/frbr/officielepublicaties/ah-tk/20102011/ah-tk-20102011-2857/1/metadata/metadata.xml',\n",
            "                        'https://repository.overheid.nl/frbr/officielepublicaties/ah-tk/20102011/ah-tk-20102011-2857/1/xml/ah-tk-20102011-2857.xml',\n",
            "                        ... \n",
            "                      ],\n",
            "            'issued':       '2011-06-17',\n",
            "            'available':    '2011-06-23',\n",
            "            'vergaderjaar': '2010-2011',\n",
            "            'category':     'Zorg en gezondheid | Jongeren',\n",
            "            'type':         ['officiële publicatie', 'Antwoord', 'Aanhangsel van de Handelingen'],\n",
            "            'indiener':     ['A.G. Wolbert'],\n",
            "            'ontvanger':    ['M.L.L.E. Veldhuijzen van Zanten-Hyllner'],\n",
            "            'vraagdata':    {\n",
            "                '1': {\n",
            "                      'vraag':    ['Bent u bekend met de tv-uitzending, waarin o.a. de moeder van Lucas haar verhaal doet?', '<vraag> Bent ...']\n",
            "                   'antwoord':    ['Ja.',  '<antwoord> Ja. ...']\n",
            "                },\n",
            "                '2': {\n",
            "                      'vraag':    ['Staat u nog steeds achter het principe dat mensen mogen kiezen uit zorg in een instelling en/of natura?', '<vraag> ...']]\n",
            "                   'antwoord':    ['Mijn uitgangspunt blijft dat cliënten mogen kiezen bij welke zorgaanbieder zij de zorg in natura willen afnemen.', '<antwoord> ...']]\n",
            "                },\n",
            "       }}\n",
            "\n",
            "    Note that \n",
            "    * the 'vraag' and 'antwoord' give a list of two items:\n",
            "      * plain text, stripped of some references and notes, to have more natural text\n",
            "      * the XML fragment it was taken from, in case you care about those references and notes\n",
            "\n",
            "    * the keys in vraagdata are strings, not numbers directly, because...\n",
            "\n",
            "    * questions and/or answers may be grouped, so you may e.g. see questions numbered '5' and '6' and an answer '5 6'.\n",
            "      In this data structure, that means '5' and '6' will have only a 'vraag', and '5 6' will have only an 'antwoord'.\n",
            "      This currently affects roughly 5% of questions.\n",
            "\n",
            "    * The URLs mentioned are those that were actually used.  There are more, e.g. .pdf, .odt, html, and owms metadata\n",
            "\n",
            "\n",
            "    TODO:\n",
            "    * There are non-numbered questions in the XML, currently omitted - investigate\n",
            "    * summarize how complete this data is with its source in general\n",
            "    * there are mistakes in the XML we could fix (e.g. use of al instead of nr) \n",
            "                              \n",
            "\n",
            "    \n"
          ]
        }
      ],
      "source": [
        "print( wetsuite.datasets.description('tweedekamer-kamervragen-struc') )"
      ]
    },
    {
      "cell_type": "markdown",
      "metadata": {},
      "source": [
        "## Step 3: Downloading a sample dataset"
      ]
    },
    {
      "cell_type": "markdown",
      "metadata": {},
      "source": [
        "Now that we know which sample datasets are available, we can choose to download one."
      ]
    },
    {
      "cell_type": "code",
      "execution_count": 4,
      "metadata": {
        "colab": {
          "base_uri": "https://localhost:8080/"
        },
        "id": "PzNPJd9PU0uV",
        "outputId": "a32b58c6-9264-4e72-f9d7-8090a3484098"
      },
      "outputs": [
        {
          "name": "stdout",
          "output_type": "stream",
          "text": [
            "=== ah-tk-20162017-533 ===\n",
            "\n",
            "{'available': '2016-11-21',\n",
            " 'category': 'Recht | Staatsrecht',\n",
            " 'identifier': 'ah-tk-20162017-533',\n",
            " 'indiener': ['J. Taverne'],\n",
            " 'issued': '2016-11-17',\n",
            " 'ontvanger': ['R.H.A. Plasterk'],\n",
            " 'type': ['officiële publicatie', 'Antwoord', 'Aanhangsel van de Handelingen'],\n",
            " 'urls': ['https://repository.overheid.nl/frbr/officielepublicaties/ah-tk/20162017/ah-tk-20162017-533/1/metadata/metadata.xml',\n",
            "          'https://repository.overheid.nl/frbr/officielepublicaties/ah-tk/20162017/ah-tk-20162017-533/1/xml/ah-tk-20162017-533.xml'],\n",
            " 'vergaderjaar': '2016-2017',\n",
            " 'vraagdata': {'1 2 3 4': {'antwoord': ['De test wordt gehouden om te '\n",
            "                                        'onderzoeken hoe de techniek van het '\n",
            "                                        'internetstemmen zich ontwikkelt. In '\n",
            "                                        'het bijzonder is de test een middel '\n",
            "                                        'om na te gaan hoe betrouwbaar '\n",
            "                                        'internetstemmen nu kan zijn. De test '\n",
            "                                        'heeft de vorm van een gesimuleerde '\n",
            "                                        '(schaduw) verkiezing. Zoals eerder is '\n",
            "                                        'gemeld\\n'\n",
            "                                        '\\n'\n",
            "                                        'zullen tijdens de gesimuleerde '\n",
            "                                        'verkiezing beveiligingstesten '\n",
            "                                        'plaatsvinden om na te gaan hoe '\n",
            "                                        'betrouwbaar de stemdienst is. '\n",
            "                                        'Hiervoor is niet een bepaald aantal '\n",
            "                                        'deelnemers noodzakelijk.\\n'\n",
            "                                        '\\n'\n",
            "                                        ',\\n'\n",
            "                                        '\\n'\n",
            "                                        ',\\n'\n",
            "                                        '\\n'\n",
            "                                        'en\\n'\n",
            "                                        '\\n'\n",
            "                                        ', TK\\n'\n",
            "                                        '\\n'\n",
            "                                        'en Aanhangsel Handelingen, '\n",
            "                                        'vergaderjaar 2015–2016, nr.\\n'\n",
            "                                        '\\n'\n",
            "                                        'Op verzoek van het Ministerie van BZK '\n",
            "                                        'heeft de gemeente Den Haag op 13 '\n",
            "                                        'oktober jl. aan Nederlanders in het '\n",
            "                                        'buitenland die zich eerder bij de '\n",
            "                                        'gemeente hebben geregistreerd om '\n",
            "                                        'vanuit het buitenland te stemmen (én '\n",
            "                                        'daarbij ook een e-mailadres hebben '\n",
            "                                        'opgegeven) een mail gestuurd. In de '\n",
            "                                        'mail wordt melding gemaakt van de '\n",
            "                                        'test en wordt aangegeven dat men zich '\n",
            "                                        '(door een mail te sturen) bij het '\n",
            "                                        'Ministerie van Binnenlandse Zaken en '\n",
            "                                        'Koninkrijksrelaties kan aanmelden om '\n",
            "                                        'een teststem te kunnen uitbrengen. De '\n",
            "                                        'mail van de gemeente Den Haag heeft '\n",
            "                                        'inmiddels tot ruim 9.000 aanmeldingen '\n",
            "                                        'geleid. Er komen nog dagelijks '\n",
            "                                        'aanmeldingen binnen. Voorzien is dat '\n",
            "                                        'de codes die men nodig heeft om een '\n",
            "                                        'teststem uit te brengen eind november '\n",
            "                                        'a.s. (per mail) zullen worden '\n",
            "                                        'gezonden aan de personen die zich '\n",
            "                                        'hebben aangemeld om deel te nemen aan '\n",
            "                                        'de test. De test zelf vindt plaats '\n",
            "                                        'van 7 december tot en met 13 december '\n",
            "                                        'a.s.',\n",
            "                                        '<antwoord '\n",
            "                                        'xmlns:xsi=\"http://www.w3.org/2001/XMLSchema-instance\">\\n'\n",
            "                                        '      <nr status=\"officieel\">Antwoord '\n",
            "                                        '1, 2, 3, 4</nr>\\n'\n",
            "                                        '      <al>De test wordt gehouden om '\n",
            "                                        'te onderzoeken hoe de techniek van '\n",
            "                                        'het internetstemmen zich ontwikkelt. '\n",
            "                                        'In het bijzonder is de test een '\n",
            "                                        'middel om na te gaan hoe betrouwbaar '\n",
            "                                        'internetstemmen nu kan zijn. De test '\n",
            "                                        'heeft de vorm van een gesimuleerde '\n",
            "                                        '(schaduw) verkiezing. Zoals eerder is '\n",
            "                                        'gemeld<noot id=\"ID-533-d37e83\" '\n",
            "                                        'type=\"voet\"><noot.nr>1</noot.nr><noot.al>Kamerstuk '\n",
            "                                        '<extref doc=\"kst-33829-3\" '\n",
            "                                        'soort=\"document\" '\n",
            "                                        'status=\"actief\">33\\xa0829, nrs. '\n",
            "                                        '3</extref>, <extref doc=\"kst-33829-4\" '\n",
            "                                        'soort=\"document\" '\n",
            "                                        'status=\"actief\">4</extref>, <extref '\n",
            "                                        'doc=\"kst-33829-9\" soort=\"document\" '\n",
            "                                        'status=\"actief\">9</extref> en <extref '\n",
            "                                        'doc=\"kst-33829-14\" soort=\"document\" '\n",
            "                                        'status=\"actief\">14</extref>, TK '\n",
            "                                        '<extref doc=\"kst-34384-9-n1\" '\n",
            "                                        'soort=\"document\" '\n",
            "                                        'status=\"actief\">34\\xa0384, nr. 9 '\n",
            "                                        '(herdruk)</extref> en Aanhangsel '\n",
            "                                        'Handelingen, vergaderjaar 2015–2016, '\n",
            "                                        'nr. <extref doc=\"ah-tk-20152016-537\" '\n",
            "                                        'soort=\"document\" '\n",
            "                                        'status=\"actief\">537</extref></noot.al></noot> '\n",
            "                                        'zullen tijdens de gesimuleerde '\n",
            "                                        'verkiezing beveiligingstesten '\n",
            "                                        'plaatsvinden om na te gaan hoe '\n",
            "                                        'betrouwbaar de stemdienst is. '\n",
            "                                        'Hiervoor is niet een bepaald aantal '\n",
            "                                        'deelnemers noodzakelijk.</al>\\n'\n",
            "                                        '      <al>Op verzoek van het '\n",
            "                                        'Ministerie van BZK heeft de gemeente '\n",
            "                                        'Den Haag op 13\\xa0oktober jl. aan '\n",
            "                                        'Nederlanders in het buitenland die '\n",
            "                                        'zich eerder bij de gemeente hebben '\n",
            "                                        'geregistreerd om vanuit het '\n",
            "                                        'buitenland te stemmen (én daarbij ook '\n",
            "                                        'een e-mailadres hebben opgegeven) een '\n",
            "                                        'mail gestuurd. In de mail wordt '\n",
            "                                        'melding gemaakt van de test en wordt '\n",
            "                                        'aangegeven dat men zich (door een '\n",
            "                                        'mail te sturen) bij het Ministerie '\n",
            "                                        'van Binnenlandse Zaken en '\n",
            "                                        'Koninkrijksrelaties kan aanmelden om '\n",
            "                                        'een teststem te kunnen uitbrengen. De '\n",
            "                                        'mail van de gemeente Den Haag heeft '\n",
            "                                        'inmiddels tot ruim 9.000 aanmeldingen '\n",
            "                                        'geleid. Er komen nog dagelijks '\n",
            "                                        'aanmeldingen binnen. Voorzien is dat '\n",
            "                                        'de codes die men nodig heeft om een '\n",
            "                                        'teststem uit te brengen eind november '\n",
            "                                        'a.s. (per mail) zullen worden '\n",
            "                                        'gezonden aan de personen die zich '\n",
            "                                        'hebben aangemeld om deel te nemen aan '\n",
            "                                        'de test. De test zelf vindt plaats '\n",
            "                                        'van 7\\xa0december tot en met 13\\xa0'\n",
            "                                        'december a.s.</al>\\n'\n",
            "                                        '    </antwoord>\\n'\n",
            "                                        '    '],\n",
            "                           'vraag': ['Hoeveel deelnemers aan de test zijn '\n",
            "                                     'nodig om deze succesvol te laten '\n",
            "                                     'verlopen?\\n'\n",
            "                                     '\\n'\n",
            "                                     'Hoeveel mensen hebben zich tot nu toe '\n",
            "                                     'aangemeld voor de test?\\n'\n",
            "                                     '\\n'\n",
            "                                     'Wat doet u om de deelname aan de test te '\n",
            "                                     'bevorderen?\\n'\n",
            "                                     '\\n'\n",
            "                                     'Wanneer ontvangen de mensen die zich '\n",
            "                                     'hebben aangemeld de codes om mee te doen '\n",
            "                                     'aan de test?',\n",
            "                                     '<vraag '\n",
            "                                     'xmlns:xsi=\"http://www.w3.org/2001/XMLSchema-instance\">\\n'\n",
            "                                     '      <nr status=\"officieel\">Vraag 1, 2, '\n",
            "                                     '3, 4</nr>\\n'\n",
            "                                     '      <al>Hoeveel deelnemers aan de test '\n",
            "                                     'zijn nodig om deze succesvol te laten '\n",
            "                                     'verlopen?</al>\\n'\n",
            "                                     '      <al>Hoeveel mensen hebben zich tot '\n",
            "                                     'nu toe aangemeld voor de test?</al>\\n'\n",
            "                                     '      <al>Wat doet u om de deelname aan '\n",
            "                                     'de test te bevorderen?</al>\\n'\n",
            "                                     '      <al>Wanneer ontvangen de mensen '\n",
            "                                     'die zich hebben aangemeld de codes om '\n",
            "                                     'mee te doen aan de test?</al>\\n'\n",
            "                                     '    </vraag>\\n'\n",
            "                                     '    ']},\n",
            "               '5': {'antwoord': ['Ik heb de vragen zo spoedig mogelijk '\n",
            "                                  'beantwoord.',\n",
            "                                  '<antwoord '\n",
            "                                  'xmlns:xsi=\"http://www.w3.org/2001/XMLSchema-instance\">\\n'\n",
            "                                  '      <nr status=\"officieel\">Antwoord '\n",
            "                                  '5</nr>\\n'\n",
            "                                  '      <al>Ik heb de vragen zo spoedig '\n",
            "                                  'mogelijk beantwoord.</al>\\n'\n",
            "                                  '    </antwoord>\\n'\n",
            "                                  '  '],\n",
            "                     'vraag': ['Kunt u deze vragen zo spoedig mogelijk, maar '\n",
            "                               'in elk geval vóór 11 november a.s. '\n",
            "                               'beantwoorden?',\n",
            "                               '<vraag '\n",
            "                               'xmlns:xsi=\"http://www.w3.org/2001/XMLSchema-instance\">\\n'\n",
            "                               '      <nr status=\"officieel\">Vraag 5</nr>\\n'\n",
            "                               '      <al>Kunt u deze vragen zo spoedig '\n",
            "                               'mogelijk, maar in elk geval vóór 11\\xa0'\n",
            "                               'november a.s. beantwoorden?</al>\\n'\n",
            "                               '    </vraag>\\n'\n",
            "                               '    ']}}}\n"
          ]
        }
      ],
      "source": [
        "import pprint\n",
        "\n",
        "# QUESTION MS: is a sample dataset re-downloaded each time?\n",
        "kamervragen = wetsuite.datasets.load('tweedekamer-kamervragen-struc')\n",
        "\n",
        "# give us a random item from it\n",
        "case_id, case_details = kamervragen.data.random_choice()\n",
        "print(f'=== {case_id} ===\\n')\n",
        "pprint.pprint( case_details )"
      ]
    },
    {
      "cell_type": "markdown",
      "metadata": {
        "id": "bIW2TcLQU0uZ"
      },
      "source": [
        "## Example datasets\n",
        "\n",
        "There are some fairly targeted examples, including\n",
        "\n",
        "* `cvdr-mostrecent-*`\n",
        "\n",
        "* `bwb-mostrecent-*`\n",
        "\n",
        "* `kansspelautoriteit-sancties-struc` - for example use, see [using_dataset_kansspelautoriteit notebook](dataset_intro_by_doing__kansspelautoriteit__(OCR_example).ipynb)\n",
        "\n",
        "* `tweedekamer-fracties-struc` and `tweedekamer-fracties-membership-struc` - for example use, see [using_dataset_tweedekamer notebook](dataset_intro_by_doing__tweedekamer.ipynb)\n",
        "\n",
        "* `woobesluit` - for example use, see [using_dataset_woobesluit notebook](dataset_intro_by_doing__woobesluit.ipynb)\n",
        "\n",
        "\n",
        "And some things that are little more than lists, including\n",
        "* `gemeentes`: [using_dataset_gemeentes notebook](dataset_intro_by_doing__gemeentes.ipynb)\n",
        "\n",
        "* `wetnamen`: [using_dataset_wetnamen notebook](dataset_intro_by_doing__woobesluit.ipynb)\n",
        "\n"
      ]
    },
    {
      "cell_type": "markdown",
      "metadata": {
        "id": "ciRDOS6RU0ua"
      },
      "source": [
        "Aside: We have an ongoing discussion of how to provide more varied data without making life harder for you.\n",
        "\n",
        "For example, in theory the -xml would be enough, in that -meta and -text are only a handful of extra function calls away,\n",
        "but making you do that is an unnecessary hurdle.\n",
        "\n",
        "Providing these in a merged, composite way, e.g. with dataset items providing attributes like\n",
        "item.xml/item.raw, item.metadata, item.text would be -  confusing that they differ per dataset,\n",
        "and but might be inflexible and confusing in the long run in that datasets _or_ code changing is likely to breaks all previous uses.\n",
        "\n",
        "So for now, we provide distinct datasets for different views on the same data,\n",
        "which also means you have at least some chance of loding this data in non-python other contexts."
      ]
    },
    {
      "cell_type": "markdown",
      "metadata": {
        "id": "8W-rviycYRlU"
      },
      "source": [
        "## \"What if I want to feed files into something else?\"\n",
        "\n",
        "The datasets as downloaded are indeed in our own format,\n",
        "only directly readable by our own code.\n",
        "\n",
        "While the use of _some_ sort of database tends to scale better than many files,\n",
        "there are plenty of existing things that just happen to take files.\n",
        "\n",
        "So we give you some code export to files\n",
        "(or to a single ZIP file, which is more transportable),\n",
        "\n",
        "Note: We will estimate what to name those files, and while this will give unique names,\n",
        "they will not always be very _helpful_ names."
      ]
    },
    {
      "cell_type": "code",
      "execution_count": null,
      "metadata": {},
      "outputs": [],
      "source": [
        "kans_meta = wetsuite.datasets.load('kansspelautoriteit-sancties-struc')\n",
        "kans_meta.export_files(to_zipfile_path='/tmp/kans.zip')\n",
        "\n",
        "bwb_text  = wetsuite.datasets.load('bwb-mostrecent-text')\n",
        "bwb_text.export_files(in_dir_path='/tmp/bwb-text' )\n",
        "import glob # show a few of the filenames we made\n",
        "print( glob.glob('/tmp/bwb-text/*')[:10] )\n"
      ]
    },
    {
      "cell_type": "markdown",
      "metadata": {},
      "source": [
        "## Why readymade datasets at all?\n",
        "\n",
        "A few different reasons. Some of our considerations follow:\n",
        "\n",
        "If you want the the most up-to-date information, this argues _against_ datasets,\n",
        "because the most up to date information is often to fetch data directly from the source.\n",
        "\n",
        "We have notebooks elsewhere details how that may be done (TODO: add some links),\n",
        "for varied sources.\n",
        "\n",
        "If you can express what you want to such sources,\n",
        "then directly fetching is also the most elegant way to get exactly what you want.\n",
        "\n",
        "Such 'if's matter.\n",
        "When you have a research question, \n",
        "and have gone to a system that probably has the data you are looking for, ask yourself:\n",
        "\n",
        "\n",
        "**Does it let you _express_ what documents you want?**\n",
        "\n",
        "Questions like \"give me all pariamentary reports related to animal management\" may be very reasonable,\n",
        "but for various data sources, you will not find it easy to fetch exactly that - or to to be sure the search results are complete.\n",
        "\n",
        "Chances are you will have to cast a much wider net, and sort out the results.\n",
        "\n",
        "\n",
        "One example is the damocles test case (TODO: link to it), where we needed \n",
        "a good amount of expressiveness, fetching, and refinement when it turned out.\n",
        "The interface we had to use for that case happened to work fairly well -- but\n",
        "don't count on that always working.\n",
        "..- whereas the KOOP BWB interface doesn't let you search in the document body, as the website will.\n",
        "\n",
        "\n",
        "**Does it let you _fetch_ what you want?**\n",
        "\n",
        "Say that you do manage to tell a system your precise needs.\n",
        "\n",
        "Almost all website searches will tell you how many tens of thousands of results there are.\n",
        "\n",
        "Almost no website searches will let you fetch them.\n",
        "\n",
        "Put another way: is there an interface to fetch data so you can _do_ something with it \n",
        "-- that does not come down to spending the week pressing 'Save as'?\n",
        "\n",
        "\n",
        "**Maybe you just wanted a lot of data**\n",
        "\n",
        "Legal researchers often have a specific interest that is served from a singular system,\n",
        "from a specific broad area. The net they cast tends to be... manageable.\n",
        "\n",
        "NLP researcher, or the other hand, may just wish to test a text processing method,\n",
        "on various differnt kinds of documents, and lots of them, no matter what they are exactly.\n",
        "\n",
        "Both site and API would be a lot slower than one beefy download,\n",
        "even if it is a fairly bite-sized sample rather than everything from a source.\n",
        "\n",
        "\n",
        "Even if we provide code to make finding-and-fetching easier,\n",
        "_to end users_ that may only really move around the problem.\n",
        "\n",
        "When you just wanted to focus on the _documents_, chances are you now need to stare at our code for an afternoon\n",
        "before you get it to work, discover that it would never have done what you expecting, \n",
        "or discover that fetching will take weeks.\n",
        "\n",
        "\n",
        "**tl;dr: these datasets represent certain amounts of prep work.**"
      ]
    }
  ],
  "metadata": {
    "colab": {
      "provenance": [],
      "toc_visible": true
    },
    "kernelspec": {
      "display_name": "Python 3",
      "language": "python",
      "name": "python3"
    },
    "language_info": {
      "codemirror_mode": {
        "name": "ipython",
        "version": 3
      },
      "file_extension": ".py",
      "mimetype": "text/x-python",
      "name": "python",
      "nbconvert_exporter": "python",
      "pygments_lexer": "ipython3",
      "version": "3.10.12"
    },
    "vscode": {
      "interpreter": {
        "hash": "31f2aee4e71d21fbe5cf8b01ff0e069b9275f58929596ceb00d14d90e3e16cd6"
      }
    }
  },
  "nbformat": 4,
  "nbformat_minor": 0
}
