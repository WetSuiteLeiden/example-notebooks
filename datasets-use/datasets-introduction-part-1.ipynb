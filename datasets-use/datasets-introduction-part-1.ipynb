{
  "cells": [
    {
      "cell_type": "markdown",
      "metadata": {
        "id": "WA3ztv-SU0uO"
      },
      "source": [
        "If you want to start playing with this without installation, try:\n",
        "<a href=\"https://colab.research.google.com/github/knobs-dials/wetsuite-notebooks/blob/main/dataset_intro_by_doing__0intro.ipynb\" target=\"_parent\"><img src=\"https://colab.research.google.com/assets/colab-badge.svg\" alt=\"Open In Colab\"/></a>"
      ]
    },
    {
      "cell_type": "markdown",
      "metadata": {
        "id": "VDSic6hRU0uP"
      },
      "source": [
        "# WetSuite datasets: introduction (part 1)\n",
        "\n",
        "WetSuite provides tools to more easily use existing legal datasets. In this series of example notebooks, we explain which datasets can be accessed via the `wetsuite-core` library, and how you can use this to speed up your research.\n",
        "\n",
        "## Types of legal datasets\n",
        "A lot of different legal datasets exist (TODO: reference the website here). The `wetsuite-core` library provides an easier interface to interact with some datasets. For each of these datasets, WetSuite also provides ready-made sample datasets which can help you practice your technical skills and show what's possible. The sample datasets are incomplete, as most datasets are quite big. Furthermore, the sample datasets won't be updated: they remain static.\n",
        "\n",
        "## WetSuite sample datasets\n",
        "The sample datasets that are provided by WetSuite and accessible through the `wetsuite-core` exist to help you get started with programming and NLP research. The datasets are not complete and thus not fit to use in actual research. However, the datasets are based on larger and existing datasets which are complete and can be used for legal research. The things you learn in our notebooks should help you to create the tools you need for your research.\n",
        "\n",
        "The WetSuite sample datasets are:\n",
        "* Parliamentary data: a subset Dutch parliamentary data, in the XML format as provided by the Dutch government.\n",
        "* Court decisions: court decisions of about 2,5 year as provided by the Dutch Judicial Council (Raad voor de rechtspraak) in the original XML format.\n",
        "* Decisions by the Dutch Gambling Authority (Kansspelautoriteit) in a plaintext format\n",
        "* Dutch legislation in the XML format as provided by the Dutch government through the API's of wetten.overheid.nl.\n",
        "\n",
        "## Purpose of this notebook\n",
        "In this first part, we show how to install the `wetsuite-core` library for use in your Python Notebook (or project). Then we show how to interact with the ready-made sample datasets provided by WetSuite.\n",
        "\n",
        "## What you need\n",
        "You can read this notebook on GitHub as a reference. However, it is better to run it in order to get some actual programming experience. To run this notebook [TODO: link to how-to-run explanation].\n",
        "\n",
        "Besides this, the [Python documentation](https://docs.python.org/3/) can prove very helpful. If you want a more step-by-step and guided introduction to Python, plenty of online courses exists; for example [Codecademy's \"Learn Python 3\" course](https://www.codecademy.com/learn/learn-python-3).\n",
        "\n",
        "## Summary\n",
        "* WetSuite provides code to access some legal datasets in the `wetsuite-core` library.\n",
        "* WetSuite provides some small ready-made datasets which can also be accessed via the `wetsuite-core` library.\n"
      ]
    },
    {
      "cell_type": "markdown",
      "metadata": {
        "id": "s2d35L3bcqhw"
      },
      "source": [
        "# Step 1: Using the `wetsuite-core` library\n",
        "\n",
        "The `wetsuite-core` library provides, among other things, interfaces to interact in a practical manner directly with some existing legal datasets which are made available online. For example, you can easily download all published judgments by a specific court in the Netherlands as made available by the Raad voor de rechtspraak.\n",
        "\n",
        "In order to use the `wetsuite-core` library, download and install the library by running the following code block:\n",
        "\n",
        "(TODO: also add documentation on how to run this locally?)"
      ]
    },
    {
      "cell_type": "code",
      "execution_count": null,
      "metadata": {
        "id": "zda46Be8U0uS"
      },
      "outputs": [],
      "source": [
        "# (only) in colab, run this first to install wetsuite from (the most recent) source.   For your own setup, see wetsuite's install guidelines.\n",
        "!pip3 install -U wetsuite"
      ]
    },
    {
      "cell_type": "markdown",
      "metadata": {},
      "source": [
        "Once the wetsuite library is installed, we can import it in our Python Notebook or file. Importing a library allows you to use the functions defined in the library in your program. In this notebook, we will use the datasets part of `wetsuite-core`:"
      ]
    },
    {
      "cell_type": "code",
      "execution_count": null,
      "metadata": {
        "colab": {
          "base_uri": "https://localhost:8080/"
        },
        "id": "f1h4H0pVU0uT",
        "outputId": "2c0790c5-6558-4a27-ead8-7bd16da2ebf1"
      },
      "outputs": [],
      "source": [
        "import wetsuite.datasets"
      ]
    },
    {
      "cell_type": "markdown",
      "metadata": {},
      "source": [
        "# Step 2: Finding a sample dataset"
      ]
    },
    {
      "cell_type": "markdown",
      "metadata": {},
      "source": [
        "Once a library is imported, we can use it in our program. By calling the following function, we can see which sample datasets are currently available. Please note that it might change over time which sample datasets are available."
      ]
    },
    {
      "cell_type": "code",
      "execution_count": null,
      "metadata": {},
      "outputs": [],
      "source": [
        "wetsuite.datasets.list_datasets()"
      ]
    },
    {
      "cell_type": "markdown",
      "metadata": {},
      "source": [
        "Each sample dataset also has a short (and longer) description, and we can see what the size is of each dataset.\n",
        "\n",
        "You can get that in data form by running: "
      ]
    },
    {
      "cell_type": "code",
      "execution_count": null,
      "metadata": {},
      "outputs": [],
      "source": [
        "wetsuite.datasets.fetch_index() # which gives the same names, together with details about each dataset"
      ]
    },
    {
      "cell_type": "markdown",
      "metadata": {},
      "source": [
        "...or you could pick out those details and print a summary. Because you probably  "
      ]
    },
    {
      "cell_type": "code",
      "execution_count": null,
      "metadata": {
        "colab": {
          "base_uri": "https://localhost:8080/"
        },
        "id": "KNy-7ETmU0uU",
        "outputId": "c0b7a475-5a7c-4b70-b66e-87f56b1bc318"
      },
      "outputs": [],
      "source": [
        "wetsuite.datasets.print_dataset_summary() \n",
        "# that function actually uses , which gives more detailed\n",
        "# ...and prints just a few parts of it, including the short description "
      ]
    },
    {
      "cell_type": "markdown",
      "metadata": {},
      "source": [
        "You can read a longer description if you care.\n",
        "\n",
        "You can pick it out of the data that `fetch_index()` gives, \n",
        "but it's less typing to use our function that does just that:  "
      ]
    },
    {
      "cell_type": "code",
      "execution_count": null,
      "metadata": {},
      "outputs": [],
      "source": [
        "print(wetsuite.datasets.description('kansspelautoriteit-sancties-struc'))"
      ]
    },
    {
      "cell_type": "markdown",
      "metadata": {},
      "source": [
        "## Step 3: Downloading a sample dataset"
      ]
    },
    {
      "cell_type": "markdown",
      "metadata": {},
      "source": [
        "Now that we know which sample datasets are available, we can choose to download one."
      ]
    },
    {
      "cell_type": "code",
      "execution_count": null,
      "metadata": {
        "colab": {
          "base_uri": "https://localhost:8080/"
        },
        "id": "PzNPJd9PU0uV",
        "outputId": "a32b58c6-9264-4e72-f9d7-8090a3484098"
      },
      "outputs": [],
      "source": [
        "import pprint\n",
        "\n",
        "# QUESTION MS: is a sample dataset re-downloaded each time?\n",
        "kamervragen = wetsuite.datasets.load('kansspelautoriteit-sancties-struc')\n",
        "\n",
        "# give us a random item from it\n",
        "case_id, case_details = kamervragen.data.random_choice()\n",
        "print(f'=== {case_id} ===\\n')\n",
        "pprint.pprint( case_details )"
      ]
    },
    {
      "cell_type": "markdown",
      "metadata": {
        "id": "bIW2TcLQU0uZ"
      },
      "source": [
        "## Example datasets\n",
        "\n",
        "There are some fairly targeted examples, including\n",
        "\n",
        "* `cvdr-mostrecent-*`\n",
        "\n",
        "* `bwb-mostrecent-*`\n",
        "\n",
        "* `kansspelautoriteit-sancties-struc` - for example use, see [using_dataset_kansspelautoriteit notebook](dataset_intro_by_doing__kansspelautoriteit.ipynb)\n",
        "\n",
        "* `tweedekamer-fracties-struc` and `tweedekamer-fracties-membership-struc`\n",
        "\n",
        "* `woobesluit` - for example use, see [using_dataset_woobesluit notebook](dataset_intro_by_doing__woobesluit.ipynb)\n",
        "\n",
        "\n",
        "And some things that are little more than lists, including\n",
        "* `gemeentes`: [using_dataset_gemeentes notebook](dataset_intro_by_doing__gemeentes.ipynb)\n",
        "\n",
        "* `wetnamen`\n",
        "\n"
      ]
    },
    {
      "cell_type": "markdown",
      "metadata": {
        "id": "ciRDOS6RU0ua"
      },
      "source": [
        "Aside: We have an ongoing discussion of how to provide more varied data without making life harder for you.\n",
        "\n",
        "For example, in theory the -xml would be enough, in that -meta and -text are only a handful of extra function calls away,\n",
        "but making you do that is an unnecessary hurdle.\n",
        "\n",
        "Providing these in a merged, composite way, e.g. with dataset items providing attributes like\n",
        "item.xml/item.raw, item.metadata, item.text would be -  confusing that they differ per dataset,\n",
        "and but might be inflexible and confusing in the long run in that datasets _or_ code changing is likely to breaks all previous uses.\n",
        "\n",
        "So for now, we provide distinct datasets for different views on the same data,\n",
        "which also means you have at least some chance of loding this data in non-python other contexts."
      ]
    },
    {
      "cell_type": "markdown",
      "metadata": {
        "id": "8W-rviycYRlU"
      },
      "source": [
        "## \"What if I want to feed files into something else?\"\n",
        "\n",
        "The datasets as downloaded are indeed in our own format,\n",
        "only directly readable by our own code.\n",
        "\n",
        "While the use of _some_ sort of database tends to scale better than many files,\n",
        "there are plenty of existing things that just happen to take files.\n",
        "\n",
        "So we give you some code export to files\n",
        "(or to a single ZIP file, which is more transportable),\n",
        "\n",
        "Note: We will estimate what to name those files, and while this will give unique names,\n",
        "they will not always be very _helpful_ names."
      ]
    },
    {
      "cell_type": "code",
      "execution_count": null,
      "metadata": {},
      "outputs": [],
      "source": [
        "kans_meta = wetsuite.datasets.load('kansspelautoriteit-sancties-struc')\n",
        "kans_meta.export_files(to_zipfile_path='/tmp/kans.zip')\n",
        "\n",
        "bwb_text  = wetsuite.datasets.load('bwb-mostrecent-text')\n",
        "bwb_text.export_files(in_dir_path='/tmp/bwb-text' )\n",
        "import glob # show a few of the filenames we made\n",
        "print( glob.glob('/tmp/bwb-text/*')[:10] )\n"
      ]
    },
    {
      "cell_type": "markdown",
      "metadata": {},
      "source": [
        "## Why readymade datasets at all?\n",
        "\n",
        "A few different reasons. Some of our considerations follow:\n",
        "\n",
        "If you want the the most up-to-date information, this argues _against_ datasets,\n",
        "because the most up to date information is often to fetch data directly from the source.\n",
        "\n",
        "We have notebooks elsewhere details how that may be done (TODO: add some links),\n",
        "for varied sources.\n",
        "\n",
        "If you can express what you want to such sources,\n",
        "then directly fetching is also the most elegant way to get exactly what you want.\n",
        "\n",
        "Such 'if's matter.\n",
        "When you have a research question, \n",
        "and have gone to a system that probably has the data you are looking for, ask yourself:\n",
        "\n",
        "\n",
        "**Does it let you _express_ what documents you want?**\n",
        "\n",
        "Questions like \"give me all pariamentary reports related to animal management\" may be very reasonable,\n",
        "but for various data sources, you will not find it easy to fetch exactly that - or to to be sure the search results are complete.\n",
        "\n",
        "Chances are you will have to cast a much wider net, and sort out the results.\n",
        "\n",
        "\n",
        "One example is the damocles test case (TODO: link to it), where we needed \n",
        "a good amount of expressiveness, fetching, and refinement when it turned out.\n",
        "The interface we had to use for that case happened to work fairly well -- but\n",
        "don't count on that always working.\n",
        "..- whereas the KOOP BWB interface doesn't let you search in the document body, as the website will.\n",
        "\n",
        "\n",
        "**Does it let you _fetch_ what you want?**\n",
        "\n",
        "Say that you do manage to tell a system your precise needs.\n",
        "\n",
        "Almost all website searches will tell you how many tens of thousands of results there are.\n",
        "\n",
        "Almost no website searches will let you fetch them.\n",
        "\n",
        "Put another way: is there an interface to fetch data so you can _do_ something with it \n",
        "-- that does not come down to spending the week pressing 'Save as'?\n",
        "\n",
        "\n",
        "**Maybe you just wanted a lot of data**\n",
        "\n",
        "Legal researchers often have a specific interest that is served from a singular system,\n",
        "from a specific broad area. The net they cast tends to be... manageable.\n",
        "\n",
        "NLP researcher, or the other hand, may just wish to test a text processing method,\n",
        "on various differnt kinds of documents, and lots of them, no matter what they are exactly.\n",
        "\n",
        "Both site and API would be a lot slower than one beefy download,\n",
        "even if it is a fairly bite-sized sample rather than everything from a source.\n",
        "\n",
        "\n",
        "Even if we provide code to make finding-and-fetching easier,\n",
        "_to end users_ that may only really move around the problem.\n",
        "\n",
        "When you just wanted to focus on the _documents_, chances are you now need to stare at our code for an afternoon\n",
        "before you get it to work, discover that it would never have done what you expecting, \n",
        "or discover that fetching will take weeks.\n",
        "\n",
        "\n",
        "**tl;dr: these datasets represent certain amounts of prep work.**"
      ]
    }
  ],
  "metadata": {
    "colab": {
      "provenance": [],
      "toc_visible": true
    },
    "kernelspec": {
      "display_name": "Python 3",
      "language": "python",
      "name": "python3"
    },
    "language_info": {
      "codemirror_mode": {
        "name": "ipython",
        "version": 3
      },
      "file_extension": ".py",
      "mimetype": "text/x-python",
      "name": "python",
      "nbconvert_exporter": "python",
      "pygments_lexer": "ipython3",
      "version": "3.10.12"
    },
    "vscode": {
      "interpreter": {
        "hash": "31f2aee4e71d21fbe5cf8b01ff0e069b9275f58929596ceb00d14d90e3e16cd6"
      }
    }
  },
  "nbformat": 4,
  "nbformat_minor": 0
}
