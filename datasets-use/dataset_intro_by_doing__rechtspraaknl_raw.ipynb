{
  "cells": [
    {
      "attachments": {},
      "cell_type": "markdown",
      "metadata": {
        "colab_type": "text",
        "id": "view-in-github"
      },
      "source": [
        "<a href=\"https://colab.research.google.com/github/WetSuiteLeiden/example-notebooks/blob/main/datasets/dataset_intro_by_doing__rechtspraaknl__(stats_example).ipynb\" target=\"_parent\"><img src=\"https://colab.research.google.com/assets/colab-badge.svg\" alt=\"Open In Colab\"/></a>"
      ]
    },
    {
      "cell_type": "code",
      "execution_count": null,
      "metadata": {},
      "outputs": [],
      "source": [
        "# (only) in colab, run this first to install wetsuite from (the most recent) source. \n",
        "#    (this should soon simplify to something like   !pip3 install --upgrade wetsuite)\n",
        "# For your own setup, see wetsuite's install guidelines.\n",
        "!pip3 install -U wetsuite"
      ]
    },
    {
      "attachments": {},
      "cell_type": "markdown",
      "metadata": {},
      "source": [
        "# Purpose of this notebook\n",
        "\n"
      ]
    },
    {
      "attachments": {},
      "cell_type": "markdown",
      "metadata": {},
      "source": [
        "To show you around the `rechtspraaknl-sample-xml` dataset, in which we parse the data that rechtspraak.nl gives us.\n",
        "\n",
        "Keep in mind *we have filtered out cases without body text*.\n",
        "\n",
        "Going from XML to a parsed form is just one of our functions away. \n",
        "\n",
        "Note: see also the `rechtspraaknl-struc` dataset mentioned in [this notebook](dataset_intro_by_doing__rechtspraaknl__(stats_example).ipynb).\n",
        "\n"
      ]
    },
    {
      "cell_type": "code",
      "execution_count": 8,
      "metadata": {
        "colab": {
          "base_uri": "https://localhost:8080/"
        },
        "id": "3W8sXDRjYGG9",
        "outputId": "6985f9ec-cfa3-455c-9a54-b9885d54385a"
      },
      "outputs": [],
      "source": [
        "import collections, pprint, datetime\n",
        "\n",
        "import wetsuite.datasets\n",
        "import wetsuite.datacollect.rechtspraaknl"
      ]
    },
    {
      "cell_type": "code",
      "execution_count": 5,
      "metadata": {},
      "outputs": [
        {
          "name": "stdout",
          "output_type": "stream",
          "text": [
            " (TODO) \n"
          ]
        }
      ],
      "source": [
        "rs = wetsuite.datasets.load('rechtspraaknl-sample-xml')\n",
        "print( rs.description )\n",
        "store = rs.data"
      ]
    },
    {
      "cell_type": "markdown",
      "metadata": {},
      "source": [
        "Definitely need to add that description."
      ]
    },
    {
      "cell_type": "code",
      "execution_count": 21,
      "metadata": {},
      "outputs": [
        {
          "data": {
            "text/plain": [
              "['https://data.rechtspraak.nl/uitspraken/content?id=ECLI:NL:HR:2022:297',\n",
              " 'https://data.rechtspraak.nl/uitspraken/content?id=ECLI:NL:RBZWB:2022:522',\n",
              " 'https://data.rechtspraak.nl/uitspraken/content?id=ECLI:NL:RBMNE:2023:6960']"
            ]
          },
          "execution_count": 21,
          "metadata": {},
          "output_type": "execute_result"
        }
      ],
      "source": [
        "rs.data.random_keys(3)"
      ]
    },
    {
      "cell_type": "code",
      "execution_count": 22,
      "metadata": {},
      "outputs": [
        {
          "name": "stdout",
          "output_type": "stream",
          "text": [
            "\n",
            "\n",
            " === ECLI:NL:RBDHA:2023:5405 ===\n",
            "{'creator': 'Rechtbank Den Haag',\n",
            " 'date': '2023-04-07',\n",
            " 'identifier': 'ECLI:NL:RBDHA:2023:5405',\n",
            " 'inhoudsindicatie': 'Dublin Duitsland, ongegrond. Claimverzoek is tijdig. '\n",
            "                     'Belang van het kind, verschil in beschermingsbeleid ten '\n",
            "                     'aanzien van Jemenieten, artikel 17 van de Dv.',\n",
            " 'issued': '2023-04-17',\n",
            " 'modified': '2023-05-01T08:55:01',\n",
            " 'publisher': 'Raad voor de Rechtspraak',\n",
            " 'spatial': 'Utrecht',\n",
            " 'subject': 'Bestuursrecht; Vreemdelingenrecht',\n",
            " 'type': 'Uitspraak',\n",
            " 'zaaknummer': 'NL23.4481, NL23.4487 en NL23.4493'}\n",
            "\n",
            "\n",
            " === ECLI:NL:RBDHA:2024:3891 ===\n",
            "{'creator': 'Rechtbank Den Haag',\n",
            " 'date': '2024-03-20',\n",
            " 'identifier': 'ECLI:NL:RBDHA:2024:3891',\n",
            " 'inhoudsindicatie': 'Bewaring, eerste beroep, aanvraag toetsing EU-recht, '\n",
            "                     'geen afgeleid verblijfsrecht Unierecht, gronden kunnen '\n",
            "                     'maatregel dragen, gegrond, opheffing maatregel, '\n",
            "                     'schadevergoeding en pkv.',\n",
            " 'issued': '2024-03-21',\n",
            " 'modified': '2024-03-22T17:00:08',\n",
            " 'publisher': 'Raad voor de Rechtspraak',\n",
            " 'spatial': 'Arnhem',\n",
            " 'subject': 'Bestuursrecht; Vreemdelingenrecht',\n",
            " 'type': 'Uitspraak',\n",
            " 'zaaknummer': 'NL24.9604'}\n",
            "\n",
            "\n",
            " === ECLI:NL:RBAMS:2022:2636 ===\n",
            "{'creator': 'Rechtbank Amsterdam',\n",
            " 'date': '2022-05-17',\n",
            " 'identifier': 'ECLI:NL:RBAMS:2022:2636',\n",
            " 'inhoudsindicatie': 'tussenvonnis huurrecht. fraude inkomensgegevens huurder. '\n",
            "                     'bewijsopdracht aan huurder bij  bewijsnood verhuurder.',\n",
            " 'issued': '2022-05-17',\n",
            " 'modified': '2022-06-24T16:34:54',\n",
            " 'publisher': 'Raad voor de Rechtspraak',\n",
            " 'spatial': 'Amsterdam',\n",
            " 'subject': 'Civiel recht; Verbintenissenrecht',\n",
            " 'type': 'Uitspraak',\n",
            " 'zaaknummer': '9424722'}\n",
            "\n",
            "\n",
            " === ECLI:NL:RBDHA:2024:6558 ===\n",
            "{'creator': 'Rechtbank Den Haag',\n",
            " 'date': '2024-05-01',\n",
            " 'identifier': 'ECLI:NL:RBDHA:2024:6558',\n",
            " 'inhoudsindicatie': 'asiel, Dublin, plakvovo, vovo afgewezen.',\n",
            " 'issued': '2024-05-01',\n",
            " 'modified': '2024-05-01T13:39:21',\n",
            " 'publisher': 'Raad voor de Rechtspraak',\n",
            " 'spatial': 'Groningen',\n",
            " 'subject': 'Bestuursrecht; Vreemdelingenrecht',\n",
            " 'type': 'Uitspraak',\n",
            " 'zaaknummer': 'NL24.12942'}\n",
            "\n",
            "\n",
            " === ECLI:NL:RBOVE:2022:1016 ===\n",
            "{'creator': 'Rechtbank Overijssel',\n",
            " 'date': '2022-03-18',\n",
            " 'identifier': 'ECLI:NL:RBOVE:2022:1016',\n",
            " 'inhoudsindicatie': 'In principe komen boetes voor rekening van de werknemer. '\n",
            "                     'Door de drie opgelegde boetes in een keer te verrekenen '\n",
            "                     'met het maandsalaris heeft werkgever echter gehandeld in '\n",
            "                     'strijd met goed werkgeverschap. Het resterende bedrag '\n",
            "                     'was ruim onder de beslagvrije voet en het was voor '\n",
            "                     'werkgever duidelijke dat werknemer, die in de WSNP zit '\n",
            "                     'en geen financiële reserves heeft, daardoor direct in '\n",
            "                     'betalingsproblemen zou komen. De werkgever had ook nader '\n",
            "                     'onderzoek moeten doen of werknemer werkelijk bedoelde de '\n",
            "                     'arbeidsovereenkomst op te zeggen tijdens het '\n",
            "                     'telefoongesprek dat volgde',\n",
            " 'issued': '2022-04-14',\n",
            " 'modified': '2023-04-13T12:22:17',\n",
            " 'publisher': 'Raad voor de Rechtspraak',\n",
            " 'spatial': 'Enschede',\n",
            " 'subject': 'Civiel recht',\n",
            " 'type': 'Uitspraak',\n",
            " 'zaaknummer': '9694657 CV EXPL  22-679'}\n"
          ]
        }
      ],
      "source": [
        "from importlib import reload\n",
        "reload(wetsuite.datacollect.rechtspraaknl)\n",
        "\n",
        "for source_url, xmlbytes in rs.data.random_sample(5):\n",
        "    # takes XML, gives us metadata and body text in a dict\n",
        "    parsed = wetsuite.datacollect.rechtspraaknl.parse_content( xmlbytes ) \n",
        "\n",
        "    print(f\"\\n\\n === {parsed['identifier']} ===\")\n",
        "    bodytext = parsed.pop('bodytext') # pop removes it, so that we can print out the rest as probably-just-metadata\n",
        "    pprint.pprint( parsed )\n",
        "    #print( bodytext ) # not printed by default because it's a little spammy\n",
        "\n"
      ]
    }
  ],
  "metadata": {
    "colab": {
      "include_colab_link": true,
      "provenance": []
    },
    "kernelspec": {
      "display_name": "Python 3",
      "language": "python",
      "name": "python3"
    },
    "language_info": {
      "codemirror_mode": {
        "name": "ipython",
        "version": 3
      },
      "file_extension": ".py",
      "mimetype": "text/x-python",
      "name": "python",
      "nbconvert_exporter": "python",
      "pygments_lexer": "ipython3",
      "version": "3.8.10"
    },
    "vscode": {
      "interpreter": {
        "hash": "31f2aee4e71d21fbe5cf8b01ff0e069b9275f58929596ceb00d14d90e3e16cd6"
      }
    }
  },
  "nbformat": 4,
  "nbformat_minor": 0
}
