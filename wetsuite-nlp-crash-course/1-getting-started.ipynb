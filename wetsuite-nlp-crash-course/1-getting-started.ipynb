{
 "cells": [
  {
   "cell_type": "markdown",
   "metadata": {},
   "source": [
    "# WetSuite NLP crash course\n",
    "# Part 1: Getting started\n",
    "\n",
    "Welcome to the WetSuite NLP crash course! This small crash course aims to get anyone started with deploying NLP-based tools to research governmental documents.\n",
    "\n",
    "Before you get started, make sure to read the [full introductory README of this crash course](https://github.com/WetSuiteLeiden/example-notebooks/tree/main/wetsuite-nlp-crash-course).\n",
    "\n",
    "# Purpose of this notebook\n",
    "\n",
    "In this notebook, we explain how to interact and run a Python Jupyter notebook such as this. Once everything is up and running, we make some first steps in the Python programming language."
   ]
  },
  {
   "cell_type": "markdown",
   "metadata": {},
   "source": [
    "# Step 1: What is a notebook?\n",
    "A Python Notebook, such as this file, is an interactive programming environment. It consists of blocks of text (such as this) and blocks of runnable Python code. When you run the notebook on your computer (or online in a service such as Google Colab), you can change the code and run it again, to see how the output changes. The output of each code block is shown below the code block."
   ]
  },
  {
   "cell_type": "markdown",
   "metadata": {},
   "source": [
    "# Step 2: How do I run a Python Jupyter notebook?\n",
    "\n",
    "There are generally two different approaches to run a notebook, with each their own ups and downs. The first approach is to run it locally on your own computer. The second approach is to run it online via a cloud computing provider, such as Google Colab.\n",
    "\n",
    "When running notebooks locally on your own PC, you will have to install all the required tools which can be a hassle. You will also have to store downloaded libraries, datasets and results locally on your PC. That can be both useful, because you can more easily interact with your dataset and results, but also a burden, since you might not have the required storage space available on your PC. The speed at which the code will run is also dependent on the processing power of your PC, which can be quite a bit faster than Google Colab if you have a powerful PC available, but also slower if you do not have such hardware available.\n",
    "\n",
    "The primary reason to use a cloud service such as Google Colab is that no local installation is required: everything runs on Google's servers. When you're just starting with programming (for example with this crash course), this can really help lower the barrier to entry! However, Colab might be slower than your own PC and requires a Google account. Furthermore, for some research it might not be acceptable to store your data and/or results on Google's servers.\n",
    "\n",
    "Below are the instructions to get started with either method. Fear not however, if you change your mind later, you can always come back and choose for the other path!"
   ]
  },
  {
   "cell_type": "markdown",
   "metadata": {},
   "source": [
    "## Step 2a: Running notebooks in Google Colab (recommended for beginners)"
   ]
  },
  {
   "cell_type": "markdown",
   "metadata": {},
   "source": [
    "To run a notebook in Google Colab, each part in this series has a Google Colab button:\n",
    "\n",
    "<a href=\"https://colab.research.google.com/github/WetSuiteLeiden/example-notebooks/blob/main/wetsuite-nlp-crash-course/1-getting-started.ipynb\" target=\"_parent\"><img src=\"https://colab.research.google.com/assets/colab-badge.svg\" alt=\"Open in Google Colab\"/></a>\n",
    "\n",
    "This is essentially a link to Google Colab, which then creates a copy of this notebook in your Google account. Here you can do whatever you want with the notebook!"
   ]
  },
  {
   "cell_type": "markdown",
   "metadata": {},
   "source": [
    "## Step 2b: Running notebooks locally on your computer"
   ]
  },
  {
   "cell_type": "markdown",
   "metadata": {},
   "source": [
    "# Step 3: Getting to know Python"
   ]
  }
 ],
 "metadata": {
  "language_info": {
   "name": "python"
  }
 },
 "nbformat": 4,
 "nbformat_minor": 2
}
