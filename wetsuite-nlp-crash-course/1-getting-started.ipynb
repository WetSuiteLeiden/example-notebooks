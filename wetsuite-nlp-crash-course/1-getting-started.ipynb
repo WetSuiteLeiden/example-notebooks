{
 "cells": [
  {
   "cell_type": "markdown",
   "metadata": {},
   "source": [
    "# WetSuite NLP crash course\n",
    "# Part 1: Getting started\n",
    "\n",
    "Welcome to the WetSuite NLP crash course! This small crash course aims to get anyone started with deploying NLP-based tools to research governmental documents.\n",
    "\n",
    "Before you get started, make sure to read the [full introductory README of this crash course](https://github.com/WetSuiteLeiden/example-notebooks/tree/main/wetsuite-nlp-crash-course).\n",
    "\n"
   ]
  }
 ],
 "metadata": {
  "language_info": {
   "name": "python"
  }
 },
 "nbformat": 4,
 "nbformat_minor": 2
}
