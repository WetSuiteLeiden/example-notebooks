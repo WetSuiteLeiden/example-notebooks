{
 "cells": [
  {
   "cell_type": "markdown",
   "metadata": {
    "id": "WA3ztv-SU0uO"
   },
   "source": [
    "If you want to use this notebook online without installing Python on your computer, try:\n",
    "<a href=\"https://colab.research.google.com/github/WetSuiteLeiden/example-notebooks/blob/main/wetsuite-nlp-crash-course/2-introduction-to-datasets.ipynb\" target=\"_parent\"><img src=\"https://colab.research.google.com/assets/colab-badge.svg\" alt=\"Open in Google Colab\"/></a> (do note however that this requires a Google account)."
   ]
  },
  {
   "cell_type": "markdown",
   "metadata": {
    "id": "VDSic6hRU0uP"
   },
   "source": [
    "# WetSuite NLP crash course\n",
    "# Part 2: Introduction to sample datasets\n",
    "\n",
    "Welcome to part 2 of the WetSuite NLP crash course. Make sure that you've read the [full introduction]((https://github.com/WetSuiteLeiden/example-notebooks/tree/main/wetsuite-nlp-crash-course)) and worked through part 1 before you start on this notebook.\n",
    "\n",
    "## Purpose of this notebook\n",
    "In part two of this series, we show how to install the `wetsuite-core` library for use in your Python Notebook (or project). Then we show how to interact with one of the ready-made sample datasets provided by WetSuite.\n",
    "\n",
    "## Types of legal datasets\n",
    "A lot of different legal datasets exist (TODO: reference the website here). The `wetsuite-core` library provides an easier interface to interact with some datasets. For each of these datasets, WetSuite also provides ready-made sample datasets which can help you practice your technical skills and show what's possible. The sample datasets are incomplete, as most datasets are quite big. Furthermore, the sample datasets won't be updated: they remain static. If you want to use the wetsuite-core library with more complete or up-to-date datasets, you will need to download this yourself (TODO: Reference how you can download other parts of the datasets yourself).\n",
    "\n",
    "## WetSuite sample datasets\n",
    "The sample datasets that are provided by WetSuite and accessible through the `wetsuite-core` exist to help you get started with programming and NLP research. The datasets are not complete and thus not fit to use in actual research. However, the datasets are based on larger and existing datasets which are complete and can be used for legal research. The things you learn in our notebooks should help you to create the tools you need for your research.\n",
    "\n",
    "The WetSuite sample datasets are:\n",
    "* Parliamentary data: a subset Dutch parliamentary data, in the XML format as provided by the Dutch government.\n",
    "* Court decisions: court decisions of about 2,5 year as provided by the Dutch Judicial Council (Raad voor de rechtspraak) in the original XML format.\n",
    "* Decisions by the Dutch Gambling Authority (Kansspelautoriteit) in a plaintext format\n",
    "* Dutch legislation in the XML format as provided by the Dutch government through the API's of wetten.overheid.nl.\n",
    "\n",
    "## Summary\n",
    "* WetSuite provides code to access some legal datasets in the `wetsuite-core` library.\n",
    "* WetSuite provides some small ready-made sample datasets which can also be accessed directly via the `wetsuite-core` library.\n",
    "* This series of notebooks aim to illustrate how to use Python to apply NLP-methods for legal research.\n"
   ]
  },
  {
   "cell_type": "markdown",
   "metadata": {
    "id": "s2d35L3bcqhw"
   },
   "source": [
    "# Step 1: Using the `wetsuite-core` library\n",
    "\n",
    "In computer programming, a library is a collection of code that is meant to be re-used by other programs. The `wetsuite-core` library provides, among other things, interfaces to interact in a practical manner directly with some existing legal datasets which are made available online. For example, you can easily download all published judgments by a specific court in the Netherlands as made available by the Raad voor de rechtspraak.\n",
    "\n",
    "In order to use the `wetsuite-core` library, download and install the library by running the following code block:\n",
    "\n",
    "(TODO: also add documentation on how to run this locally?)"
   ]
  },
  {
   "cell_type": "code",
   "execution_count": null,
   "metadata": {
    "id": "zda46Be8U0uS"
   },
   "outputs": [],
   "source": [
    "# (only) in colab, run this first to install wetsuite from (the most recent) source.   For your own setup, see wetsuite's install guidelines.\n",
    "!pip3 install -U wetsuite"
   ]
  },
  {
   "cell_type": "markdown",
   "metadata": {},
   "source": [
    "Once the wetsuite library is installed, we can import it in our Python Notebook or file. Importing a library allows you to use the functions defined in the library in your program. In this notebook, we will use the datasets part of `wetsuite-core`:"
   ]
  },
  {
   "cell_type": "code",
   "execution_count": 1,
   "metadata": {
    "colab": {
     "base_uri": "https://localhost:8080/"
    },
    "id": "f1h4H0pVU0uT",
    "outputId": "2c0790c5-6558-4a27-ead8-7bd16da2ebf1"
   },
   "outputs": [],
   "source": [
    "import wetsuite.datasets"
   ]
  },
  {
   "cell_type": "markdown",
   "metadata": {},
   "source": [
    "To learn more about what features are made available through the `wetsuite-core` library, you can visit the [WetSuite API documentation](https://wetsuite.knobs-dials.com/apidocs/index.html)."
   ]
  },
  {
   "cell_type": "markdown",
   "metadata": {},
   "source": [
    "# Step 2: Finding a sample dataset"
   ]
  },
  {
   "cell_type": "markdown",
   "metadata": {},
   "source": [
    "Once a library is imported, we can use it in our program. By calling the following function, we can see which sample datasets are currently available. Please note that it might change over time which sample datasets are available."
   ]
  },
  {
   "cell_type": "code",
   "execution_count": null,
   "metadata": {},
   "outputs": [],
   "source": [
    "wetsuite.datasets.list_datasets()"
   ]
  },
  {
   "cell_type": "markdown",
   "metadata": {},
   "source": [
    "Each sample dataset also has a short (and longer) description, and we can see what the size is of each dataset.\n",
    "\n",
    "You can get that in a machine-readable format by running: "
   ]
  },
  {
   "cell_type": "code",
   "execution_count": null,
   "metadata": {},
   "outputs": [],
   "source": [
    "# Get all the index information in the form of a dictionary\n",
    "datasets_index = wetsuite.datasets.fetch_index()\n",
    "\n",
    "# Get the information of this specific dataset.\n",
    "datasets_index[\"rechtspraaknl-sample-xml\"]"
   ]
  },
  {
   "cell_type": "markdown",
   "metadata": {},
   "source": [
    "There's also a separate function to give a human-readable overview of all the available datasets:"
   ]
  },
  {
   "cell_type": "code",
   "execution_count": null,
   "metadata": {
    "colab": {
     "base_uri": "https://localhost:8080/"
    },
    "id": "KNy-7ETmU0uU",
    "outputId": "c0b7a475-5a7c-4b70-b66e-87f56b1bc318"
   },
   "outputs": [],
   "source": [
    "wetsuite.datasets.print_dataset_summary()"
   ]
  },
  {
   "cell_type": "markdown",
   "metadata": {},
   "source": [
    "For each dataset available through the wetsuite library, there is also an extended description. This is also part of the index, and can be accessed like this:"
   ]
  },
  {
   "cell_type": "code",
   "execution_count": null,
   "metadata": {},
   "outputs": [],
   "source": [
    "# Note that we've defined the datasets_index variable before.\n",
    "\n",
    "print(datasets_index[\"kansspelautoriteit-sancties-struc\"][\"description\"])"
   ]
  },
  {
   "cell_type": "markdown",
   "metadata": {},
   "source": [
    "# Step 3: Downloading and accessing a sample dataset"
   ]
  },
  {
   "cell_type": "markdown",
   "metadata": {},
   "source": [
    "Now that we know which sample datasets are available, we can choose to download one. For this notebook, we'll delve deeper into the `kansspelautoriteit-sancties-struc` dataset. This dataset contains all decisions published by the Dutch Gambling Authority (Kansspelautoriteit, abbreviated to _Ksa_ for short). These documents have already been pre-processed: the text has been extracted from the PDF files published by the Ksa and some metadata is added."
   ]
  },
  {
   "cell_type": "code",
   "execution_count": null,
   "metadata": {
    "colab": {
     "base_uri": "https://localhost:8080/"
    },
    "id": "PzNPJd9PU0uV",
    "outputId": "a32b58c6-9264-4e72-f9d7-8090a3484098"
   },
   "outputs": [],
   "source": [
    "ksa = wetsuite.datasets.load(\"kansspelautoriteit-sancties-struc\")\n",
    "type(ksa)\n",
    "# The object returned by this load function is an object of the custom Dataset class, the documentation\n",
    "# of which can be found here: https://wetsuite.knobs-dials.com/apidocs/wetsuite.datasets.Dataset.html"
   ]
  },
  {
   "cell_type": "markdown",
   "metadata": {},
   "source": [
    "The WetSuite library provides a small abstraction layer to make it easier to handle your data and focus more on creating your experiment. However, using this method of accessing certain datasets is certainly not required. When you are building your own datasets, or using datasets from other sources, you might need to interface in a different way with your data.\n",
    "\n",
    "For each `Dataset` object, the actual data can be found in its `.data` variable, which contains a simple key-value store (specifically, it's of type [`wetsuite.helpers.localdata.LocalKV`](https://wetsuite.knobs-dials.com/apidocs/wetsuite.helpers.localdata.LocalKV.html)). You can see a key-value store as essentially a dictionary: given a specific key, you will get the associated data (the value)."
   ]
  },
  {
   "cell_type": "code",
   "execution_count": null,
   "metadata": {},
   "outputs": [],
   "source": [
    "# Convert the keys iterable to a list\n",
    "keys_list = list(ksa.data.keys())\n",
    "\n",
    "# Print the first ten keys in the ksa dataset\n",
    "for k in keys_list[0:10]:\n",
    "    print(k)"
   ]
  },
  {
   "cell_type": "markdown",
   "metadata": {},
   "source": [
    "The `LocalKV` class also provides some helper functions, for example to get a random sample of keys.\n",
    "\n",
    "Now that we know which keys are available in our dataset, we can see what values are actually available for each key."
   ]
  },
  {
   "cell_type": "code",
   "execution_count": 8,
   "metadata": {},
   "outputs": [],
   "source": [
    "# pprint is a Python \"pretty print\" library, which aims to show Python data structures in a more\n",
    "# human-readable manner. For more information, see https://docs.python.org/3/library/pprint.html.\n",
    "import pprint\n",
    "\n",
    "v = ksa.data.get(\n",
    "    \"https://kansspelautoriteit.nl/aanpak-misstanden/sanctiebesluiten/bankgiro-loterij/\"\n",
    ")\n",
    "\n",
    "pprint.pprint(v)"
   ]
  },
  {
   "cell_type": "markdown",
   "metadata": {},
   "source": [
    "# Conclusion\n",
    "\n",
    "In this first notebook we have explained what the goal is of the WetSuite notebooks, and showed you the basics of interacting with the WetSuite sample datasets via the `wetsuite` library.\n",
    "\n",
    "# Done! [Click here to go to part 3](https://github.com/WetSuiteLeiden/example-notebooks/blob/main/wetsuite-nlp-crash-course/3-a-first-nlp-experiment.ipynb)"
   ]
  }
 ],
 "metadata": {
  "colab": {
   "provenance": [],
   "toc_visible": true
  },
  "kernelspec": {
   "display_name": "Python 3",
   "language": "python",
   "name": "python3"
  },
  "language_info": {
   "codemirror_mode": {
    "name": "ipython",
    "version": 3
   },
   "file_extension": ".py",
   "mimetype": "text/x-python",
   "name": "python",
   "nbconvert_exporter": "python",
   "pygments_lexer": "ipython3",
   "version": "3.10.12"
  },
  "vscode": {
   "interpreter": {
    "hash": "31f2aee4e71d21fbe5cf8b01ff0e069b9275f58929596ceb00d14d90e3e16cd6"
   }
  }
 },
 "nbformat": 4,
 "nbformat_minor": 0
}
