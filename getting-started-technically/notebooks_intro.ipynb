{
 "cells": [
  {
   "cell_type": "markdown",
   "metadata": {},
   "source": [
    "## Introduction by some words\n",
    "\n",
    "Jupyter's computational notebooks were created as a way of putting a browser in front of... \n",
    "a way of running code that you now barely have to think about anymore.\n",
    "\n",
    "The notebook itself is like a document you can save,\n",
    "- containing chunks of marked-up explanations you can read.\n",
    "- alongside chunks of python code you can run,\n",
    "- and its output, often presented in a richer format (...rather than as data), is also kept\n",
    "\n",
    "\n",
    "In some situations, you may only be able to view these notebooks.\n",
    "\n",
    "In the right environment, you can also run the code in it yourself,\n",
    "meaning you can more easily iterate on code started by someone else."
   ]
  },
  {
   "cell_type": "markdown",
   "metadata": {},
   "source": [
    "When you start running its code,\n",
    "- you start a relatively-short-term session which remembers the output of what you were running,\n",
    "- this lets you alter and retry moderate-sized chunks at a time (because it remembers the variables you've set within that session)\n",
    "For a more technical technical introduction, and a \"when and why might this be interesting to you,\" \n",
    "scroll down past the examples."
   ]
  },
  {
   "cell_type": "markdown",
   "metadata": {},
   "source": [
    "## Introduction by example\n",
    "\n",
    "You are currently looking at a notebook. \n",
    "\n",
    "If you're viewing it on e.g. github, it's a view-only thing.\n",
    "\n",
    "If you've clicked something like the following button: <a href=\"https://colab.research.google.com/github/WetSuiteLeiden/example-notebooks/blob/main/getting-started/notebooks_intro.ipynb\" target=\"_parent\"><img src=\"https://colab.research.google.com/assets/colab-badge.svg\" alt=\"Open In Colab\"/></a> then you're viewing a copy on colab, and can click run buttons."
   ]
  },
  {
   "cell_type": "markdown",
   "metadata": {},
   "source": [
    "Right now, at a marked-up block, there will be code blocks following, with some output.\n",
    "\n",
    "You could just _look_ at it, but the point is that you could take this and start running it _yourself_. \n",
    "\n",
    "For some exmaples of what you might put in and get out:"
   ]
  },
  {
   "cell_type": "markdown",
   "metadata": {},
   "source": [
    "Topical for this project: Spacy is a package for text analysis, doing some NLP work (more on it in [a separate notebook on spacy](../research-methods/methods_nlp__spacy_basics.ipynb))"
   ]
  },
  {
   "cell_type": "code",
   "execution_count": null,
   "metadata": {},
   "outputs": [],
   "source": [
    "!pip install --quiet spacy\n",
    "!python3 -m spacy download nl_core_news_lg\n",
    "# NOTE: THIS WILL INSTALL THINGS into the system you are running this on.\n",
    "# \n",
    "# The next code blocks assume that spacy and the mentioned model are already installed. \n",
    "# If they are installed, skip this cell.  If they are not installed, run this cell."
   ]
  },
  {
   "cell_type": "code",
   "execution_count": 3,
   "metadata": {},
   "outputs": [
    {
     "name": "stdout",
     "output_type": "stream",
     "text": [
      "Groene/ADJ  \n",
      "kaas/NOUN  \n",
      "is/AUX  \n",
      "sterk/ADJ  \n"
     ]
    }
   ],
   "source": [
    "import spacy\n",
    "\n",
    "dutch_parser = spacy.load('nl_core_news_lg')        # load a specific language model,\n",
    "analysed     = dutch_parser(\"Groene kaas is sterk\") # give it a sentence,\n",
    "for token in analysed:                              # have it say (some) of what each piece is.\n",
    "    print( '%s/%s  '%(token.text, token.pos_) )"
   ]
  },
  {
   "cell_type": "code",
   "execution_count": 4,
   "metadata": {},
   "outputs": [
    {
     "name": "stdout",
     "output_type": "stream",
     "text": [
      "afwijking\n",
      "het derde lid\n",
      "leerlingen\n",
      "een indicatie\n",
      "leerwegondersteunend onderwijs\n",
      "de het samenwerkingsverband\n",
      "zij\n",
      "dit onderwijs\n",
      "een ratio\n",
      "leraar/leerling\n"
     ]
    }
   ],
   "source": [
    "# or, perhaps more usefully:\n",
    "analysed = dutch_parser( \"In afwijking van het derde lid geldt voor leerlingen met een indicatie voor leerwegondersteunend onderwijs voor wie de het samenwerkingsverband heeft bepaald dat zij op dit onderwijs zijn aangewezen een ratio leraar/leerling van 1/17,14.\" )\n",
    "for nc in analysed.noun_chunks: \n",
    "    print(nc)"
   ]
  },
  {
   "cell_type": "code",
   "execution_count": 6,
   "metadata": {},
   "outputs": [
    {
     "data": {
      "text/plain": [
       "<Axes: title={'center': 'some data'}>"
      ]
     },
     "metadata": {},
     "output_type": "display_data"
    },
    {
     "data": {
      "image/png": "[encoded data removed]",
      "text/plain": [
       "<Figure size 640x480 with 1 Axes>"
      ]
     },
     "metadata": {},
     "output_type": "display_data"
    }
   ],
   "source": [
    "# Notebooks make visualisation easier, of data and of results\n",
    "#   this plot is itself pointless, but serves to illustrate it's often just a few lines to nice graphics\n",
    "import matplotlib.pyplot, random\n",
    "\n",
    "fig, ax = matplotlib.pyplot.subplots()\n",
    "ax.plot([1,2, 3,4],\n",
    "        [1,4,12,1])\n",
    "ax.set_title('some data')\n",
    "\n",
    "display(ax)  # display() exists (only) in these notebook environments"
   ]
  },
  {
   "cell_type": "markdown",
   "metadata": {},
   "source": [
    "Also, do a search for '[matplotlib gallery](https://matplotlib.org/stable/gallery/index.html)' to see further plots peope made.\n",
    "\n",
    "There is also [pandas](https://pandas.pydata.org/docs/user_guide/visualization.html), \n",
    "and consider the somewhat more advanced seaborn - and similarly look for '[seaborn gallery](https://seaborn.pydata.org/examples/index.html)'\n"
   ]
  },
  {
   "cell_type": "code",
   "execution_count": 7,
   "metadata": {},
   "outputs": [
    {
     "data": {
      "text/html": [
       "<div>\n",
       "<style scoped>\n",
       "    .dataframe tbody tr th:only-of-type {\n",
       "        vertical-align: middle;\n",
       "    }\n",
       "\n",
       "    .dataframe tbody tr th {\n",
       "        vertical-align: top;\n",
       "    }\n",
       "\n",
       "    .dataframe thead th {\n",
       "        text-align: right;\n",
       "    }\n",
       "</style>\n",
       "<table border=\"1\" class=\"dataframe\">\n",
       "  <thead>\n",
       "    <tr style=\"text-align: right;\">\n",
       "      <th></th>\n",
       "      <th>pickup</th>\n",
       "      <th>dropoff</th>\n",
       "      <th>passengers</th>\n",
       "      <th>distance</th>\n",
       "      <th>fare</th>\n",
       "      <th>tip</th>\n",
       "      <th>tolls</th>\n",
       "      <th>total</th>\n",
       "      <th>color</th>\n",
       "      <th>payment</th>\n",
       "      <th>pickup_zone</th>\n",
       "      <th>dropoff_zone</th>\n",
       "      <th>pickup_borough</th>\n",
       "      <th>dropoff_borough</th>\n",
       "    </tr>\n",
       "  </thead>\n",
       "  <tbody>\n",
       "    <tr>\n",
       "      <th>0</th>\n",
       "      <td>2019-03-23 20:21:09</td>\n",
       "      <td>2019-03-23 20:27:24</td>\n",
       "      <td>1</td>\n",
       "      <td>1.60</td>\n",
       "      <td>7.0</td>\n",
       "      <td>2.15</td>\n",
       "      <td>0.0</td>\n",
       "      <td>12.95</td>\n",
       "      <td>yellow</td>\n",
       "      <td>credit card</td>\n",
       "      <td>Lenox Hill West</td>\n",
       "      <td>UN/Turtle Bay South</td>\n",
       "      <td>Manhattan</td>\n",
       "      <td>Manhattan</td>\n",
       "    </tr>\n",
       "    <tr>\n",
       "      <th>1</th>\n",
       "      <td>2019-03-04 16:11:55</td>\n",
       "      <td>2019-03-04 16:19:00</td>\n",
       "      <td>1</td>\n",
       "      <td>0.79</td>\n",
       "      <td>5.0</td>\n",
       "      <td>0.00</td>\n",
       "      <td>0.0</td>\n",
       "      <td>9.30</td>\n",
       "      <td>yellow</td>\n",
       "      <td>cash</td>\n",
       "      <td>Upper West Side South</td>\n",
       "      <td>Upper West Side South</td>\n",
       "      <td>Manhattan</td>\n",
       "      <td>Manhattan</td>\n",
       "    </tr>\n",
       "    <tr>\n",
       "      <th>2</th>\n",
       "      <td>2019-03-27 17:53:01</td>\n",
       "      <td>2019-03-27 18:00:25</td>\n",
       "      <td>1</td>\n",
       "      <td>1.37</td>\n",
       "      <td>7.5</td>\n",
       "      <td>2.36</td>\n",
       "      <td>0.0</td>\n",
       "      <td>14.16</td>\n",
       "      <td>yellow</td>\n",
       "      <td>credit card</td>\n",
       "      <td>Alphabet City</td>\n",
       "      <td>West Village</td>\n",
       "      <td>Manhattan</td>\n",
       "      <td>Manhattan</td>\n",
       "    </tr>\n",
       "  </tbody>\n",
       "</table>\n",
       "</div>"
      ],
      "text/plain": [
       "                pickup              dropoff  passengers  distance  fare   tip  \\\n",
       "0  2019-03-23 20:21:09  2019-03-23 20:27:24           1      1.60   7.0  2.15   \n",
       "1  2019-03-04 16:11:55  2019-03-04 16:19:00           1      0.79   5.0  0.00   \n",
       "2  2019-03-27 17:53:01  2019-03-27 18:00:25           1      1.37   7.5  2.36   \n",
       "\n",
       "   tolls  total   color      payment            pickup_zone  \\\n",
       "0    0.0  12.95  yellow  credit card        Lenox Hill West   \n",
       "1    0.0   9.30  yellow         cash  Upper West Side South   \n",
       "2    0.0  14.16  yellow  credit card          Alphabet City   \n",
       "\n",
       "            dropoff_zone pickup_borough dropoff_borough  \n",
       "0    UN/Turtle Bay South      Manhattan       Manhattan  \n",
       "1  Upper West Side South      Manhattan       Manhattan  \n",
       "2           West Village      Manhattan       Manhattan  "
      ]
     },
     "metadata": {},
     "output_type": "display_data"
    }
   ],
   "source": [
    "import seaborn, pandas    \n",
    "# pandas to load into a table of sorts,\n",
    "# seaborn happens to have some toy datasets -- see also  seaborn.get_dataset_names()\n",
    "\n",
    "pandas_df = seaborn.load_dataset('taxis')[:3]   # seaborn.load_dataset returns a pandas dataframe,   \n",
    "display( pandas_df )                            # which gets display()ed as a table\n",
    "# "
   ]
  },
  {
   "cell_type": "markdown",
   "metadata": {},
   "source": [
    "## Notes on rich output\n",
    "\n",
    "The packages mentioned above - [matplotlib](https://matplotlib.org/stable/gallery/index.html), [seaborn](https://seaborn.pydata.org/examples/index.html), and [pandas](https://pandas.pydata.org/docs/user_guide/10min.html) - will often show their tables and plots nicely with little to no work, because their most central object (e.g. figure, dataframe) have been made aware aware of how to render to these notebooks.\n",
    "\n",
    "(That rendered output is saved (e.g. as an embedded image) so is typically viewable when rendering that notebook elsewhere _without_ having to run its code again.)\n",
    "\n",
    "Various other things are _not_ aware of notebooks. \n",
    "While often not worth the work, you _could_ roll your own, and there are a few examples of that in this repository (TODO: link to example)"
   ]
  },
  {
   "cell_type": "code",
   "execution_count": 9,
   "metadata": {},
   "outputs": [
    {
     "data": {
      "text/html": [
       "<span class=\"tex2jax_ignore\"><svg xmlns=\"http://www.w3.org/2000/svg\" xmlns:xlink=\"http://www.w3.org/1999/xlink\" xml:lang=\"nl\" id=\"c8541ea6f1094d6e9d65ba7175420133-0\" class=\"displacy\" width=\"750\" height=\"312.0\" direction=\"ltr\" style=\"max-width: none; height: 312.0px; color: #000000; background: #ffffff; font-family: Arial; direction: ltr\">\n",
       "<text class=\"displacy-token\" fill=\"currentColor\" text-anchor=\"middle\" y=\"222.0\">\n",
       "    <tspan class=\"displacy-word\" fill=\"currentColor\" x=\"50\">Groene</tspan>\n",
       "    <tspan class=\"displacy-tag\" dy=\"2em\" fill=\"currentColor\" x=\"50\">ADJ</tspan>\n",
       "</text>\n",
       "\n",
       "<text class=\"displacy-token\" fill=\"currentColor\" text-anchor=\"middle\" y=\"222.0\">\n",
       "    <tspan class=\"displacy-word\" fill=\"currentColor\" x=\"225\">kaas</tspan>\n",
       "    <tspan class=\"displacy-tag\" dy=\"2em\" fill=\"currentColor\" x=\"225\">NOUN</tspan>\n",
       "</text>\n",
       "\n",
       "<text class=\"displacy-token\" fill=\"currentColor\" text-anchor=\"middle\" y=\"222.0\">\n",
       "    <tspan class=\"displacy-word\" fill=\"currentColor\" x=\"400\">is</tspan>\n",
       "    <tspan class=\"displacy-tag\" dy=\"2em\" fill=\"currentColor\" x=\"400\">AUX</tspan>\n",
       "</text>\n",
       "\n",
       "<text class=\"displacy-token\" fill=\"currentColor\" text-anchor=\"middle\" y=\"222.0\">\n",
       "    <tspan class=\"displacy-word\" fill=\"currentColor\" x=\"575\">sterk</tspan>\n",
       "    <tspan class=\"displacy-tag\" dy=\"2em\" fill=\"currentColor\" x=\"575\">ADJ</tspan>\n",
       "</text>\n",
       "\n",
       "<g class=\"displacy-arrow\">\n",
       "    <path class=\"displacy-arc\" id=\"arrow-c8541ea6f1094d6e9d65ba7175420133-0-0\" stroke-width=\"2px\" d=\"M70,177.0 C70,89.5 220.0,89.5 220.0,177.0\" fill=\"none\" stroke=\"currentColor\"/>\n",
       "    <text dy=\"1.25em\" style=\"font-size: 0.8em; letter-spacing: 1px\">\n",
       "        <textPath xlink:href=\"#arrow-c8541ea6f1094d6e9d65ba7175420133-0-0\" class=\"displacy-label\" startOffset=\"50%\" side=\"left\" fill=\"currentColor\" text-anchor=\"middle\">amod</textPath>\n",
       "    </text>\n",
       "    <path class=\"displacy-arrowhead\" d=\"M70,179.0 L62,167.0 78,167.0\" fill=\"currentColor\"/>\n",
       "</g>\n",
       "\n",
       "<g class=\"displacy-arrow\">\n",
       "    <path class=\"displacy-arc\" id=\"arrow-c8541ea6f1094d6e9d65ba7175420133-0-1\" stroke-width=\"2px\" d=\"M245,177.0 C245,89.5 395.0,89.5 395.0,177.0\" fill=\"none\" stroke=\"currentColor\"/>\n",
       "    <text dy=\"1.25em\" style=\"font-size: 0.8em; letter-spacing: 1px\">\n",
       "        <textPath xlink:href=\"#arrow-c8541ea6f1094d6e9d65ba7175420133-0-1\" class=\"displacy-label\" startOffset=\"50%\" side=\"left\" fill=\"currentColor\" text-anchor=\"middle\">cop</textPath>\n",
       "    </text>\n",
       "    <path class=\"displacy-arrowhead\" d=\"M395.0,179.0 L403.0,167.0 387.0,167.0\" fill=\"currentColor\"/>\n",
       "</g>\n",
       "\n",
       "<g class=\"displacy-arrow\">\n",
       "    <path class=\"displacy-arc\" id=\"arrow-c8541ea6f1094d6e9d65ba7175420133-0-2\" stroke-width=\"2px\" d=\"M245,177.0 C245,2.0 575.0,2.0 575.0,177.0\" fill=\"none\" stroke=\"currentColor\"/>\n",
       "    <text dy=\"1.25em\" style=\"font-size: 0.8em; letter-spacing: 1px\">\n",
       "        <textPath xlink:href=\"#arrow-c8541ea6f1094d6e9d65ba7175420133-0-2\" class=\"displacy-label\" startOffset=\"50%\" side=\"left\" fill=\"currentColor\" text-anchor=\"middle\">advmod</textPath>\n",
       "    </text>\n",
       "    <path class=\"displacy-arrowhead\" d=\"M575.0,179.0 L583.0,167.0 567.0,167.0\" fill=\"currentColor\"/>\n",
       "</g>\n",
       "</svg></span>"
      ],
      "text/plain": [
       "<IPython.core.display.HTML object>"
      ]
     },
     "metadata": {},
     "output_type": "display_data"
    }
   ],
   "source": [
    "# Sometimes it needs a _little_ more digging to get it to display\n",
    "import spacy, spacy.displacy\n",
    "\n",
    "doc = dutch_parser(\"Groene kaas is sterk\")\n",
    "spacy.displacy.render( doc, style='dep' )"
   ]
  },
  {
   "cell_type": "code",
   "execution_count": 11,
   "metadata": {},
   "outputs": [
    {
     "data": {
      "text/plain": [
       "array([[183,  15, 230,  81,  52, 211],\n",
       "       [201,  26, 223, 223, 125,  84],\n",
       "       [148, 148, 229, 242, 116, 148]], dtype=uint8)"
      ]
     },
     "metadata": {},
     "output_type": "display_data"
    },
    {
     "data": {
      "image/png": "[encoded data removed]",
      "text/plain": [
       "<__main__.NumpyImage at 0x7f6d609f59a0>"
      ]
     },
     "metadata": {},
     "output_type": "display_data"
    },
    {
     "data": {
      "image/png": "[encoded data removed]",
      "text/plain": [
       "<__main__.NumpyImage at 0x7f6f5c7782b0>"
      ]
     },
     "metadata": {},
     "output_type": "display_data"
    }
   ],
   "source": [
    "# You could roll your notebook visualisation for any data\n",
    "#   e.g. numpy is about numbers in matrices, the below makes some choices to make that visual\n",
    "class NumpyImage:\n",
    "    ''' Takes an array of values assumed to already have useful values in 0..255 value range, and visualizes it as a grayscale image. \n",
    "        Each cell is represented by an 16-by-16 pixel square (by default) for visibility.'''\n",
    "    def __init__(self, ary, pixelsize=16, invert=False):\n",
    "        self.ary = numpy.array(ary) # copy\n",
    "        self.ary[self.ary<0]   = 0 # clamp (before type conversion)\n",
    "        self.ary[self.ary>255] = 255\n",
    "        self.invert = invert\n",
    "        self.pixelsize = pixelsize\n",
    "    def _repr_png_(self):\n",
    "        from PIL import Image, ImageOps\n",
    "        import io, numpy\n",
    "        im = Image.fromarray( numpy.uint8(self.ary) )\n",
    "        if self.pixelsize != 1:\n",
    "             im = im.resize( (im.size[0]*self.pixelsize, im.size[1]*self.pixelsize), resample=Image.NEAREST)\n",
    "        if self.invert:\n",
    "            im = ImageOps.invert( im )\n",
    "        by = io.BytesIO()\n",
    "        im.save(by,'png')\n",
    "        return by.getvalue()\n",
    "\n",
    "# test that:\n",
    "import numpy\n",
    "ary = (numpy.random.rand(3,6)*255).astype(numpy.uint8)\n",
    "display( ary ) # how it would normally display\n",
    "display( NumpyImage( ary ) )              # depending on whether you think high numbers should be white\n",
    "display( NumpyImage( ary, invert=True ) ) # or black"
   ]
  },
  {
   "cell_type": "markdown",
   "metadata": {},
   "source": [
    "...not that an image is interesting in the context of this project.\n",
    "\n",
    "There are in the `research-methods` folder of visually marking marking up some sentences."
   ]
  },
  {
   "cell_type": "markdown",
   "metadata": {},
   "source": [
    "# Too many words on \"when and why might you like to use it?\"\n",
    "\n",
    "Skim this for the angle that applies to you."
   ]
  },
  {
   "cell_type": "markdown",
   "metadata": {},
   "source": [
    "Like a physical notebook, they are easily used as history of of what you've tried - experiments, results - and show that to others.\n",
    "\n",
    "The 'computational' means that the notebook might contain all the code snippets \n",
    "for someone else to take that document, run the same code snippets, in their own way on their own computer,\n",
    "to reproduce, and/or to develop further.\n",
    "\n",
    "\n",
    "**What it often makes easier**:\n",
    "* sharing code\n",
    "* sharing results\n",
    "* visualizing some kinds of results (it renders plots, images, and more)\n",
    "* sharing how far you got, for someone else to take over\n",
    "* providing a solid basis for someone else to experiment with - can be great in educational settings\n",
    "* when working on a longer thing, makes it easy to re-run \"just the last part I'm working on\" \n",
    "  without having to store that in intermediate files - though that is often equally valid (and sometimes even more flexible)"
   ]
  },
  {
   "cell_type": "markdown",
   "metadata": {},
   "source": [
    "\n",
    "**What it is not**:\n",
    "* a multi-user experience - it would be neat to have a collaborative editing thing, but it is not that. Even variants aimed more at \"I can view your notebook after you're done with the workshop / your homework\" add little more than 'authenticte so people only get at their own notebook'. So if you want to cooperate with someone,\n",
    "  - you still need to do that youreself, e.g. \n",
    "    - ...or be okay with hand the document back and forth (possibly using code versioning to keep track of changes), and running all the parts again every time you do\n",
    "    - sharing your screen physically or digitally\n",
    "\n",
    "* a continually running service - you can't use it as a server, primarily just active interactive work."
   ]
  },
  {
   "cell_type": "markdown",
   "metadata": {},
   "source": [
    "What it **only sometimes is**:\n",
    "* easily viewed anywhere\n",
    "  - You may be able to view a notebook (e.g. github renders saved notebooks) non-interactively\n",
    "  - google colab can view them and ideally also run them\n",
    "  - but on your own PC you may need to spend a time installing things\n",
    "\n",
    "* reproducable elsewhere - consider:\n",
    "   - the environment it runs in is your own  (you may need to install things, and that _can_ be a pain),\n",
    "   - data you load in is external to the document, so should be communicated separately, and/or stored somewhere public\n",
    "   - the intermediate results are not stored (many calculations will use a database, shared drive, etc, which is external to the notebook), \n",
    "   ...so running it _exactly_ the same elsewhere is not made easier.\n",
    "   That said, notebooks are still a more complete \"here is a description of what you need to do to run it yourself\" than most separate scripts are.\n",
    "\n",
    "* easy to install or run for non-programmers  (or even for programmers sometimes)\n",
    "  - Yes, if you pick one option from the list of \"things that give you notebooks\" and install that, the basics will be there\n",
    "  - Yet \"I need this package to do my work\" can sometimes mean becoming your own sysadmin  (as often happens around programming) \n",
    "  - if something installs its own python environment to run these, that might either help or confuse further\n",
    "\n",
    "\n",
    "* remote - there are ways to run notebooks on a remote server, which uses that server's resources, and its probably-stable environment of installed things\n",
    "  - ...but this takes a little more up-front setup.\n",
    "  - Because of the server-client nature of the implementation, it also lends itself to remote work, and to \"hello people in my workshop, please  start a browser and go here to start working\".\n",
    "  - This can be useful to set up a well-defined environment with all necessities already there, rather than to futz with your own python installation each time.\n",
    "\n",
    "\n",
    "* a session you can continue later - this varies on how it is run, but assume that if you load it, you are stating from scratch"
   ]
  },
  {
   "cell_type": "markdown",
   "metadata": {},
   "source": [
    "## Interactive, but saveable;  like a shell, but redoable\n",
    "\n",
    "For context, \n",
    "* interactive python usually means running `python` which gives you a prompt where you can run arbitrary things\n",
    "  - but you save nothing (there is one big history of separate commands, but that's not very useful).\n",
    "\n",
    "* once you start making larger data-processing projects, you might end up making lots of separate scripts that all do something with some intermediate files\n",
    "  - but you may not remember wat they're doing, what order to run them in, etc.\n",
    "\n",
    "* while developing code, you often alter just one functions and run it again.\n",
    "\n",
    "* while doing data science, you often want to rerun an analysis without redoing all the data-load-and-polish\n",
    "\n",
    "\n",
    "When \n",
    "- you want to re-run larger parts of code without forgetting intermediate work,\n",
    "- you want to return to a document that lets you think in those larger chunks\n",
    "...then notebooks may fill a niche for you."
   ]
  },
  {
   "cell_type": "markdown",
   "metadata": {},
   "source": [
    "\n",
    "## Environments that make notebooks easier to use\n",
    "\n",
    "* colab - added its its own thing, but leaning heavily on its notebooks origins\n",
    "\n",
    "* VScode - [with an extension](https://code.visualstudio.com/blogs/2021/11/08/custom-notebooks)\n",
    "\n",
    "* Spyder - [in theory?](https://docs.spyder-ide.org/current/plugins/notebook.html)\n",
    "\n",
    "* pycharm - https://www.jetbrains.com/help/pycharm/jupyter-notebook-support.html\n",
    "\n"
   ]
  },
  {
   "cell_type": "markdown",
   "metadata": {},
   "source": [
    "## How does a session actually work, how long does it last?\n",
    "\n",
    "This varies, now that there are increasing amounts of takes on notebooks. \n",
    "\n",
    "In particular the editors-that-make-it-easher may change things a little.\n",
    "\n",
    "* it seems the original idea was we run a command in a shell (`jupyter notebook`). \n",
    "  - This basically ran until you quit it, whether a web browser was currently interacting with it or not.\n",
    "\n",
    "* programming environments may try to give you more features\n",
    "  - they may also try to automate starting a session when you start running things \n",
    "  - and stopping it once you've close the tab for the notebook.\n",
    "  - Rather useful, doesn't quite match the previous behaviour, so is useful to know about\n"
   ]
  }
 ],
 "metadata": {
  "kernelspec": {
   "display_name": "Python 3.8.10 64-bit",
   "language": "python",
   "name": "python3"
  },
  "language_info": {
   "codemirror_mode": {
    "name": "ipython",
    "version": 3
   },
   "file_extension": ".py",
   "mimetype": "text/x-python",
   "name": "python",
   "nbconvert_exporter": "python",
   "pygments_lexer": "ipython3",
   "version": "3.8.10"
  },
  "orig_nbformat": 4,
  "vscode": {
   "interpreter": {
    "hash": "31f2aee4e71d21fbe5cf8b01ff0e069b9275f58929596ceb00d14d90e3e16cd6"
   }
  }
 },
 "nbformat": 4,
 "nbformat_minor": 2
}
