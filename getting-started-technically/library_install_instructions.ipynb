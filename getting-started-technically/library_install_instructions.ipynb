{
  "cells": [
    {
      "cell_type": "markdown",
      "metadata": {},
      "source": [
        "# Installing wetsuite\n",
        "\n",
        "Wetsuite as a project consists of a few distinct things, such as \n",
        "the website and its guidance,\n",
        "notebooks that are specific projects or experiments,\n",
        "and our own library of helpers that most of those notebooks rely on.\n",
        "\n",
        "This is just about the last one or two:\n",
        "installation of that library, often so that you can run those notebooks.\n",
        "\n",
        "...because those notebooks rely on our own library (and a dozen more libraries that ours relies on).\n",
        "\n",
        "**The short version** is that \n",
        "- `pip install -U wetsuite` should install all of those.\n",
        "- and if we're still working on that library, occasionally re-running that should update it.\n",
        "\n",
        "\n",
        "## Notes on notebooks\n",
        "\n",
        "If you use our notebooks, you will note that many start with a cell saying `!pip install -U wetsuite` (and link here)\n",
        "- This is a reminder to do this install, if you haven't already.\n",
        "- some ways of running notebooks set up a very specific python environment. Installing from inside a notebook ensures it's installed into the environment you're using\n",
        "- the added exclamation mark is a notebook way of saying 'this is a command-line command, not python code'\n",
        "\n",
        "In terms of installation, it matters whether\n",
        "- you run them on your own infrastructure -- **installing once is fine**, you can mostly forget this afterwards\n",
        "- you run them on colab -- you get a fresh sandbox each time, **so you always start a session** running these install lines\n",
        "See also [notebooks_intro](notebooks_intro.ipynb) for more context.\n",
        "\n",
        "\n",
        "## Notes on spacy\n",
        "\n",
        "A number of notebooks also use spacy,\n",
        "and want you to download specific spacy models (which do not seem to be easily installed via python-standard mechanisms),\n",
        "\n",
        "We will include similar \"please run this to install\" lines as we use them, such as:\n",
        "\n",
        "    !python3 -m spacy download nl_core_news_lg\n",
        "    !python3 -m spacy download en_core_web_lg    \n",
        "    !python3 -m spacy download xx_sent_ud_sm    \n",
        "\n",
        "\n",
        "## Notes you can ignore\n",
        "\n",
        "* you can add `--quiet` to that pip line if you want less output spam\n",
        "\n",
        "* if and while the project is under development, you may wish to occasionally re-run that so it updates to the latest version\n",
        "  - you don't have to do that every time you start a notebook, but it shouldn't hurt\n",
        "\n",
        "* you _may_ wish to work in a python virtual environment \n",
        "  - programmers will be nodding that that's how to do it cleanly\n",
        "  - others may get away with not doing it (it's extra steps and extra thought)"
      ]
    },
    {
      "cell_type": "markdown",
      "metadata": {},
      "source": [
        "<!--\n",
        "## On CPU and GPU\n",
        "\n",
        "Using your main processor is sometimes slower than GPU - but it's surer to work.\n",
        "\n",
        "\n",
        "(TODO: rewrite)\n",
        "Various example code defaults to the CPU variant of spacy so that it functions everywhere.\n",
        "\n",
        "If you have more than a handful of documents, and a GPU, \n",
        "then it becomes interesting to use the GPU for the parts that can use it.\n",
        "\n",
        "\n",
        "This will requires some fiddling at install time.\n",
        "\n",
        "For plain spacy (see also its documentation) this comes down to figuring out your environment's CUDA version (on linux see `nvcc -V`), then installing with\n",
        "  pip install spacy[cuda110]\n",
        "instead of\n",
        "  pip install spacy\n",
        "\n",
        "\n",
        "We try to wrap that dependency in our own naming, so do\n",
        "  pip install wetsuite[spacy-cuda110]\n",
        "instead of\n",
        "  pip install wetsuite\n",
        "\n",
        "TODO: see if/when we can rely on [cuda-autodetect](https://spacy.io/usage) instead.\n",
        "-->\n"
      ]
    }
  ],
  "metadata": {
    "colab": {
      "provenance": [],
      "toc_visible": true
    },
    "kernelspec": {
      "display_name": "Python 3",
      "language": "python",
      "name": "python3"
    },
    "language_info": {
      "codemirror_mode": {
        "name": "ipython",
        "version": 3
      },
      "file_extension": ".py",
      "mimetype": "text/x-python",
      "name": "python",
      "nbconvert_exporter": "python",
      "pygments_lexer": "ipython3",
      "version": "3.8.10"
    },
    "vscode": {
      "interpreter": {
        "hash": "31f2aee4e71d21fbe5cf8b01ff0e069b9275f58929596ceb00d14d90e3e16cd6"
      }
    }
  },
  "nbformat": 4,
  "nbformat_minor": 0
}
